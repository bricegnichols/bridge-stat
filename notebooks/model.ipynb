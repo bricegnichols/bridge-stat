{
 "cells": [
  {
   "cell_type": "code",
   "execution_count": 17,
   "metadata": {
    "collapsed": true
   },
   "outputs": [],
   "source": [
    "import pandas as pd\n",
    "import matplotlib.pyplot as plt\n",
    "%matplotlib inline\n",
    "# Load bridge event data\n",
    "df = pd.read_csv('bridge_results.csv')"
   ]
  },
  {
   "cell_type": "code",
   "execution_count": 19,
   "metadata": {
    "collapsed": false
   },
   "outputs": [],
   "source": [
    "# Opening per day per bridge\n",
    "daily_openings = df.groupby(['Bridge','Date']).count()['Duration']"
   ]
  },
  {
   "cell_type": "code",
   "execution_count": 32,
   "metadata": {
    "collapsed": false
   },
   "outputs": [
    {
     "data": {
      "text/plain": [
       "<matplotlib.axes._subplots.AxesSubplot at 0x11917a7d0>"
      ]
     },
     "execution_count": 32,
     "metadata": {},
     "output_type": "execute_result"
    },
    {
     "data": {
      "image/png": "[encoded data removed]",
      "text/plain": [
       "<matplotlib.figure.Figure at 0x1189553d0>"
      ]
     },
     "metadata": {},
     "output_type": "display_data"
    }
   ],
   "source": [
    "bridge_list = ['Ballard', 'Fremont', '1st Ave S', 'Montlake', 'Lower Spokane St', 'South Park', 'University']\n",
    "daily_openings['Lower Spokane St'].plot()"
   ]
  },
  {
   "cell_type": "markdown",
   "metadata": {},
   "source": [
    "# Average Openings per Day"
   ]
  },
  {
   "cell_type": "code",
   "execution_count": 41,
   "metadata": {
    "collapsed": false
   },
   "outputs": [
    {
     "name": "stdout",
     "output_type": "stream",
     "text": [
      "Ballard: 6.04230769231\n",
      "Fremont: 7.44214876033\n",
      "1st Ave S: 2.75\n",
      "Montlake: 2.97326203209\n",
      "Lower Spokane St: 3.79457364341\n",
      "South Park: 2.25531914894\n",
      "University: 4.87654320988\n"
     ]
    }
   ],
   "source": [
    "for bridge in bridge_list:\n",
    "    print bridge + \": \" + str(daily_openings[bridge].mean())"
   ]
  },
  {
   "cell_type": "markdown",
   "metadata": {},
   "source": [
    "# Openings by Month"
   ]
  },
  {
   "cell_type": "code",
   "execution_count": 44,
   "metadata": {
    "collapsed": true
   },
   "outputs": [],
   "source": [
    "monthly_openings = df.groupby(['Bridge','Month']).count()['Duration']"
   ]
  },
  {
   "cell_type": "code",
   "execution_count": 69,
   "metadata": {
    "collapsed": false
   },
   "outputs": [
    {
     "name": "stdout",
     "output_type": "stream",
     "text": [
      "Ballard: Month\n",
      "1     168\n",
      "2     165\n",
      "3     152\n",
      "4     155\n",
      "5     182\n",
      "6     236\n",
      "7     281\n",
      "8      23\n",
      "11     80\n",
      "12    129\n",
      "Name: Duration, dtype: int64\n",
      "-------------------\n",
      "Fremont: Month\n",
      "1     142\n",
      "2     172\n",
      "3      65\n",
      "4     190\n",
      "5     256\n",
      "6     341\n",
      "7     456\n",
      "8      43\n",
      "11     52\n",
      "12     84\n",
      "Name: Duration, dtype: int64\n",
      "-------------------\n",
      "1st Ave S: Month\n",
      "1      54\n",
      "2      47\n",
      "3      35\n",
      "4      39\n",
      "5      34\n",
      "6      86\n",
      "7      82\n",
      "8       6\n",
      "11     43\n",
      "12    135\n",
      "Name: Duration, dtype: int64\n",
      "-------------------\n",
      "Montlake: Month\n",
      "1      42\n",
      "2      53\n",
      "3      30\n",
      "4      54\n",
      "5      56\n",
      "6     107\n",
      "7     140\n",
      "8      12\n",
      "11     24\n",
      "12     38\n",
      "Name: Duration, dtype: int64\n",
      "-------------------\n",
      "Lower Spokane St: Month\n",
      "1      96\n",
      "2     116\n",
      "3     121\n",
      "4      95\n",
      "5      83\n",
      "6     142\n",
      "7     118\n",
      "8      15\n",
      "11     84\n",
      "12    109\n",
      "Name: Duration, dtype: int64\n",
      "-------------------\n",
      "South Park: Month\n",
      "1     18\n",
      "2     45\n",
      "3     23\n",
      "4     36\n",
      "5     37\n",
      "6     30\n",
      "7      9\n",
      "8      1\n",
      "11    20\n",
      "12    99\n",
      "Name: Duration, dtype: int64\n",
      "-------------------\n",
      "University: Month\n",
      "1      94\n",
      "2      88\n",
      "3     100\n",
      "4     153\n",
      "5     183\n",
      "6     231\n",
      "7     207\n",
      "8      21\n",
      "11     48\n",
      "12     60\n",
      "Name: Duration, dtype: int64\n",
      "-------------------\n"
     ]
    }
   ],
   "source": [
    "for bridge in bridge_list:\n",
    "    print bridge + \": \" + str(monthly_openings[bridge])\n",
    "    print \"-------------------\""
   ]
  },
  {
   "cell_type": "code",
   "execution_count": 67,
   "metadata": {
    "collapsed": false
   },
   "outputs": [
    {
     "data": {
      "text/plain": [
       "Month\n",
       "1     168\n",
       "2     165\n",
       "3     152\n",
       "4     155\n",
       "5     182\n",
       "6     236\n",
       "7     281\n",
       "8      23\n",
       "11     80\n",
       "12    129\n",
       "Name: Duration, dtype: int64"
      ]
     },
     "execution_count": 67,
     "metadata": {},
     "output_type": "execute_result"
    }
   ],
   "source": [
    "monthly_openings['Ballard']"
   ]
  },
  {
   "cell_type": "code",
   "execution_count": 70,
   "metadata": {
    "collapsed": true
   },
   "outputs": [],
   "source": []
  },
  {
   "cell_type": "code",
   "execution_count": null,
   "metadata": {
    "collapsed": true
   },
   "outputs": [],
   "source": []
  }
 ],
 "metadata": {
  "kernelspec": {
   "display_name": "Python 2",
   "language": "python",
   "name": "python2"
  },
  "language_info": {
   "codemirror_mode": {
    "name": "ipython",
    "version": 2
   },
   "file_extension": ".py",
   "mimetype": "text/x-python",
   "name": "python",
   "nbconvert_exporter": "python",
   "pygments_lexer": "ipython2",
   "version": "2.7.10"
  }
 },
 "nbformat": 4,
 "nbformat_minor": 0
}

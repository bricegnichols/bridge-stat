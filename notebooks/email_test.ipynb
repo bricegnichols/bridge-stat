{
 "metadata": {
  "name": "",
  "signature": "sha256:3baaecca0c3a68912e1efd8585c8bb64586e4a85fc3dbd8c92a9d94be85a750e"
 },
 "nbformat": 3,
 "nbformat_minor": 0,
 "worksheets": [
  {
   "cells": [
    {
     "cell_type": "code",
     "collapsed": false,
     "input": [
      "import smtplib\n",
      "import email\n",
      "from email.mime.text import MIMEText"
     ],
     "language": "python",
     "metadata": {},
     "outputs": [],
     "prompt_number": 1
    },
    {
     "cell_type": "code",
     "collapsed": false,
     "input": [
      "msg = MIMEText('test email')"
     ],
     "language": "python",
     "metadata": {},
     "outputs": [],
     "prompt_number": 2
    },
    {
     "cell_type": "code",
     "collapsed": false,
     "input": [
      "# me == the sender's email address\n",
      "# you == the recipient's email address\n",
      "msg['Subject'] = 'Test Email'\n",
      "msg['From'] = 'bricenichols@gmail.com'\n",
      "msg['To'] = 'bricenichols@gmail.com'\n",
      "\n"
     ],
     "language": "python",
     "metadata": {},
     "outputs": [],
     "prompt_number": 3
    },
    {
     "cell_type": "code",
     "collapsed": false,
     "input": [
      "s = smtplib.SMTP('localhost:8000')\n",
      "s.sendmail(me, [you], msg.as_string())\n",
      "s.quit()"
     ],
     "language": "python",
     "metadata": {},
     "outputs": []
    },
    {
     "cell_type": "code",
     "collapsed": false,
     "input": [
      "s = smtplib.SMTP('localhost:8000')\n",
      "s.sendmail(me, [you], msg.as_string())\n",
      "s.quit()"
     ],
     "language": "python",
     "metadata": {},
     "outputs": []
    },
    {
     "cell_type": "code",
     "collapsed": false,
     "input": [],
     "language": "python",
     "metadata": {},
     "outputs": []
    }
   ],
   "metadata": {}
  }
 ]
}
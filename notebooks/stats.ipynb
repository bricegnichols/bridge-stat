{
 "cells": [
  {
   "cell_type": "code",
   "execution_count": 1,
   "metadata": {
    "collapsed": true
   },
   "outputs": [],
   "source": [
    "# bridge related stats"
   ]
  },
  {
   "cell_type": "code",
   "execution_count": 2,
   "metadata": {
    "collapsed": false
   },
   "outputs": [],
   "source": [
    "import pandas as pd\n",
    "import matplotlib.pyplot as plt\n",
    "% matplotlib inline"
   ]
  },
  {
   "cell_type": "code",
   "execution_count": 3,
   "metadata": {
    "collapsed": false
   },
   "outputs": [],
   "source": [
    "df = pd.read_csv(r'../data/bridge/bridge_results.csv')"
   ]
  },
  {
   "cell_type": "code",
   "execution_count": 4,
   "metadata": {
    "collapsed": false
   },
   "outputs": [],
   "source": [
    "events = pd.read_csv(r'../data/bridge/bridge_status.csv')"
   ]
  },
  {
   "cell_type": "code",
   "execution_count": 5,
   "metadata": {
    "collapsed": false
   },
   "outputs": [
    {
     "data": {
      "text/html": [
       "<div>\n",
       "<table border=\"1\" class=\"dataframe\">\n",
       "  <thead>\n",
       "    <tr style=\"text-align: right;\">\n",
       "      <th></th>\n",
       "      <th>bridge</th>\n",
       "      <th>time</th>\n",
       "      <th>event</th>\n",
       "      <th>date</th>\n",
       "      <th>text</th>\n",
       "      <th>newtime</th>\n",
       "      <th>timeobj</th>\n",
       "    </tr>\n",
       "  </thead>\n",
       "  <tbody>\n",
       "    <tr>\n",
       "      <th>0</th>\n",
       "      <td>Fremont</td>\n",
       "      <td>5:09:25 PM</td>\n",
       "      <td>open</td>\n",
       "      <td>2016-01-31</td>\n",
       "      <td>The Fremont Bridge has reopened to traffic -  ...</td>\n",
       "      <td>5:09:25 PM</td>\n",
       "      <td>1900-01-01 17:09:25</td>\n",
       "    </tr>\n",
       "    <tr>\n",
       "      <th>1</th>\n",
       "      <td>Fremont</td>\n",
       "      <td>4:59:02 PM</td>\n",
       "      <td>closed</td>\n",
       "      <td>2016-01-31</td>\n",
       "      <td>The Fremont Bridge has closed to traffic -   4...</td>\n",
       "      <td>4:59:02 PM</td>\n",
       "      <td>1900-01-01 16:59:02</td>\n",
       "    </tr>\n",
       "    <tr>\n",
       "      <th>2</th>\n",
       "      <td>Montlake</td>\n",
       "      <td>4:23:13 PM</td>\n",
       "      <td>open</td>\n",
       "      <td>2016-01-31</td>\n",
       "      <td>The Montlake Bridge has reopened to traffic   ...</td>\n",
       "      <td>4:23:13 PM</td>\n",
       "      <td>1900-01-01 16:23:13</td>\n",
       "    </tr>\n",
       "    <tr>\n",
       "      <th>3</th>\n",
       "      <td>Montlake</td>\n",
       "      <td>4:17:50 PM</td>\n",
       "      <td>closed</td>\n",
       "      <td>2016-01-31</td>\n",
       "      <td>The Montlake Bridge has closed to traffic -   ...</td>\n",
       "      <td>4:17:50 PM</td>\n",
       "      <td>1900-01-01 16:17:50</td>\n",
       "    </tr>\n",
       "    <tr>\n",
       "      <th>4</th>\n",
       "      <td>University</td>\n",
       "      <td>4:15:49 PM</td>\n",
       "      <td>open</td>\n",
       "      <td>2016-01-31</td>\n",
       "      <td>The University Bridge has reopened to   traffi...</td>\n",
       "      <td>4:15:49 PM</td>\n",
       "      <td>1900-01-01 16:15:49</td>\n",
       "    </tr>\n",
       "    <tr>\n",
       "      <th>5</th>\n",
       "      <td>University</td>\n",
       "      <td>4:09:37 PM</td>\n",
       "      <td>closed</td>\n",
       "      <td>2016-01-31</td>\n",
       "      <td>The University Bridge has closed to traffic   ...</td>\n",
       "      <td>4:09:37 PM</td>\n",
       "      <td>1900-01-01 16:09:37</td>\n",
       "    </tr>\n",
       "    <tr>\n",
       "      <th>6</th>\n",
       "      <td>Ballard</td>\n",
       "      <td>4:06:20 PM</td>\n",
       "      <td>open</td>\n",
       "      <td>2016-01-31</td>\n",
       "      <td>The Ballard Bridge has reopened to traffic -  ...</td>\n",
       "      <td>4:06:20 PM</td>\n",
       "      <td>1900-01-01 16:06:20</td>\n",
       "    </tr>\n",
       "    <tr>\n",
       "      <th>7</th>\n",
       "      <td>Ballard</td>\n",
       "      <td>4:04:21 PM</td>\n",
       "      <td>closed</td>\n",
       "      <td>2016-01-31</td>\n",
       "      <td>The Ballard Bridge has closed to traffic -   4...</td>\n",
       "      <td>4:04:21 PM</td>\n",
       "      <td>1900-01-01 16:04:21</td>\n",
       "    </tr>\n",
       "    <tr>\n",
       "      <th>8</th>\n",
       "      <td>Fremont</td>\n",
       "      <td>3:55:26 PM</td>\n",
       "      <td>open</td>\n",
       "      <td>2016-01-30</td>\n",
       "      <td>The Fremont Bridge has reopened to traffic -  ...</td>\n",
       "      <td>3:55:26 PM</td>\n",
       "      <td>1900-01-01 15:55:26</td>\n",
       "    </tr>\n",
       "    <tr>\n",
       "      <th>9</th>\n",
       "      <td>Fremont</td>\n",
       "      <td>3:44:55 PM</td>\n",
       "      <td>closed</td>\n",
       "      <td>2016-01-30</td>\n",
       "      <td>The Fremont Bridge has closed to traffic -   3...</td>\n",
       "      <td>3:44:55 PM</td>\n",
       "      <td>1900-01-01 15:44:55</td>\n",
       "    </tr>\n",
       "  </tbody>\n",
       "</table>\n",
       "</div>"
      ],
      "text/plain": [
       "       bridge          time   event        date  \\\n",
       "0     Fremont    5:09:25 PM    open  2016-01-31   \n",
       "1     Fremont    4:59:02 PM  closed  2016-01-31   \n",
       "2    Montlake    4:23:13 PM    open  2016-01-31   \n",
       "3    Montlake    4:17:50 PM  closed  2016-01-31   \n",
       "4  University    4:15:49 PM    open  2016-01-31   \n",
       "5  University    4:09:37 PM  closed  2016-01-31   \n",
       "6     Ballard    4:06:20 PM    open  2016-01-31   \n",
       "7     Ballard    4:04:21 PM  closed  2016-01-31   \n",
       "8     Fremont    3:55:26 PM    open  2016-01-30   \n",
       "9     Fremont    3:44:55 PM  closed  2016-01-30   \n",
       "\n",
       "                                                text     newtime  \\\n",
       "0  The Fremont Bridge has reopened to traffic -  ...  5:09:25 PM   \n",
       "1  The Fremont Bridge has closed to traffic -   4...  4:59:02 PM   \n",
       "2  The Montlake Bridge has reopened to traffic   ...  4:23:13 PM   \n",
       "3  The Montlake Bridge has closed to traffic -   ...  4:17:50 PM   \n",
       "4  The University Bridge has reopened to   traffi...  4:15:49 PM   \n",
       "5  The University Bridge has closed to traffic   ...  4:09:37 PM   \n",
       "6  The Ballard Bridge has reopened to traffic -  ...  4:06:20 PM   \n",
       "7  The Ballard Bridge has closed to traffic -   4...  4:04:21 PM   \n",
       "8  The Fremont Bridge has reopened to traffic -  ...  3:55:26 PM   \n",
       "9  The Fremont Bridge has closed to traffic -   3...  3:44:55 PM   \n",
       "\n",
       "               timeobj  \n",
       "0  1900-01-01 17:09:25  \n",
       "1  1900-01-01 16:59:02  \n",
       "2  1900-01-01 16:23:13  \n",
       "3  1900-01-01 16:17:50  \n",
       "4  1900-01-01 16:15:49  \n",
       "5  1900-01-01 16:09:37  \n",
       "6  1900-01-01 16:06:20  \n",
       "7  1900-01-01 16:04:21  \n",
       "8  1900-01-01 15:55:26  \n",
       "9  1900-01-01 15:44:55  "
      ]
     },
     "execution_count": 5,
     "metadata": {},
     "output_type": "execute_result"
    }
   ],
   "source": [
    "events.iloc[0:10]"
   ]
  },
  {
   "cell_type": "markdown",
   "metadata": {},
   "source": [
    "# average closures "
   ]
  },
  {
   "cell_type": "code",
   "execution_count": 6,
   "metadata": {
    "collapsed": false
   },
   "outputs": [],
   "source": [
    "closures = events[events['event'] == 'closed']\n",
    "closures_group = closures.groupby(['date','bridge']).count()"
   ]
  },
  {
   "cell_type": "code",
   "execution_count": 7,
   "metadata": {
    "collapsed": false
   },
   "outputs": [],
   "source": [
    "closures_group['date'] = closures_group.index.get_level_values(0)\n",
    "closures_group['bridge'] = closures_group.index.get_level_values(1)\n",
    "# closures_group[closures_group['bridge'] == 'Ballard']"
   ]
  },
  {
   "cell_type": "code",
   "execution_count": 8,
   "metadata": {
    "collapsed": false
   },
   "outputs": [],
   "source": [
    "avg_closure_per_day = {}\n",
    "for bridge in closures_group.groupby('bridge').count().index:\n",
    "    avg_closure_per_day[bridge] = closures_group[closures_group['bridge'] == bridge].mean()['event']"
   ]
  },
  {
   "cell_type": "code",
   "execution_count": null,
   "metadata": {
    "collapsed": false
   },
   "outputs": [],
   "source": []
  },
  {
   "cell_type": "code",
   "execution_count": 9,
   "metadata": {
    "collapsed": false
   },
   "outputs": [],
   "source": [
    "df = pd.DataFrame(avg_closure_per_day, index=avg_closure_per_day.keys()).T\n",
    "df = pd.DataFrame(df['Ballard'])\n",
    "df.columns = ['avg_closures']\n",
    "df['bridge'] = df.index\n",
    "df.to_csv('../data/bridge/avg_closures.csv')"
   ]
  },
  {
   "cell_type": "code",
   "execution_count": 114,
   "metadata": {
    "collapsed": false
   },
   "outputs": [],
   "source": [
    "# Get more sophisticated later; add average closures by season, time of day, etc"
   ]
  },
  {
   "cell_type": "markdown",
   "metadata": {},
   "source": [
    "# closures in current day"
   ]
  },
  {
   "cell_type": "code",
   "execution_count": 11,
   "metadata": {
    "collapsed": true
   },
   "outputs": [],
   "source": [
    "import datetime\n",
    "import math\n",
    "# load file created by bridge_stat.closures_per_day()\n",
    "recent_df = pd.read_csv(r'../data/bridge/recent_tweets.csv')"
   ]
  },
  {
   "cell_type": "code",
   "execution_count": 12,
   "metadata": {
    "collapsed": false
   },
   "outputs": [],
   "source": [
    "recent_df['local_date'] = pd.to_datetime(recent_df['local_date'])"
   ]
  },
  {
   "cell_type": "code",
   "execution_count": 13,
   "metadata": {
    "collapsed": false
   },
   "outputs": [],
   "source": [
    "today = datetime.datetime.today()"
   ]
  },
  {
   "cell_type": "code",
   "execution_count": 14,
   "metadata": {
    "collapsed": false
   },
   "outputs": [],
   "source": [
    "tweets_today = recent_df[recent_df['local_date'].apply(lambda row:\n",
    "                       (row.day == today.day) &\n",
    "                       (row.month == today.month) &\n",
    "                       (row.year == today.year))\n",
    "   ]"
   ]
  },
  {
   "cell_type": "code",
   "execution_count": 15,
   "metadata": {
    "collapsed": false
   },
   "outputs": [],
   "source": [
    "# Get a count of tweets by bridge \n",
    "tweets_today\n",
    "closures_today = tweets_today[tweets_today['event'] == 'closed']\n",
    "closures_by_bridge = closures_today.groupby('bridge').count()\n",
    "closures_by_bridge['bridge'] = closures_by_bridge.index\n",
    "closures_by_bridge = closures_by_bridge[['bridge','event']]\n",
    "closures_by_bridge.columns = ['bridge','closures_so_far']"
   ]
  },
  {
   "cell_type": "code",
   "execution_count": 16,
   "metadata": {
    "collapsed": false
   },
   "outputs": [],
   "source": [
    "# Compare to average to get anticipated remained on average\n",
    "remaining_closures_df = pd.merge(closures_by_bridge, df, left_on='bridge', right_on='bridge')\n",
    "\n",
    "# Round up for average closures\n",
    "remaining_closures_df['avg_closures'] = remaining_closures_df['avg_closures'].apply(lambda row: math.ceil(row))\n",
    "remaining_closures_df['closures_remaining'] = remaining_closures_df['avg_closures'] - remaining_closures_df['closures_so_far']\n",
    "remaining_closures_df['%_closures_remaining'] = remaining_closures_df['closures_remaining']/remaining_closures_df['avg_closures']"
   ]
  },
  {
   "cell_type": "code",
   "execution_count": null,
   "metadata": {
    "collapsed": false
   },
   "outputs": [],
   "source": []
  },
  {
   "cell_type": "code",
   "execution_count": 17,
   "metadata": {
    "collapsed": false
   },
   "outputs": [],
   "source": [
    "# Leave the negatives in: indicates odds less likely \n",
    "remaining_closures_df.to_csv('../data/bridge/closure_estimate.csv')"
   ]
  },
  {
   "cell_type": "markdown",
   "metadata": {
    "collapsed": true
   },
   "source": [
    "# Average time per closing"
   ]
  },
  {
   "cell_type": "code",
   "execution_count": 18,
   "metadata": {
    "collapsed": false
   },
   "outputs": [],
   "source": [
    "from datetime import datetime, timedelta\n",
    "df = pd.read_csv('../data/bridge/bridge_records.csv')"
   ]
  },
  {
   "cell_type": "code",
   "execution_count": 19,
   "metadata": {
    "collapsed": true
   },
   "outputs": [],
   "source": [
    "def set_local_time(obj, offset_hours=-7):\n",
    "\n",
    "    #account for offset from UTC using timedelta                                \n",
    "    local_timestamp = obj + timedelta(hours=offset_hours)\n",
    "\n",
    "    return local_timestamp"
   ]
  },
  {
   "cell_type": "code",
   "execution_count": 20,
   "metadata": {
    "collapsed": false
   },
   "outputs": [],
   "source": [
    "# Load all the historical tweets and process to get columns from text, convert to local time\n",
    "df['bridge'] = df['text'].map(lambda x: x.split('The ')[-1].split(' Bridge')[0])\n",
    "df['created_at'] = pd.to_datetime(df['created_at'])\n",
    "df['local_date'] = df['created_at'].apply(lambda x: set_local_time(x))\n",
    "df['event'] = df['text'].apply(lambda x: 'closed' if ('closed' in x) else 'open')\n",
    "df = df[['bridge','event', 'text','created_at', 'local_date']]\n",
    "\n",
    "bridge_list = ['Ballard', 'Fremont', '1st Ave S', 'Montlake', 'Lower Spokane St', 'South Park', 'University']\n",
    "\n",
    "# Select only rows with a bridge name in the bridge list\n",
    "df = df[df['bridge'].isin(bridge_list)]"
   ]
  },
  {
   "cell_type": "code",
   "execution_count": 21,
   "metadata": {
    "collapsed": false
   },
   "outputs": [],
   "source": [
    "# Do some analysis"
   ]
  },
  {
   "cell_type": "code",
   "execution_count": null,
   "metadata": {
    "collapsed": false
   },
   "outputs": [],
   "source": []
  },
  {
   "cell_type": "code",
   "execution_count": 22,
   "metadata": {
    "collapsed": false
   },
   "outputs": [
    {
     "name": "stdout",
     "output_type": "stream",
     "text": [
      "calculating avg closure time for: 1st Ave S\n",
      "calculating avg closure time for: Ballard\n",
      "calculating avg closure time for: Fremont\n",
      "calculating avg closure time for: Lower Spokane St\n",
      "calculating avg closure time for: Montlake\n",
      "calculating avg closure time for: South Park\n",
      "calculating avg closure time for: University\n"
     ]
    }
   ],
   "source": [
    "# # Sorting by date, should have an open, followed by close event\n",
    "# fremont = fremo\n",
    "# Loop through each row to extract open/close events\n",
    "# each event starts with a close, and should be followed immediately by an opening, \n",
    "# otherwise error, skip until next close event\n",
    "all_closures = {}\n",
    "\n",
    "for bridge_name in df.groupby('bridge').count().index:\n",
    "# for bridge_name in ['University']:\n",
    "    \n",
    "    bridge_closures = {}\n",
    "    \n",
    "    print 'calculating avg closure time for: ' + bridge_name\n",
    "    \n",
    "    bridge_df = df[df['bridge'] == bridge_name]\n",
    "\n",
    "    bridge_df = bridge_df.sort_values('local_date')\n",
    "    bridge_df.reset_index(inplace=True, drop=True)\n",
    "    \n",
    "    \n",
    "    for i in xrange(len(bridge_df)-1):    # iterate to next-to-last row because we check i vs i+1\n",
    "        if bridge_df.iloc[i]['event'] == 'closed':\n",
    "            if bridge_df.iloc[i+1]['event'] == 'open':\n",
    "                duration = bridge_df.iloc[i+1]['local_date'] - bridge_df.iloc[i]['local_date']\n",
    "                bridge_closures[bridge_df.iloc[i]['local_date']] = duration\n",
    "    all_closures[bridge_name] = bridge_closures"
   ]
  },
  {
   "cell_type": "code",
   "execution_count": 23,
   "metadata": {
    "collapsed": false
   },
   "outputs": [
    {
     "name": "stdout",
     "output_type": "stream",
     "text": [
      "1st Ave S\n",
      "Ballard\n",
      "Fremont\n",
      "Lower Spokane St\n",
      "Montlake\n",
      "South Park\n",
      "University\n"
     ]
    }
   ],
   "source": [
    "# Convert dictionary data in df\n",
    "df_list = []\n",
    "for bridge_name in df.groupby('bridge').count().index:\n",
    "    print bridge_name\n",
    "    dict_df = pd.DataFrame.from_dict(all_closures[bridge_name], orient='index')\n",
    "    dict_df.columns = ['duration']\n",
    "    dict_df['bridge'] = bridge_name\n",
    "    dict_df['seconds'] = dict_df['duration'].apply(lambda row: row.seconds)\n",
    "    dict_df['minutes'] = dict_df['seconds']/60.0\n",
    "    dict_df['open_time'] = dict_df.index\n",
    "    dict_df.reset_index(inplace=True,drop=True)\n",
    "    \n",
    "    df_list.append(dict_df)\n",
    "    duration_df = pd.concat(df_list)"
   ]
  },
  {
   "cell_type": "markdown",
   "metadata": {},
   "source": [
    "- mean closure duration per bridge\n",
    "- 95th percentile of closure duration"
   ]
  },
  {
   "cell_type": "code",
   "execution_count": 26,
   "metadata": {
    "collapsed": false
   },
   "outputs": [
    {
     "data": {
      "text/html": [
       "<div>\n",
       "<table border=\"1\" class=\"dataframe\">\n",
       "  <thead>\n",
       "    <tr style=\"text-align: right;\">\n",
       "      <th></th>\n",
       "      <th>seconds</th>\n",
       "      <th>minutes</th>\n",
       "    </tr>\n",
       "    <tr>\n",
       "      <th>bridge</th>\n",
       "      <th></th>\n",
       "      <th></th>\n",
       "    </tr>\n",
       "  </thead>\n",
       "  <tbody>\n",
       "    <tr>\n",
       "      <th>1st Ave S</th>\n",
       "      <td>606.827145</td>\n",
       "      <td>10.113786</td>\n",
       "    </tr>\n",
       "    <tr>\n",
       "      <th>Ballard</th>\n",
       "      <td>354.129006</td>\n",
       "      <td>5.902150</td>\n",
       "    </tr>\n",
       "    <tr>\n",
       "      <th>Fremont</th>\n",
       "      <td>350.067549</td>\n",
       "      <td>5.834459</td>\n",
       "    </tr>\n",
       "    <tr>\n",
       "      <th>Lower Spokane St</th>\n",
       "      <td>792.631313</td>\n",
       "      <td>13.210522</td>\n",
       "    </tr>\n",
       "    <tr>\n",
       "      <th>Montlake</th>\n",
       "      <td>307.023001</td>\n",
       "      <td>5.117050</td>\n",
       "    </tr>\n",
       "    <tr>\n",
       "      <th>South Park</th>\n",
       "      <td>595.762864</td>\n",
       "      <td>9.929381</td>\n",
       "    </tr>\n",
       "    <tr>\n",
       "      <th>University</th>\n",
       "      <td>311.010996</td>\n",
       "      <td>5.183517</td>\n",
       "    </tr>\n",
       "  </tbody>\n",
       "</table>\n",
       "</div>"
      ],
      "text/plain": [
       "                     seconds    minutes\n",
       "bridge                                 \n",
       "1st Ave S         606.827145  10.113786\n",
       "Ballard           354.129006   5.902150\n",
       "Fremont           350.067549   5.834459\n",
       "Lower Spokane St  792.631313  13.210522\n",
       "Montlake          307.023001   5.117050\n",
       "South Park        595.762864   9.929381\n",
       "University        311.010996   5.183517"
      ]
     },
     "execution_count": 26,
     "metadata": {},
     "output_type": "execute_result"
    }
   ],
   "source": [
    "duration_df.groupby('bridge').mean()"
   ]
  },
  {
   "cell_type": "code",
   "execution_count": 53,
   "metadata": {
    "collapsed": false
   },
   "outputs": [],
   "source": [
    "# \n",
    "temp = pd.DataFrame([duration_df.groupby('bridge').quantile(q=0.95)['minutes'],\n",
    "                     duration_df.groupby('bridge').mean()['minutes']]).T\n",
    "\n",
    "temp.columns=['95th_percentile','mean']\n",
    "temp['bridge'] = temp.index\n",
    "temp.to_csv('../data/bridge/mean_95th_percentile.csv',index=False)"
   ]
  },
  {
   "cell_type": "code",
   "execution_count": 109,
   "metadata": {
    "collapsed": false
   },
   "outputs": [],
   "source": [
    "closures = pd.read_csv('../data/bridge/current_closures.csv')"
   ]
  },
  {
   "cell_type": "code",
   "execution_count": 110,
   "metadata": {
    "collapsed": false
   },
   "outputs": [],
   "source": [
    "closures = pd.merge(closures, temp,on='bridge')\n",
    "from datetime import datetime"
   ]
  },
  {
   "cell_type": "code",
   "execution_count": 112,
   "metadata": {
    "collapsed": false
   },
   "outputs": [],
   "source": [
    "a = pd.to_datetime(closures['local_date_close']).iloc[0]\n"
   ]
  },
  {
   "cell_type": "code",
   "execution_count": 113,
   "metadata": {
    "collapsed": false
   },
   "outputs": [],
   "source": [
    "b = pd.to_datetime(closures['local_date_open']).iloc[0]"
   ]
  },
  {
   "cell_type": "code",
   "execution_count": 114,
   "metadata": {
    "collapsed": false
   },
   "outputs": [
    {
     "data": {
      "text/plain": [
       "109"
      ]
     },
     "execution_count": 114,
     "metadata": {},
     "output_type": "execute_result"
    }
   ],
   "source": [
    "(a-b).seconds/60"
   ]
  },
  {
   "cell_type": "code",
   "execution_count": 115,
   "metadata": {
    "collapsed": true
   },
   "outputs": [],
   "source": [
    "closures['closure_time'] = pd.to_datetime(closures['local_date_close'])-pd.to_datetime(closures['local_date_open'])"
   ]
  },
  {
   "cell_type": "code",
   "execution_count": 116,
   "metadata": {
    "collapsed": false
   },
   "outputs": [],
   "source": [
    "closures['closure_time_min'] = closures['closure_time'].apply(lambda row: float(row.seconds)/60)"
   ]
  },
  {
   "cell_type": "code",
   "execution_count": 117,
   "metadata": {
    "collapsed": false
   },
   "outputs": [],
   "source": [
    "closures.ix[:,'flag'] = 0\n",
    "closures.ix[closures['closure_time_min'] > closures['95th_percentile'],'flag'] = 1"
   ]
  },
  {
   "cell_type": "code",
   "execution_count": 124,
   "metadata": {
    "collapsed": false
   },
   "outputs": [
    {
     "data": {
      "text/plain": [
       "1"
      ]
     },
     "execution_count": 124,
     "metadata": {},
     "output_type": "execute_result"
    }
   ],
   "source": [
    "closures[closures['bridge'] == 'University']['flag'].values[0]"
   ]
  },
  {
   "cell_type": "markdown",
   "metadata": {},
   "source": [
    "- traffic cams"
   ]
  },
  {
   "cell_type": "code",
   "execution_count": 125,
   "metadata": {
    "collapsed": true
   },
   "outputs": [],
   "source": [
    "traffic_cams = pd.read_csv('../data/bridge/traffic_cams.csv')"
   ]
  },
  {
   "cell_type": "code",
   "execution_count": 133,
   "metadata": {
    "collapsed": false
   },
   "outputs": [
    {
     "data": {
      "text/plain": [
       "'http://www.seattle.gov/trafficcams/images/Westlake_Dexter.jpg?1280118223801'"
      ]
     },
     "execution_count": 133,
     "metadata": {},
     "output_type": "execute_result"
    }
   ],
   "source": [
    "traffic_cams[traffic_cams['Lower Spokane St'] == 'Fremont']['http://www.seattle.gov/trafficcams/images/11_Spokane.jpg'].values[0]"
   ]
  },
  {
   "cell_type": "code",
   "execution_count": 32,
   "metadata": {
    "collapsed": false
   },
   "outputs": [
    {
     "data": {
      "text/plain": [
       "<matplotlib.axes._subplots.AxesSubplot at 0x109041f90>"
      ]
     },
     "execution_count": 32,
     "metadata": {},
     "output_type": "execute_result"
    },
    {
     "data": {
      "image/png": "[encoded data removed]",
      "text/plain": [
       "<matplotlib.figure.Figure at 0x10b698c50>"
      ]
     },
     "metadata": {},
     "output_type": "display_data"
    }
   ],
   "source": [
    "plotdf = pd.DataFrame([duration_df.groupby('bridge')['minutes'].mean(),\n",
    " duration_df.groupby('bridge')['minutes'].median()]).T\n",
    "plotdf.columns = ['mean','median']\n",
    "plotdf.plot(kind='bar', alpha=0.7)"
   ]
  },
  {
   "cell_type": "code",
   "execution_count": 10,
   "metadata": {
    "collapsed": false
   },
   "outputs": [
    {
     "name": "stderr",
     "output_type": "stream",
     "text": [
      "/Library/Python/2.7/site-packages/ipykernel/__main__.py:1: FutureWarning: \n",
      "The default value for 'return_type' will change to 'axes' in a future release.\n",
      " To use the future behavior now, set return_type='axes'.\n",
      " To keep the previous behavior and silence this warning, set return_type='dict'.\n",
      "  if __name__ == '__main__':\n"
     ]
    },
    {
     "data": {
      "image/png": "[encoded data removed]",
      "text/plain": [
       "<matplotlib.figure.Figure at 0x108535d50>"
      ]
     },
     "metadata": {},
     "output_type": "display_data"
    }
   ],
   "source": [
    "a = duration_df[duration_df['minutes'] < 60].boxplot(column='minutes')"
   ]
  },
  {
   "cell_type": "code",
   "execution_count": 228,
   "metadata": {
    "collapsed": false
   },
   "outputs": [
    {
     "name": "stdout",
     "output_type": "stream",
     "text": [
      "1234.31666667\n",
      "3\n",
      "5\n",
      "12\n",
      "40\n",
      "10286\n"
     ]
    }
   ],
   "source": [
    "# Shows some outliers we can remove.\n",
    "\n",
    "# How many openings are more than 60 min?\n",
    "print duration_df['minutes'].max()\n",
    "print len(duration_df[duration_df['minutes'] > 90])\n",
    "print len(duration_df[duration_df['minutes'] > 60])\n",
    "print len(duration_df[duration_df['minutes'] > 45])\n",
    "print len(duration_df[duration_df['minutes'] > 30])\n",
    "print len(duration_df)"
   ]
  },
  {
   "cell_type": "markdown",
   "metadata": {},
   "source": [
    "## Save figures to file so we can display them later"
   ]
  },
  {
   "cell_type": "code",
   "execution_count": 31,
   "metadata": {
    "collapsed": false
   },
   "outputs": [
    {
     "data": {
      "text/plain": [
       "<matplotlib.figure.Figure at 0x10af90610>"
      ]
     },
     "metadata": {},
     "output_type": "display_data"
    }
   ],
   "source": [
    "for bridge_name in df.groupby('bridge').count().index:\n",
    "    all_bridges = duration_df[duration_df['minutes'] < 30]['minutes'].plot.hist(bins=40, alpha=0.7, normed=1)\n",
    "    temp_bridge = duration_df[duration_df['bridge'] == bridge_name]\n",
    "    one_bridge = temp_bridge[temp_bridge['minutes'] < 30]['minutes'].plot.hist(bins=40, alpha=0.7, normed=1)\n",
    "    all_bridges.legend(['All',bridge_name])\n",
    "    fig = all_bridges.get_figure()\n",
    "\n",
    "    fig.savefig(r'../data/bridge/' + bridge_name + '.png')\n",
    "    plt.clf()    # clear the plot space "
   ]
  },
  {
   "cell_type": "markdown",
   "metadata": {},
   "source": [
    "## Show distribution as subplots"
   ]
  },
  {
   "cell_type": "code",
   "execution_count": 30,
   "metadata": {
    "collapsed": false
   },
   "outputs": [
    {
     "data": {
      "image/png": "[encoded data removed]",
      "text/plain": [
       "<matplotlib.figure.Figure at 0x10bc82450>"
      ]
     },
     "metadata": {},
     "output_type": "display_data"
    }
   ],
   "source": [
    "fig1 = plt.figure(figsize=(15,15), )\n",
    "plt.title('Closure Duration Distribution')\n",
    "chrt = 0\n",
    "for bridge_name in df.groupby('bridge').count().index:\n",
    "    chrt += 1\n",
    "    ax = fig1.add_subplot(3,3,chrt)\n",
    "    all_bridges = duration_df[duration_df['minutes'] < 30]['minutes'].plot.hist(bins=40, alpha=0.7, normed=1, ax=ax)\n",
    "    temp_bridge = duration_df[duration_df['bridge'] == bridge_name]\n",
    "    one_bridge = temp_bridge[temp_bridge['minutes'] < 30]['minutes'].plot.hist(bins=40, alpha=0.7, normed=1, ax=ax)\n",
    "    all_bridges.legend(['All',bridge_name])\n",
    "    "
   ]
  },
  {
   "cell_type": "code",
   "execution_count": 348,
   "metadata": {
    "collapsed": true
   },
   "outputs": [],
   "source": [
    "# Next steps:\n",
    "# save this as figs and store for use in the dashboard"
   ]
  },
  {
   "cell_type": "code",
   "execution_count": 362,
   "metadata": {
    "collapsed": false
   },
   "outputs": [
    {
     "name": "stderr",
     "output_type": "stream",
     "text": [
      "/Library/Python/2.7/site-packages/ipykernel/__main__.py:7: FutureWarning: \n",
      "The default value for 'return_type' will change to 'axes' in a future release.\n",
      " To use the future behavior now, set return_type='axes'.\n",
      " To keep the previous behavior and silence this warning, set return_type='dict'.\n"
     ]
    },
    {
     "data": {
      "image/png": "[encoded data removed]",
      "text/plain": [
       "<matplotlib.figure.Figure at 0x121d5a590>"
      ]
     },
     "metadata": {},
     "output_type": "display_data"
    }
   ],
   "source": [
    "fig1 = plt.figure(figsize=(15,15), )\n",
    "chrt = 0\n",
    "for bridge_name in df.groupby('bridge').count().index:\n",
    "    chrt += 1\n",
    "    ax = fig1.add_subplot(3,3,chrt)\n",
    "    temp_bridge = duration_df[duration_df['bridge'] == bridge_name]\n",
    "    one_bridge = temp_bridge[temp_bridge['minutes'] < 30].boxplot(column='minutes')\n",
    "    ax.set_title(bridge_name)"
   ]
  },
  {
   "cell_type": "markdown",
   "metadata": {},
   "source": [
    "## openings by time of day"
   ]
  },
  {
   "cell_type": "code",
   "execution_count": 104,
   "metadata": {
    "collapsed": false
   },
   "outputs": [],
   "source": [
    "df['hour'] = df['local_date'].apply(lambda row: row.hour)\n",
    "df['month'] = df['local_date'].apply(lambda row: row.month)"
   ]
  },
  {
   "cell_type": "code",
   "execution_count": 93,
   "metadata": {
    "collapsed": false
   },
   "outputs": [
    {
     "data": {
      "text/plain": [
       "<matplotlib.axes._subplots.AxesSubplot at 0x10b0cd350>"
      ]
     },
     "execution_count": 93,
     "metadata": {},
     "output_type": "execute_result"
    },
    {
     "data": {
      "image/png": "[encoded data removed]",
      "text/plain": [
       "<matplotlib.figure.Figure at 0x109173810>"
      ]
     },
     "metadata": {},
     "output_type": "display_data"
    }
   ],
   "source": [
    "df.groupby('hour').count()['event'].plot(kind='bar', alpha=0.6, color='red')"
   ]
  },
  {
   "cell_type": "code",
   "execution_count": 94,
   "metadata": {
    "collapsed": false
   },
   "outputs": [
    {
     "data": {
      "image/png": "[encoded data removed]",
      "text/plain": [
       "<matplotlib.figure.Figure at 0x10bb414d0>"
      ]
     },
     "metadata": {},
     "output_type": "display_data"
    }
   ],
   "source": [
    "fig1 = plt.figure(figsize=(15,15), )\n",
    "\n",
    "chrt = 0\n",
    "for bridge_name in df.groupby('bridge').count().index:\n",
    "    chrt += 1\n",
    "    ax = fig1.add_subplot(3,3,chrt)\n",
    "    all_bridges = ((df.groupby('hour').count()['event'])/(df['hour'].sum())).plot(alpha=0.7, color='grey')\n",
    "    one_bridge = ((df[df['bridge'] == bridge_name].groupby('hour').count())/(df[df['bridge'] == bridge_name].sum()['hour']))['event'] \\\n",
    "    .plot(kind='bar', alpha=0.7, color='green')\n",
    "    ax.set_title(bridge_name)\n",
    "    all_bridges.legend(['all'])"
   ]
  },
  {
   "cell_type": "markdown",
   "metadata": {},
   "source": [
    "split bridges into ship canal versus duwamish"
   ]
  },
  {
   "cell_type": "code",
   "execution_count": 98,
   "metadata": {
    "collapsed": false
   },
   "outputs": [
    {
     "data": {
      "text/html": [
       "<div>\n",
       "<table border=\"1\" class=\"dataframe\">\n",
       "  <thead>\n",
       "    <tr style=\"text-align: right;\">\n",
       "      <th></th>\n",
       "      <th>duration</th>\n",
       "      <th>bridge</th>\n",
       "      <th>seconds</th>\n",
       "      <th>minutes</th>\n",
       "      <th>open_time</th>\n",
       "    </tr>\n",
       "  </thead>\n",
       "  <tbody>\n",
       "    <tr>\n",
       "      <th>0</th>\n",
       "      <td>00:10:12</td>\n",
       "      <td>1st Ave S</td>\n",
       "      <td>612</td>\n",
       "      <td>10.200000</td>\n",
       "      <td>2015-12-04 10:06:29</td>\n",
       "    </tr>\n",
       "    <tr>\n",
       "      <th>1</th>\n",
       "      <td>00:07:06</td>\n",
       "      <td>1st Ave S</td>\n",
       "      <td>426</td>\n",
       "      <td>7.100000</td>\n",
       "      <td>2015-11-09 20:54:33</td>\n",
       "    </tr>\n",
       "    <tr>\n",
       "      <th>2</th>\n",
       "      <td>00:06:56</td>\n",
       "      <td>1st Ave S</td>\n",
       "      <td>416</td>\n",
       "      <td>6.933333</td>\n",
       "      <td>2015-12-04 13:28:03</td>\n",
       "    </tr>\n",
       "    <tr>\n",
       "      <th>3</th>\n",
       "      <td>00:14:46</td>\n",
       "      <td>1st Ave S</td>\n",
       "      <td>886</td>\n",
       "      <td>14.766667</td>\n",
       "      <td>2016-02-22 11:25:16</td>\n",
       "    </tr>\n",
       "    <tr>\n",
       "      <th>4</th>\n",
       "      <td>00:22:26</td>\n",
       "      <td>1st Ave S</td>\n",
       "      <td>1346</td>\n",
       "      <td>22.433333</td>\n",
       "      <td>2016-04-11 14:41:35</td>\n",
       "    </tr>\n",
       "  </tbody>\n",
       "</table>\n",
       "</div>"
      ],
      "text/plain": [
       "   duration     bridge  seconds    minutes           open_time\n",
       "0  00:10:12  1st Ave S      612  10.200000 2015-12-04 10:06:29\n",
       "1  00:07:06  1st Ave S      426   7.100000 2015-11-09 20:54:33\n",
       "2  00:06:56  1st Ave S      416   6.933333 2015-12-04 13:28:03\n",
       "3  00:14:46  1st Ave S      886  14.766667 2016-02-22 11:25:16\n",
       "4  00:22:26  1st Ave S     1346  22.433333 2016-04-11 14:41:35"
      ]
     },
     "execution_count": 98,
     "metadata": {},
     "output_type": "execute_result"
    }
   ],
   "source": [
    "duration_df.head()"
   ]
  },
  {
   "cell_type": "code",
   "execution_count": 102,
   "metadata": {
    "collapsed": false
   },
   "outputs": [
    {
     "data": {
      "text/plain": [
       "<matplotlib.axes._subplots.AxesSubplot at 0x10875da50>"
      ]
     },
     "execution_count": 102,
     "metadata": {},
     "output_type": "execute_result"
    },
    {
     "data": {
      "image/png": "[encoded data removed]",
      "text/plain": [
       "<matplotlib.figure.Figure at 0x109009610>"
      ]
     },
     "metadata": {},
     "output_type": "display_data"
    }
   ],
   "source": [
    "pd.DataFrame(duration_df.groupby('bridge').sum()['minutes']/60).plot(kind='bar')"
   ]
  },
  {
   "cell_type": "code",
   "execution_count": 103,
   "metadata": {
    "collapsed": false
   },
   "outputs": [
    {
     "data": {
      "text/plain": [
       "<matplotlib.axes._subplots.AxesSubplot at 0x1091eea10>"
      ]
     },
     "execution_count": 103,
     "metadata": {},
     "output_type": "execute_result"
    },
    {
     "data": {
      "image/png": "[encoded data removed]",
      "text/plain": [
       "<matplotlib.figure.Figure at 0x10ab7b650>"
      ]
     },
     "metadata": {},
     "output_type": "display_data"
    }
   ],
   "source": [
    "pd.DataFrame(duration_df.groupby('bridge').count()['minutes']/60).plot(kind='bar')"
   ]
  },
  {
   "cell_type": "markdown",
   "metadata": {},
   "source": [
    "# openings by month"
   ]
  },
  {
   "cell_type": "code",
   "execution_count": 105,
   "metadata": {
    "collapsed": false
   },
   "outputs": [
    {
     "data": {
      "text/plain": [
       "<matplotlib.axes._subplots.AxesSubplot at 0x10b10c610>"
      ]
     },
     "execution_count": 105,
     "metadata": {},
     "output_type": "execute_result"
    },
    {
     "data": {
      "image/png": "[encoded data removed]",
      "text/plain": [
       "<matplotlib.figure.Figure at 0x108cb3ed0>"
      ]
     },
     "metadata": {},
     "output_type": "display_data"
    }
   ],
   "source": [
    "df.groupby('month').count()['event'].plot(kind='bar', alpha=0.6, color='red')"
   ]
  },
  {
   "cell_type": "markdown",
   "metadata": {},
   "source": [
    "- morning comparisons between ship canal and duwamish bridges\n",
    "- time spent open vs number of openings\n",
    "- how many minutes were open vs closed for each hour, esp. during commute time\n",
    "- load VMT data and calculate delay based on average volumes (or real count data)\n",
    "- load bike count data and calculate bike delay "
   ]
  },
  {
   "cell_type": "code",
   "execution_count": 3,
   "metadata": {
    "collapsed": false
   },
   "outputs": [],
   "source": [
    "import pandas as pd\n",
    "df = pd.read_csv('../data/bridge/avg_closures.csv')"
   ]
  },
  {
   "cell_type": "code",
   "execution_count": 6,
   "metadata": {
    "collapsed": false
   },
   "outputs": [
    {
     "data": {
      "text/html": [
       "<div>\n",
       "<table border=\"1\" class=\"dataframe\">\n",
       "  <thead>\n",
       "    <tr style=\"text-align: right;\">\n",
       "      <th></th>\n",
       "      <th>Unnamed: 0</th>\n",
       "      <th>avg_closures</th>\n",
       "      <th>bridge</th>\n",
       "    </tr>\n",
       "  </thead>\n",
       "  <tbody>\n",
       "    <tr>\n",
       "      <th>1</th>\n",
       "      <td>Ballard</td>\n",
       "      <td>6.670103</td>\n",
       "      <td>Ballard</td>\n",
       "    </tr>\n",
       "  </tbody>\n",
       "</table>\n",
       "</div>"
      ],
      "text/plain": [
       "  Unnamed: 0  avg_closures   bridge\n",
       "1    Ballard      6.670103  Ballard"
      ]
     },
     "execution_count": 6,
     "metadata": {},
     "output_type": "execute_result"
    }
   ],
   "source": [
    "df[df['bridge'] == 'Ballard']"
   ]
  },
  {
   "cell_type": "code",
   "execution_count": 15,
   "metadata": {
    "collapsed": false
   },
   "outputs": [],
   "source": [
    "df = pd.read_csv(r'../data/bridge/closures_per_day.csv')"
   ]
  },
  {
   "cell_type": "code",
   "execution_count": 23,
   "metadata": {
    "collapsed": false
   },
   "outputs": [],
   "source": [
    "mydict = df.to_dict()"
   ]
  },
  {
   "cell_type": "code",
   "execution_count": null,
   "metadata": {
    "collapsed": true
   },
   "outputs": [],
   "source": [
    "{% for key, value in resp.closures_remaining.items() %}\n",
    "    {% for items in value %}\n",
    "    <table>\n",
    "      <tr><td>  {{ items }}"
   ]
  },
  {
   "cell_type": "code",
   "execution_count": 33,
   "metadata": {
    "collapsed": false
   },
   "outputs": [
    {
     "name": "stdout",
     "output_type": "stream",
     "text": [
      "bridge\n",
      "{0: '1st Ave S', 1: 'Ballard', 2: 'Fremont', 3: 'Lower Spokane St', 4: 'Montlake', 5: 'South Park', 6: 'University'}\n",
      "Unnamed: 0\n",
      "{0: '1st Ave S', 1: 'Ballard', 2: 'Fremont', 3: 'Lower Spokane St', 4: 'Montlake', 5: 'South Park', 6: 'University'}\n",
      "closures_remaining\n",
      "{0: 1.0, 1: -2.0, 2: -2.0, 3: 3.0, 4: 0.0, 5: 2.0, 6: -2.0}\n",
      "closures_so_far\n",
      "{0: 2, 1: 9, 2: 11, 3: 1, 4: 4, 5: 1, 6: 8}\n",
      "avg_closures\n",
      "{0: 3.0, 1: 7.0, 2: 9.0, 3: 4.0, 4: 4.0, 5: 3.0, 6: 6.0}\n",
      "%_closures_remaining\n",
      "{0: 0.33333333333299997, 1: -0.28571428571400004, 2: -0.222222222222, 3: 0.75, 4: 0.0, 5: 0.66666666666700003, 6: -0.33333333333299997}\n"
     ]
    }
   ],
   "source": [
    "for key, value in mydict.items():\n",
    "    print key\n",
    "    print value"
   ]
  },
  {
   "cell_type": "code",
   "execution_count": 38,
   "metadata": {
    "collapsed": false
   },
   "outputs": [
    {
     "name": "stdout",
     "output_type": "stream",
     "text": [
      "3.0\n",
      "7.0\n",
      "9.0\n",
      "4.0\n",
      "4.0\n",
      "3.0\n",
      "6.0\n"
     ]
    }
   ],
   "source": [
    "for k, v in mydict['avg_closures'].items():\n",
    "    print v"
   ]
  },
  {
   "cell_type": "code",
   "execution_count": null,
   "metadata": {
    "collapsed": true
   },
   "outputs": [],
   "source": []
  }
 ],
 "metadata": {
  "kernelspec": {
   "display_name": "Python 2",
   "language": "python",
   "name": "python2"
  },
  "language_info": {
   "codemirror_mode": {
    "name": "ipython",
    "version": 2
   },
   "file_extension": ".py",
   "mimetype": "text/x-python",
   "name": "python",
   "nbconvert_exporter": "python",
   "pygments_lexer": "ipython2",
   "version": "2.7.10"
  }
 },
 "nbformat": 4,
 "nbformat_minor": 0
}

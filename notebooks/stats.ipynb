{
 "cells": [
  {
   "cell_type": "code",
   "execution_count": 1,
   "metadata": {
    "collapsed": true
   },
   "outputs": [],
   "source": [
    "# bridge related stats"
   ]
  },
  {
   "cell_type": "code",
   "execution_count": 2,
   "metadata": {
    "collapsed": true
   },
   "outputs": [],
   "source": [
    "import pandas as pd"
   ]
  },
  {
   "cell_type": "code",
   "execution_count": 10,
   "metadata": {
    "collapsed": false
   },
   "outputs": [],
   "source": [
    "df = pd.read_csv(r'../data/bridge/bridge_results.csv')"
   ]
  },
  {
   "cell_type": "code",
   "execution_count": 14,
   "metadata": {
    "collapsed": false
   },
   "outputs": [],
   "source": [
    "events = pd.read_csv(r'../data/bridge/bridge_status.csv')"
   ]
  },
  {
   "cell_type": "code",
   "execution_count": 158,
   "metadata": {
    "collapsed": false
   },
   "outputs": [
    {
     "data": {
      "text/html": [
       "<div>\n",
       "<table border=\"1\" class=\"dataframe\">\n",
       "  <thead>\n",
       "    <tr style=\"text-align: right;\">\n",
       "      <th></th>\n",
       "      <th>bridge</th>\n",
       "      <th>time</th>\n",
       "      <th>event</th>\n",
       "      <th>date</th>\n",
       "      <th>text</th>\n",
       "      <th>newtime</th>\n",
       "      <th>timeobj</th>\n",
       "    </tr>\n",
       "  </thead>\n",
       "  <tbody>\n",
       "    <tr>\n",
       "      <th>0</th>\n",
       "      <td>Fremont</td>\n",
       "      <td>5:09:25 PM</td>\n",
       "      <td>open</td>\n",
       "      <td>2016-01-31</td>\n",
       "      <td>The Fremont Bridge has reopened to traffic -  ...</td>\n",
       "      <td>5:09:25 PM</td>\n",
       "      <td>1900-01-01 17:09:25</td>\n",
       "    </tr>\n",
       "    <tr>\n",
       "      <th>1</th>\n",
       "      <td>Fremont</td>\n",
       "      <td>4:59:02 PM</td>\n",
       "      <td>closed</td>\n",
       "      <td>2016-01-31</td>\n",
       "      <td>The Fremont Bridge has closed to traffic -   4...</td>\n",
       "      <td>4:59:02 PM</td>\n",
       "      <td>1900-01-01 16:59:02</td>\n",
       "    </tr>\n",
       "    <tr>\n",
       "      <th>2</th>\n",
       "      <td>Montlake</td>\n",
       "      <td>4:23:13 PM</td>\n",
       "      <td>open</td>\n",
       "      <td>2016-01-31</td>\n",
       "      <td>The Montlake Bridge has reopened to traffic   ...</td>\n",
       "      <td>4:23:13 PM</td>\n",
       "      <td>1900-01-01 16:23:13</td>\n",
       "    </tr>\n",
       "    <tr>\n",
       "      <th>3</th>\n",
       "      <td>Montlake</td>\n",
       "      <td>4:17:50 PM</td>\n",
       "      <td>closed</td>\n",
       "      <td>2016-01-31</td>\n",
       "      <td>The Montlake Bridge has closed to traffic -   ...</td>\n",
       "      <td>4:17:50 PM</td>\n",
       "      <td>1900-01-01 16:17:50</td>\n",
       "    </tr>\n",
       "    <tr>\n",
       "      <th>4</th>\n",
       "      <td>University</td>\n",
       "      <td>4:15:49 PM</td>\n",
       "      <td>open</td>\n",
       "      <td>2016-01-31</td>\n",
       "      <td>The University Bridge has reopened to   traffi...</td>\n",
       "      <td>4:15:49 PM</td>\n",
       "      <td>1900-01-01 16:15:49</td>\n",
       "    </tr>\n",
       "    <tr>\n",
       "      <th>5</th>\n",
       "      <td>University</td>\n",
       "      <td>4:09:37 PM</td>\n",
       "      <td>closed</td>\n",
       "      <td>2016-01-31</td>\n",
       "      <td>The University Bridge has closed to traffic   ...</td>\n",
       "      <td>4:09:37 PM</td>\n",
       "      <td>1900-01-01 16:09:37</td>\n",
       "    </tr>\n",
       "    <tr>\n",
       "      <th>6</th>\n",
       "      <td>Ballard</td>\n",
       "      <td>4:06:20 PM</td>\n",
       "      <td>open</td>\n",
       "      <td>2016-01-31</td>\n",
       "      <td>The Ballard Bridge has reopened to traffic -  ...</td>\n",
       "      <td>4:06:20 PM</td>\n",
       "      <td>1900-01-01 16:06:20</td>\n",
       "    </tr>\n",
       "    <tr>\n",
       "      <th>7</th>\n",
       "      <td>Ballard</td>\n",
       "      <td>4:04:21 PM</td>\n",
       "      <td>closed</td>\n",
       "      <td>2016-01-31</td>\n",
       "      <td>The Ballard Bridge has closed to traffic -   4...</td>\n",
       "      <td>4:04:21 PM</td>\n",
       "      <td>1900-01-01 16:04:21</td>\n",
       "    </tr>\n",
       "    <tr>\n",
       "      <th>8</th>\n",
       "      <td>Fremont</td>\n",
       "      <td>3:55:26 PM</td>\n",
       "      <td>open</td>\n",
       "      <td>2016-01-30</td>\n",
       "      <td>The Fremont Bridge has reopened to traffic -  ...</td>\n",
       "      <td>3:55:26 PM</td>\n",
       "      <td>1900-01-01 15:55:26</td>\n",
       "    </tr>\n",
       "    <tr>\n",
       "      <th>9</th>\n",
       "      <td>Fremont</td>\n",
       "      <td>3:44:55 PM</td>\n",
       "      <td>closed</td>\n",
       "      <td>2016-01-30</td>\n",
       "      <td>The Fremont Bridge has closed to traffic -   3...</td>\n",
       "      <td>3:44:55 PM</td>\n",
       "      <td>1900-01-01 15:44:55</td>\n",
       "    </tr>\n",
       "  </tbody>\n",
       "</table>\n",
       "</div>"
      ],
      "text/plain": [
       "       bridge          time   event        date  \\\n",
       "0     Fremont    5:09:25 PM    open  2016-01-31   \n",
       "1     Fremont    4:59:02 PM  closed  2016-01-31   \n",
       "2    Montlake    4:23:13 PM    open  2016-01-31   \n",
       "3    Montlake    4:17:50 PM  closed  2016-01-31   \n",
       "4  University    4:15:49 PM    open  2016-01-31   \n",
       "5  University    4:09:37 PM  closed  2016-01-31   \n",
       "6     Ballard    4:06:20 PM    open  2016-01-31   \n",
       "7     Ballard    4:04:21 PM  closed  2016-01-31   \n",
       "8     Fremont    3:55:26 PM    open  2016-01-30   \n",
       "9     Fremont    3:44:55 PM  closed  2016-01-30   \n",
       "\n",
       "                                                text     newtime  \\\n",
       "0  The Fremont Bridge has reopened to traffic -  ...  5:09:25 PM   \n",
       "1  The Fremont Bridge has closed to traffic -   4...  4:59:02 PM   \n",
       "2  The Montlake Bridge has reopened to traffic   ...  4:23:13 PM   \n",
       "3  The Montlake Bridge has closed to traffic -   ...  4:17:50 PM   \n",
       "4  The University Bridge has reopened to   traffi...  4:15:49 PM   \n",
       "5  The University Bridge has closed to traffic   ...  4:09:37 PM   \n",
       "6  The Ballard Bridge has reopened to traffic -  ...  4:06:20 PM   \n",
       "7  The Ballard Bridge has closed to traffic -   4...  4:04:21 PM   \n",
       "8  The Fremont Bridge has reopened to traffic -  ...  3:55:26 PM   \n",
       "9  The Fremont Bridge has closed to traffic -   3...  3:44:55 PM   \n",
       "\n",
       "               timeobj  \n",
       "0  1900-01-01 17:09:25  \n",
       "1  1900-01-01 16:59:02  \n",
       "2  1900-01-01 16:23:13  \n",
       "3  1900-01-01 16:17:50  \n",
       "4  1900-01-01 16:15:49  \n",
       "5  1900-01-01 16:09:37  \n",
       "6  1900-01-01 16:06:20  \n",
       "7  1900-01-01 16:04:21  \n",
       "8  1900-01-01 15:55:26  \n",
       "9  1900-01-01 15:44:55  "
      ]
     },
     "execution_count": 158,
     "metadata": {},
     "output_type": "execute_result"
    }
   ],
   "source": [
    "events.iloc[0:10]"
   ]
  },
  {
   "cell_type": "markdown",
   "metadata": {},
   "source": [
    "# average closures "
   ]
  },
  {
   "cell_type": "code",
   "execution_count": 99,
   "metadata": {
    "collapsed": false
   },
   "outputs": [],
   "source": [
    "closures = events[events['event'] == 'closed']\n",
    "closures_group = closures.groupby(['date','bridge']).count()"
   ]
  },
  {
   "cell_type": "code",
   "execution_count": 100,
   "metadata": {
    "collapsed": false
   },
   "outputs": [],
   "source": [
    "closures_group['date'] = closures_group.index.get_level_values(0)\n",
    "closures_group['bridge'] = closures_group.index.get_level_values(1)\n",
    "# closures_group[closures_group['bridge'] == 'Ballard']"
   ]
  },
  {
   "cell_type": "code",
   "execution_count": 101,
   "metadata": {
    "collapsed": false
   },
   "outputs": [],
   "source": [
    "avg_closure_per_day = {}\n",
    "for bridge in closures_group.groupby('bridge').count().index:\n",
    "    avg_closure_per_day[bridge] = closures_group[closures_group['bridge'] == bridge].mean()['event']"
   ]
  },
  {
   "cell_type": "code",
   "execution_count": 113,
   "metadata": {
    "collapsed": false
   },
   "outputs": [],
   "source": [
    "df = pd.DataFrame(avg_closure_per_day, index=avg_closure_per_day.keys()).T\n",
    "df = pd.DataFrame(df['Ballard'])\n",
    "df.columns = ['avg_closures']\n",
    "df['bridge'] = df.index\n",
    "df.to_csv('../data/bridge/avg_closures.csv')"
   ]
  },
  {
   "cell_type": "code",
   "execution_count": 114,
   "metadata": {
    "collapsed": false
   },
   "outputs": [],
   "source": [
    "# Get more sophisticated later; add average closures by season, time of day, etc"
   ]
  },
  {
   "cell_type": "markdown",
   "metadata": {},
   "source": [
    "# closures in current day"
   ]
  },
  {
   "cell_type": "code",
   "execution_count": 141,
   "metadata": {
    "collapsed": true
   },
   "outputs": [],
   "source": [
    "import datetime\n",
    "import math\n",
    "# load file created by bridge_stat.closures_per_day()\n",
    "recent_df = pd.read_csv(r'../data/bridge/recent_tweets.csv')"
   ]
  },
  {
   "cell_type": "code",
   "execution_count": 142,
   "metadata": {
    "collapsed": false
   },
   "outputs": [],
   "source": [
    "recent_df['local_date'] = pd.to_datetime(recent_df['local_date'])"
   ]
  },
  {
   "cell_type": "code",
   "execution_count": 143,
   "metadata": {
    "collapsed": false
   },
   "outputs": [],
   "source": [
    "today = datetime.datetime.today()"
   ]
  },
  {
   "cell_type": "code",
   "execution_count": 144,
   "metadata": {
    "collapsed": false
   },
   "outputs": [],
   "source": [
    "tweets_today = recent_df[recent_df['local_date'].apply(lambda row:\n",
    "                       (row.day == today.day) &\n",
    "                       (row.month == today.month) &\n",
    "                       (row.year == today.year))\n",
    "   ]"
   ]
  },
  {
   "cell_type": "code",
   "execution_count": 145,
   "metadata": {
    "collapsed": false
   },
   "outputs": [],
   "source": [
    "# Get a count of tweets by bridge \n",
    "tweets_today\n",
    "closures_today = tweets_today[tweets_today['event'] == 'closed']\n",
    "closures_by_bridge = closures_today.groupby('bridge').count()\n",
    "closures_by_bridge['bridge'] = closures_by_bridge.index\n",
    "closures_by_bridge = closures_by_bridge[['bridge','event']]\n",
    "closures_by_bridge.columns = ['bridge','closures_so_far']"
   ]
  },
  {
   "cell_type": "code",
   "execution_count": 152,
   "metadata": {
    "collapsed": false
   },
   "outputs": [],
   "source": [
    "# Compare to average to get anticipated remained on average\n",
    "remaining_closures_df = pd.merge(closures_by_bridge, df, left_on='bridge', right_on='bridge')\n",
    "\n",
    "# Round up for average closures\n",
    "remaining_closures_df['avg_closures'] = remaining_closures_df['avg_closures'].apply(lambda row: math.ceil(row))\n",
    "remaining_closures_df['closures_remaining'] = remaining_closures_df['avg_closures'] - remaining_closures_df['closures_so_far']\n",
    "remaining_closures_df['%_closures_remaining'] = remaining_closures_df['closures_remaining']/remaining_closures_df['avg_closures']"
   ]
  },
  {
   "cell_type": "code",
   "execution_count": null,
   "metadata": {
    "collapsed": false
   },
   "outputs": [],
   "source": []
  },
  {
   "cell_type": "code",
   "execution_count": 155,
   "metadata": {
    "collapsed": false
   },
   "outputs": [],
   "source": [
    "# Leave the negatives in: indicates odds less likely \n",
    "remaining_closures_df.to_csv('../data/bridge/closure_estimate.csv')"
   ]
  },
  {
   "cell_type": "code",
   "execution_count": null,
   "metadata": {
    "collapsed": true
   },
   "outputs": [],
   "source": [
    "#3,7,8,4,2"
   ]
  }
 ],
 "metadata": {
  "kernelspec": {
   "display_name": "Python 2",
   "language": "python",
   "name": "python2"
  },
  "language_info": {
   "codemirror_mode": {
    "name": "ipython",
    "version": 2
   },
   "file_extension": ".py",
   "mimetype": "text/x-python",
   "name": "python",
   "nbconvert_exporter": "python",
   "pygments_lexer": "ipython2",
   "version": "2.7.10"
  }
 },
 "nbformat": 4,
 "nbformat_minor": 0
}

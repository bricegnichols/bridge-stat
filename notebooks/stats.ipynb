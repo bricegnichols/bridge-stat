{
 "cells": [
  {
   "cell_type": "code",
   "execution_count": 11,
   "metadata": {
    "collapsed": true
   },
   "outputs": [],
   "source": [
    "# bridge related stats"
   ]
  },
  {
   "cell_type": "code",
   "execution_count": 141,
   "metadata": {
    "collapsed": true
   },
   "outputs": [],
   "source": [
    "import pandas as pd\n",
    "import matplotlib.pyplot as plt\n",
    "% matplotlib inline"
   ]
  },
  {
   "cell_type": "code",
   "execution_count": 13,
   "metadata": {
    "collapsed": false
   },
   "outputs": [],
   "source": [
    "df = pd.read_csv(r'../data/bridge/bridge_results.csv')"
   ]
  },
  {
   "cell_type": "code",
   "execution_count": 14,
   "metadata": {
    "collapsed": false
   },
   "outputs": [],
   "source": [
    "events = pd.read_csv(r'../data/bridge/bridge_status.csv')"
   ]
  },
  {
   "cell_type": "code",
   "execution_count": 158,
   "metadata": {
    "collapsed": false
   },
   "outputs": [
    {
     "data": {
      "text/html": [
       "<div>\n",
       "<table border=\"1\" class=\"dataframe\">\n",
       "  <thead>\n",
       "    <tr style=\"text-align: right;\">\n",
       "      <th></th>\n",
       "      <th>bridge</th>\n",
       "      <th>time</th>\n",
       "      <th>event</th>\n",
       "      <th>date</th>\n",
       "      <th>text</th>\n",
       "      <th>newtime</th>\n",
       "      <th>timeobj</th>\n",
       "    </tr>\n",
       "  </thead>\n",
       "  <tbody>\n",
       "    <tr>\n",
       "      <th>0</th>\n",
       "      <td>Fremont</td>\n",
       "      <td>5:09:25 PM</td>\n",
       "      <td>open</td>\n",
       "      <td>2016-01-31</td>\n",
       "      <td>The Fremont Bridge has reopened to traffic -  ...</td>\n",
       "      <td>5:09:25 PM</td>\n",
       "      <td>1900-01-01 17:09:25</td>\n",
       "    </tr>\n",
       "    <tr>\n",
       "      <th>1</th>\n",
       "      <td>Fremont</td>\n",
       "      <td>4:59:02 PM</td>\n",
       "      <td>closed</td>\n",
       "      <td>2016-01-31</td>\n",
       "      <td>The Fremont Bridge has closed to traffic -   4...</td>\n",
       "      <td>4:59:02 PM</td>\n",
       "      <td>1900-01-01 16:59:02</td>\n",
       "    </tr>\n",
       "    <tr>\n",
       "      <th>2</th>\n",
       "      <td>Montlake</td>\n",
       "      <td>4:23:13 PM</td>\n",
       "      <td>open</td>\n",
       "      <td>2016-01-31</td>\n",
       "      <td>The Montlake Bridge has reopened to traffic   ...</td>\n",
       "      <td>4:23:13 PM</td>\n",
       "      <td>1900-01-01 16:23:13</td>\n",
       "    </tr>\n",
       "    <tr>\n",
       "      <th>3</th>\n",
       "      <td>Montlake</td>\n",
       "      <td>4:17:50 PM</td>\n",
       "      <td>closed</td>\n",
       "      <td>2016-01-31</td>\n",
       "      <td>The Montlake Bridge has closed to traffic -   ...</td>\n",
       "      <td>4:17:50 PM</td>\n",
       "      <td>1900-01-01 16:17:50</td>\n",
       "    </tr>\n",
       "    <tr>\n",
       "      <th>4</th>\n",
       "      <td>University</td>\n",
       "      <td>4:15:49 PM</td>\n",
       "      <td>open</td>\n",
       "      <td>2016-01-31</td>\n",
       "      <td>The University Bridge has reopened to   traffi...</td>\n",
       "      <td>4:15:49 PM</td>\n",
       "      <td>1900-01-01 16:15:49</td>\n",
       "    </tr>\n",
       "    <tr>\n",
       "      <th>5</th>\n",
       "      <td>University</td>\n",
       "      <td>4:09:37 PM</td>\n",
       "      <td>closed</td>\n",
       "      <td>2016-01-31</td>\n",
       "      <td>The University Bridge has closed to traffic   ...</td>\n",
       "      <td>4:09:37 PM</td>\n",
       "      <td>1900-01-01 16:09:37</td>\n",
       "    </tr>\n",
       "    <tr>\n",
       "      <th>6</th>\n",
       "      <td>Ballard</td>\n",
       "      <td>4:06:20 PM</td>\n",
       "      <td>open</td>\n",
       "      <td>2016-01-31</td>\n",
       "      <td>The Ballard Bridge has reopened to traffic -  ...</td>\n",
       "      <td>4:06:20 PM</td>\n",
       "      <td>1900-01-01 16:06:20</td>\n",
       "    </tr>\n",
       "    <tr>\n",
       "      <th>7</th>\n",
       "      <td>Ballard</td>\n",
       "      <td>4:04:21 PM</td>\n",
       "      <td>closed</td>\n",
       "      <td>2016-01-31</td>\n",
       "      <td>The Ballard Bridge has closed to traffic -   4...</td>\n",
       "      <td>4:04:21 PM</td>\n",
       "      <td>1900-01-01 16:04:21</td>\n",
       "    </tr>\n",
       "    <tr>\n",
       "      <th>8</th>\n",
       "      <td>Fremont</td>\n",
       "      <td>3:55:26 PM</td>\n",
       "      <td>open</td>\n",
       "      <td>2016-01-30</td>\n",
       "      <td>The Fremont Bridge has reopened to traffic -  ...</td>\n",
       "      <td>3:55:26 PM</td>\n",
       "      <td>1900-01-01 15:55:26</td>\n",
       "    </tr>\n",
       "    <tr>\n",
       "      <th>9</th>\n",
       "      <td>Fremont</td>\n",
       "      <td>3:44:55 PM</td>\n",
       "      <td>closed</td>\n",
       "      <td>2016-01-30</td>\n",
       "      <td>The Fremont Bridge has closed to traffic -   3...</td>\n",
       "      <td>3:44:55 PM</td>\n",
       "      <td>1900-01-01 15:44:55</td>\n",
       "    </tr>\n",
       "  </tbody>\n",
       "</table>\n",
       "</div>"
      ],
      "text/plain": [
       "       bridge          time   event        date  \\\n",
       "0     Fremont    5:09:25 PM    open  2016-01-31   \n",
       "1     Fremont    4:59:02 PM  closed  2016-01-31   \n",
       "2    Montlake    4:23:13 PM    open  2016-01-31   \n",
       "3    Montlake    4:17:50 PM  closed  2016-01-31   \n",
       "4  University    4:15:49 PM    open  2016-01-31   \n",
       "5  University    4:09:37 PM  closed  2016-01-31   \n",
       "6     Ballard    4:06:20 PM    open  2016-01-31   \n",
       "7     Ballard    4:04:21 PM  closed  2016-01-31   \n",
       "8     Fremont    3:55:26 PM    open  2016-01-30   \n",
       "9     Fremont    3:44:55 PM  closed  2016-01-30   \n",
       "\n",
       "                                                text     newtime  \\\n",
       "0  The Fremont Bridge has reopened to traffic -  ...  5:09:25 PM   \n",
       "1  The Fremont Bridge has closed to traffic -   4...  4:59:02 PM   \n",
       "2  The Montlake Bridge has reopened to traffic   ...  4:23:13 PM   \n",
       "3  The Montlake Bridge has closed to traffic -   ...  4:17:50 PM   \n",
       "4  The University Bridge has reopened to   traffi...  4:15:49 PM   \n",
       "5  The University Bridge has closed to traffic   ...  4:09:37 PM   \n",
       "6  The Ballard Bridge has reopened to traffic -  ...  4:06:20 PM   \n",
       "7  The Ballard Bridge has closed to traffic -   4...  4:04:21 PM   \n",
       "8  The Fremont Bridge has reopened to traffic -  ...  3:55:26 PM   \n",
       "9  The Fremont Bridge has closed to traffic -   3...  3:44:55 PM   \n",
       "\n",
       "               timeobj  \n",
       "0  1900-01-01 17:09:25  \n",
       "1  1900-01-01 16:59:02  \n",
       "2  1900-01-01 16:23:13  \n",
       "3  1900-01-01 16:17:50  \n",
       "4  1900-01-01 16:15:49  \n",
       "5  1900-01-01 16:09:37  \n",
       "6  1900-01-01 16:06:20  \n",
       "7  1900-01-01 16:04:21  \n",
       "8  1900-01-01 15:55:26  \n",
       "9  1900-01-01 15:44:55  "
      ]
     },
     "execution_count": 158,
     "metadata": {},
     "output_type": "execute_result"
    }
   ],
   "source": [
    "events.iloc[0:10]"
   ]
  },
  {
   "cell_type": "markdown",
   "metadata": {},
   "source": [
    "# average closures "
   ]
  },
  {
   "cell_type": "code",
   "execution_count": 99,
   "metadata": {
    "collapsed": false
   },
   "outputs": [],
   "source": [
    "closures = events[events['event'] == 'closed']\n",
    "closures_group = closures.groupby(['date','bridge']).count()"
   ]
  },
  {
   "cell_type": "code",
   "execution_count": 100,
   "metadata": {
    "collapsed": false
   },
   "outputs": [],
   "source": [
    "closures_group['date'] = closures_group.index.get_level_values(0)\n",
    "closures_group['bridge'] = closures_group.index.get_level_values(1)\n",
    "# closures_group[closures_group['bridge'] == 'Ballard']"
   ]
  },
  {
   "cell_type": "code",
   "execution_count": 101,
   "metadata": {
    "collapsed": false
   },
   "outputs": [],
   "source": [
    "avg_closure_per_day = {}\n",
    "for bridge in closures_group.groupby('bridge').count().index:\n",
    "    avg_closure_per_day[bridge] = closures_group[closures_group['bridge'] == bridge].mean()['event']"
   ]
  },
  {
   "cell_type": "code",
   "execution_count": 113,
   "metadata": {
    "collapsed": false
   },
   "outputs": [],
   "source": [
    "df = pd.DataFrame(avg_closure_per_day, index=avg_closure_per_day.keys()).T\n",
    "df = pd.DataFrame(df['Ballard'])\n",
    "df.columns = ['avg_closures']\n",
    "df['bridge'] = df.index\n",
    "df.to_csv('../data/bridge/avg_closures.csv')"
   ]
  },
  {
   "cell_type": "code",
   "execution_count": 114,
   "metadata": {
    "collapsed": false
   },
   "outputs": [],
   "source": [
    "# Get more sophisticated later; add average closures by season, time of day, etc"
   ]
  },
  {
   "cell_type": "markdown",
   "metadata": {},
   "source": [
    "# closures in current day"
   ]
  },
  {
   "cell_type": "code",
   "execution_count": 141,
   "metadata": {
    "collapsed": true
   },
   "outputs": [],
   "source": [
    "import datetime\n",
    "import math\n",
    "# load file created by bridge_stat.closures_per_day()\n",
    "recent_df = pd.read_csv(r'../data/bridge/recent_tweets.csv')"
   ]
  },
  {
   "cell_type": "code",
   "execution_count": 142,
   "metadata": {
    "collapsed": false
   },
   "outputs": [],
   "source": [
    "recent_df['local_date'] = pd.to_datetime(recent_df['local_date'])"
   ]
  },
  {
   "cell_type": "code",
   "execution_count": 143,
   "metadata": {
    "collapsed": false
   },
   "outputs": [],
   "source": [
    "today = datetime.datetime.today()"
   ]
  },
  {
   "cell_type": "code",
   "execution_count": 144,
   "metadata": {
    "collapsed": false
   },
   "outputs": [],
   "source": [
    "tweets_today = recent_df[recent_df['local_date'].apply(lambda row:\n",
    "                       (row.day == today.day) &\n",
    "                       (row.month == today.month) &\n",
    "                       (row.year == today.year))\n",
    "   ]"
   ]
  },
  {
   "cell_type": "code",
   "execution_count": 145,
   "metadata": {
    "collapsed": false
   },
   "outputs": [],
   "source": [
    "# Get a count of tweets by bridge \n",
    "tweets_today\n",
    "closures_today = tweets_today[tweets_today['event'] == 'closed']\n",
    "closures_by_bridge = closures_today.groupby('bridge').count()\n",
    "closures_by_bridge['bridge'] = closures_by_bridge.index\n",
    "closures_by_bridge = closures_by_bridge[['bridge','event']]\n",
    "closures_by_bridge.columns = ['bridge','closures_so_far']"
   ]
  },
  {
   "cell_type": "code",
   "execution_count": 152,
   "metadata": {
    "collapsed": false
   },
   "outputs": [],
   "source": [
    "# Compare to average to get anticipated remained on average\n",
    "remaining_closures_df = pd.merge(closures_by_bridge, df, left_on='bridge', right_on='bridge')\n",
    "\n",
    "# Round up for average closures\n",
    "remaining_closures_df['avg_closures'] = remaining_closures_df['avg_closures'].apply(lambda row: math.ceil(row))\n",
    "remaining_closures_df['closures_remaining'] = remaining_closures_df['avg_closures'] - remaining_closures_df['closures_so_far']\n",
    "remaining_closures_df['%_closures_remaining'] = remaining_closures_df['closures_remaining']/remaining_closures_df['avg_closures']"
   ]
  },
  {
   "cell_type": "code",
   "execution_count": null,
   "metadata": {
    "collapsed": false
   },
   "outputs": [],
   "source": []
  },
  {
   "cell_type": "code",
   "execution_count": 155,
   "metadata": {
    "collapsed": false
   },
   "outputs": [],
   "source": [
    "# Leave the negatives in: indicates odds less likely \n",
    "remaining_closures_df.to_csv('../data/bridge/closure_estimate.csv')"
   ]
  },
  {
   "cell_type": "markdown",
   "metadata": {
    "collapsed": true
   },
   "source": [
    "# Average time per closing"
   ]
  },
  {
   "cell_type": "code",
   "execution_count": 15,
   "metadata": {
    "collapsed": false
   },
   "outputs": [],
   "source": [
    "from datetime import datetime, timedelta\n",
    "df = pd.read_csv('../data/bridge/bridge_records.csv')"
   ]
  },
  {
   "cell_type": "code",
   "execution_count": 16,
   "metadata": {
    "collapsed": true
   },
   "outputs": [],
   "source": [
    "def set_local_time(obj, offset_hours=-7):\n",
    "\n",
    "    #account for offset from UTC using timedelta                                \n",
    "    local_timestamp = obj + timedelta(hours=offset_hours)\n",
    "\n",
    "    return local_timestamp"
   ]
  },
  {
   "cell_type": "code",
   "execution_count": 17,
   "metadata": {
    "collapsed": false
   },
   "outputs": [],
   "source": [
    "# Load all the historical tweets and process to get columns from text, convert to local time\n",
    "df['bridge'] = df['text'].map(lambda x: x.split('The ')[-1].split(' Bridge')[0])\n",
    "df['created_at'] = pd.to_datetime(df['created_at'])\n",
    "df['local_date'] = df['created_at'].apply(lambda x: set_local_time(x))\n",
    "df['event'] = df['text'].apply(lambda x: 'closed' if ('closed' in x) else 'open')\n",
    "df = df[['bridge','event', 'text','created_at', 'local_date']]\n",
    "\n",
    "bridge_list = ['Ballard', 'Fremont', '1st Ave S', 'Montlake', 'Lower Spokane St', 'South Park', 'University']\n",
    "\n",
    "# Select only rows with a bridge name in the bridge list\n",
    "df = df[df['bridge'].isin(bridge_list)]"
   ]
  },
  {
   "cell_type": "code",
   "execution_count": 18,
   "metadata": {
    "collapsed": false
   },
   "outputs": [],
   "source": [
    "# Do some analysis"
   ]
  },
  {
   "cell_type": "code",
   "execution_count": null,
   "metadata": {
    "collapsed": false
   },
   "outputs": [],
   "source": []
  },
  {
   "cell_type": "code",
   "execution_count": 210,
   "metadata": {
    "collapsed": false
   },
   "outputs": [
    {
     "name": "stdout",
     "output_type": "stream",
     "text": [
      "calculating avg closure time for: 1st Ave S\n",
      "calculating avg closure time for: Ballard\n",
      "calculating avg closure time for: Fremont\n",
      "calculating avg closure time for: Lower Spokane St\n",
      "calculating avg closure time for: Montlake\n",
      "calculating avg closure time for: South Park\n",
      "calculating avg closure time for: University\n"
     ]
    }
   ],
   "source": [
    "# # Sorting by date, should have an open, followed by close event\n",
    "# fremont = fremo\n",
    "# Loop through each row to extract open/close events\n",
    "# each event starts with a close, and should be followed immediately by an opening, \n",
    "# otherwise error, skip until next close event\n",
    "all_closures = {}\n",
    "\n",
    "for bridge_name in df.groupby('bridge').count().index:\n",
    "# for bridge_name in ['University']:\n",
    "    \n",
    "    bridge_closures = {}\n",
    "    \n",
    "    print 'calculating avg closure time for: ' + bridge_name\n",
    "    \n",
    "    bridge_df = df[df['bridge'] == bridge_name]\n",
    "\n",
    "    bridge_df = bridge_df.sort_values('local_date')\n",
    "    bridge_df.reset_index(inplace=True, drop=True)\n",
    "    \n",
    "    \n",
    "    for i in xrange(len(bridge_df)-1):    # iterate to next-to-last row because we check i vs i+1\n",
    "        if bridge_df.iloc[i]['event'] == 'closed':\n",
    "            if bridge_df.iloc[i+1]['event'] == 'open':\n",
    "                duration = bridge_df.iloc[i+1]['local_date'] - bridge_df.iloc[i]['local_date']\n",
    "                bridge_closures[bridge_df.iloc[i]['local_date']] = duration\n",
    "    all_closures[bridge_name] = bridge_closures"
   ]
  },
  {
   "cell_type": "code",
   "execution_count": 107,
   "metadata": {
    "collapsed": false
   },
   "outputs": [],
   "source": [
    "# dict_df = pd.DataFrame.from_dict(all_closures[bridge_name], orient='index')\n",
    "# dict_df"
   ]
  },
  {
   "cell_type": "code",
   "execution_count": 203,
   "metadata": {
    "collapsed": false
   },
   "outputs": [],
   "source": [
    "# bridge_name = 'University'\n",
    "# dict_df = pd.DataFrame.from_dict(all_closures[bridge_name], orient='index')\n",
    "# dict_df.columns = ['duration']\n",
    "# dict_df['bridge'] = bridge_name\n",
    "# dict_df['seconds'] = dict_df['duration'].apply(lambda row: row.seconds)\n",
    "# dict_df['minutes'] = dict_df['seconds']/60.0\n",
    "# dict_df['open_time'] = dict_df.index\n",
    "# dict_df.reset_index(inplace=True,drop=True)"
   ]
  },
  {
   "cell_type": "code",
   "execution_count": 202,
   "metadata": {
    "collapsed": false
   },
   "outputs": [],
   "source": [
    "# all_closures['University']"
   ]
  },
  {
   "cell_type": "code",
   "execution_count": 211,
   "metadata": {
    "collapsed": false
   },
   "outputs": [
    {
     "name": "stdout",
     "output_type": "stream",
     "text": [
      "1st Ave S\n",
      "Ballard\n",
      "Fremont\n",
      "Lower Spokane St\n",
      "Montlake\n",
      "South Park\n",
      "University\n"
     ]
    }
   ],
   "source": [
    "# Convert dictionary data in df\n",
    "df_list = []\n",
    "for bridge_name in df.groupby('bridge').count().index:\n",
    "    print bridge_name\n",
    "    dict_df = pd.DataFrame.from_dict(all_closures[bridge_name], orient='index')\n",
    "    dict_df.columns = ['duration']\n",
    "    dict_df['bridge'] = bridge_name\n",
    "    dict_df['seconds'] = dict_df['duration'].apply(lambda row: row.seconds)\n",
    "    dict_df['minutes'] = dict_df['seconds']/60.0\n",
    "    dict_df['open_time'] = dict_df.index\n",
    "    dict_df.reset_index(inplace=True,drop=True)\n",
    "    \n",
    "    df_list.append(dict_df)\n",
    "    duration_df = pd.concat(df_list)"
   ]
  },
  {
   "cell_type": "code",
   "execution_count": 212,
   "metadata": {
    "collapsed": false
   },
   "outputs": [],
   "source": [
    "# bridge_df"
   ]
  },
  {
   "cell_type": "code",
   "execution_count": 213,
   "metadata": {
    "collapsed": false
   },
   "outputs": [],
   "source": [
    "# duration_df[duration_df['bridge'] == 'University']"
   ]
  },
  {
   "cell_type": "code",
   "execution_count": 214,
   "metadata": {
    "collapsed": false
   },
   "outputs": [
    {
     "data": {
      "text/plain": [
       "<matplotlib.axes._subplots.AxesSubplot at 0x118b86390>"
      ]
     },
     "execution_count": 214,
     "metadata": {},
     "output_type": "execute_result"
    },
    {
     "data": {
      "image/png": "[encoded data removed]",
      "text/plain": [
       "<matplotlib.figure.Figure at 0x118c6ae50>"
      ]
     },
     "metadata": {},
     "output_type": "display_data"
    }
   ],
   "source": [
    "plotdf = pd.DataFrame([duration_df.groupby('bridge')['minutes'].mean(),\n",
    " duration_df.groupby('bridge')['minutes'].median()]).T\n",
    "plotdf.columns = ['mean','median']\n",
    "plotdf.plot(kind='bar')"
   ]
  },
  {
   "cell_type": "code",
   "execution_count": 352,
   "metadata": {
    "collapsed": false
   },
   "outputs": [
    {
     "name": "stderr",
     "output_type": "stream",
     "text": [
      "/Library/Python/2.7/site-packages/ipykernel/__main__.py:1: FutureWarning: \n",
      "The default value for 'return_type' will change to 'axes' in a future release.\n",
      " To use the future behavior now, set return_type='axes'.\n",
      " To keep the previous behavior and silence this warning, set return_type='dict'.\n",
      "  if __name__ == '__main__':\n"
     ]
    },
    {
     "data": {
      "image/png": "[encoded data removed]",
      "text/plain": [
       "<matplotlib.figure.Figure at 0x1251a7390>"
      ]
     },
     "metadata": {},
     "output_type": "display_data"
    }
   ],
   "source": [
    "a = duration_df[duration_df['minutes'] < 60].boxplot(column='minutes')"
   ]
  },
  {
   "cell_type": "code",
   "execution_count": 228,
   "metadata": {
    "collapsed": false
   },
   "outputs": [
    {
     "name": "stdout",
     "output_type": "stream",
     "text": [
      "1234.31666667\n",
      "3\n",
      "5\n",
      "12\n",
      "40\n",
      "10286\n"
     ]
    }
   ],
   "source": [
    "# Shows some outliers we can remove.\n",
    "\n",
    "# How many openings are more than 60 min?\n",
    "print duration_df['minutes'].max()\n",
    "print len(duration_df[duration_df['minutes'] > 90])\n",
    "print len(duration_df[duration_df['minutes'] > 60])\n",
    "print len(duration_df[duration_df['minutes'] > 45])\n",
    "print len(duration_df[duration_df['minutes'] > 30])\n",
    "print len(duration_df)"
   ]
  },
  {
   "cell_type": "code",
   "execution_count": 319,
   "metadata": {
    "collapsed": false
   },
   "outputs": [
    {
     "data": {
      "text/plain": [
       "<matplotlib.legend.Legend at 0x12072b450>"
      ]
     },
     "execution_count": 319,
     "metadata": {},
     "output_type": "execute_result"
    },
    {
     "data": {
      "image/png": "[encoded data removed]",
      "text/plain": [
       "<matplotlib.figure.Figure at 0x121e23e10>"
      ]
     },
     "metadata": {},
     "output_type": "display_data"
    }
   ],
   "source": [
    "bridge_name = 'Ballard'\n",
    "all_bridges = duration_df[duration_df['minutes'] < 30]['minutes'].plot.hist(bins=40, alpha=0.7, normed=1)\n",
    "temp_bridge = duration_df[duration_df['bridge'] == bridge_name]\n",
    "one_bridge = temp_bridge[temp_bridge['minutes'] < 30]['minutes'].plot.hist(bins=40, alpha=0.7, normed=1)\n",
    "all_bridges.legend(['All',bridge_name])"
   ]
  },
  {
   "cell_type": "code",
   "execution_count": 347,
   "metadata": {
    "collapsed": false
   },
   "outputs": [
    {
     "data": {
      "image/png": "[encoded data removed]",
      "text/plain": [
       "<matplotlib.figure.Figure at 0x1247adfd0>"
      ]
     },
     "metadata": {},
     "output_type": "display_data"
    }
   ],
   "source": [
    "\n",
    "fig1 = plt.figure(figsize=(15,15), )\n",
    "plt.title('Closure Duration Distribution')\n",
    "chrt = 0\n",
    "for bridge_name in df.groupby('bridge').count().index:\n",
    "    chrt += 1\n",
    "    ax = fig1.add_subplot(3,3,chrt)\n",
    "    all_bridges = duration_df[duration_df['minutes'] < 30]['minutes'].plot.hist(bins=40, alpha=0.7, normed=1, ax=ax)\n",
    "    temp_bridge = duration_df[duration_df['bridge'] == bridge_name]\n",
    "    one_bridge = temp_bridge[temp_bridge['minutes'] < 30]['minutes'].plot.hist(bins=40, alpha=0.7, normed=1, ax=ax)\n",
    "    all_bridges.legend(['All',bridge_name])\n",
    "    "
   ]
  },
  {
   "cell_type": "code",
   "execution_count": 348,
   "metadata": {
    "collapsed": true
   },
   "outputs": [],
   "source": [
    "# Next steps:\n",
    "# save this as figs and store for use in the dashboard"
   ]
  },
  {
   "cell_type": "code",
   "execution_count": 362,
   "metadata": {
    "collapsed": false
   },
   "outputs": [
    {
     "name": "stderr",
     "output_type": "stream",
     "text": [
      "/Library/Python/2.7/site-packages/ipykernel/__main__.py:7: FutureWarning: \n",
      "The default value for 'return_type' will change to 'axes' in a future release.\n",
      " To use the future behavior now, set return_type='axes'.\n",
      " To keep the previous behavior and silence this warning, set return_type='dict'.\n"
     ]
    },
    {
     "data": {
      "image/png": "[encoded data removed]",
      "text/plain": [
       "<matplotlib.figure.Figure at 0x121d5a590>"
      ]
     },
     "metadata": {},
     "output_type": "display_data"
    }
   ],
   "source": [
    "fig1 = plt.figure(figsize=(15,15), )\n",
    "chrt = 0\n",
    "for bridge_name in df.groupby('bridge').count().index:\n",
    "    chrt += 1\n",
    "    ax = fig1.add_subplot(3,3,chrt)\n",
    "    temp_bridge = duration_df[duration_df['bridge'] == bridge_name]\n",
    "    one_bridge = temp_bridge[temp_bridge['minutes'] < 30].boxplot(column='minutes')\n",
    "    ax.set_title(bridge_name)"
   ]
  },
  {
   "cell_type": "code",
   "execution_count": null,
   "metadata": {
    "collapsed": true
   },
   "outputs": [],
   "source": []
  }
 ],
 "metadata": {
  "kernelspec": {
   "display_name": "Python 2",
   "language": "python",
   "name": "python2"
  },
  "language_info": {
   "codemirror_mode": {
    "name": "ipython",
    "version": 2
   },
   "file_extension": ".py",
   "mimetype": "text/x-python",
   "name": "python",
   "nbconvert_exporter": "python",
   "pygments_lexer": "ipython2",
   "version": "2.7.10"
  }
 },
 "nbformat": 4,
 "nbformat_minor": 0
}

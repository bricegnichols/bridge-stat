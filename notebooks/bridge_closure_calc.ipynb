{
 "cells": [
  {
   "cell_type": "markdown",
   "metadata": {},
   "source": [
    "# seattle bridges: what's up?\n",
    "Analysis of bridge closure events across the city from winter to summer 2016"
   ]
  },
  {
   "cell_type": "code",
   "execution_count": 27,
   "metadata": {
    "collapsed": false
   },
   "outputs": [],
   "source": [
    "from datetime import datetime\n",
    "import pandas as pd\n",
    "import numpy as np\n",
    "import matplotlib\n",
    "import glob\n",
    "# from ggplot import *\n",
    "import matplotlib.pyplot as plt\n",
    "%matplotlib inline"
   ]
  },
  {
   "cell_type": "code",
   "execution_count": 28,
   "metadata": {
    "collapsed": false
   },
   "outputs": [],
   "source": [
    "def days_hours_minutes(td):\n",
    "    \"\"\"\n",
    "    convert a timedate object into a dictionary with days, hours, and minutes elements\n",
    "    \"\"\"\n",
    "    mydict = {}\n",
    "    mydict['days'] = td.days\n",
    "    mydict['hours'] = td.seconds//3600\n",
    "    mydict['minutes'] = (td.seconds//60)%60\n",
    "    return mydict"
   ]
  },
  {
   "cell_type": "markdown",
   "metadata": {},
   "source": [
    "Tweets are stored periodically by scraping Twitter history. Let's combine what's available into a single Pandas dataframe."
   ]
  },
  {
   "cell_type": "code",
   "execution_count": 54,
   "metadata": {
    "collapsed": false
   },
   "outputs": [],
   "source": [
    "# We know all csv files end in 2016\n",
    "bridge_files = glob.glob(\"history/*2016.csv\")\n",
    "\n",
    "frame = pd.DataFrame()\n",
    "list_ = []\n",
    "for f in bridge_files:\n",
    "    df = pd.read_csv(f)\n",
    "    list_.append(pd.read_csv(f))\n",
    "df = frame.append(list_)\n",
    "\n",
    "df = df.drop_duplicates()"
   ]
  },
  {
   "cell_type": "markdown",
   "metadata": {},
   "source": [
    "## Data Format\n",
    "Each row of data represents either a bridge closure or opening. In my own thinking, a closure means that the bridge is unaccessible to road users. Either definition is confusing because when a bridge is \"closed\" for usage, the physical span is actually \"opened.\" Let's stick with bridge closed = bad for road users. \n",
    "\n",
    "The data has a unique tweet ID, a time tag, and contents of an automated tweet."
   ]
  },
  {
   "cell_type": "code",
   "execution_count": 55,
   "metadata": {
    "collapsed": false
   },
   "outputs": [
    {
     "data": {
      "text/html": [
       "<div>\n",
       "<table border=\"1\" class=\"dataframe\">\n",
       "  <thead>\n",
       "    <tr style=\"text-align: right;\">\n",
       "      <th></th>\n",
       "      <th>id</th>\n",
       "      <th>created_at</th>\n",
       "      <th>text</th>\n",
       "    </tr>\n",
       "  </thead>\n",
       "  <tbody>\n",
       "    <tr>\n",
       "      <th>0</th>\n",
       "      <td>693601965163442176</td>\n",
       "      <td>2016-01-31 01:09:29</td>\n",
       "      <td>The Fremont Bridge has reopened to traffic -  ...</td>\n",
       "    </tr>\n",
       "    <tr>\n",
       "      <th>1</th>\n",
       "      <td>693599354439933952</td>\n",
       "      <td>2016-01-31 00:59:07</td>\n",
       "      <td>The Fremont Bridge has closed to traffic -   4...</td>\n",
       "    </tr>\n",
       "    <tr>\n",
       "      <th>2</th>\n",
       "      <td>693590335797092352</td>\n",
       "      <td>2016-01-31 00:23:16</td>\n",
       "      <td>The Montlake Bridge has reopened to traffic   ...</td>\n",
       "    </tr>\n",
       "    <tr>\n",
       "      <th>3</th>\n",
       "      <td>693588978541309952</td>\n",
       "      <td>2016-01-31 00:17:53</td>\n",
       "      <td>The Montlake Bridge has closed to traffic -   ...</td>\n",
       "    </tr>\n",
       "    <tr>\n",
       "      <th>4</th>\n",
       "      <td>693588472922177536</td>\n",
       "      <td>2016-01-31 00:15:52</td>\n",
       "      <td>The University Bridge has reopened to   traffi...</td>\n",
       "    </tr>\n",
       "  </tbody>\n",
       "</table>\n",
       "</div>"
      ],
      "text/plain": [
       "                   id           created_at  \\\n",
       "0  693601965163442176  2016-01-31 01:09:29   \n",
       "1  693599354439933952  2016-01-31 00:59:07   \n",
       "2  693590335797092352  2016-01-31 00:23:16   \n",
       "3  693588978541309952  2016-01-31 00:17:53   \n",
       "4  693588472922177536  2016-01-31 00:15:52   \n",
       "\n",
       "                                                text  \n",
       "0  The Fremont Bridge has reopened to traffic -  ...  \n",
       "1  The Fremont Bridge has closed to traffic -   4...  \n",
       "2  The Montlake Bridge has reopened to traffic   ...  \n",
       "3  The Montlake Bridge has closed to traffic -   ...  \n",
       "4  The University Bridge has reopened to   traffi...  "
      ]
     },
     "execution_count": 55,
     "metadata": {},
     "output_type": "execute_result"
    }
   ],
   "source": [
    "df.head()"
   ]
  },
  {
   "cell_type": "markdown",
   "metadata": {},
   "source": [
    "The tweet text contains useful data that we need to parse. We can split the text in several ways to get information on the bridge, the time (which is different than the \"created_at\" tweet time, the event (whether the bridge is closing or reopening to road traffic), and finally the date."
   ]
  },
  {
   "cell_type": "code",
   "execution_count": 31,
   "metadata": {
    "collapsed": false
   },
   "outputs": [],
   "source": [
    "# Extract data from CSV by splitting text columns\n",
    "df['bridge'] = df['text'].map(lambda x: x.split('The ')[-1].split(' Bridge')[0])\n",
    "df['time'] = df['text'].map(lambda x: x.split('- ')[-1])\n",
    "df['event'] = df['text'].apply(lambda x: 'closed' if ('closed' in x) else 'open')\n",
    "df['date'] = df['created_at'].map(lambda x: x.split(' ')[0])\n",
    "df_clean = df[['bridge','time','event', 'date', 'text']]"
   ]
  },
  {
   "cell_type": "markdown",
   "metadata": {
    "collapsed": false
   },
   "source": [
    "Now we have all the relevant open and closing information we need to reorganize  to turn open and close events into periods of closure. In most cases the data parsing worked correctly, but as is often the case, not every case worked out perfectly. Group the data to check for errors."
   ]
  },
  {
   "cell_type": "code",
   "execution_count": 32,
   "metadata": {
    "collapsed": false
   },
   "outputs": [
    {
     "data": {
      "text/html": [
       "<div>\n",
       "<table border=\"1\" class=\"dataframe\">\n",
       "  <thead>\n",
       "    <tr style=\"text-align: right;\">\n",
       "      <th></th>\n",
       "      <th>time</th>\n",
       "      <th>event</th>\n",
       "      <th>date</th>\n",
       "      <th>text</th>\n",
       "    </tr>\n",
       "    <tr>\n",
       "      <th>bridge</th>\n",
       "      <th></th>\n",
       "      <th></th>\n",
       "      <th></th>\n",
       "      <th></th>\n",
       "    </tr>\n",
       "  </thead>\n",
       "  <tbody>\n",
       "    <tr>\n",
       "      <th>1st Ave S</th>\n",
       "      <td>1503</td>\n",
       "      <td>1503</td>\n",
       "      <td>1503</td>\n",
       "      <td>1503</td>\n",
       "    </tr>\n",
       "    <tr>\n",
       "      <th>1st Ave S bridge has closed to traffic</th>\n",
       "      <td>1</td>\n",
       "      <td>1</td>\n",
       "      <td>1</td>\n",
       "      <td>1</td>\n",
       "    </tr>\n",
       "    <tr>\n",
       "      <th>A demonstration is blocking the intersection at Montlake Blvd NE &amp;amp; NE Pacific St. Use alt routes. https://t.co/l6j6PUzwc7</th>\n",
       "      <td>1</td>\n",
       "      <td>1</td>\n",
       "      <td>1</td>\n",
       "      <td>1</td>\n",
       "    </tr>\n",
       "    <tr>\n",
       "      <th>Ballard</th>\n",
       "      <td>4680</td>\n",
       "      <td>4680</td>\n",
       "      <td>4680</td>\n",
       "      <td>4680</td>\n",
       "    </tr>\n",
       "    <tr>\n",
       "      <th>Fremont</th>\n",
       "      <td>5534</td>\n",
       "      <td>5534</td>\n",
       "      <td>5534</td>\n",
       "      <td>5534</td>\n",
       "    </tr>\n",
       "    <tr>\n",
       "      <th>Let's loop in @wsdot_traffic @pursuittt</th>\n",
       "      <td>1</td>\n",
       "      <td>1</td>\n",
       "      <td>1</td>\n",
       "      <td>1</td>\n",
       "    </tr>\n",
       "    <tr>\n",
       "      <th>Lower Spokane St</th>\n",
       "      <td>2269</td>\n",
       "      <td>2269</td>\n",
       "      <td>2269</td>\n",
       "      <td>2269</td>\n",
       "    </tr>\n",
       "    <tr>\n",
       "      <th>Lower Spokane St</th>\n",
       "      <td>4</td>\n",
       "      <td>4</td>\n",
       "      <td>4</td>\n",
       "      <td>4</td>\n",
       "    </tr>\n",
       "    <tr>\n",
       "      <th>Montlake</th>\n",
       "      <td>1736</td>\n",
       "      <td>1736</td>\n",
       "      <td>1736</td>\n",
       "      <td>1736</td>\n",
       "    </tr>\n",
       "    <tr>\n",
       "      <th>N 105th St &amp;amp; Aurora Ave N</th>\n",
       "      <td>1</td>\n",
       "      <td>1</td>\n",
       "      <td>1</td>\n",
       "      <td>1</td>\n",
       "    </tr>\n",
       "    <tr>\n",
       "      <th>STALL\\n1ST AVE BRIDGE\\nEXPECT DELAYS</th>\n",
       "      <td>1</td>\n",
       "      <td>1</td>\n",
       "      <td>1</td>\n",
       "      <td>1</td>\n",
       "    </tr>\n",
       "    <tr>\n",
       "      <th>South Park</th>\n",
       "      <td>798</td>\n",
       "      <td>798</td>\n",
       "      <td>798</td>\n",
       "      <td>798</td>\n",
       "    </tr>\n",
       "    <tr>\n",
       "      <th>South Park bridge is re-opened to traffic</th>\n",
       "      <td>1</td>\n",
       "      <td>1</td>\n",
       "      <td>1</td>\n",
       "      <td>1</td>\n",
       "    </tr>\n",
       "    <tr>\n",
       "      <th>Southpark</th>\n",
       "      <td>1</td>\n",
       "      <td>1</td>\n",
       "      <td>1</td>\n",
       "      <td>1</td>\n",
       "    </tr>\n",
       "    <tr>\n",
       "      <th>Soutpark</th>\n",
       "      <td>1</td>\n",
       "      <td>1</td>\n",
       "      <td>1</td>\n",
       "      <td>1</td>\n",
       "    </tr>\n",
       "    <tr>\n",
       "      <th>UPDATE: Gates on the Montlake</th>\n",
       "      <td>1</td>\n",
       "      <td>1</td>\n",
       "      <td>1</td>\n",
       "      <td>1</td>\n",
       "    </tr>\n",
       "    <tr>\n",
       "      <th>University</th>\n",
       "      <td>2949</td>\n",
       "      <td>2949</td>\n",
       "      <td>2949</td>\n",
       "      <td>2949</td>\n",
       "    </tr>\n",
       "    <tr>\n",
       "      <th>sea vessel traffic @TrafficGator</th>\n",
       "      <td>1</td>\n",
       "      <td>1</td>\n",
       "      <td>1</td>\n",
       "      <td>1</td>\n",
       "    </tr>\n",
       "    <tr>\n",
       "      <th>times and rules are set by the Coast Guard: https://t.co/afCEMjonJH https://t.co/6HDNsHsnRb</th>\n",
       "      <td>1</td>\n",
       "      <td>1</td>\n",
       "      <td>1</td>\n",
       "      <td>1</td>\n",
       "    </tr>\n",
       "  </tbody>\n",
       "</table>\n",
       "</div>"
      ],
      "text/plain": [
       "                                                    time  event  date  text\n",
       "bridge                                                                     \n",
       "1st Ave S                                           1503   1503  1503  1503\n",
       "1st Ave S bridge has closed to traffic                 1      1     1     1\n",
       "A demonstration is blocking the intersection at...     1      1     1     1\n",
       "Ballard                                             4680   4680  4680  4680\n",
       "Fremont                                             5534   5534  5534  5534\n",
       "Let's loop in @wsdot_traffic @pursuittt                1      1     1     1\n",
       "Lower Spokane St                                    2269   2269  2269  2269\n",
       "Lower Spokane St                                       4      4     4     4\n",
       "Montlake                                            1736   1736  1736  1736\n",
       "N 105th St &amp; Aurora Ave N                          1      1     1     1\n",
       "STALL\\n1ST AVE BRIDGE\\nEXPECT DELAYS                   1      1     1     1\n",
       "South Park                                           798    798   798   798\n",
       "South Park bridge is re-opened to traffic              1      1     1     1\n",
       "Southpark                                              1      1     1     1\n",
       "Soutpark                                               1      1     1     1\n",
       "UPDATE: Gates on the Montlake                          1      1     1     1\n",
       "University                                          2949   2949  2949  2949\n",
       "sea vessel traffic @TrafficGator                       1      1     1     1\n",
       "times and rules are set by the Coast Guard: htt...     1      1     1     1"
      ]
     },
     "execution_count": 32,
     "metadata": {},
     "output_type": "execute_result"
    }
   ],
   "source": [
    "# Some of the fields include errors we need to remove\n",
    "df_clean.groupby('bridge').count()"
   ]
  },
  {
   "cell_type": "markdown",
   "metadata": {},
   "source": [
    "We have a known set of real bridges we can use as a guide. The other non-bridge fields can be ignored. These are a consequence of this Twitter account sometimes being used by humans. In most cases, the tweets are automated, but sometimes a silly human gets on the horn to tweet additional info."
   ]
  },
  {
   "cell_type": "code",
   "execution_count": 33,
   "metadata": {
    "collapsed": false
   },
   "outputs": [],
   "source": [
    "bridge_list = ['Ballard', 'Fremont', '1st Ave S', 'Montlake', 'Lower Spokane St', 'South Park', 'University']"
   ]
  },
  {
   "cell_type": "code",
   "execution_count": 34,
   "metadata": {
    "collapsed": false
   },
   "outputs": [],
   "source": [
    "# Select only rows with a bridge name in the bridge list\n",
    "newdf = df_clean[df_clean['bridge'].isin(bridge_list)]"
   ]
  },
  {
   "cell_type": "code",
   "execution_count": 35,
   "metadata": {
    "collapsed": false
   },
   "outputs": [
    {
     "name": "stderr",
     "output_type": "stream",
     "text": [
      "/Library/Python/2.7/site-packages/ipykernel/__main__.py:5: SettingWithCopyWarning: \n",
      "A value is trying to be set on a copy of a slice from a DataFrame.\n",
      "Try using .loc[row_indexer,col_indexer] = value instead\n",
      "\n",
      "See the caveats in the documentation: http://pandas.pydata.org/pandas-docs/stable/indexing.html#indexing-view-versus-copy\n"
     ]
    }
   ],
   "source": [
    "# There are still some records with bad data\n",
    "# Get rid of date rows without dates\n",
    "\n",
    "# first remove extra space in the date string\n",
    "newdf['newtime'] = newdf['time'].str.lstrip()"
   ]
  },
  {
   "cell_type": "code",
   "execution_count": 36,
   "metadata": {
    "collapsed": false
   },
   "outputs": [
    {
     "data": {
      "text/plain": [
       "19469"
      ]
     },
     "execution_count": 36,
     "metadata": {},
     "output_type": "execute_result"
    }
   ],
   "source": [
    "len(newdf)"
   ]
  },
  {
   "cell_type": "code",
   "execution_count": 37,
   "metadata": {
    "collapsed": false
   },
   "outputs": [
    {
     "data": {
      "text/plain": [
       "19461"
      ]
     },
     "execution_count": 37,
     "metadata": {},
     "output_type": "execute_result"
    }
   ],
   "source": [
    "# Only include date rows with PM or AM text\n",
    "newdf = newdf[newdf['newtime'].str.contains('PM|AM')]\n",
    "len(newdf)"
   ]
  },
  {
   "cell_type": "code",
   "execution_count": 38,
   "metadata": {
    "collapsed": false
   },
   "outputs": [],
   "source": [
    "# Convert the time text to a datetime object in pandas\n",
    "newdf['timeobj'] = pd.to_datetime(newdf['newtime'], format=\"%I:%M:%S %p\", errors='coerce')"
   ]
  },
  {
   "cell_type": "code",
   "execution_count": 39,
   "metadata": {
    "collapsed": false
   },
   "outputs": [],
   "source": [
    "for i in xrange(len(newdf)):\n",
    "    if not type(newdf['timeobj'].iloc[0]) == pd.tslib.Timestamp:\n",
    "        print i"
   ]
  },
  {
   "cell_type": "code",
   "execution_count": 40,
   "metadata": {
    "collapsed": false
   },
   "outputs": [],
   "source": [
    "# NOTE: data is presented with most recent events at top, makes more sense chronologically to put oldest at top row\n",
    "# REVERSE the DF\n",
    "# newdf = newdf.reindex(index=newdf.index[::-1])"
   ]
  },
  {
   "cell_type": "code",
   "execution_count": 41,
   "metadata": {
    "collapsed": false
   },
   "outputs": [],
   "source": [
    "# Drop some nats (not a time)\n",
    "newdf = newdf.dropna()"
   ]
  },
  {
   "cell_type": "code",
   "execution_count": 42,
   "metadata": {
    "collapsed": false
   },
   "outputs": [],
   "source": [
    "# We need to know each closure event (bridge opening for a ship to cross)\n",
    "# and calculate the subsequent re-opening time, usually from the following row\n",
    "\n",
    "# do that by getting the index of each bridge closure and taking index+1 for the re-opening\n",
    "# Loop through each bridge separately\n",
    "bridgelist = newdf.groupby('bridge').count().index\n",
    "\n",
    "# initialize result arrays\n",
    "duration = []\n",
    "closehr = []\n",
    "closemin = []\n",
    "closesec = []\n",
    "bridgename = []\n",
    "date = []\n",
    "\n",
    "for bridge in bridgelist:\n",
    "#     print bridge\n",
    "    # select records for each bridge\n",
    "    bridgedf = newdf[newdf['bridge'] == bridge]\n",
    "    \n",
    "    # reindex this slice because we need to consider each row i and i+1 for these bridges\n",
    "    bridgedf.reset_index(inplace=True)\n",
    "\n",
    "    # Get index of all bridge closure events\n",
    "    closure_event_index = bridgedf[bridgedf['event'] == 'closed'].index\n",
    "\n",
    "    # Loop through all closure events except the last two (since we compare i and i+1)\n",
    "    for i in closure_event_index[:-2]:\n",
    "#         print i\n",
    "        # if the next entry is a reopening, compute the closure time\n",
    "        if bridgedf.iloc[i+1]['event'] == 'open':\n",
    "            # compute the close time between i and i+1\n",
    "            \n",
    "            # get total closure time by subtracting time stamps between close and open\n",
    "            duration.append((bridgedf.iloc[i+1]['timeobj'] - bridgedf.iloc[i]['timeobj']).seconds)\n",
    "            \n",
    "            # also record the start of this closure\n",
    "            closetime = bridgedf.iloc[i]['timeobj']\n",
    "            closehr.append(closetime.hour)\n",
    "            closemin.append(closetime.minute)\n",
    "            closesec.append(closetime.second)\n",
    "            bridgename.append(bridge)\n",
    "            date.append(bridgedf.iloc[i]['date'])\n",
    "        else:\n",
    "            # if i+1 is not an opening there is an error so skip this opening event\n",
    "            continue\n",
    "    \n",
    "# Convert to dataFrame\n",
    "df = pd.DataFrame(data=[duration, closehr,closemin,closesec,bridgename, date]).T\n",
    "df.columns=['Duration','Closure Hour','Closure Minute','Closure Second','Bridge', 'Date']\n",
    "\n",
    "# Separate date column into month, day, year values\n",
    "df['Year'] = [i.split('-')[0] for i in df['Date'].values]\n",
    "df['Month'] = [i.split('-')[1] for i in df['Date'].values]\n",
    "df['Day'] = [i.split('-')[2] for i in df['Date'].values]"
   ]
  },
  {
   "cell_type": "code",
   "execution_count": 43,
   "metadata": {
    "collapsed": false
   },
   "outputs": [
    {
     "data": {
      "text/html": [
       "<div>\n",
       "<table border=\"1\" class=\"dataframe\">\n",
       "  <thead>\n",
       "    <tr style=\"text-align: right;\">\n",
       "      <th></th>\n",
       "      <th>bridge</th>\n",
       "      <th>time</th>\n",
       "      <th>event</th>\n",
       "      <th>date</th>\n",
       "      <th>text</th>\n",
       "      <th>newtime</th>\n",
       "      <th>timeobj</th>\n",
       "    </tr>\n",
       "  </thead>\n",
       "  <tbody>\n",
       "    <tr>\n",
       "      <th>0</th>\n",
       "      <td>Fremont</td>\n",
       "      <td>5:09:25 PM</td>\n",
       "      <td>open</td>\n",
       "      <td>2016-01-31</td>\n",
       "      <td>The Fremont Bridge has reopened to traffic -  ...</td>\n",
       "      <td>5:09:25 PM</td>\n",
       "      <td>1900-01-01 17:09:25</td>\n",
       "    </tr>\n",
       "    <tr>\n",
       "      <th>1</th>\n",
       "      <td>Fremont</td>\n",
       "      <td>4:59:02 PM</td>\n",
       "      <td>closed</td>\n",
       "      <td>2016-01-31</td>\n",
       "      <td>The Fremont Bridge has closed to traffic -   4...</td>\n",
       "      <td>4:59:02 PM</td>\n",
       "      <td>1900-01-01 16:59:02</td>\n",
       "    </tr>\n",
       "    <tr>\n",
       "      <th>2</th>\n",
       "      <td>Montlake</td>\n",
       "      <td>4:23:13 PM</td>\n",
       "      <td>open</td>\n",
       "      <td>2016-01-31</td>\n",
       "      <td>The Montlake Bridge has reopened to traffic   ...</td>\n",
       "      <td>4:23:13 PM</td>\n",
       "      <td>1900-01-01 16:23:13</td>\n",
       "    </tr>\n",
       "    <tr>\n",
       "      <th>3</th>\n",
       "      <td>Montlake</td>\n",
       "      <td>4:17:50 PM</td>\n",
       "      <td>closed</td>\n",
       "      <td>2016-01-31</td>\n",
       "      <td>The Montlake Bridge has closed to traffic -   ...</td>\n",
       "      <td>4:17:50 PM</td>\n",
       "      <td>1900-01-01 16:17:50</td>\n",
       "    </tr>\n",
       "    <tr>\n",
       "      <th>4</th>\n",
       "      <td>University</td>\n",
       "      <td>4:15:49 PM</td>\n",
       "      <td>open</td>\n",
       "      <td>2016-01-31</td>\n",
       "      <td>The University Bridge has reopened to   traffi...</td>\n",
       "      <td>4:15:49 PM</td>\n",
       "      <td>1900-01-01 16:15:49</td>\n",
       "    </tr>\n",
       "    <tr>\n",
       "      <th>5</th>\n",
       "      <td>University</td>\n",
       "      <td>4:09:37 PM</td>\n",
       "      <td>closed</td>\n",
       "      <td>2016-01-31</td>\n",
       "      <td>The University Bridge has closed to traffic   ...</td>\n",
       "      <td>4:09:37 PM</td>\n",
       "      <td>1900-01-01 16:09:37</td>\n",
       "    </tr>\n",
       "    <tr>\n",
       "      <th>6</th>\n",
       "      <td>Ballard</td>\n",
       "      <td>4:06:20 PM</td>\n",
       "      <td>open</td>\n",
       "      <td>2016-01-31</td>\n",
       "      <td>The Ballard Bridge has reopened to traffic -  ...</td>\n",
       "      <td>4:06:20 PM</td>\n",
       "      <td>1900-01-01 16:06:20</td>\n",
       "    </tr>\n",
       "    <tr>\n",
       "      <th>7</th>\n",
       "      <td>Ballard</td>\n",
       "      <td>4:04:21 PM</td>\n",
       "      <td>closed</td>\n",
       "      <td>2016-01-31</td>\n",
       "      <td>The Ballard Bridge has closed to traffic -   4...</td>\n",
       "      <td>4:04:21 PM</td>\n",
       "      <td>1900-01-01 16:04:21</td>\n",
       "    </tr>\n",
       "    <tr>\n",
       "      <th>8</th>\n",
       "      <td>Fremont</td>\n",
       "      <td>3:55:26 PM</td>\n",
       "      <td>open</td>\n",
       "      <td>2016-01-30</td>\n",
       "      <td>The Fremont Bridge has reopened to traffic -  ...</td>\n",
       "      <td>3:55:26 PM</td>\n",
       "      <td>1900-01-01 15:55:26</td>\n",
       "    </tr>\n",
       "    <tr>\n",
       "      <th>9</th>\n",
       "      <td>Fremont</td>\n",
       "      <td>3:44:55 PM</td>\n",
       "      <td>closed</td>\n",
       "      <td>2016-01-30</td>\n",
       "      <td>The Fremont Bridge has closed to traffic -   3...</td>\n",
       "      <td>3:44:55 PM</td>\n",
       "      <td>1900-01-01 15:44:55</td>\n",
       "    </tr>\n",
       "    <tr>\n",
       "      <th>10</th>\n",
       "      <td>University</td>\n",
       "      <td>3:32:59 PM</td>\n",
       "      <td>open</td>\n",
       "      <td>2016-01-30</td>\n",
       "      <td>The University Bridge has reopened to   traffi...</td>\n",
       "      <td>3:32:59 PM</td>\n",
       "      <td>1900-01-01 15:32:59</td>\n",
       "    </tr>\n",
       "    <tr>\n",
       "      <th>11</th>\n",
       "      <td>University</td>\n",
       "      <td>3:23:33 PM</td>\n",
       "      <td>closed</td>\n",
       "      <td>2016-01-30</td>\n",
       "      <td>The University Bridge has closed to traffic   ...</td>\n",
       "      <td>3:23:33 PM</td>\n",
       "      <td>1900-01-01 15:23:33</td>\n",
       "    </tr>\n",
       "    <tr>\n",
       "      <th>12</th>\n",
       "      <td>Montlake</td>\n",
       "      <td>3:23:28 PM</td>\n",
       "      <td>open</td>\n",
       "      <td>2016-01-30</td>\n",
       "      <td>The Montlake Bridge has reopened to traffic   ...</td>\n",
       "      <td>3:23:28 PM</td>\n",
       "      <td>1900-01-01 15:23:28</td>\n",
       "    </tr>\n",
       "    <tr>\n",
       "      <th>13</th>\n",
       "      <td>Ballard</td>\n",
       "      <td>3:14:43 PM</td>\n",
       "      <td>open</td>\n",
       "      <td>2016-01-30</td>\n",
       "      <td>The Ballard Bridge has reopened to traffic -  ...</td>\n",
       "      <td>3:14:43 PM</td>\n",
       "      <td>1900-01-01 15:14:43</td>\n",
       "    </tr>\n",
       "    <tr>\n",
       "      <th>14</th>\n",
       "      <td>Montlake</td>\n",
       "      <td>3:14:34 PM</td>\n",
       "      <td>closed</td>\n",
       "      <td>2016-01-30</td>\n",
       "      <td>The Montlake Bridge has closed to traffic -   ...</td>\n",
       "      <td>3:14:34 PM</td>\n",
       "      <td>1900-01-01 15:14:34</td>\n",
       "    </tr>\n",
       "    <tr>\n",
       "      <th>15</th>\n",
       "      <td>Ballard</td>\n",
       "      <td>3:10:48 PM</td>\n",
       "      <td>closed</td>\n",
       "      <td>2016-01-30</td>\n",
       "      <td>The Ballard Bridge has closed to traffic -   3...</td>\n",
       "      <td>3:10:48 PM</td>\n",
       "      <td>1900-01-01 15:10:48</td>\n",
       "    </tr>\n",
       "    <tr>\n",
       "      <th>16</th>\n",
       "      <td>Fremont</td>\n",
       "      <td>2:34:31 PM</td>\n",
       "      <td>open</td>\n",
       "      <td>2016-01-30</td>\n",
       "      <td>The Fremont Bridge has reopened to traffic -  ...</td>\n",
       "      <td>2:34:31 PM</td>\n",
       "      <td>1900-01-01 14:34:31</td>\n",
       "    </tr>\n",
       "    <tr>\n",
       "      <th>17</th>\n",
       "      <td>Fremont</td>\n",
       "      <td>2:31:13 PM</td>\n",
       "      <td>closed</td>\n",
       "      <td>2016-01-30</td>\n",
       "      <td>The Fremont Bridge has closed to traffic -   2...</td>\n",
       "      <td>2:31:13 PM</td>\n",
       "      <td>1900-01-01 14:31:13</td>\n",
       "    </tr>\n",
       "    <tr>\n",
       "      <th>18</th>\n",
       "      <td>1st Ave S</td>\n",
       "      <td>2:19:51 PM</td>\n",
       "      <td>open</td>\n",
       "      <td>2016-01-30</td>\n",
       "      <td>The 1st Ave S Bridge has reopened to traffic  ...</td>\n",
       "      <td>2:19:51 PM</td>\n",
       "      <td>1900-01-01 14:19:51</td>\n",
       "    </tr>\n",
       "    <tr>\n",
       "      <th>19</th>\n",
       "      <td>1st Ave S</td>\n",
       "      <td>2:12:14 PM</td>\n",
       "      <td>closed</td>\n",
       "      <td>2016-01-30</td>\n",
       "      <td>The 1st Ave S Bridge has closed to traffic -  ...</td>\n",
       "      <td>2:12:14 PM</td>\n",
       "      <td>1900-01-01 14:12:14</td>\n",
       "    </tr>\n",
       "    <tr>\n",
       "      <th>20</th>\n",
       "      <td>Lower Spokane St</td>\n",
       "      <td>1:29:07 PM</td>\n",
       "      <td>open</td>\n",
       "      <td>2016-01-30</td>\n",
       "      <td>The Lower Spokane St Bridge has reopened to   ...</td>\n",
       "      <td>1:29:07 PM</td>\n",
       "      <td>1900-01-01 13:29:07</td>\n",
       "    </tr>\n",
       "    <tr>\n",
       "      <th>21</th>\n",
       "      <td>University</td>\n",
       "      <td>1:21:14 PM</td>\n",
       "      <td>open</td>\n",
       "      <td>2016-01-30</td>\n",
       "      <td>The University Bridge has reopened to   traffi...</td>\n",
       "      <td>1:21:14 PM</td>\n",
       "      <td>1900-01-01 13:21:14</td>\n",
       "    </tr>\n",
       "    <tr>\n",
       "      <th>22</th>\n",
       "      <td>Ballard</td>\n",
       "      <td>1:17:26 PM</td>\n",
       "      <td>open</td>\n",
       "      <td>2016-01-30</td>\n",
       "      <td>The Ballard Bridge has reopened to traffic -  ...</td>\n",
       "      <td>1:17:26 PM</td>\n",
       "      <td>1900-01-01 13:17:26</td>\n",
       "    </tr>\n",
       "    <tr>\n",
       "      <th>23</th>\n",
       "      <td>Ballard</td>\n",
       "      <td>1:16:28 PM</td>\n",
       "      <td>closed</td>\n",
       "      <td>2016-01-30</td>\n",
       "      <td>The Ballard Bridge has closed to traffic -   1...</td>\n",
       "      <td>1:16:28 PM</td>\n",
       "      <td>1900-01-01 13:16:28</td>\n",
       "    </tr>\n",
       "    <tr>\n",
       "      <th>24</th>\n",
       "      <td>Lower Spokane St</td>\n",
       "      <td>1:11:43 PM</td>\n",
       "      <td>closed</td>\n",
       "      <td>2016-01-30</td>\n",
       "      <td>The Lower Spokane St Bridge has closed to   tr...</td>\n",
       "      <td>1:11:43 PM</td>\n",
       "      <td>1900-01-01 13:11:43</td>\n",
       "    </tr>\n",
       "    <tr>\n",
       "      <th>25</th>\n",
       "      <td>Fremont</td>\n",
       "      <td>1:01:50 PM</td>\n",
       "      <td>open</td>\n",
       "      <td>2016-01-30</td>\n",
       "      <td>The Fremont Bridge has reopened to traffic -  ...</td>\n",
       "      <td>1:01:50 PM</td>\n",
       "      <td>1900-01-01 13:01:50</td>\n",
       "    </tr>\n",
       "    <tr>\n",
       "      <th>26</th>\n",
       "      <td>Fremont</td>\n",
       "      <td>12:59:50 PM</td>\n",
       "      <td>closed</td>\n",
       "      <td>2016-01-30</td>\n",
       "      <td>The Fremont Bridge has closed to traffic -   1...</td>\n",
       "      <td>12:59:50 PM</td>\n",
       "      <td>1900-01-01 12:59:50</td>\n",
       "    </tr>\n",
       "    <tr>\n",
       "      <th>27</th>\n",
       "      <td>University</td>\n",
       "      <td>12:40:01 PM</td>\n",
       "      <td>open</td>\n",
       "      <td>2016-01-30</td>\n",
       "      <td>The University Bridge has reopened to   traffi...</td>\n",
       "      <td>12:40:01 PM</td>\n",
       "      <td>1900-01-01 12:40:01</td>\n",
       "    </tr>\n",
       "    <tr>\n",
       "      <th>28</th>\n",
       "      <td>University</td>\n",
       "      <td>12:36:10 PM</td>\n",
       "      <td>closed</td>\n",
       "      <td>2016-01-30</td>\n",
       "      <td>The University Bridge has closed to traffic   ...</td>\n",
       "      <td>12:36:10 PM</td>\n",
       "      <td>1900-01-01 12:36:10</td>\n",
       "    </tr>\n",
       "    <tr>\n",
       "      <th>29</th>\n",
       "      <td>1st Ave S</td>\n",
       "      <td>12:14:41 PM</td>\n",
       "      <td>open</td>\n",
       "      <td>2016-01-30</td>\n",
       "      <td>The 1st Ave S Bridge has reopened to traffic  ...</td>\n",
       "      <td>12:14:41 PM</td>\n",
       "      <td>1900-01-01 12:14:41</td>\n",
       "    </tr>\n",
       "    <tr>\n",
       "      <th>...</th>\n",
       "      <td>...</td>\n",
       "      <td>...</td>\n",
       "      <td>...</td>\n",
       "      <td>...</td>\n",
       "      <td>...</td>\n",
       "      <td>...</td>\n",
       "      <td>...</td>\n",
       "    </tr>\n",
       "    <tr>\n",
       "      <th>3164</th>\n",
       "      <td>Ballard</td>\n",
       "      <td>3:41:12 PM</td>\n",
       "      <td>closed</td>\n",
       "      <td>2016-08-05</td>\n",
       "      <td>The Ballard Bridge has closed to traffic -   3...</td>\n",
       "      <td>3:41:12 PM</td>\n",
       "      <td>1900-01-01 15:41:12</td>\n",
       "    </tr>\n",
       "    <tr>\n",
       "      <th>3165</th>\n",
       "      <td>Fremont</td>\n",
       "      <td>3:41:03 PM</td>\n",
       "      <td>open</td>\n",
       "      <td>2016-08-05</td>\n",
       "      <td>The Fremont Bridge has reopened to traffic -  ...</td>\n",
       "      <td>3:41:03 PM</td>\n",
       "      <td>1900-01-01 15:41:03</td>\n",
       "    </tr>\n",
       "    <tr>\n",
       "      <th>3166</th>\n",
       "      <td>Fremont</td>\n",
       "      <td>3:35:55 PM</td>\n",
       "      <td>closed</td>\n",
       "      <td>2016-08-05</td>\n",
       "      <td>The Fremont Bridge has closed to traffic -   3...</td>\n",
       "      <td>3:35:55 PM</td>\n",
       "      <td>1900-01-01 15:35:55</td>\n",
       "    </tr>\n",
       "    <tr>\n",
       "      <th>3167</th>\n",
       "      <td>Lower Spokane St</td>\n",
       "      <td>3:23:06 PM</td>\n",
       "      <td>closed</td>\n",
       "      <td>2016-08-05</td>\n",
       "      <td>The Lower Spokane St Bridge has closed to   tr...</td>\n",
       "      <td>3:23:06 PM</td>\n",
       "      <td>1900-01-01 15:23:06</td>\n",
       "    </tr>\n",
       "    <tr>\n",
       "      <th>3168</th>\n",
       "      <td>Fremont</td>\n",
       "      <td>3:20:43 PM</td>\n",
       "      <td>open</td>\n",
       "      <td>2016-08-05</td>\n",
       "      <td>The Fremont Bridge has reopened to traffic -  ...</td>\n",
       "      <td>3:20:43 PM</td>\n",
       "      <td>1900-01-01 15:20:43</td>\n",
       "    </tr>\n",
       "    <tr>\n",
       "      <th>3169</th>\n",
       "      <td>Fremont</td>\n",
       "      <td>3:12:53 PM</td>\n",
       "      <td>closed</td>\n",
       "      <td>2016-08-05</td>\n",
       "      <td>The Fremont Bridge has closed to traffic -   3...</td>\n",
       "      <td>3:12:53 PM</td>\n",
       "      <td>1900-01-01 15:12:53</td>\n",
       "    </tr>\n",
       "    <tr>\n",
       "      <th>3170</th>\n",
       "      <td>University</td>\n",
       "      <td>3:10:28 PM</td>\n",
       "      <td>open</td>\n",
       "      <td>2016-08-05</td>\n",
       "      <td>The University Bridge has reopened to   traffi...</td>\n",
       "      <td>3:10:28 PM</td>\n",
       "      <td>1900-01-01 15:10:28</td>\n",
       "    </tr>\n",
       "    <tr>\n",
       "      <th>3171</th>\n",
       "      <td>University</td>\n",
       "      <td>3:10:06 PM</td>\n",
       "      <td>closed</td>\n",
       "      <td>2016-08-05</td>\n",
       "      <td>The University Bridge has closed to traffic   ...</td>\n",
       "      <td>3:10:06 PM</td>\n",
       "      <td>1900-01-01 15:10:06</td>\n",
       "    </tr>\n",
       "    <tr>\n",
       "      <th>3172</th>\n",
       "      <td>Ballard</td>\n",
       "      <td>3:03:13 PM</td>\n",
       "      <td>open</td>\n",
       "      <td>2016-08-05</td>\n",
       "      <td>The Ballard Bridge has reopened to traffic -  ...</td>\n",
       "      <td>3:03:13 PM</td>\n",
       "      <td>1900-01-01 15:03:13</td>\n",
       "    </tr>\n",
       "    <tr>\n",
       "      <th>3173</th>\n",
       "      <td>Ballard</td>\n",
       "      <td>2:58:19 PM</td>\n",
       "      <td>closed</td>\n",
       "      <td>2016-08-05</td>\n",
       "      <td>The Ballard Bridge has closed to traffic -   2...</td>\n",
       "      <td>2:58:19 PM</td>\n",
       "      <td>1900-01-01 14:58:19</td>\n",
       "    </tr>\n",
       "    <tr>\n",
       "      <th>3174</th>\n",
       "      <td>University</td>\n",
       "      <td>2:56:54 PM</td>\n",
       "      <td>open</td>\n",
       "      <td>2016-08-05</td>\n",
       "      <td>The University Bridge has reopened to   traffi...</td>\n",
       "      <td>2:56:54 PM</td>\n",
       "      <td>1900-01-01 14:56:54</td>\n",
       "    </tr>\n",
       "    <tr>\n",
       "      <th>3175</th>\n",
       "      <td>University</td>\n",
       "      <td>2:49:53 PM</td>\n",
       "      <td>closed</td>\n",
       "      <td>2016-08-05</td>\n",
       "      <td>The University Bridge has closed to traffic   ...</td>\n",
       "      <td>2:49:53 PM</td>\n",
       "      <td>1900-01-01 14:49:53</td>\n",
       "    </tr>\n",
       "    <tr>\n",
       "      <th>3176</th>\n",
       "      <td>Montlake</td>\n",
       "      <td>2:46:09 PM</td>\n",
       "      <td>open</td>\n",
       "      <td>2016-08-05</td>\n",
       "      <td>The Montlake Bridge has reopened to traffic\\n ...</td>\n",
       "      <td>2:46:09 PM</td>\n",
       "      <td>1900-01-01 14:46:09</td>\n",
       "    </tr>\n",
       "    <tr>\n",
       "      <th>3186</th>\n",
       "      <td>Montlake</td>\n",
       "      <td>1:34:45 PM</td>\n",
       "      <td>open</td>\n",
       "      <td>2016-08-05</td>\n",
       "      <td>The Montlake Bridge has reopened to traffic\\n ...</td>\n",
       "      <td>1:34:45 PM</td>\n",
       "      <td>1900-01-01 13:34:45</td>\n",
       "    </tr>\n",
       "    <tr>\n",
       "      <th>3187</th>\n",
       "      <td>Montlake</td>\n",
       "      <td>1:30:03 PM</td>\n",
       "      <td>closed</td>\n",
       "      <td>2016-08-05</td>\n",
       "      <td>The Montlake Bridge has closed to traffic -   ...</td>\n",
       "      <td>1:30:03 PM</td>\n",
       "      <td>1900-01-01 13:30:03</td>\n",
       "    </tr>\n",
       "    <tr>\n",
       "      <th>3188</th>\n",
       "      <td>Fremont</td>\n",
       "      <td>1:21:50 PM</td>\n",
       "      <td>open</td>\n",
       "      <td>2016-08-05</td>\n",
       "      <td>The Fremont Bridge has reopened to traffic -  ...</td>\n",
       "      <td>1:21:50 PM</td>\n",
       "      <td>1900-01-01 13:21:50</td>\n",
       "    </tr>\n",
       "    <tr>\n",
       "      <th>3189</th>\n",
       "      <td>Fremont</td>\n",
       "      <td>1:18:34 PM</td>\n",
       "      <td>closed</td>\n",
       "      <td>2016-08-05</td>\n",
       "      <td>The Fremont Bridge has closed to traffic -   1...</td>\n",
       "      <td>1:18:34 PM</td>\n",
       "      <td>1900-01-01 13:18:34</td>\n",
       "    </tr>\n",
       "    <tr>\n",
       "      <th>3190</th>\n",
       "      <td>University</td>\n",
       "      <td>1:04:05 PM</td>\n",
       "      <td>open</td>\n",
       "      <td>2016-08-05</td>\n",
       "      <td>The University Bridge has reopened to   traffi...</td>\n",
       "      <td>1:04:05 PM</td>\n",
       "      <td>1900-01-01 13:04:05</td>\n",
       "    </tr>\n",
       "    <tr>\n",
       "      <th>3191</th>\n",
       "      <td>University</td>\n",
       "      <td>12:59:43 PM</td>\n",
       "      <td>closed</td>\n",
       "      <td>2016-08-05</td>\n",
       "      <td>The University Bridge has closed to traffic   ...</td>\n",
       "      <td>12:59:43 PM</td>\n",
       "      <td>1900-01-01 12:59:43</td>\n",
       "    </tr>\n",
       "    <tr>\n",
       "      <th>3192</th>\n",
       "      <td>University</td>\n",
       "      <td>12:36:52 PM</td>\n",
       "      <td>open</td>\n",
       "      <td>2016-08-05</td>\n",
       "      <td>The University Bridge has reopened to   traffi...</td>\n",
       "      <td>12:36:52 PM</td>\n",
       "      <td>1900-01-01 12:36:52</td>\n",
       "    </tr>\n",
       "    <tr>\n",
       "      <th>3193</th>\n",
       "      <td>University</td>\n",
       "      <td>12:33:58 PM</td>\n",
       "      <td>closed</td>\n",
       "      <td>2016-08-05</td>\n",
       "      <td>The University Bridge has closed to traffic   ...</td>\n",
       "      <td>12:33:58 PM</td>\n",
       "      <td>1900-01-01 12:33:58</td>\n",
       "    </tr>\n",
       "    <tr>\n",
       "      <th>3194</th>\n",
       "      <td>Ballard</td>\n",
       "      <td>12:33:20 PM</td>\n",
       "      <td>open</td>\n",
       "      <td>2016-08-05</td>\n",
       "      <td>The Ballard Bridge has reopened to traffic -  ...</td>\n",
       "      <td>12:33:20 PM</td>\n",
       "      <td>1900-01-01 12:33:20</td>\n",
       "    </tr>\n",
       "    <tr>\n",
       "      <th>3195</th>\n",
       "      <td>Ballard</td>\n",
       "      <td>12:29:19 PM</td>\n",
       "      <td>closed</td>\n",
       "      <td>2016-08-05</td>\n",
       "      <td>The Ballard Bridge has closed to traffic -   1...</td>\n",
       "      <td>12:29:19 PM</td>\n",
       "      <td>1900-01-01 12:29:19</td>\n",
       "    </tr>\n",
       "    <tr>\n",
       "      <th>3196</th>\n",
       "      <td>Montlake</td>\n",
       "      <td>12:26:58 PM</td>\n",
       "      <td>open</td>\n",
       "      <td>2016-08-05</td>\n",
       "      <td>The Montlake Bridge has reopened to traffic   ...</td>\n",
       "      <td>12:26:58 PM</td>\n",
       "      <td>1900-01-01 12:26:58</td>\n",
       "    </tr>\n",
       "    <tr>\n",
       "      <th>3197</th>\n",
       "      <td>Montlake</td>\n",
       "      <td>12:23:07 PM</td>\n",
       "      <td>closed</td>\n",
       "      <td>2016-08-05</td>\n",
       "      <td>The Montlake Bridge has closed to traffic -   ...</td>\n",
       "      <td>12:23:07 PM</td>\n",
       "      <td>1900-01-01 12:23:07</td>\n",
       "    </tr>\n",
       "    <tr>\n",
       "      <th>3198</th>\n",
       "      <td>Montlake</td>\n",
       "      <td>12:12:20 PM</td>\n",
       "      <td>open</td>\n",
       "      <td>2016-08-05</td>\n",
       "      <td>The Montlake Bridge has reopened to traffic   ...</td>\n",
       "      <td>12:12:20 PM</td>\n",
       "      <td>1900-01-01 12:12:20</td>\n",
       "    </tr>\n",
       "    <tr>\n",
       "      <th>3199</th>\n",
       "      <td>Montlake</td>\n",
       "      <td>12:07:32 PM</td>\n",
       "      <td>closed</td>\n",
       "      <td>2016-08-05</td>\n",
       "      <td>The Montlake Bridge has closed to traffic -   ...</td>\n",
       "      <td>12:07:32 PM</td>\n",
       "      <td>1900-01-01 12:07:32</td>\n",
       "    </tr>\n",
       "    <tr>\n",
       "      <th>3200</th>\n",
       "      <td>Montlake</td>\n",
       "      <td>11:52:52 AM</td>\n",
       "      <td>open</td>\n",
       "      <td>2016-08-05</td>\n",
       "      <td>The Montlake Bridge has reopened to traffic   ...</td>\n",
       "      <td>11:52:52 AM</td>\n",
       "      <td>1900-01-01 11:52:52</td>\n",
       "    </tr>\n",
       "    <tr>\n",
       "      <th>3201</th>\n",
       "      <td>Montlake</td>\n",
       "      <td>11:49:48 AM</td>\n",
       "      <td>closed</td>\n",
       "      <td>2016-08-05</td>\n",
       "      <td>The Montlake Bridge has closed to traffic -   ...</td>\n",
       "      <td>11:49:48 AM</td>\n",
       "      <td>1900-01-01 11:49:48</td>\n",
       "    </tr>\n",
       "    <tr>\n",
       "      <th>3202</th>\n",
       "      <td>Fremont</td>\n",
       "      <td>11:39:32 AM</td>\n",
       "      <td>open</td>\n",
       "      <td>2016-08-05</td>\n",
       "      <td>The Fremont Bridge has reopened to traffic -  ...</td>\n",
       "      <td>11:39:32 AM</td>\n",
       "      <td>1900-01-01 11:39:32</td>\n",
       "    </tr>\n",
       "  </tbody>\n",
       "</table>\n",
       "<p>17452 rows × 7 columns</p>\n",
       "</div>"
      ],
      "text/plain": [
       "                bridge           time   event        date  \\\n",
       "0              Fremont     5:09:25 PM    open  2016-01-31   \n",
       "1              Fremont     4:59:02 PM  closed  2016-01-31   \n",
       "2             Montlake     4:23:13 PM    open  2016-01-31   \n",
       "3             Montlake     4:17:50 PM  closed  2016-01-31   \n",
       "4           University     4:15:49 PM    open  2016-01-31   \n",
       "5           University     4:09:37 PM  closed  2016-01-31   \n",
       "6              Ballard     4:06:20 PM    open  2016-01-31   \n",
       "7              Ballard     4:04:21 PM  closed  2016-01-31   \n",
       "8              Fremont     3:55:26 PM    open  2016-01-30   \n",
       "9              Fremont     3:44:55 PM  closed  2016-01-30   \n",
       "10          University     3:32:59 PM    open  2016-01-30   \n",
       "11          University     3:23:33 PM  closed  2016-01-30   \n",
       "12            Montlake     3:23:28 PM    open  2016-01-30   \n",
       "13             Ballard     3:14:43 PM    open  2016-01-30   \n",
       "14            Montlake     3:14:34 PM  closed  2016-01-30   \n",
       "15             Ballard     3:10:48 PM  closed  2016-01-30   \n",
       "16             Fremont     2:34:31 PM    open  2016-01-30   \n",
       "17             Fremont     2:31:13 PM  closed  2016-01-30   \n",
       "18           1st Ave S     2:19:51 PM    open  2016-01-30   \n",
       "19           1st Ave S     2:12:14 PM  closed  2016-01-30   \n",
       "20    Lower Spokane St     1:29:07 PM    open  2016-01-30   \n",
       "21          University     1:21:14 PM    open  2016-01-30   \n",
       "22             Ballard     1:17:26 PM    open  2016-01-30   \n",
       "23             Ballard     1:16:28 PM  closed  2016-01-30   \n",
       "24    Lower Spokane St     1:11:43 PM  closed  2016-01-30   \n",
       "25             Fremont     1:01:50 PM    open  2016-01-30   \n",
       "26             Fremont    12:59:50 PM  closed  2016-01-30   \n",
       "27          University    12:40:01 PM    open  2016-01-30   \n",
       "28          University    12:36:10 PM  closed  2016-01-30   \n",
       "29           1st Ave S    12:14:41 PM    open  2016-01-30   \n",
       "...                ...            ...     ...         ...   \n",
       "3164           Ballard     3:41:12 PM  closed  2016-08-05   \n",
       "3165           Fremont     3:41:03 PM    open  2016-08-05   \n",
       "3166           Fremont     3:35:55 PM  closed  2016-08-05   \n",
       "3167  Lower Spokane St     3:23:06 PM  closed  2016-08-05   \n",
       "3168           Fremont     3:20:43 PM    open  2016-08-05   \n",
       "3169           Fremont     3:12:53 PM  closed  2016-08-05   \n",
       "3170        University     3:10:28 PM    open  2016-08-05   \n",
       "3171        University     3:10:06 PM  closed  2016-08-05   \n",
       "3172           Ballard     3:03:13 PM    open  2016-08-05   \n",
       "3173           Ballard     2:58:19 PM  closed  2016-08-05   \n",
       "3174        University     2:56:54 PM    open  2016-08-05   \n",
       "3175        University     2:49:53 PM  closed  2016-08-05   \n",
       "3176          Montlake     2:46:09 PM    open  2016-08-05   \n",
       "3186          Montlake     1:34:45 PM    open  2016-08-05   \n",
       "3187          Montlake     1:30:03 PM  closed  2016-08-05   \n",
       "3188           Fremont     1:21:50 PM    open  2016-08-05   \n",
       "3189           Fremont     1:18:34 PM  closed  2016-08-05   \n",
       "3190        University     1:04:05 PM    open  2016-08-05   \n",
       "3191        University    12:59:43 PM  closed  2016-08-05   \n",
       "3192        University    12:36:52 PM    open  2016-08-05   \n",
       "3193        University    12:33:58 PM  closed  2016-08-05   \n",
       "3194           Ballard    12:33:20 PM    open  2016-08-05   \n",
       "3195           Ballard    12:29:19 PM  closed  2016-08-05   \n",
       "3196          Montlake    12:26:58 PM    open  2016-08-05   \n",
       "3197          Montlake    12:23:07 PM  closed  2016-08-05   \n",
       "3198          Montlake    12:12:20 PM    open  2016-08-05   \n",
       "3199          Montlake    12:07:32 PM  closed  2016-08-05   \n",
       "3200          Montlake    11:52:52 AM    open  2016-08-05   \n",
       "3201          Montlake    11:49:48 AM  closed  2016-08-05   \n",
       "3202           Fremont    11:39:32 AM    open  2016-08-05   \n",
       "\n",
       "                                                   text      newtime  \\\n",
       "0     The Fremont Bridge has reopened to traffic -  ...   5:09:25 PM   \n",
       "1     The Fremont Bridge has closed to traffic -   4...   4:59:02 PM   \n",
       "2     The Montlake Bridge has reopened to traffic   ...   4:23:13 PM   \n",
       "3     The Montlake Bridge has closed to traffic -   ...   4:17:50 PM   \n",
       "4     The University Bridge has reopened to   traffi...   4:15:49 PM   \n",
       "5     The University Bridge has closed to traffic   ...   4:09:37 PM   \n",
       "6     The Ballard Bridge has reopened to traffic -  ...   4:06:20 PM   \n",
       "7     The Ballard Bridge has closed to traffic -   4...   4:04:21 PM   \n",
       "8     The Fremont Bridge has reopened to traffic -  ...   3:55:26 PM   \n",
       "9     The Fremont Bridge has closed to traffic -   3...   3:44:55 PM   \n",
       "10    The University Bridge has reopened to   traffi...   3:32:59 PM   \n",
       "11    The University Bridge has closed to traffic   ...   3:23:33 PM   \n",
       "12    The Montlake Bridge has reopened to traffic   ...   3:23:28 PM   \n",
       "13    The Ballard Bridge has reopened to traffic -  ...   3:14:43 PM   \n",
       "14    The Montlake Bridge has closed to traffic -   ...   3:14:34 PM   \n",
       "15    The Ballard Bridge has closed to traffic -   3...   3:10:48 PM   \n",
       "16    The Fremont Bridge has reopened to traffic -  ...   2:34:31 PM   \n",
       "17    The Fremont Bridge has closed to traffic -   2...   2:31:13 PM   \n",
       "18    The 1st Ave S Bridge has reopened to traffic  ...   2:19:51 PM   \n",
       "19    The 1st Ave S Bridge has closed to traffic -  ...   2:12:14 PM   \n",
       "20    The Lower Spokane St Bridge has reopened to   ...   1:29:07 PM   \n",
       "21    The University Bridge has reopened to   traffi...   1:21:14 PM   \n",
       "22    The Ballard Bridge has reopened to traffic -  ...   1:17:26 PM   \n",
       "23    The Ballard Bridge has closed to traffic -   1...   1:16:28 PM   \n",
       "24    The Lower Spokane St Bridge has closed to   tr...   1:11:43 PM   \n",
       "25    The Fremont Bridge has reopened to traffic -  ...   1:01:50 PM   \n",
       "26    The Fremont Bridge has closed to traffic -   1...  12:59:50 PM   \n",
       "27    The University Bridge has reopened to   traffi...  12:40:01 PM   \n",
       "28    The University Bridge has closed to traffic   ...  12:36:10 PM   \n",
       "29    The 1st Ave S Bridge has reopened to traffic  ...  12:14:41 PM   \n",
       "...                                                 ...          ...   \n",
       "3164  The Ballard Bridge has closed to traffic -   3...   3:41:12 PM   \n",
       "3165  The Fremont Bridge has reopened to traffic -  ...   3:41:03 PM   \n",
       "3166  The Fremont Bridge has closed to traffic -   3...   3:35:55 PM   \n",
       "3167  The Lower Spokane St Bridge has closed to   tr...   3:23:06 PM   \n",
       "3168  The Fremont Bridge has reopened to traffic -  ...   3:20:43 PM   \n",
       "3169  The Fremont Bridge has closed to traffic -   3...   3:12:53 PM   \n",
       "3170  The University Bridge has reopened to   traffi...   3:10:28 PM   \n",
       "3171  The University Bridge has closed to traffic   ...   3:10:06 PM   \n",
       "3172  The Ballard Bridge has reopened to traffic -  ...   3:03:13 PM   \n",
       "3173  The Ballard Bridge has closed to traffic -   2...   2:58:19 PM   \n",
       "3174  The University Bridge has reopened to   traffi...   2:56:54 PM   \n",
       "3175  The University Bridge has closed to traffic   ...   2:49:53 PM   \n",
       "3176  The Montlake Bridge has reopened to traffic\\n ...   2:46:09 PM   \n",
       "3186  The Montlake Bridge has reopened to traffic\\n ...   1:34:45 PM   \n",
       "3187  The Montlake Bridge has closed to traffic -   ...   1:30:03 PM   \n",
       "3188  The Fremont Bridge has reopened to traffic -  ...   1:21:50 PM   \n",
       "3189  The Fremont Bridge has closed to traffic -   1...   1:18:34 PM   \n",
       "3190  The University Bridge has reopened to   traffi...   1:04:05 PM   \n",
       "3191  The University Bridge has closed to traffic   ...  12:59:43 PM   \n",
       "3192  The University Bridge has reopened to   traffi...  12:36:52 PM   \n",
       "3193  The University Bridge has closed to traffic   ...  12:33:58 PM   \n",
       "3194  The Ballard Bridge has reopened to traffic -  ...  12:33:20 PM   \n",
       "3195  The Ballard Bridge has closed to traffic -   1...  12:29:19 PM   \n",
       "3196  The Montlake Bridge has reopened to traffic   ...  12:26:58 PM   \n",
       "3197  The Montlake Bridge has closed to traffic -   ...  12:23:07 PM   \n",
       "3198  The Montlake Bridge has reopened to traffic   ...  12:12:20 PM   \n",
       "3199  The Montlake Bridge has closed to traffic -   ...  12:07:32 PM   \n",
       "3200  The Montlake Bridge has reopened to traffic   ...  11:52:52 AM   \n",
       "3201  The Montlake Bridge has closed to traffic -   ...  11:49:48 AM   \n",
       "3202  The Fremont Bridge has reopened to traffic -  ...  11:39:32 AM   \n",
       "\n",
       "                 timeobj  \n",
       "0    1900-01-01 17:09:25  \n",
       "1    1900-01-01 16:59:02  \n",
       "2    1900-01-01 16:23:13  \n",
       "3    1900-01-01 16:17:50  \n",
       "4    1900-01-01 16:15:49  \n",
       "5    1900-01-01 16:09:37  \n",
       "6    1900-01-01 16:06:20  \n",
       "7    1900-01-01 16:04:21  \n",
       "8    1900-01-01 15:55:26  \n",
       "9    1900-01-01 15:44:55  \n",
       "10   1900-01-01 15:32:59  \n",
       "11   1900-01-01 15:23:33  \n",
       "12   1900-01-01 15:23:28  \n",
       "13   1900-01-01 15:14:43  \n",
       "14   1900-01-01 15:14:34  \n",
       "15   1900-01-01 15:10:48  \n",
       "16   1900-01-01 14:34:31  \n",
       "17   1900-01-01 14:31:13  \n",
       "18   1900-01-01 14:19:51  \n",
       "19   1900-01-01 14:12:14  \n",
       "20   1900-01-01 13:29:07  \n",
       "21   1900-01-01 13:21:14  \n",
       "22   1900-01-01 13:17:26  \n",
       "23   1900-01-01 13:16:28  \n",
       "24   1900-01-01 13:11:43  \n",
       "25   1900-01-01 13:01:50  \n",
       "26   1900-01-01 12:59:50  \n",
       "27   1900-01-01 12:40:01  \n",
       "28   1900-01-01 12:36:10  \n",
       "29   1900-01-01 12:14:41  \n",
       "...                  ...  \n",
       "3164 1900-01-01 15:41:12  \n",
       "3165 1900-01-01 15:41:03  \n",
       "3166 1900-01-01 15:35:55  \n",
       "3167 1900-01-01 15:23:06  \n",
       "3168 1900-01-01 15:20:43  \n",
       "3169 1900-01-01 15:12:53  \n",
       "3170 1900-01-01 15:10:28  \n",
       "3171 1900-01-01 15:10:06  \n",
       "3172 1900-01-01 15:03:13  \n",
       "3173 1900-01-01 14:58:19  \n",
       "3174 1900-01-01 14:56:54  \n",
       "3175 1900-01-01 14:49:53  \n",
       "3176 1900-01-01 14:46:09  \n",
       "3186 1900-01-01 13:34:45  \n",
       "3187 1900-01-01 13:30:03  \n",
       "3188 1900-01-01 13:21:50  \n",
       "3189 1900-01-01 13:18:34  \n",
       "3190 1900-01-01 13:04:05  \n",
       "3191 1900-01-01 12:59:43  \n",
       "3192 1900-01-01 12:36:52  \n",
       "3193 1900-01-01 12:33:58  \n",
       "3194 1900-01-01 12:33:20  \n",
       "3195 1900-01-01 12:29:19  \n",
       "3196 1900-01-01 12:26:58  \n",
       "3197 1900-01-01 12:23:07  \n",
       "3198 1900-01-01 12:12:20  \n",
       "3199 1900-01-01 12:07:32  \n",
       "3200 1900-01-01 11:52:52  \n",
       "3201 1900-01-01 11:49:48  \n",
       "3202 1900-01-01 11:39:32  \n",
       "\n",
       "[17452 rows x 7 columns]"
      ]
     },
     "execution_count": 43,
     "metadata": {},
     "output_type": "execute_result"
    }
   ],
   "source": [
    "newdf"
   ]
  },
  {
   "cell_type": "code",
   "execution_count": 44,
   "metadata": {
    "collapsed": true
   },
   "outputs": [],
   "source": [
    "# Write results to dataframe\n",
    "df.to_csv('bridge_results.csv')"
   ]
  },
  {
   "cell_type": "markdown",
   "metadata": {
    "collapsed": false
   },
   "source": [
    "## Results analysis"
   ]
  },
  {
   "cell_type": "code",
   "execution_count": 45,
   "metadata": {
    "collapsed": false
   },
   "outputs": [
    {
     "data": {
      "text/plain": [
       "<matplotlib.axes._subplots.AxesSubplot at 0x108b44ed0>"
      ]
     },
     "execution_count": 45,
     "metadata": {},
     "output_type": "execute_result"
    },
    {
     "data": {
      "image/png": "[encoded data removed]",
      "text/plain": [
       "<matplotlib.figure.Figure at 0x10cf6af90>"
      ]
     },
     "metadata": {},
     "output_type": "display_data"
    }
   ],
   "source": [
    "# Total closures (count) by day in minutes\n",
    "df.groupby('Day').count()['Duration'].plot()"
   ]
  },
  {
   "cell_type": "code",
   "execution_count": 46,
   "metadata": {
    "collapsed": false
   },
   "outputs": [
    {
     "data": {
      "text/plain": [
       "<matplotlib.axes._subplots.AxesSubplot at 0x10cd2aa10>"
      ]
     },
     "execution_count": 46,
     "metadata": {},
     "output_type": "execute_result"
    },
    {
     "data": {
      "image/png": "[encoded data removed]",
      "text/plain": [
       "<matplotlib.figure.Figure at 0x10cced650>"
      ]
     },
     "metadata": {},
     "output_type": "display_data"
    }
   ],
   "source": [
    "# Total closure time by day\n",
    "(df.groupby('Day').sum()['Duration']/60).plot()\n"
   ]
  },
  {
   "cell_type": "code",
   "execution_count": 47,
   "metadata": {
    "collapsed": false
   },
   "outputs": [
    {
     "data": {
      "text/plain": [
       "<matplotlib.axes._subplots.AxesSubplot at 0x10d22a110>"
      ]
     },
     "execution_count": 47,
     "metadata": {},
     "output_type": "execute_result"
    },
    {
     "data": {
      "image/png": "[encoded data removed]",
      "text/plain": [
       "<matplotlib.figure.Figure at 0x10ce9cc10>"
      ]
     },
     "metadata": {},
     "output_type": "display_data"
    }
   ],
   "source": [
    "# Closures by time of day\n",
    "df.groupby('Closure Hour').count()['Duration'].plot(kind='bar')"
   ]
  },
  {
   "cell_type": "code",
   "execution_count": 48,
   "metadata": {
    "collapsed": false
   },
   "outputs": [
    {
     "data": {
      "text/plain": [
       "<matplotlib.axes._subplots.AxesSubplot at 0x10dbeaad0>"
      ]
     },
     "execution_count": 48,
     "metadata": {},
     "output_type": "execute_result"
    },
    {
     "data": {
      "image/png": "[encoded data removed]",
      "text/plain": [
       "<matplotlib.figure.Figure at 0x10d55efd0>"
      ]
     },
     "metadata": {},
     "output_type": "display_data"
    }
   ],
   "source": [
    "# Closures by month\n",
    "df.groupby('Month').count()['Duration'].plot(kind='bar')"
   ]
  },
  {
   "cell_type": "code",
   "execution_count": 49,
   "metadata": {
    "collapsed": false
   },
   "outputs": [
    {
     "data": {
      "text/plain": [
       "<matplotlib.axes._subplots.AxesSubplot at 0x10dc294d0>"
      ]
     },
     "execution_count": 49,
     "metadata": {},
     "output_type": "execute_result"
    },
    {
     "data": {
      "image/png": "[encoded data removed]",
      "text/plain": [
       "<matplotlib.figure.Figure at 0x10d55ef10>"
      ]
     },
     "metadata": {},
     "output_type": "display_data"
    }
   ],
   "source": [
    "df.groupby('Day').max()['Duration'].plot()"
   ]
  },
  {
   "cell_type": "code",
   "execution_count": 50,
   "metadata": {
    "collapsed": false
   },
   "outputs": [
    {
     "data": {
      "text/plain": [
       "23"
      ]
     },
     "execution_count": 50,
     "metadata": {},
     "output_type": "execute_result"
    }
   ],
   "source": [
    "# Looks there are some records with very long opening, perhaps errors?\n",
    "# We can dig into that later, or just drop the really long records for now\n",
    "df['Duration'].max()/3600"
   ]
  },
  {
   "cell_type": "code",
   "execution_count": 51,
   "metadata": {
    "collapsed": false
   },
   "outputs": [],
   "source": [
    "# Select closings less than 2 hours\n",
    "df = df[df['Duration'] < 3600*2]"
   ]
  },
  {
   "cell_type": "code",
   "execution_count": 52,
   "metadata": {
    "collapsed": false
   },
   "outputs": [
    {
     "data": {
      "text/plain": [
       "<matplotlib.axes._subplots.AxesSubplot at 0x10dc14a10>"
      ]
     },
     "execution_count": 52,
     "metadata": {},
     "output_type": "execute_result"
    },
    {
     "data": {
      "image/png": "[encoded data removed]",
      "text/plain": [
       "<matplotlib.figure.Figure at 0x10dcec890>"
      ]
     },
     "metadata": {},
     "output_type": "display_data"
    }
   ],
   "source": [
    "# Total time bridge is inaccessible\n",
    "df.groupby('Month').sum()['Duration'].plot(kind='bar')"
   ]
  },
  {
   "cell_type": "code",
   "execution_count": 53,
   "metadata": {
    "collapsed": false
   },
   "outputs": [
    {
     "data": {
      "image/png": "[encoded data removed]",
      "text/plain": [
       "<matplotlib.figure.Figure at 0x10e0f0c10>"
      ]
     },
     "metadata": {},
     "output_type": "display_data"
    }
   ],
   "source": [
    "# Distribution by bridge\n",
    "for bridge in df.groupby('Bridge').count().index:\n",
    "    outdf = df[df['Bridge'] == bridge]\n",
    "    outdf['Duration'].plot(kind='hist',subplots=True, alpha=0.8)\n",
    "#     newdf['Duration'].hist(by=newdf.index,subplots=True, alpha=0.8)"
   ]
  },
  {
   "cell_type": "markdown",
   "metadata": {
    "collapsed": false
   },
   "source": [
    "## Impacts\n"
   ]
  },
  {
   "cell_type": "markdown",
   "metadata": {
    "collapsed": false
   },
   "source": [
    "* extrapolate value of time costs\n",
    "* consider impacts of reliability in mode and route choice"
   ]
  },
  {
   "cell_type": "markdown",
   "metadata": {
    "collapsed": true
   },
   "source": [
    "## Forecasting\n",
    "Is it possible to forecast the likelihood of a bridge closure based on time of day, month, freight traffic, weather or tides?"
   ]
  },
  {
   "cell_type": "code",
   "execution_count": null,
   "metadata": {
    "collapsed": true
   },
   "outputs": [],
   "source": []
  }
 ],
 "metadata": {
  "kernelspec": {
   "display_name": "Python 2",
   "language": "python",
   "name": "python2"
  },
  "language_info": {
   "codemirror_mode": {
    "name": "ipython",
    "version": 2
   },
   "file_extension": ".py",
   "mimetype": "text/x-python",
   "name": "python",
   "nbconvert_exporter": "python",
   "pygments_lexer": "ipython2",
   "version": "2.7.10"
  }
 },
 "nbformat": 4,
 "nbformat_minor": 0
}

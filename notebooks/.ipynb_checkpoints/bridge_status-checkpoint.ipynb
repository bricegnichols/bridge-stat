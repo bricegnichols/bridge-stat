{
 "cells": [
  {
   "cell_type": "code",
   "execution_count": 1,
   "metadata": {
    "collapsed": false
   },
   "outputs": [],
   "source": [
    "# get the status of the bridges\n",
    "import tweepy \n",
    "import time\n",
    "import csv\n",
    "from datetime import datetime\n",
    "from datetime import timedelta\n",
    "from config import *\n",
    "import bridge_stat\n",
    "import pandas as pd"
   ]
  },
  {
   "cell_type": "code",
   "execution_count": 2,
   "metadata": {
    "collapsed": false
   },
   "outputs": [],
   "source": [
    "tweets = bridge_stat.get_tweets('SDOTBridges',export_all=False)"
   ]
  },
  {
   "cell_type": "code",
   "execution_count": 19,
   "metadata": {
    "collapsed": true
   },
   "outputs": [],
   "source": [
    "df = bridge_stat.bridge_status(tweets)\n",
    "# df = tweets"
   ]
  },
  {
   "cell_type": "code",
   "execution_count": 20,
   "metadata": {
    "collapsed": false
   },
   "outputs": [
    {
     "name": "stderr",
     "output_type": "stream",
     "text": [
      "/Library/Python/2.7/site-packages/ipykernel/__main__.py:3: FutureWarning: sort(columns=....) is deprecated, use sort_values(by=.....)\n",
      "  app.launch_new_instance()\n"
     ]
    }
   ],
   "source": [
    "# get a stored bridge status file\n",
    "# df = pd.read_csv(\"../data/bridge/bridge_status.csv\")\n",
    "df = df.sort('local_date')\n",
    "# note that \"created_at\" may be chornologically accurate,\n",
    "# but the actual time is wrong\n",
    "\n",
    "# df['timeobj'] = pd.to_datetime(df['timeobj'])"
   ]
  },
  {
   "cell_type": "code",
   "execution_count": 22,
   "metadata": {
    "collapsed": false
   },
   "outputs": [
    {
     "name": "stderr",
     "output_type": "stream",
     "text": [
      "/Library/Python/2.7/site-packages/ipykernel/__main__.py:1: FutureWarning: sort(columns=....) is deprecated, use sort_values(by=.....)\n",
      "  if __name__ == '__main__':\n"
     ]
    }
   ],
   "source": [
    "df = bridge_stat.bridge_status(tweets).sort('local_date')"
   ]
  },
  {
   "cell_type": "code",
   "execution_count": 23,
   "metadata": {
    "collapsed": false
   },
   "outputs": [
    {
     "data": {
      "text/html": [
       "<div>\n",
       "<table border=\"1\" class=\"dataframe\">\n",
       "  <thead>\n",
       "    <tr style=\"text-align: right;\">\n",
       "      <th></th>\n",
       "      <th>bridge</th>\n",
       "      <th>event</th>\n",
       "      <th>text</th>\n",
       "      <th>created_at</th>\n",
       "      <th>local_date</th>\n",
       "    </tr>\n",
       "  </thead>\n",
       "  <tbody>\n",
       "    <tr>\n",
       "      <th>4</th>\n",
       "      <td>Ballard</td>\n",
       "      <td>closed</td>\n",
       "      <td>The Ballard Bridge has closed to traffic -   1...</td>\n",
       "      <td>2016-09-17 19:58:58</td>\n",
       "      <td>2016-09-17 12:58:58</td>\n",
       "    </tr>\n",
       "    <tr>\n",
       "      <th>3</th>\n",
       "      <td>Montlake</td>\n",
       "      <td>closed</td>\n",
       "      <td>The Montlake Bridge has closed to traffic -   ...</td>\n",
       "      <td>2016-09-17 19:59:18</td>\n",
       "      <td>2016-09-17 12:59:18</td>\n",
       "    </tr>\n",
       "    <tr>\n",
       "      <th>2</th>\n",
       "      <td>Ballard</td>\n",
       "      <td>open</td>\n",
       "      <td>The Ballard Bridge has reopened to traffic -  ...</td>\n",
       "      <td>2016-09-17 19:59:48</td>\n",
       "      <td>2016-09-17 12:59:48</td>\n",
       "    </tr>\n",
       "    <tr>\n",
       "      <th>1</th>\n",
       "      <td>Montlake</td>\n",
       "      <td>open</td>\n",
       "      <td>The Montlake Bridge has reopened to traffic   ...</td>\n",
       "      <td>2016-09-17 20:01:31</td>\n",
       "      <td>2016-09-17 13:01:31</td>\n",
       "    </tr>\n",
       "    <tr>\n",
       "      <th>0</th>\n",
       "      <td>Fremont</td>\n",
       "      <td>closed</td>\n",
       "      <td>The Fremont Bridge has closed to traffic -   1...</td>\n",
       "      <td>2016-09-17 20:17:49</td>\n",
       "      <td>2016-09-17 13:17:49</td>\n",
       "    </tr>\n",
       "  </tbody>\n",
       "</table>\n",
       "</div>"
      ],
      "text/plain": [
       "     bridge   event                                               text  \\\n",
       "4   Ballard  closed  The Ballard Bridge has closed to traffic -   1...   \n",
       "3  Montlake  closed  The Montlake Bridge has closed to traffic -   ...   \n",
       "2   Ballard    open  The Ballard Bridge has reopened to traffic -  ...   \n",
       "1  Montlake    open  The Montlake Bridge has reopened to traffic   ...   \n",
       "0   Fremont  closed  The Fremont Bridge has closed to traffic -   1...   \n",
       "\n",
       "           created_at          local_date  \n",
       "4 2016-09-17 19:58:58 2016-09-17 12:58:58  \n",
       "3 2016-09-17 19:59:18 2016-09-17 12:59:18  \n",
       "2 2016-09-17 19:59:48 2016-09-17 12:59:48  \n",
       "1 2016-09-17 20:01:31 2016-09-17 13:01:31  \n",
       "0 2016-09-17 20:17:49 2016-09-17 13:17:49  "
      ]
     },
     "execution_count": 23,
     "metadata": {},
     "output_type": "execute_result"
    }
   ],
   "source": [
    "df.tail()"
   ]
  },
  {
   "cell_type": "code",
   "execution_count": 6,
   "metadata": {
    "collapsed": false
   },
   "outputs": [],
   "source": [
    "# Get a list of bridges that opened but have not closed\n",
    "\n",
    "# All closed bridges should have an open even followed by a later closed event\n",
    "\n",
    "# Check all the close events\n",
    "close_events = df[df['event'] == 'closed'].drop_duplicates(subset='bridge', keep='last')\n",
    "open_events = df[df['event'] == 'open'].drop_duplicates(subset='bridge', keep='last')"
   ]
  },
  {
   "cell_type": "code",
   "execution_count": null,
   "metadata": {
    "collapsed": false
   },
   "outputs": [],
   "source": []
  },
  {
   "cell_type": "code",
   "execution_count": 7,
   "metadata": {
    "collapsed": false
   },
   "outputs": [],
   "source": [
    "# get only the most recent open and close events\n",
    "df = pd.merge(close_events,open_events,on='bridge',suffixes=['_close','_open'])"
   ]
  },
  {
   "cell_type": "code",
   "execution_count": 35,
   "metadata": {
    "collapsed": false
   },
   "outputs": [
    {
     "data": {
      "text/html": [
       "<div>\n",
       "<table border=\"1\" class=\"dataframe\">\n",
       "  <thead>\n",
       "    <tr style=\"text-align: right;\">\n",
       "      <th></th>\n",
       "      <th>bridge</th>\n",
       "      <th>event</th>\n",
       "      <th>text</th>\n",
       "      <th>created_at</th>\n",
       "      <th>local_date</th>\n",
       "    </tr>\n",
       "  </thead>\n",
       "  <tbody>\n",
       "    <tr>\n",
       "      <th>76</th>\n",
       "      <td>South Park</td>\n",
       "      <td>open</td>\n",
       "      <td>The South Park Bridge has reopened to   traffi...</td>\n",
       "      <td>2016-09-16 19:11:42</td>\n",
       "      <td>2016-09-16 12:11:42</td>\n",
       "    </tr>\n",
       "    <tr>\n",
       "      <th>33</th>\n",
       "      <td>Lower Spokane St</td>\n",
       "      <td>open</td>\n",
       "      <td>The Lower Spokane St Bridge has reopened to   ...</td>\n",
       "      <td>2016-09-17 14:51:44</td>\n",
       "      <td>2016-09-17 07:51:44</td>\n",
       "    </tr>\n",
       "    <tr>\n",
       "      <th>30</th>\n",
       "      <td>1st Ave S</td>\n",
       "      <td>open</td>\n",
       "      <td>The 1st Ave S Bridge has reopened to traffic  ...</td>\n",
       "      <td>2016-09-17 15:08:20</td>\n",
       "      <td>2016-09-17 08:08:20</td>\n",
       "    </tr>\n",
       "    <tr>\n",
       "      <th>16</th>\n",
       "      <td>University</td>\n",
       "      <td>open</td>\n",
       "      <td>The University Bridge has reopened to   traffi...</td>\n",
       "      <td>2016-09-17 17:54:46</td>\n",
       "      <td>2016-09-17 10:54:46</td>\n",
       "    </tr>\n",
       "    <tr>\n",
       "      <th>5</th>\n",
       "      <td>Fremont</td>\n",
       "      <td>open</td>\n",
       "      <td>The Fremont Bridge has reopened to traffic -  ...</td>\n",
       "      <td>2016-09-17 19:34:20</td>\n",
       "      <td>2016-09-17 12:34:20</td>\n",
       "    </tr>\n",
       "    <tr>\n",
       "      <th>2</th>\n",
       "      <td>Ballard</td>\n",
       "      <td>open</td>\n",
       "      <td>The Ballard Bridge has reopened to traffic -  ...</td>\n",
       "      <td>2016-09-17 19:59:48</td>\n",
       "      <td>2016-09-17 12:59:48</td>\n",
       "    </tr>\n",
       "    <tr>\n",
       "      <th>1</th>\n",
       "      <td>Montlake</td>\n",
       "      <td>open</td>\n",
       "      <td>The Montlake Bridge has reopened to traffic   ...</td>\n",
       "      <td>2016-09-17 20:01:31</td>\n",
       "      <td>2016-09-17 13:01:31</td>\n",
       "    </tr>\n",
       "  </tbody>\n",
       "</table>\n",
       "</div>"
      ],
      "text/plain": [
       "              bridge event                                               text  \\\n",
       "76        South Park  open  The South Park Bridge has reopened to   traffi...   \n",
       "33  Lower Spokane St  open  The Lower Spokane St Bridge has reopened to   ...   \n",
       "30         1st Ave S  open  The 1st Ave S Bridge has reopened to traffic  ...   \n",
       "16        University  open  The University Bridge has reopened to   traffi...   \n",
       "5            Fremont  open  The Fremont Bridge has reopened to traffic -  ...   \n",
       "2            Ballard  open  The Ballard Bridge has reopened to traffic -  ...   \n",
       "1           Montlake  open  The Montlake Bridge has reopened to traffic   ...   \n",
       "\n",
       "            created_at          local_date  \n",
       "76 2016-09-16 19:11:42 2016-09-16 12:11:42  \n",
       "33 2016-09-17 14:51:44 2016-09-17 07:51:44  \n",
       "30 2016-09-17 15:08:20 2016-09-17 08:08:20  \n",
       "16 2016-09-17 17:54:46 2016-09-17 10:54:46  \n",
       "5  2016-09-17 19:34:20 2016-09-17 12:34:20  \n",
       "2  2016-09-17 19:59:48 2016-09-17 12:59:48  \n",
       "1  2016-09-17 20:01:31 2016-09-17 13:01:31  "
      ]
     },
     "execution_count": 35,
     "metadata": {},
     "output_type": "execute_result"
    }
   ],
   "source": [
    "open_events"
   ]
  },
  {
   "cell_type": "code",
   "execution_count": 8,
   "metadata": {
    "collapsed": false
   },
   "outputs": [],
   "source": [
    "# fake some data for testing - set the last close time to a later date\n",
    "# df['local_date_open'].iloc[0] = df['local_date_close'].iloc[0].replace(hour=12)"
   ]
  },
  {
   "cell_type": "code",
   "execution_count": 9,
   "metadata": {
    "collapsed": false
   },
   "outputs": [],
   "source": [
    "# current_closures = df[(df['_open'] != df['date_close']) | (df['created_at_open'] < df['crated_at_close'])]\n",
    "current_closures = df[df['local_date_open'] < df['local_date_close']]"
   ]
  },
  {
   "cell_type": "code",
   "execution_count": 25,
   "metadata": {
    "collapsed": false
   },
   "outputs": [],
   "source": [
    "current_closures.to_csv('scratch_closures.csv')"
   ]
  },
  {
   "cell_type": "code",
   "execution_count": 11,
   "metadata": {
    "collapsed": true
   },
   "outputs": [],
   "source": [
    "# Map each closure\n",
    "# provide an expected window of re-opening based on historical closure data\n",
    "# show time closed, bell curve of likely re-opening"
   ]
  },
  {
   "cell_type": "code",
   "execution_count": 12,
   "metadata": {
    "collapsed": true
   },
   "outputs": [],
   "source": [
    "# Create some leaflet thing here\n",
    "# try folium: https://github.com/python-visualization/folium"
   ]
  },
  {
   "cell_type": "code",
   "execution_count": 13,
   "metadata": {
    "collapsed": false
   },
   "outputs": [],
   "source": [
    "bridge_list = ['Ballard', 'Fremont', '1st Ave S', 'Montlake', 'Lower Spokane St', 'South Park', 'University']"
   ]
  },
  {
   "cell_type": "code",
   "execution_count": null,
   "metadata": {
    "collapsed": false
   },
   "outputs": [],
   "source": []
  },
  {
   "cell_type": "code",
   "execution_count": 14,
   "metadata": {
    "collapsed": false
   },
   "outputs": [
    {
     "data": {
      "text/html": [
       "\n",
       "           <script>\n",
       "               \n",
       "                function vct_load_lib(url, callback){\n",
       "                      if(typeof d3 !== 'undefined' &&\n",
       "                         url === 'http://d3js.org/d3.v3.min.js'){\n",
       "                        callback()\n",
       "                      }\n",
       "                      var s = document.createElement('script');\n",
       "                      s.src = url;\n",
       "                      s.async = true;\n",
       "                      s.onreadystatechange = s.onload = callback;\n",
       "                      s.onerror = function(){\n",
       "                        console.warn(\"failed to load library \" + url);\n",
       "                        };\n",
       "                      document.getElementsByTagName(\"head\")[0].appendChild(s);\n",
       "                };\n",
       "                var vincent_event = new CustomEvent(\n",
       "                  \"vincent_libs_loaded\",\n",
       "                  {bubbles: true, cancelable: true}\n",
       "                );\n",
       "                \n",
       "               function load_all_libs(){\n",
       "                  console.log('Loading Vincent libs...')\n",
       "                  vct_load_lib('http://d3js.org/d3.v3.min.js', function(){\n",
       "                  vct_load_lib('http://d3js.org/d3.geo.projection.v0.min.js', function(){\n",
       "                  vct_load_lib('http://wrobstory.github.io/d3-cloud/d3.layout.cloud.js', function(){\n",
       "                  vct_load_lib('http://wrobstory.github.io/vega/vega.v1.3.3.js', function(){\n",
       "                  window.dispatchEvent(vincent_event);\n",
       "                  });\n",
       "                  });\n",
       "                  });\n",
       "                  });\n",
       "               };\n",
       "               if(typeof define === \"function\" && define.amd){\n",
       "                    if (window['d3'] === undefined ||\n",
       "                        window['topojson'] === undefined){\n",
       "                        require.config(\n",
       "                            {paths: {\n",
       "                              d3: 'http://d3js.org/d3.v3.min',\n",
       "                              topojson: 'http://d3js.org/topojson.v1.min'\n",
       "                              }\n",
       "                            }\n",
       "                          );\n",
       "                        require([\"d3\"], function(d3){\n",
       "                            console.log('Loading Vincent from require.js...')\n",
       "                            window.d3 = d3;\n",
       "                            require([\"topojson\"], function(topojson){\n",
       "                                window.topojson = topojson;\n",
       "                                load_all_libs();\n",
       "                            });\n",
       "                        });\n",
       "                    } else {\n",
       "                        load_all_libs();\n",
       "                    };\n",
       "               }else{\n",
       "                    console.log('Require.js not found, loading manually...')\n",
       "                    load_all_libs();\n",
       "               };\n",
       "\n",
       "           </script>"
      ],
      "text/plain": [
       "<IPython.core.display.HTML object>"
      ]
     },
     "metadata": {},
     "output_type": "display_data"
    }
   ],
   "source": [
    "import folium\n",
    "import vincent\n",
    "import json\n",
    "vincent.core.initialize_notebook()"
   ]
  },
  {
   "cell_type": "code",
   "execution_count": 15,
   "metadata": {
    "collapsed": true
   },
   "outputs": [],
   "source": [
    "bridges = {'Lower Spokane St': [47.570950, -122.348324],\n",
    "          'South Park': [47.529252, -122.314316],\n",
    "          'Fremont': [47.647857, -122.349867],\n",
    "          'Ballard': [47.659280, -122.376163],\n",
    "          'Montlake': [47.647296, -122.304577],\n",
    "          'University': [47.652995, -122.320194],\n",
    "          '1st Ave S': [47.542049, -122.334541]}"
   ]
  },
  {
   "cell_type": "code",
   "execution_count": 36,
   "metadata": {
    "collapsed": false
   },
   "outputs": [
    {
     "data": {
      "text/html": [
       "<div>\n",
       "<table border=\"1\" class=\"dataframe\">\n",
       "  <thead>\n",
       "    <tr style=\"text-align: right;\">\n",
       "      <th></th>\n",
       "      <th>bridge</th>\n",
       "      <th>event</th>\n",
       "      <th>text</th>\n",
       "      <th>created_at</th>\n",
       "      <th>local_date</th>\n",
       "    </tr>\n",
       "  </thead>\n",
       "  <tbody>\n",
       "    <tr>\n",
       "      <th>78</th>\n",
       "      <td>South Park</td>\n",
       "      <td>closed</td>\n",
       "      <td>The South Park Bridge has closed to traffic   ...</td>\n",
       "      <td>2016-09-16 19:05:18</td>\n",
       "      <td>2016-09-16 12:05:18</td>\n",
       "    </tr>\n",
       "    <tr>\n",
       "      <th>34</th>\n",
       "      <td>Lower Spokane St</td>\n",
       "      <td>closed</td>\n",
       "      <td>The Lower Spokane St Bridge has closed to   tr...</td>\n",
       "      <td>2016-09-17 14:43:10</td>\n",
       "      <td>2016-09-17 07:43:10</td>\n",
       "    </tr>\n",
       "    <tr>\n",
       "      <th>31</th>\n",
       "      <td>1st Ave S</td>\n",
       "      <td>closed</td>\n",
       "      <td>The 1st Ave S Bridge has closed to traffic -  ...</td>\n",
       "      <td>2016-09-17 14:57:25</td>\n",
       "      <td>2016-09-17 07:57:25</td>\n",
       "    </tr>\n",
       "    <tr>\n",
       "      <th>17</th>\n",
       "      <td>University</td>\n",
       "      <td>closed</td>\n",
       "      <td>The University Bridge has closed to traffic   ...</td>\n",
       "      <td>2016-09-17 17:50:24</td>\n",
       "      <td>2016-09-17 10:50:24</td>\n",
       "    </tr>\n",
       "    <tr>\n",
       "      <th>4</th>\n",
       "      <td>Ballard</td>\n",
       "      <td>closed</td>\n",
       "      <td>The Ballard Bridge has closed to traffic -   1...</td>\n",
       "      <td>2016-09-17 19:58:58</td>\n",
       "      <td>2016-09-17 12:58:58</td>\n",
       "    </tr>\n",
       "    <tr>\n",
       "      <th>3</th>\n",
       "      <td>Montlake</td>\n",
       "      <td>closed</td>\n",
       "      <td>The Montlake Bridge has closed to traffic -   ...</td>\n",
       "      <td>2016-09-17 19:59:18</td>\n",
       "      <td>2016-09-17 12:59:18</td>\n",
       "    </tr>\n",
       "    <tr>\n",
       "      <th>0</th>\n",
       "      <td>Fremont</td>\n",
       "      <td>closed</td>\n",
       "      <td>The Fremont Bridge has closed to traffic -   1...</td>\n",
       "      <td>2016-09-17 20:17:49</td>\n",
       "      <td>2016-09-17 13:17:49</td>\n",
       "    </tr>\n",
       "  </tbody>\n",
       "</table>\n",
       "</div>"
      ],
      "text/plain": [
       "              bridge   event  \\\n",
       "78        South Park  closed   \n",
       "34  Lower Spokane St  closed   \n",
       "31         1st Ave S  closed   \n",
       "17        University  closed   \n",
       "4            Ballard  closed   \n",
       "3           Montlake  closed   \n",
       "0            Fremont  closed   \n",
       "\n",
       "                                                 text          created_at  \\\n",
       "78  The South Park Bridge has closed to traffic   ... 2016-09-16 19:05:18   \n",
       "34  The Lower Spokane St Bridge has closed to   tr... 2016-09-17 14:43:10   \n",
       "31  The 1st Ave S Bridge has closed to traffic -  ... 2016-09-17 14:57:25   \n",
       "17  The University Bridge has closed to traffic   ... 2016-09-17 17:50:24   \n",
       "4   The Ballard Bridge has closed to traffic -   1... 2016-09-17 19:58:58   \n",
       "3   The Montlake Bridge has closed to traffic -   ... 2016-09-17 19:59:18   \n",
       "0   The Fremont Bridge has closed to traffic -   1... 2016-09-17 20:17:49   \n",
       "\n",
       "            local_date  \n",
       "78 2016-09-16 12:05:18  \n",
       "34 2016-09-17 07:43:10  \n",
       "31 2016-09-17 07:57:25  \n",
       "17 2016-09-17 10:50:24  \n",
       "4  2016-09-17 12:58:58  \n",
       "3  2016-09-17 12:59:18  \n",
       "0  2016-09-17 13:17:49  "
      ]
     },
     "execution_count": 36,
     "metadata": {},
     "output_type": "execute_result"
    }
   ],
   "source": [
    "close_events"
   ]
  },
  {
   "cell_type": "code",
   "execution_count": 72,
   "metadata": {
    "collapsed": false
   },
   "outputs": [
    {
     "name": "stdout",
     "output_type": "stream",
     "text": [
      "Lower Spokane St\n",
      "Ballard\n",
      "University\n",
      "Fremont\n",
      "Montlake\n",
      "1st Ave S\n",
      "South Park\n"
     ]
    }
   ],
   "source": [
    "# systematic pop up for all bridges, based on status\n",
    "map_osm = folium.Map(location=[47.5836, -122.3750], zoom_start=11, tiles='Stamen Toner')\n",
    "\n",
    "\n",
    "for bridge, coord in bridges.iteritems():\n",
    "    color='green'\n",
    "    print bridge\n",
    "    if bridge in current_closures['bridge'].values:\n",
    "        color='red'\n",
    "    icon = folium.Icon(color=color, icon=\"ok\")\n",
    "    marker = folium.Marker(location=coord,icon=icon, popup=bridge)\n",
    "\n",
    "    map_osm.add_children(marker);\n",
    "\n",
    "map_osm.save('osm.html')"
   ]
  },
  {
   "cell_type": "code",
   "execution_count": 73,
   "metadata": {
    "collapsed": false
   },
   "outputs": [
    {
     "data": {
      "text/html": [
       "<div style=\"width:100%;\"><div style=\"position:relative;width:100%;height:0;padding-bottom:60%;\"><iframe src=\"data:text/html;base64,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\" style=\"position:absolute;width:100%;height:100%;left:0;top:0;\"></iframe></div></div>"
      ],
      "text/plain": [
       "<folium.folium.Map at 0x10e0057d0>"
      ]
     },
     "execution_count": 73,
     "metadata": {},
     "output_type": "execute_result"
    }
   ],
   "source": [
    "map_osm"
   ]
  },
  {
   "cell_type": "code",
   "execution_count": 16,
   "metadata": {
    "collapsed": false
   },
   "outputs": [],
   "source": [
    "# Test with a single marker and a popup graph\n",
    "map_osm = folium.Map(location=[47.5836, -122.3750], zoom_start=12, tiles='Stamen Toner')\n",
    "# folium.Marker([47.570950, -122.348324], popup='Spokane Street').add_to(map_osm)\n",
    "# folium.Marker([47.529252, -122.314316], popup='South Park').add_to(map_osm)\n",
    "\n",
    "# get fancy \n",
    "# see e.g., http://nbviewer.jupyter.org/github/ocefpaf/folium_notebooks/blob/master/test_png_mpld3_vega_popup.ipynb\n",
    "# show some fake data\n",
    "resolution, width, height = 50, 7, 3\n",
    "\n",
    "vis = vincent.Line(df['test'], width=width*resolution, height=height*resolution)\n",
    "vis.legend(title='Spokane');\n",
    "vega = folium.Vega(json.loads(vis.to_json()), width=\"30%\", height=\"30%\")\n",
    "popup = folium.Popup(max_width=vis.width+75).add_child(vega)\n",
    "icon = folium.Icon(color=\"red\", icon=\"ok\")\n",
    "marker = folium.Marker(location=[47.570950, -122.348324], popup=popup, icon=icon)\n",
    "\n",
    "map_osm.add_children(marker);\n",
    "\n",
    "map_osm.save('osm.html')"
   ]
  },
  {
   "cell_type": "code",
   "execution_count": 17,
   "metadata": {
    "collapsed": false
   },
   "outputs": [
    {
     "data": {
      "text/html": [
       "<div style=\"width:100%;\"><div style=\"position:relative;width:100%;height:0;padding-bottom:60%;\"><iframe src=\"data:text/html;base64,CiAgICAgICAgPCFET0NUWVBFIGh0bWw+CiAgICAgICAgPGhlYWQ+CiAgICAgICAgICAgIAogICAgICAgIAogICAgICAgICAgICA8bWV0YSBodHRwLWVxdWl2PSJjb250ZW50LXR5cGUiIGNvbnRlbnQ9InRleHQvaHRtbDsgY2hhcnNldD1VVEYtOCIgLz4KICAgICAgICAKICAgICAgICAgICAgCiAgICAgICAgCiAgICAgICAgICAgIDxzY3JpcHQgc3JjPSJodHRwczovL2NkbmpzLmNsb3VkZmxhcmUuY29tL2FqYXgvbGlicy9sZWFmbGV0LzAuNy4zL2xlYWZsZXQuanMiPjwvc2NyaXB0PgogICAgICAgIAogICAgICAgIAogICAgICAgIAogICAgICAgICAgICAKICAgICAgICAKICAgICAgICAgICAgPHNjcmlwdCBzcmM9Imh0dHBzOi8vY29kZS5qcXVlcnkuY29tL2pxdWVyeS0yLjEuMC5taW4uanMiPjwvc2NyaXB0PgogICAgICAgIAogICAgICAgIAogICAgICAgIAogICAgICAgICAgICAKICAgICAgICAKICAgICAgICAgICAgPHNjcmlwdCBzcmM9Imh0dHBzOi8vbWF4Y2RuLmJvb3RzdHJhcGNkbi5jb20vYm9vdHN0cmFwLzMuMi4wL2pzL2Jvb3RzdHJhcC5taW4uanMiPjwvc2NyaXB0PgogICAgICAgIAogICAgICAgIAogICAgICAgIAogICAgICAgICAgICAKICAgICAgICAKICAgICAgICAgICAgPHNjcmlwdCBzcmM9Imh0dHBzOi8vY2RuanMuY2xvdWRmbGFyZS5jb20vYWpheC9saWJzL0xlYWZsZXQuYXdlc29tZS1tYXJrZXJzLzIuMC4yL2xlYWZsZXQuYXdlc29tZS1tYXJrZXJzLm1pbi5qcyI+PC9zY3JpcHQ+CiAgICAgICAgCiAgICAgICAgCiAgICAgICAgCiAgICAgICAgICAgIAogICAgICAgIAogICAgICAgICAgICA8c2NyaXB0IHNyYz0iaHR0cHM6Ly9jZG5qcy5jbG91ZGZsYXJlLmNvbS9hamF4L2xpYnMvbGVhZmxldC5tYXJrZXJjbHVzdGVyLzAuNC4wL2xlYWZsZXQubWFya2VyY2x1c3Rlci1zcmMuanMiPjwvc2NyaXB0PgogICAgICAgIAogICAgICAgIAogICAgICAgIAogICAgICAgICAgICAKICAgICAgICAKICAgICAgICAgICAgPHNjcmlwdCBzcmM9Imh0dHBzOi8vY2RuanMuY2xvdWRmbGFyZS5jb20vYWpheC9saWJzL2xlYWZsZXQubWFya2VyY2x1c3Rlci8wLjQuMC9sZWFmbGV0Lm1hcmtlcmNsdXN0ZXIuanMiPjwvc2NyaXB0PgogICAgICAgIAogICAgICAgIAogICAgICAgIAogICAgICAgICAgICAKICAgICAgICAKICAgICAgICAgICAgPGxpbmsgcmVsPSJzdHlsZXNoZWV0IiBocmVmPSJodHRwczovL2NkbmpzLmNsb3VkZmxhcmUuY29tL2FqYXgvbGlicy9sZWFmbGV0LzAuNy4zL2xlYWZsZXQuY3NzIiAvPgogICAgICAgIAogICAgICAgIAogICAgICAgIAogICAgICAgICAgICAKICAgICAgICAKICAgICAgICAgICAgPGxpbmsgcmVsPSJzdHlsZXNoZWV0IiBocmVmPSJodHRwczovL21heGNkbi5ib290c3RyYXBjZG4uY29tL2Jvb3RzdHJhcC8zLjIuMC9jc3MvYm9vdHN0cmFwLm1pbi5jc3MiIC8+CiAgICAgICAgCiAgICAgICAgCiAgICAgICAgCiAgICAgICAgICAgIAogICAgICAgIAogICAgICAgICAgICA8bGluayByZWw9InN0eWxlc2hlZXQiIGhyZWY9Imh0dHBzOi8vbWF4Y2RuLmJvb3RzdHJhcGNkbi5jb20vYm9vdHN0cmFwLzMuMi4wL2Nzcy9ib290c3RyYXAtdGhlbWUubWluLmNzcyIgLz4KICAgICAgICAKICAgICAgICAKICAgICAgICAKICAgICAgICAgICAgCiAgICAgICAgCiAgICAgICAgICAgIDxsaW5rIHJlbD0ic3R5bGVzaGVldCIgaHJlZj0iaHR0cHM6Ly9tYXhjZG4uYm9vdHN0cmFwY2RuLmNvbS9mb250LWF3ZXNvbWUvNC4xLjAvY3NzL2ZvbnQtYXdlc29tZS5taW4uY3NzIiAvPgogICAgICAgIAogICAgICAgIAogICAgICAgIAogICAgICAgICAgICAKICAgICAgICAKICAgICAgICAgICAgPGxpbmsgcmVsPSJzdHlsZXNoZWV0IiBocmVmPSJodHRwczovL2NkbmpzLmNsb3VkZmxhcmUuY29tL2FqYXgvbGlicy9MZWFmbGV0LmF3ZXNvbWUtbWFya2Vycy8yLjAuMi9sZWFmbGV0LmF3ZXNvbWUtbWFya2Vycy5jc3MiIC8+CiAgICAgICAgCiAgICAgICAgCiAgICAgICAgCiAgICAgICAgICAgIAogICAgICAgIAogICAgICAgICAgICA8bGluayByZWw9InN0eWxlc2hlZXQiIGhyZWY9Imh0dHBzOi8vY2RuanMuY2xvdWRmbGFyZS5jb20vYWpheC9saWJzL2xlYWZsZXQubWFya2VyY2x1c3Rlci8wLjQuMC9NYXJrZXJDbHVzdGVyLkRlZmF1bHQuY3NzIiAvPgogICAgICAgIAogICAgICAgIAogICAgICAgIAogICAgICAgICAgICAKICAgICAgICAKICAgICAgICAgICAgPGxpbmsgcmVsPSJzdHlsZXNoZWV0IiBocmVmPSJodHRwczovL2NkbmpzLmNsb3VkZmxhcmUuY29tL2FqYXgvbGlicy9sZWFmbGV0Lm1hcmtlcmNsdXN0ZXIvMC40LjAvTWFya2VyQ2x1c3Rlci5jc3MiIC8+CiAgICAgICAgCiAgICAgICAgCiAgICAgICAgCiAgICAgICAgICAgIAogICAgICAgIAogICAgICAgICAgICA8bGluayByZWw9InN0eWxlc2hlZXQiIGhyZWY9Imh0dHBzOi8vcmF3LmdpdGh1YnVzZXJjb250ZW50LmNvbS9weXRob24tdmlzdWFsaXphdGlvbi9mb2xpdW0vbWFzdGVyL2ZvbGl1bS90ZW1wbGF0ZXMvbGVhZmxldC5hd2Vzb21lLnJvdGF0ZS5jc3MiIC8+CiAgICAgICAgCiAgICAgICAgCiAgICAgICAgCiAgICAgICAgICAgIAogICAgICAgICAgICA8c3R5bGU+CgogICAgICAgICAgICBodG1sLCBib2R5IHsKICAgICAgICAgICAgICAgIHdpZHRoOiAxMDAlOwogICAgICAgICAgICAgICAgaGVpZ2h0OiAxMDAlOwogICAgICAgICAgICAgICAgbWFyZ2luOiAwOwogICAgICAgICAgICAgICAgcGFkZGluZzogMDsKICAgICAgICAgICAgICAgIH0KCiAgICAgICAgICAgICNtYXAgewogICAgICAgICAgICAgICAgcG9zaXRpb246YWJzb2x1dGU7CiAgICAgICAgICAgICAgICB0b3A6MDsKICAgICAgICAgICAgICAgIGJvdHRvbTowOwogICAgICAgICAgICAgICAgcmlnaHQ6MDsKICAgICAgICAgICAgICAgIGxlZnQ6MDsKICAgICAgICAgICAgICAgIH0KICAgICAgICAgICAgPC9zdHlsZT4KICAgICAgICAgICAgCiAgICAgICAgCiAgICAgICAgICAgIAogICAgICAgICAgICA8c3R5bGU+ICNtYXBfNzg1Yjg5OTdlNTcyNDQzNzg1NmVjMjEwNjI2NzcwY2YgewogICAgICAgICAgICAgICAgcG9zaXRpb24gOiByZWxhdGl2ZTsKICAgICAgICAgICAgICAgIHdpZHRoIDogMTAwLjAlOwogICAgICAgICAgICAgICAgaGVpZ2h0OiAxMDAuMCU7CiAgICAgICAgICAgICAgICBsZWZ0OiAwLjAlOwogICAgICAgICAgICAgICAgdG9wOiAwLjAlOwogICAgICAgICAgICAgICAgfQogICAgICAgICAgICA8L3N0eWxlPgogICAgICAgIAogICAgICAgIAogICAgICAgICAgICAKICAgICAgICAgICAgPHN0eWxlPiAjdmVnYV9mNzUwMjdjMDdhYTM0MWU1YTJlYjIzYWVhYmM3MjNmNCB7CiAgICAgICAgICAgICAgICBwb3NpdGlvbiA6IHJlbGF0aXZlOwogICAgICAgICAgICAgICAgd2lkdGggOiAzMC4wJTsKICAgICAgICAgICAgICAgIGhlaWdodDogMzAuMCU7CiAgICAgICAgICAgICAgICBsZWZ0OiAwLjAlOwogICAgICAgICAgICAgICAgdG9wOiAwLjAlOwogICAgICAgICAgICA8L3N0eWxlPgogICAgICAgICAgICAKICAgICAgICAKICAgICAgICAgICAgCiAgICAgICAgCiAgICAgICAgICAgIDxzY3JpcHQgc3JjPSJodHRwczovL2NkbmpzLmNsb3VkZmxhcmUuY29tL2FqYXgvbGlicy9kMy8zLjUuNS9kMy5taW4uanMiPjwvc2NyaXB0PgogICAgICAgIAogICAgICAgIAogICAgICAgIAogICAgICAgICAgICAKICAgICAgICAKICAgICAgICAgICAgPHNjcmlwdCBzcmM9Imh0dHBzOi8vY2RuanMuY2xvdWRmbGFyZS5jb20vYWpheC9saWJzL3ZlZ2EvMS40LjMvdmVnYS5taW4uanMiPjwvc2NyaXB0PgogICAgICAgIAogICAgICAgIAogICAgICAgIAogICAgICAgIAogICAgICAgIDwvaGVhZD4KICAgICAgICA8Ym9keT4KICAgICAgICAgICAgCiAgICAgICAgCiAgICAgICAgICAgIAogICAgICAgICAgICA8ZGl2IGNsYXNzPSJmb2xpdW0tbWFwIiBpZD0ibWFwXzc4NWI4OTk3ZTU3MjQ0Mzc4NTZlYzIxMDYyNjc3MGNmIiA+PC9kaXY+CiAgICAgICAgCiAgICAgICAgCiAgICAgICAgCiAgICAgICAgPC9ib2R5PgogICAgICAgIDxzY3JpcHQ+CiAgICAgICAgICAgIAogICAgICAgIAogICAgICAgICAgICAKCiAgICAgICAgICAgIHZhciBzb3V0aFdlc3QgPSBMLmxhdExuZygtOTAsIC0xODApOwogICAgICAgICAgICB2YXIgbm9ydGhFYXN0ID0gTC5sYXRMbmcoOTAsIDE4MCk7CiAgICAgICAgICAgIHZhciBib3VuZHMgPSBMLmxhdExuZ0JvdW5kcyhzb3V0aFdlc3QsIG5vcnRoRWFzdCk7CgogICAgICAgICAgICB2YXIgbWFwXzc4NWI4OTk3ZTU3MjQ0Mzc4NTZlYzIxMDYyNjc3MGNmID0gTC5tYXAoJ21hcF83ODViODk5N2U1NzI0NDM3ODU2ZWMyMTA2MjY3NzBjZicsIHsKICAgICAgICAgICAgICAgICAgICAgICAgICAgICAgICAgICAgICAgICAgIGNlbnRlcjpbNDcuNTgzNiwtMTIyLjM3NV0sCiAgICAgICAgICAgICAgICAgICAgICAgICAgICAgICAgICAgICAgICAgICB6b29tOiAxMiwKICAgICAgICAgICAgICAgICAgICAgICAgICAgICAgICAgICAgICAgICAgIG1heEJvdW5kczogYm91bmRzLAogICAgICAgICAgICAgICAgICAgICAgICAgICAgICAgICAgICAgICAgICAgbGF5ZXJzOiBbXSwKICAgICAgICAgICAgICAgICAgICAgICAgICAgICAgICAgICAgICAgICAgIGNyczogTC5DUlMuRVBTRzM4NTcKICAgICAgICAgICAgICAgICAgICAgICAgICAgICAgICAgICAgICAgICB9KTsKICAgICAgICAgICAgCiAgICAgICAgCiAgICAgICAgCiAgICAgICAgICAgIAogICAgICAgICAgICB2YXIgdGlsZV9sYXllcl9mMDk2NmQ5MzU1Yzk0MjAyYjkwNWVjOThlM2RmNTlkNSA9IEwudGlsZUxheWVyKAogICAgICAgICAgICAgICAgJ2h0dHBzOi8vc3RhbWVuLXRpbGVzLXtzfS5hLnNzbC5mYXN0bHkubmV0L3RvbmVyL3t6fS97eH0ve3l9LnBuZycsCiAgICAgICAgICAgICAgICB7CiAgICAgICAgICAgICAgICAgICAgbWF4Wm9vbTogMTgsCiAgICAgICAgICAgICAgICAgICAgbWluWm9vbTogMSwKICAgICAgICAgICAgICAgICAgICBhdHRyaWJ1dGlvbjogJ01hcCB0aWxlcyBieSA8YSBocmVmPSJodHRwOi8vc3RhbWVuLmNvbSI+U3RhbWVuIERlc2lnbjwvYT4sIHVuZGVyIDxhIGhyZWY9Imh0dHA6Ly9jcmVhdGl2ZWNvbW1vbnMub3JnL2xpY2Vuc2VzL2J5LzMuMCI+Q0MgQlkgMy4wPC9hPi4gRGF0YSBieSA8YSBocmVmPSJodHRwOi8vb3BlbnN0cmVldG1hcC5vcmciPk9wZW5TdHJlZXRNYXA8L2E+LCB1bmRlciA8YSBocmVmPSJodHRwOi8vd3d3Lm9wZW5zdHJlZXRtYXAub3JnL2NvcHlyaWdodCI+T0RiTDwvYT4uJywKICAgICAgICAgICAgICAgICAgICBkZXRlY3RSZXRpbmE6IGZhbHNlCiAgICAgICAgICAgICAgICAgICAgfQogICAgICAgICAgICAgICAgKS5hZGRUbyhtYXBfNzg1Yjg5OTdlNTcyNDQzNzg1NmVjMjEwNjI2NzcwY2YpOwoKICAgICAgICAKICAgICAgICAKICAgICAgICAgICAgCgogICAgICAgICAgICB2YXIgbWFya2VyXzM2YTA3MGZjYWE3ZTRjMmFiZWQyZTUwM2M0NWM3ZjFjID0gTC5tYXJrZXIoCiAgICAgICAgICAgICAgICBbNDcuNTcwOTUsLTEyMi4zNDgzMjRdLAogICAgICAgICAgICAgICAgewogICAgICAgICAgICAgICAgICAgIGljb246IG5ldyBMLkljb24uRGVmYXVsdCgpCiAgICAgICAgICAgICAgICAgICAgfQogICAgICAgICAgICAgICAgKQogICAgICAgICAgICAgICAgLmFkZFRvKG1hcF83ODViODk5N2U1NzI0NDM3ODU2ZWMyMTA2MjY3NzBjZik7CiAgICAgICAgICAgIAogICAgICAgIAogICAgICAgICAgICAKCiAgICAgICAgICAgICAgICB2YXIgaWNvbl9hNDFhOTc2YzViZDU0NjlmYTUxNjVmOGJjZTc1MDFiMCA9IEwuQXdlc29tZU1hcmtlcnMuaWNvbih7CiAgICAgICAgICAgICAgICAgICAgaWNvbjogJ29rJywKICAgICAgICAgICAgICAgICAgICBpY29uQ29sb3I6ICd3aGl0ZScsCiAgICAgICAgICAgICAgICAgICAgbWFya2VyQ29sb3I6ICdyZWQnLAogICAgICAgICAgICAgICAgICAgIHByZWZpeDogJ2dseXBoaWNvbicsCiAgICAgICAgICAgICAgICAgICAgZXh0cmFDbGFzc2VzOiAnZmEtcm90YXRlLTAnCiAgICAgICAgICAgICAgICAgICAgfSk7CiAgICAgICAgICAgICAgICBtYXJrZXJfMzZhMDcwZmNhYTdlNGMyYWJlZDJlNTAzYzQ1YzdmMWMuc2V0SWNvbihpY29uX2E0MWE5NzZjNWJkNTQ2OWZhNTE2NWY4YmNlNzUwMWIwKTsKICAgICAgICAgICAgCiAgICAgICAgCiAgICAgICAgICAgIGZ1bmN0aW9uIHZlZ2FfcGFyc2Uoc3BlYywgZGl2KSB7CiAgICAgICAgICAgIHZnLnBhcnNlLnNwZWMoc3BlYywgZnVuY3Rpb24oY2hhcnQpIHsgY2hhcnQoe2VsOmRpdn0pLnVwZGF0ZSgpOyB9KTt9CiAgICAgICAgCiAgICAgICAgICAgIAogICAgICAgICAgICB2YXIgcG9wdXBfOTBjMmYxZTkzZDU4NGI4Y2I0MjI3MWJlMmJiZDQxMzMgPSBMLnBvcHVwKHttYXhXaWR0aDogJzQyNSd9KTsKCiAgICAgICAgICAgIAogICAgICAgICAgICAgICAgdmFyIHZlZ2FfZjc1MDI3YzA3YWEzNDFlNWEyZWIyM2FlYWJjNzIzZjQgPSAkKCcgICAgICAgICAgICAgPGRpdiBpZD0idmVnYV9mNzUwMjdjMDdhYTM0MWU1YTJlYjIzYWVhYmM3MjNmNCI+PC9kaXY+ICAgICAgICAgICAgICcpWzBdOwogICAgICAgICAgICAgICAgcG9wdXBfOTBjMmYxZTkzZDU4NGI4Y2I0MjI3MWJlMmJiZDQxMzMuc2V0Q29udGVudCh2ZWdhX2Y3NTAyN2MwN2FhMzQxZTVhMmViMjNhZWFiYzcyM2Y0KTsKICAgICAgICAgICAgCgogICAgICAgICAgICBtYXJrZXJfMzZhMDcwZmNhYTdlNGMyYWJlZDJlNTAzYzQ1YzdmMWMuYmluZFBvcHVwKHBvcHVwXzkwYzJmMWU5M2Q1ODRiOGNiNDIyNzFiZTJiYmQ0MTMzKTsKCiAgICAgICAgICAgIAogICAgICAgICAgICAgICAgCiAgICAgICAgICAgIHZlZ2FfcGFyc2UoeyJsZWdlbmRzIjogW3sidGl0bGUiOiAiU3Bva2FuZSIsICJvZmZzZXQiOiAwLCAicHJvcGVydGllcyI6IHt9LCAiZmlsbCI6ICJjb2xvciJ9XSwgInNjYWxlcyI6IFt7InJhbmdlIjogIndpZHRoIiwgImRvbWFpbiI6IHsiZmllbGQiOiAiZGF0YS5pZHgiLCAiZGF0YSI6ICJ0YWJsZSJ9LCAidHlwZSI6ICJsaW5lYXIiLCAibmFtZSI6ICJ4In0sIHsicmFuZ2UiOiAiaGVpZ2h0IiwgImRvbWFpbiI6IHsiZmllbGQiOiAiZGF0YS52YWwiLCAiZGF0YSI6ICJ0YWJsZSJ9LCAibmFtZSI6ICJ5IiwgIm5pY2UiOiB0cnVlfSwgeyJyYW5nZSI6ICJjYXRlZ29yeTIwIiwgImRvbWFpbiI6IHsiZmllbGQiOiAiZGF0YS5jb2wiLCAiZGF0YSI6ICJ0YWJsZSJ9LCAidHlwZSI6ICJvcmRpbmFsIiwgIm5hbWUiOiAiY29sb3IifV0sICJheGVzIjogW3sic2NhbGUiOiAieCIsICJ0eXBlIjogIngifSwgeyJzY2FsZSI6ICJ5IiwgInR5cGUiOiAieSJ9XSwgImhlaWdodCI6IDE1MCwgInBhZGRpbmciOiAiYXV0byIsICJ3aWR0aCI6IDM1MCwgIm1hcmtzIjogW3sidHlwZSI6ICJncm91cCIsICJmcm9tIjogeyJkYXRhIjogInRhYmxlIiwgInRyYW5zZm9ybSI6IFt7ImtleXMiOiBbImRhdGEuY29sIl0sICJ0eXBlIjogImZhY2V0In1dfSwgIm1hcmtzIjogW3sidHlwZSI6ICJsaW5lIiwgInByb3BlcnRpZXMiOiB7ImVudGVyIjogeyJ5IjogeyJmaWVsZCI6ICJkYXRhLnZhbCIsICJzY2FsZSI6ICJ5In0sICJ4IjogeyJmaWVsZCI6ICJkYXRhLmlkeCIsICJzY2FsZSI6ICJ4In0sICJzdHJva2UiOiB7ImZpZWxkIjogImRhdGEuY29sIiwgInNjYWxlIjogImNvbG9yIn0sICJzdHJva2VXaWR0aCI6IHsidmFsdWUiOiAyfX19fV19XSwgImRhdGEiOiBbeyJ2YWx1ZXMiOiBbeyJ2YWwiOiAwLCAiY29sIjogInRlc3QiLCAiaWR4IjogMH0sIHsidmFsIjogMSwgImNvbCI6ICJ0ZXN0IiwgImlkeCI6IDF9LCB7InZhbCI6IDIsICJjb2wiOiAidGVzdCIsICJpZHgiOiAyfSwgeyJ2YWwiOiAzLCAiY29sIjogInRlc3QiLCAiaWR4IjogM30sIHsidmFsIjogNCwgImNvbCI6ICJ0ZXN0IiwgImlkeCI6IDR9LCB7InZhbCI6IDUsICJjb2wiOiAidGVzdCIsICJpZHgiOiA1fSwgeyJ2YWwiOiA2LCAiY29sIjogInRlc3QiLCAiaWR4IjogNn1dLCAibmFtZSI6ICJ0YWJsZSJ9XX0sdmVnYV9mNzUwMjdjMDdhYTM0MWU1YTJlYjIzYWVhYmM3MjNmNCk7CiAgICAgICAgICAgIAogICAgICAgICAgICAKICAgICAgICAKICAgICAgICAKICAgICAgICAKICAgICAgICA8L3NjcmlwdD4KICAgICAgICA=\" style=\"position:absolute;width:100%;height:100%;left:0;top:0;\"></iframe></div></div>"
      ],
      "text/plain": [
       "<folium.folium.Map at 0x10a01e1d0>"
      ]
     },
     "execution_count": 17,
     "metadata": {},
     "output_type": "execute_result"
    }
   ],
   "source": [
    "map_osm."
   ]
  },
  {
   "cell_type": "code",
   "execution_count": null,
   "metadata": {
    "collapsed": true
   },
   "outputs": [],
   "source": [
    "# pop window should show time elapsed since road closure\n",
    "# maybe as a progress bar\n",
    "# or estimated time remaining open based on past records & ship data\n",
    "# "
   ]
  },
  {
   "cell_type": "code",
   "execution_count": 56,
   "metadata": {
    "collapsed": true
   },
   "outputs": [],
   "source": []
  },
  {
   "cell_type": "code",
   "execution_count": 58,
   "metadata": {
    "collapsed": false
   },
   "outputs": [
    {
     "name": "stdout",
     "output_type": "stream",
     "text": [
      "[47.639252, -122.384316]\n",
      "[47.57095, -122.348324]\n",
      "[47.529252, -122.314316]\n"
     ]
    }
   ],
   "source": []
  },
  {
   "cell_type": "code",
   "execution_count": 62,
   "metadata": {
    "collapsed": false
   },
   "outputs": [],
   "source": []
  },
  {
   "cell_type": "code",
   "execution_count": 63,
   "metadata": {
    "collapsed": false
   },
   "outputs": [
    {
     "data": {
      "text/html": [
       "<div style=\"width:100%;\"><div style=\"position:relative;width:100%;height:0;padding-bottom:60%;\"><iframe src=\"data:text/html;base64,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\" style=\"position:absolute;width:100%;height:100%;left:0;top:0;\"></iframe></div></div>"
      ],
      "text/plain": [
       "<folium.folium.Map at 0x1061e8710>"
      ]
     },
     "execution_count": 63,
     "metadata": {},
     "output_type": "execute_result"
    }
   ],
   "source": [
    "map_osm"
   ]
  },
  {
   "cell_type": "code",
   "execution_count": null,
   "metadata": {
    "collapsed": true
   },
   "outputs": [],
   "source": []
  }
 ],
 "metadata": {
  "kernelspec": {
   "display_name": "Python 2",
   "language": "python",
   "name": "python2"
  },
  "language_info": {
   "codemirror_mode": {
    "name": "ipython",
    "version": 2
   },
   "file_extension": ".py",
   "mimetype": "text/x-python",
   "name": "python",
   "nbconvert_exporter": "python",
   "pygments_lexer": "ipython2",
   "version": "2.7.10"
  }
 },
 "nbformat": 4,
 "nbformat_minor": 0
}

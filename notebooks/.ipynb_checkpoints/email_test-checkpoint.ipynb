{
 "metadata": {
  "name": "",
  "signature": "sha256:612e1eb818cf626863e45b2bb7e82ef4a26e3eb537c5612066bc9955c0d8a24d"
 },
 "nbformat": 3,
 "nbformat_minor": 0,
 "worksheets": [
  {
   "cells": [
    {
     "cell_type": "code",
     "collapsed": false,
     "input": [
      "import smtplib\n",
      "import email\n",
      "from email.mime.text import MIMEText"
     ],
     "language": "python",
     "metadata": {},
     "outputs": [],
     "prompt_number": 1
    },
    {
     "cell_type": "code",
     "collapsed": false,
     "input": [
      "msg = MIMEText('test email')"
     ],
     "language": "python",
     "metadata": {},
     "outputs": [],
     "prompt_number": 2
    },
    {
     "cell_type": "code",
     "collapsed": false,
     "input": [
      "# me == the sender's email address\n",
      "# you == the recipient's email address\n",
      "msg['Subject'] = 'Test Email'\n",
      "msg['From'] = 'you'\n",
      "msg['To'] = 'person'"
     ],
     "language": "python",
     "metadata": {},
     "outputs": []
    }
   ],
   "metadata": {}
  }
 ]
}
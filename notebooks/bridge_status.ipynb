{
 "cells": [
  {
   "cell_type": "code",
   "execution_count": 10,
   "metadata": {
    "collapsed": false
   },
   "outputs": [],
   "source": [
    "# get the status of the bridges\n",
    "import tweepy \n",
    "import time\n",
    "import csv\n",
    "from datetime import datetime\n",
    "from config import *"
   ]
  },
  {
   "cell_type": "code",
   "execution_count": 34,
   "metadata": {
    "collapsed": true
   },
   "outputs": [],
   "source": [
    "import pandas as pd"
   ]
  },
  {
   "cell_type": "code",
   "execution_count": 157,
   "metadata": {
    "collapsed": false
   },
   "outputs": [
    {
     "name": "stderr",
     "output_type": "stream",
     "text": [
      "/Library/Python/2.7/site-packages/ipykernel/__main__.py:2: FutureWarning: sort(columns=....) is deprecated, use sort_values(by=.....)\n",
      "  from ipykernel import kernelapp as app\n"
     ]
    }
   ],
   "source": [
    "df = pd.read_csv(\"../data/bridge/bridge_status.csv\")\n",
    "df = df.sort(['date','time'])\n",
    "\n",
    "df['timeobj'] = pd.to_datetime(df['timeobj'])"
   ]
  },
  {
   "cell_type": "code",
   "execution_count": 158,
   "metadata": {
    "collapsed": false
   },
   "outputs": [],
   "source": [
    "# Get a list of bridges that opened but have not closed\n",
    "\n",
    "# All closed bridges should have an open even followed by a later closed event\n",
    "\n",
    "# Check all the close events\n",
    "close_events = df[df['event'] == 'closed'].drop_duplicates(subset='bridge', keep='first')\n",
    "open_events = df[df['event'] == 'open'].drop_duplicates(subset='bridge', keep='first')"
   ]
  },
  {
   "cell_type": "code",
   "execution_count": null,
   "metadata": {
    "collapsed": false
   },
   "outputs": [],
   "source": []
  },
  {
   "cell_type": "code",
   "execution_count": 159,
   "metadata": {
    "collapsed": false
   },
   "outputs": [
    {
     "data": {
      "text/plain": [
       "3224   1900-01-01 11:01:09\n",
       "3219   1900-01-01 11:56:28\n",
       "3222   1900-01-01 11:21:41\n",
       "3211   1900-01-01 12:41:53\n",
       "3204   1900-01-01 13:16:49\n",
       "3140   1900-01-01 10:53:52\n",
       "3098   1900-01-01 11:12:46\n",
       "Name: timeobj, dtype: datetime64[ns]"
      ]
     },
     "execution_count": 159,
     "metadata": {},
     "output_type": "execute_result"
    }
   ],
   "source": [
    "open_events['timeobj']"
   ]
  },
  {
   "cell_type": "code",
   "execution_count": 160,
   "metadata": {
    "collapsed": false
   },
   "outputs": [],
   "source": [
    "# get only the most recent open and close events\n",
    "df = pd.merge(close_events,open_events,on='bridge',suffixes=['_close','_open'])"
   ]
  },
  {
   "cell_type": "code",
   "execution_count": null,
   "metadata": {
    "collapsed": false
   },
   "outputs": [],
   "source": []
  },
  {
   "cell_type": "code",
   "execution_count": 187,
   "metadata": {
    "collapsed": false
   },
   "outputs": [],
   "source": [
    "# fake some data for testing - set the last close time to a later date\n",
    "df['timeobj_close'].iloc[0] = df['timeobj_close'].iloc[0].replace(hour=12)"
   ]
  },
  {
   "cell_type": "code",
   "execution_count": 189,
   "metadata": {
    "collapsed": false
   },
   "outputs": [],
   "source": [
    "current_closures = df[(df['date_open'] != df['date_close']) | (df['timeobj_open'] < df['timeobj_close'])]"
   ]
  },
  {
   "cell_type": "code",
   "execution_count": 190,
   "metadata": {
    "collapsed": false
   },
   "outputs": [
    {
     "data": {
      "text/html": [
       "<div>\n",
       "<table border=\"1\" class=\"dataframe\">\n",
       "  <thead>\n",
       "    <tr style=\"text-align: right;\">\n",
       "      <th></th>\n",
       "      <th>bridge</th>\n",
       "      <th>time_close</th>\n",
       "      <th>event_close</th>\n",
       "      <th>date_close</th>\n",
       "      <th>text_close</th>\n",
       "      <th>newtime_close</th>\n",
       "      <th>timeobj_close</th>\n",
       "      <th>time_open</th>\n",
       "      <th>event_open</th>\n",
       "      <th>date_open</th>\n",
       "      <th>text_open</th>\n",
       "      <th>newtime_open</th>\n",
       "      <th>timeobj_open</th>\n",
       "    </tr>\n",
       "  </thead>\n",
       "  <tbody>\n",
       "    <tr>\n",
       "      <th>0</th>\n",
       "      <td>Ballard</td>\n",
       "      <td>10:45:26 AM</td>\n",
       "      <td>closed</td>\n",
       "      <td>2015-11-09</td>\n",
       "      <td>The Ballard Bridge has closed to traffic -   1...</td>\n",
       "      <td>10:45:26 AM</td>\n",
       "      <td>1900-01-01 12:45:26</td>\n",
       "      <td>11:01:09 AM</td>\n",
       "      <td>open</td>\n",
       "      <td>2015-11-09</td>\n",
       "      <td>The Ballard Bridge has reopened to traffic -  ...</td>\n",
       "      <td>11:01:09 AM</td>\n",
       "      <td>1900-01-01 11:01:09</td>\n",
       "    </tr>\n",
       "  </tbody>\n",
       "</table>\n",
       "</div>"
      ],
      "text/plain": [
       "    bridge     time_close event_close  date_close  \\\n",
       "0  Ballard    10:45:26 AM      closed  2015-11-09   \n",
       "\n",
       "                                          text_close newtime_close  \\\n",
       "0  The Ballard Bridge has closed to traffic -   1...   10:45:26 AM   \n",
       "\n",
       "        timeobj_close      time_open event_open   date_open  \\\n",
       "0 1900-01-01 12:45:26    11:01:09 AM       open  2015-11-09   \n",
       "\n",
       "                                           text_open newtime_open  \\\n",
       "0  The Ballard Bridge has reopened to traffic -  ...  11:01:09 AM   \n",
       "\n",
       "         timeobj_open  \n",
       "0 1900-01-01 11:01:09  "
      ]
     },
     "execution_count": 190,
     "metadata": {},
     "output_type": "execute_result"
    }
   ],
   "source": [
    "current_closures"
   ]
  },
  {
   "cell_type": "code",
   "execution_count": 192,
   "metadata": {
    "collapsed": true
   },
   "outputs": [],
   "source": [
    "# Map each closure\n",
    "# provide an expected window of re-opening based on historical closure data\n",
    "# show time closed, bell curve of likely re-opening"
   ]
  },
  {
   "cell_type": "code",
   "execution_count": 193,
   "metadata": {
    "collapsed": true
   },
   "outputs": [],
   "source": [
    "# Create some leaflet thing here\n",
    "# try folium: https://github.com/python-visualization/folium"
   ]
  },
  {
   "cell_type": "code",
   "execution_count": 253,
   "metadata": {
    "collapsed": false
   },
   "outputs": [],
   "source": [
    "df['test'] = df.index"
   ]
  },
  {
   "cell_type": "code",
   "execution_count": null,
   "metadata": {
    "collapsed": false
   },
   "outputs": [],
   "source": []
  },
  {
   "cell_type": "code",
   "execution_count": 272,
   "metadata": {
    "collapsed": false
   },
   "outputs": [
    {
     "data": {
      "text/html": [
       "\n",
       "           <script>\n",
       "               \n",
       "                function vct_load_lib(url, callback){\n",
       "                      if(typeof d3 !== 'undefined' &&\n",
       "                         url === 'http://d3js.org/d3.v3.min.js'){\n",
       "                        callback()\n",
       "                      }\n",
       "                      var s = document.createElement('script');\n",
       "                      s.src = url;\n",
       "                      s.async = true;\n",
       "                      s.onreadystatechange = s.onload = callback;\n",
       "                      s.onerror = function(){\n",
       "                        console.warn(\"failed to load library \" + url);\n",
       "                        };\n",
       "                      document.getElementsByTagName(\"head\")[0].appendChild(s);\n",
       "                };\n",
       "                var vincent_event = new CustomEvent(\n",
       "                  \"vincent_libs_loaded\",\n",
       "                  {bubbles: true, cancelable: true}\n",
       "                );\n",
       "                \n",
       "               function load_all_libs(){\n",
       "                  console.log('Loading Vincent libs...')\n",
       "                  vct_load_lib('http://d3js.org/d3.v3.min.js', function(){\n",
       "                  vct_load_lib('http://d3js.org/d3.geo.projection.v0.min.js', function(){\n",
       "                  vct_load_lib('http://wrobstory.github.io/d3-cloud/d3.layout.cloud.js', function(){\n",
       "                  vct_load_lib('http://wrobstory.github.io/vega/vega.v1.3.3.js', function(){\n",
       "                  window.dispatchEvent(vincent_event);\n",
       "                  });\n",
       "                  });\n",
       "                  });\n",
       "                  });\n",
       "               };\n",
       "               if(typeof define === \"function\" && define.amd){\n",
       "                    if (window['d3'] === undefined ||\n",
       "                        window['topojson'] === undefined){\n",
       "                        require.config(\n",
       "                            {paths: {\n",
       "                              d3: 'http://d3js.org/d3.v3.min',\n",
       "                              topojson: 'http://d3js.org/topojson.v1.min'\n",
       "                              }\n",
       "                            }\n",
       "                          );\n",
       "                        require([\"d3\"], function(d3){\n",
       "                            console.log('Loading Vincent from require.js...')\n",
       "                            window.d3 = d3;\n",
       "                            require([\"topojson\"], function(topojson){\n",
       "                                window.topojson = topojson;\n",
       "                                load_all_libs();\n",
       "                            });\n",
       "                        });\n",
       "                    } else {\n",
       "                        load_all_libs();\n",
       "                    };\n",
       "               }else{\n",
       "                    console.log('Require.js not found, loading manually...')\n",
       "                    load_all_libs();\n",
       "               };\n",
       "\n",
       "           </script>"
      ],
      "text/plain": [
       "<IPython.core.display.HTML object>"
      ]
     },
     "metadata": {},
     "output_type": "display_data"
    }
   ],
   "source": [
    "import folium\n",
    "import vincent\n",
    "vincent.core.initialize_notebook()"
   ]
  },
  {
   "cell_type": "code",
   "execution_count": null,
   "metadata": {
    "collapsed": false
   },
   "outputs": [],
   "source": []
  },
  {
   "cell_type": "code",
   "execution_count": null,
   "metadata": {
    "collapsed": false
   },
   "outputs": [],
   "source": []
  },
  {
   "cell_type": "code",
   "execution_count": 302,
   "metadata": {
    "collapsed": false
   },
   "outputs": [],
   "source": [
    "map_osm = folium.Map(location=[47.5836, -122.3750], zoom_start=12, tiles='Stamen Toner')\n",
    "# folium.Marker([47.570950, -122.348324], popup='Spokane Street').add_to(map_osm)\n",
    "# folium.Marker([47.529252, -122.314316], popup='South Park').add_to(map_osm)\n",
    "\n",
    "# get fancy \n",
    "# see e.g., http://nbviewer.jupyter.org/github/ocefpaf/folium_notebooks/blob/master/test_png_mpld3_vega_popup.ipynb\n",
    "# show some fake data\n",
    "resolution, width, height = 50, 7, 3\n",
    "vis = vincent.Line(df['test'], width=width*resolution, height=height*resolution)\n",
    "vis.legend(title='Spokane');\n",
    "\n",
    "vega = folium.Vega(json.loads(vis.to_json()), width=\"30%\", height=\"30%\")\n",
    "popup = folium.Popup(max_width=vis.width+75).add_child(vega)\n",
    "icon = folium.Icon(color=\"red\", icon=\"ok\")\n",
    "marker = folium.Marker(location=[47.570950, -122.348324], popup=popup, icon=icon)\n",
    "\n",
    "map_osm.add_children(marker);\n",
    "\n",
    "map_osm.save('osm.html')"
   ]
  },
  {
   "cell_type": "code",
   "execution_count": 304,
   "metadata": {
    "collapsed": false
   },
   "outputs": [
    {
     "data": {
      "text/html": [
       "<div style=\"width:100%;\"><div style=\"position:relative;width:100%;height:0;padding-bottom:60%;\"><iframe src=\"data:text/html;base64,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\" style=\"position:absolute;width:100%;height:100%;left:0;top:0;\"></iframe></div></div>"
      ],
      "text/plain": [
       "<folium.folium.Map at 0x110cc5dd0>"
      ]
     },
     "execution_count": 304,
     "metadata": {},
     "output_type": "execute_result"
    }
   ],
   "source": [
    "map_osm"
   ]
  },
  {
   "cell_type": "code",
   "execution_count": null,
   "metadata": {
    "collapsed": true
   },
   "outputs": [],
   "source": [
    "# pop window should show time elapsed since road closure\n",
    "# maybe as a progress bar\n",
    "# or estimated time remaining open based on past records & ship data\n",
    "# "
   ]
  }
 ],
 "metadata": {
  "kernelspec": {
   "display_name": "Python 2",
   "language": "python",
   "name": "python2"
  }
 },
 "nbformat": 4,
 "nbformat_minor": 0
}

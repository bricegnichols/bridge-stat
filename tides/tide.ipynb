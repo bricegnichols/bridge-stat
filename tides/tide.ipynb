{
 "cells": [
  {
   "cell_type": "code",
   "execution_count": 1,
   "metadata": {
    "collapsed": true
   },
   "outputs": [],
   "source": [
    "# Load in some tide data"
   ]
  },
  {
   "cell_type": "code",
   "execution_count": 55,
   "metadata": {
    "collapsed": true
   },
   "outputs": [],
   "source": [
    "import pandas as pd\n",
    "import matplotlib\n",
    "import matplotlib.pyplot as plt\n",
    "%matplotlib inline"
   ]
  },
  {
   "cell_type": "code",
   "execution_count": 36,
   "metadata": {
    "collapsed": false
   },
   "outputs": [
    {
     "data": {
      "text/html": [
       "<div>\n",
       "<table border=\"1\" class=\"dataframe\">\n",
       "  <thead>\n",
       "    <tr style=\"text-align: right;\">\n",
       "      <th></th>\n",
       "      <th>Date</th>\n",
       "      <th>Unnamed: 1</th>\n",
       "      <th>Day</th>\n",
       "      <th>Time</th>\n",
       "      <th>Pred(Ft)</th>\n",
       "      <th>High/Low</th>\n",
       "    </tr>\n",
       "  </thead>\n",
       "  <tbody>\n",
       "    <tr>\n",
       "      <th>0</th>\n",
       "      <td>2015/01/01</td>\n",
       "      <td>Thu</td>\n",
       "      <td>03:05 AM</td>\n",
       "      <td>10.2</td>\n",
       "      <td>311</td>\n",
       "      <td>H</td>\n",
       "    </tr>\n",
       "    <tr>\n",
       "      <th>1</th>\n",
       "      <td>2015/01/01</td>\n",
       "      <td>Thu</td>\n",
       "      <td>07:51 AM</td>\n",
       "      <td>6.8</td>\n",
       "      <td>207</td>\n",
       "      <td>L</td>\n",
       "    </tr>\n",
       "    <tr>\n",
       "      <th>2</th>\n",
       "      <td>2015/01/01</td>\n",
       "      <td>Thu</td>\n",
       "      <td>01:15 PM</td>\n",
       "      <td>11.7</td>\n",
       "      <td>357</td>\n",
       "      <td>H</td>\n",
       "    </tr>\n",
       "    <tr>\n",
       "      <th>3</th>\n",
       "      <td>2015/01/01</td>\n",
       "      <td>Thu</td>\n",
       "      <td>08:26 PM</td>\n",
       "      <td>-0.6</td>\n",
       "      <td>-18</td>\n",
       "      <td>L</td>\n",
       "    </tr>\n",
       "    <tr>\n",
       "      <th>4</th>\n",
       "      <td>2015/01/02</td>\n",
       "      <td>Fri</td>\n",
       "      <td>04:02 AM</td>\n",
       "      <td>11.1</td>\n",
       "      <td>338</td>\n",
       "      <td>H</td>\n",
       "    </tr>\n",
       "  </tbody>\n",
       "</table>\n",
       "</div>"
      ],
      "text/plain": [
       "        Date  Unnamed: 1       Day  Time  Pred(Ft) High/Low\n",
       "0  2015/01/01        Thu  03:05 AM  10.2       311        H\n",
       "1  2015/01/01        Thu  07:51 AM   6.8       207        L\n",
       "2  2015/01/01        Thu  01:15 PM  11.7       357        H\n",
       "3  2015/01/01        Thu  08:26 PM  -0.6       -18        L\n",
       "4  2015/01/02        Fri  04:02 AM  11.1       338        H"
      ]
     },
     "execution_count": 36,
     "metadata": {},
     "output_type": "execute_result"
    }
   ],
   "source": [
    "df = pd.read_csv('data2015.txt', sep='\\t', skiprows=12)\n",
    "df.drop('Unnamed: 4', axis=1, inplace=True)\n",
    "df.drop('Pred(cm)', axis=1, inplace=True)\n",
    "df.head()"
   ]
  },
  {
   "cell_type": "code",
   "execution_count": 37,
   "metadata": {
    "collapsed": false
   },
   "outputs": [],
   "source": [
    "df.columns = ['Date','Day','Time','Pred(ft)','Pred(cm)',r'High/Low']"
   ]
  },
  {
   "cell_type": "code",
   "execution_count": 68,
   "metadata": {
    "collapsed": true
   },
   "outputs": [],
   "source": [
    "# Extra hours and day columns\n",
    "df['datetime'] = pd.to_datetime(df['Time'])"
   ]
  },
  {
   "cell_type": "code",
   "execution_count": 69,
   "metadata": {
    "collapsed": true
   },
   "outputs": [],
   "source": [
    "df['year'] = [i.split('/')[0] for i in df['Date']]\n",
    "df['month'] = [i.split('/')[1] for i in df['Date']]\n",
    "df['day'] = [i.split('/')[2] for i in df['Date']]"
   ]
  },
  {
   "cell_type": "code",
   "execution_count": 70,
   "metadata": {
    "collapsed": true
   },
   "outputs": [],
   "source": [
    "df['hour'] = [i.hour for i in df['datetime']]\n",
    "df['minute'] = [i.minute for i in df['datetime']]"
   ]
  },
  {
   "cell_type": "code",
   "execution_count": 71,
   "metadata": {
    "collapsed": false
   },
   "outputs": [],
   "source": [
    "high_tides = df[df['High/Low'] == 'H']"
   ]
  },
  {
   "cell_type": "code",
   "execution_count": 72,
   "metadata": {
    "collapsed": false
   },
   "outputs": [
    {
     "data": {
      "text/plain": [
       "<matplotlib.axes._subplots.AxesSubplot at 0x1160f0090>"
      ]
     },
     "execution_count": 72,
     "metadata": {},
     "output_type": "execute_result"
    },
    {
     "data": {
      "image/png": "[encoded data removed]",
      "text/plain": [
       "<matplotlib.figure.Figure at 0x116079ad0>"
      ]
     },
     "metadata": {},
     "output_type": "display_data"
    }
   ],
   "source": [
    "high_tides.groupby('hour').count()['Date'].plot(kind=)"
   ]
  },
  {
   "cell_type": "code",
   "execution_count": 77,
   "metadata": {
    "collapsed": false
   },
   "outputs": [],
   "source": [
    "november = high_tides[high_tides['month'] == \"11\"]"
   ]
  }
 ],
 "metadata": {
  "kernelspec": {
   "display_name": "Python 2",
   "language": "python",
   "name": "python2"
  },
  "language_info": {
   "codemirror_mode": {
    "name": "ipython",
    "version": 2
   },
   "file_extension": ".py",
   "mimetype": "text/x-python",
   "name": "python",
   "nbconvert_exporter": "python",
   "pygments_lexer": "ipython2",
   "version": "2.7.6"
  }
 },
 "nbformat": 4,
 "nbformat_minor": 0
}

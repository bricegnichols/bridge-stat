{
 "cells": [
  {
   "cell_type": "code",
   "execution_count": 220,
   "metadata": {
    "collapsed": true
   },
   "outputs": [],
   "source": [
    "import os\n",
    "from lxml import html\n",
    "import requests\n",
    "from BeautifulSoup import BeautifulSoup\n",
    "import json\n",
    "import pandas as pd\n",
    "from datetime import datetime\n",
    "\n",
    "% matplotlib inline"
   ]
  },
  {
   "cell_type": "code",
   "execution_count": 71,
   "metadata": {
    "collapsed": true
   },
   "outputs": [],
   "source": [
    "vessel_data_file = 'data/vessel_data.json'"
   ]
  },
  {
   "cell_type": "code",
   "execution_count": 255,
   "metadata": {
    "collapsed": false
   },
   "outputs": [],
   "source": [
    "# Pull existing data\n",
    "page = requests.get('https://www.nwseaportalliance.com/operations/vessels')\n",
    "soup = BeautifulSoup(page.text)\n",
    "\n",
    "# Fetch the schedule data from the main page\n",
    "schedule_db = {}\n",
    "\n",
    "# Get the vessel list and href for vessel details\n",
    "vessels = soup.findAll('td', {'class':'views-field views-field-title-1'})\n",
    "\n",
    "# ETA, ETD, and and Terminal Data\n",
    "eta = soup.findAll('div',{'class':'field field-name-field-vessel-eta field-type-datestamp field-label-hidden'})\n",
    "etd = soup.findAll('div', {'class':'field field-name-field-vessel-etd field-type-datestamp field-label-hidden'})\n",
    "terminal = soup.findAll('div', {'class':'field field-name-field-vessel-terminal field-type-text field-label-hidden'})\n",
    "harbor = soup.findAll('td', {'class': 'views-field views-field-field-vessel-harbor'}) \n",
    "\n",
    "vessel_list = []\n",
    "href_list = []\n",
    "for i in xrange(len(vessels)):\n",
    "    vessel = vessels[i]\n",
    "    schedule_db[i] = {'vessel': vessel.findAll('a',href=True)[0].contents[0].strip(),\n",
    "                     'href': vessel.findAll('a',href=True)[0]['href'],\n",
    "                     'eta': eta[i].findAll('span')[0].contents[0].strip(),\n",
    "                     'etd': etd[i].findAll('span')[0].contents[0].strip(),\n",
    "                     'terminal': terminal[i].contents[0].split('\\n')[-1].strip(),\n",
    "                     'harbor': harbor[i].contents[0].strip()}\n",
    "\n",
    "# Save the schedule db to file\n",
    "with open(r'data/'+str(datetime.now())+\".json\", 'w') as fp:\n",
    "    json.dump(vessel_dict, fp)"
   ]
  },
  {
   "cell_type": "code",
   "execution_count": 254,
   "metadata": {
    "collapsed": false
   },
   "outputs": [
    {
     "data": {
      "text/plain": [
       "'2016-08-07 18:57:28.417838'"
      ]
     },
     "execution_count": 254,
     "metadata": {},
     "output_type": "execute_result"
    }
   ],
   "source": []
  },
  {
   "cell_type": "code",
   "execution_count": 73,
   "metadata": {
    "collapsed": false
   },
   "outputs": [],
   "source": [
    "# Look up ship data\n",
    "\n",
    "# Try to load an existing vessel dict\n",
    "if os.path.isfile(vessel_data_file):\n",
    "    try:\n",
    "        with open(vessel_data_file, 'r') as fp:\n",
    "            vessel_dict = json.load(fp)\n",
    "    except:\n",
    "        vessel_dict = {}\n",
    "else:\n",
    "    vessel_dict = {}\n",
    "\n",
    "# If ship doesn't already exist in our database, collect it\n",
    "for entry_id, entry in schedule_db.iteritems():\n",
    "    vessel = schedule_db[entry_id]['vessel'] \n",
    "\n",
    "    if vessel not in vessel_dict.keys():\n",
    "        print 'adding: ' + vessel\n",
    "        vessel_dict[vessel] = {}\n",
    "        page = requests.get('https://www.nwseaportalliance.com' + schedule_db[entry_id]['href'])\n",
    "        soup = BeautifulSoup(page.text)\n",
    "\n",
    "        # # Get the list of class names to search\n",
    "        vessel_class_names = []\n",
    "        for field in [i['class'] for i in soup.findAll('div')[1:]]:\n",
    "            if 'field' in str(field):\n",
    "                vessel_class_names.append(field)\n",
    "\n",
    "        for class_name in vessel_class_names:\n",
    "            field_name = class_name.split(' ')[1].split('-')[-1]\n",
    "            field_val = soup.findAll('div', {'class':class_name})[0].contents[0].split('\\n')[-1].strip()\n",
    "            vessel_dict[vessel][field_name] = field_val\n",
    "            \n",
    "with open(vessel_data_file, 'w') as fp:\n",
    "    json.dump(vessel_dict, fp)"
   ]
  },
  {
   "cell_type": "markdown",
   "metadata": {
    "collapsed": false
   },
   "source": [
    "# Analysis"
   ]
  },
  {
   "cell_type": "code",
   "execution_count": 106,
   "metadata": {
    "collapsed": true
   },
   "outputs": [],
   "source": [
    "def dict_to_df(_dict):\n",
    "    df = pd.DataFrame().from_dict(_dict).T\n",
    "    df.reset_index(inplace=True)\n",
    "    \n",
    "    return df"
   ]
  },
  {
   "cell_type": "code",
   "execution_count": 111,
   "metadata": {
    "collapsed": false
   },
   "outputs": [
    {
     "data": {
      "text/html": [
       "<div>\n",
       "<table border=\"1\" class=\"dataframe\">\n",
       "  <thead>\n",
       "    <tr style=\"text-align: right;\">\n",
       "      <th></th>\n",
       "      <th>agent</th>\n",
       "      <th>berth</th>\n",
       "      <th>cargotype</th>\n",
       "      <th>draught</th>\n",
       "      <th>length</th>\n",
       "      <th>stevedore</th>\n",
       "      <th>width</th>\n",
       "      <th>vessel</th>\n",
       "    </tr>\n",
       "  </thead>\n",
       "  <tbody>\n",
       "    <tr>\n",
       "      <th>0</th>\n",
       "      <td>HAPAG-LLOYD (AMERICA) INC</td>\n",
       "      <td>B</td>\n",
       "      <td>CONTAINERS</td>\n",
       "      <td>50.85</td>\n",
       "      <td>1145.01</td>\n",
       "      <td>WASHINGTON UNITED TERMINALS</td>\n",
       "      <td>149.61</td>\n",
       "      <td>APL GWANGYANG</td>\n",
       "    </tr>\n",
       "    <tr>\n",
       "      <th>1</th>\n",
       "      <td>K LINE AMERICA INC</td>\n",
       "      <td>A</td>\n",
       "      <td>AUTOS</td>\n",
       "      <td>31.07</td>\n",
       "      <td>590.52</td>\n",
       "      <td>JONES STEVEDORING COMPANY</td>\n",
       "      <td>105.64</td>\n",
       "      <td>ARCADIA HIGHWAY</td>\n",
       "    </tr>\n",
       "    <tr>\n",
       "      <th>2</th>\n",
       "      <td>WESTWOOD SHIPPING LINES</td>\n",
       "      <td>3</td>\n",
       "      <td>CONTAINERS / GC</td>\n",
       "      <td>38.06</td>\n",
       "      <td>685.37</td>\n",
       "      <td>PORTS AMERICA GROUP/PCT</td>\n",
       "      <td>97.93</td>\n",
       "      <td>BARDU</td>\n",
       "    </tr>\n",
       "    <tr>\n",
       "      <th>3</th>\n",
       "      <td>KIRBY OFFSHORE MARINE</td>\n",
       "      <td>A</td>\n",
       "      <td>LAY BERTH</td>\n",
       "      <td>0.00</td>\n",
       "      <td>347.77</td>\n",
       "      <td></td>\n",
       "      <td>0.00</td>\n",
       "      <td>BARGE KIRBY OFFSHORE MARINE</td>\n",
       "    </tr>\n",
       "    <tr>\n",
       "      <th>4</th>\n",
       "      <td>OLYMPIC TUG &amp;amp; BARGE</td>\n",
       "      <td>A</td>\n",
       "      <td>LAY BERTH</td>\n",
       "      <td>0.00</td>\n",
       "      <td>347.77</td>\n",
       "      <td></td>\n",
       "      <td>0.00</td>\n",
       "      <td>BARGE OLYMPIC</td>\n",
       "    </tr>\n",
       "  </tbody>\n",
       "</table>\n",
       "</div>"
      ],
      "text/plain": [
       "                       agent berth        cargotype draught   length  \\\n",
       "0  HAPAG-LLOYD (AMERICA) INC     B       CONTAINERS   50.85  1145.01   \n",
       "1         K LINE AMERICA INC     A            AUTOS   31.07   590.52   \n",
       "2    WESTWOOD SHIPPING LINES     3  CONTAINERS / GC   38.06   685.37   \n",
       "3      KIRBY OFFSHORE MARINE     A        LAY BERTH    0.00   347.77   \n",
       "4    OLYMPIC TUG &amp; BARGE     A        LAY BERTH    0.00   347.77   \n",
       "\n",
       "                     stevedore   width                       vessel  \n",
       "0  WASHINGTON UNITED TERMINALS  149.61                APL GWANGYANG  \n",
       "1    JONES STEVEDORING COMPANY  105.64              ARCADIA HIGHWAY  \n",
       "2      PORTS AMERICA GROUP/PCT   97.93                        BARDU  \n",
       "3                                 0.00  BARGE KIRBY OFFSHORE MARINE  \n",
       "4                                 0.00                BARGE OLYMPIC  "
      ]
     },
     "execution_count": 111,
     "metadata": {},
     "output_type": "execute_result"
    }
   ],
   "source": [
    "# Load vessel data as df\n",
    "vessel_df = dict_to_df(vessel_dict)\n",
    "vessel_df['vessel'] = vessel_df['index']\n",
    "# drop the old index and empty eta, etd columns\n",
    "vessel_df.drop(['index','eta','etd','harbor','terminal'], axis=1, inplace=True)\n",
    "vessel_df.head()"
   ]
  },
  {
   "cell_type": "code",
   "execution_count": 112,
   "metadata": {
    "collapsed": false
   },
   "outputs": [
    {
     "data": {
      "text/html": [
       "<div>\n",
       "<table border=\"1\" class=\"dataframe\">\n",
       "  <thead>\n",
       "    <tr style=\"text-align: right;\">\n",
       "      <th></th>\n",
       "      <th>eta</th>\n",
       "      <th>etd</th>\n",
       "      <th>harbor</th>\n",
       "      <th>href</th>\n",
       "      <th>terminal</th>\n",
       "      <th>vessel</th>\n",
       "    </tr>\n",
       "  </thead>\n",
       "  <tbody>\n",
       "    <tr>\n",
       "      <th>0</th>\n",
       "      <td>12/05/2015 - 8:00am</td>\n",
       "      <td>09/10/2016 - 6:00pm</td>\n",
       "      <td>TAC</td>\n",
       "      <td>/node/340917</td>\n",
       "      <td>APM Terminals</td>\n",
       "      <td>MATSON PRODUCER</td>\n",
       "    </tr>\n",
       "    <tr>\n",
       "      <th>1</th>\n",
       "      <td>03/29/2016 - 8:00am</td>\n",
       "      <td>11/15/2016 - 8:00am</td>\n",
       "      <td>TAC</td>\n",
       "      <td>/node/340956</td>\n",
       "      <td>TOTE</td>\n",
       "      <td>SS EL YUNQUE</td>\n",
       "    </tr>\n",
       "    <tr>\n",
       "      <th>2</th>\n",
       "      <td>07/19/2016 - 7:00pm</td>\n",
       "      <td>07/30/2016 - 6:00pm</td>\n",
       "      <td>TAC</td>\n",
       "      <td>/node/340974</td>\n",
       "      <td>Weyco Log</td>\n",
       "      <td>BARGE SAUSE BROTHERS</td>\n",
       "    </tr>\n",
       "    <tr>\n",
       "      <th>3</th>\n",
       "      <td>07/25/2016 - 2:00pm</td>\n",
       "      <td>07/28/2016 - 2:00pm</td>\n",
       "      <td>TAC</td>\n",
       "      <td>/node/340975</td>\n",
       "      <td>Weyco Log</td>\n",
       "      <td>BARGE KIRBY OFFSHORE MARINE</td>\n",
       "    </tr>\n",
       "    <tr>\n",
       "      <th>4</th>\n",
       "      <td>07/26/2016 - 3:00pm</td>\n",
       "      <td>07/28/2016 - 3:00pm</td>\n",
       "      <td>TAC</td>\n",
       "      <td>/node/340920</td>\n",
       "      <td>Blair Terminal</td>\n",
       "      <td>BARGE OLYMPIC</td>\n",
       "    </tr>\n",
       "  </tbody>\n",
       "</table>\n",
       "</div>"
      ],
      "text/plain": [
       "                   eta                  etd harbor          href  \\\n",
       "0  12/05/2015 - 8:00am  09/10/2016 - 6:00pm    TAC  /node/340917   \n",
       "1  03/29/2016 - 8:00am  11/15/2016 - 8:00am    TAC  /node/340956   \n",
       "2  07/19/2016 - 7:00pm  07/30/2016 - 6:00pm    TAC  /node/340974   \n",
       "3  07/25/2016 - 2:00pm  07/28/2016 - 2:00pm    TAC  /node/340975   \n",
       "4  07/26/2016 - 3:00pm  07/28/2016 - 3:00pm    TAC  /node/340920   \n",
       "\n",
       "         terminal                       vessel  \n",
       "0   APM Terminals              MATSON PRODUCER  \n",
       "1            TOTE                 SS EL YUNQUE  \n",
       "2       Weyco Log         BARGE SAUSE BROTHERS  \n",
       "3       Weyco Log  BARGE KIRBY OFFSHORE MARINE  \n",
       "4  Blair Terminal                BARGE OLYMPIC  "
      ]
     },
     "execution_count": 112,
     "metadata": {},
     "output_type": "execute_result"
    }
   ],
   "source": [
    "# Load the schedule data as df\n",
    "schedule_df = dict_to_df(schedule_db)\n",
    "schedule_df.drop('index',axis=1,inplace=True)\n",
    "schedule_df.head()"
   ]
  },
  {
   "cell_type": "code",
   "execution_count": 212,
   "metadata": {
    "collapsed": false
   },
   "outputs": [],
   "source": [
    "# Join ship data to the schedule \n",
    "df = pd.merge(schedule_df, vessel_df,on='vessel')\n",
    "\n",
    "# Convert the ETA/ETD data to datetime objects\n",
    "for col in ['eta','etd']:\n",
    "    df[col] = pd.to_datetime(df[col])\n",
    "    \n",
    "    for timefield in ['year','month','day','hour','minute']:\n",
    "        df[col+'_'+timefield] = [getattr(x,timefield) for x in df[col]]"
   ]
  },
  {
   "cell_type": "code",
   "execution_count": 213,
   "metadata": {
    "collapsed": false
   },
   "outputs": [
    {
     "data": {
      "text/plain": [
       "<matplotlib.axes._subplots.AxesSubplot at 0x113375b50>"
      ]
     },
     "execution_count": 213,
     "metadata": {},
     "output_type": "execute_result"
    },
    {
     "data": {
      "image/png": "[encoded data removed]",
      "text/plain": [
       "<matplotlib.figure.Figure at 0x113856b90>"
      ]
     },
     "metadata": {},
     "output_type": "display_data"
    }
   ],
   "source": [
    "df.groupby('harbor').count()['vessel'].plot(kind='bar')"
   ]
  },
  {
   "cell_type": "code",
   "execution_count": 214,
   "metadata": {
    "collapsed": false
   },
   "outputs": [
    {
     "data": {
      "text/plain": [
       "<matplotlib.axes._subplots.AxesSubplot at 0x1138444d0>"
      ]
     },
     "execution_count": 214,
     "metadata": {},
     "output_type": "execute_result"
    },
    {
     "data": {
      "image/png": "[encoded data removed]",
      "text/plain": [
       "<matplotlib.figure.Figure at 0x113856490>"
      ]
     },
     "metadata": {},
     "output_type": "display_data"
    }
   ],
   "source": [
    "df.groupby('terminal').count()['vessel'].plot(kind='bar')"
   ]
  },
  {
   "cell_type": "code",
   "execution_count": 233,
   "metadata": {
    "collapsed": false
   },
   "outputs": [
    {
     "data": {
      "text/html": [
       "<div>\n",
       "<table border=\"1\" class=\"dataframe\">\n",
       "  <thead>\n",
       "    <tr style=\"text-align: right;\">\n",
       "      <th></th>\n",
       "      <th>eta</th>\n",
       "      <th>etd</th>\n",
       "      <th>harbor</th>\n",
       "      <th>href</th>\n",
       "      <th>terminal</th>\n",
       "      <th>vessel</th>\n",
       "      <th>agent</th>\n",
       "      <th>berth</th>\n",
       "      <th>cargotype</th>\n",
       "      <th>draught</th>\n",
       "      <th>...</th>\n",
       "      <th>eta_day</th>\n",
       "      <th>eta_hour</th>\n",
       "      <th>eta_minute</th>\n",
       "      <th>etd_year</th>\n",
       "      <th>etd_month</th>\n",
       "      <th>etd_day</th>\n",
       "      <th>etd_hour</th>\n",
       "      <th>etd_minute</th>\n",
       "      <th>time_till_eta</th>\n",
       "      <th>time_till_etd</th>\n",
       "    </tr>\n",
       "  </thead>\n",
       "  <tbody>\n",
       "    <tr>\n",
       "      <th>18</th>\n",
       "      <td>2016-08-08 08:30:00</td>\n",
       "      <td>2016-08-10 00:30:00</td>\n",
       "      <td>SEA</td>\n",
       "      <td>/node/340947</td>\n",
       "      <td>T18</td>\n",
       "      <td>APL GWANGYANG</td>\n",
       "      <td>HAPAG-LLOYD (AMERICA) INC</td>\n",
       "      <td>B</td>\n",
       "      <td>CONTAINERS</td>\n",
       "      <td>50.85</td>\n",
       "      <td>...</td>\n",
       "      <td>8</td>\n",
       "      <td>8</td>\n",
       "      <td>30</td>\n",
       "      <td>2016</td>\n",
       "      <td>8</td>\n",
       "      <td>10</td>\n",
       "      <td>0</td>\n",
       "      <td>30</td>\n",
       "      <td>0 days 13:44:49.191940</td>\n",
       "      <td>2 days 05:44:49.150901</td>\n",
       "    </tr>\n",
       "    <tr>\n",
       "      <th>19</th>\n",
       "      <td>2016-08-08 19:30:00</td>\n",
       "      <td>2016-08-09 17:00:00</td>\n",
       "      <td>SEA</td>\n",
       "      <td>/node/340948</td>\n",
       "      <td>T18</td>\n",
       "      <td>APL GWANGYANG</td>\n",
       "      <td>HAPAG-LLOYD (AMERICA) INC</td>\n",
       "      <td>B</td>\n",
       "      <td>CONTAINERS</td>\n",
       "      <td>50.85</td>\n",
       "      <td>...</td>\n",
       "      <td>8</td>\n",
       "      <td>19</td>\n",
       "      <td>30</td>\n",
       "      <td>2016</td>\n",
       "      <td>8</td>\n",
       "      <td>9</td>\n",
       "      <td>17</td>\n",
       "      <td>0</td>\n",
       "      <td>1 days 00:44:49.191907</td>\n",
       "      <td>1 days 22:14:49.150869</td>\n",
       "    </tr>\n",
       "    <tr>\n",
       "      <th>21</th>\n",
       "      <td>2016-08-08 01:45:00</td>\n",
       "      <td>2016-08-09 17:45:00</td>\n",
       "      <td>SEA</td>\n",
       "      <td>/node/340953</td>\n",
       "      <td>T46</td>\n",
       "      <td>MSC ELA</td>\n",
       "      <td>NORTON LILLY</td>\n",
       "      <td>NaN</td>\n",
       "      <td>CONTAINERS</td>\n",
       "      <td>0.00</td>\n",
       "      <td>...</td>\n",
       "      <td>8</td>\n",
       "      <td>1</td>\n",
       "      <td>45</td>\n",
       "      <td>2016</td>\n",
       "      <td>8</td>\n",
       "      <td>9</td>\n",
       "      <td>17</td>\n",
       "      <td>45</td>\n",
       "      <td>0 days 06:59:49.191832</td>\n",
       "      <td>1 days 22:59:49.150798</td>\n",
       "    </tr>\n",
       "    <tr>\n",
       "      <th>22</th>\n",
       "      <td>2016-08-08 05:00:00</td>\n",
       "      <td>2016-08-08 17:00:00</td>\n",
       "      <td>SEA</td>\n",
       "      <td>/node/340946</td>\n",
       "      <td>T18</td>\n",
       "      <td>BSL LIMASSOL</td>\n",
       "      <td>NORTON LILLY</td>\n",
       "      <td>1</td>\n",
       "      <td>CONTAINERS</td>\n",
       "      <td>0.00</td>\n",
       "      <td>...</td>\n",
       "      <td>8</td>\n",
       "      <td>5</td>\n",
       "      <td>0</td>\n",
       "      <td>2016</td>\n",
       "      <td>8</td>\n",
       "      <td>8</td>\n",
       "      <td>17</td>\n",
       "      <td>0</td>\n",
       "      <td>0 days 10:14:49.191788</td>\n",
       "      <td>0 days 22:14:49.150765</td>\n",
       "    </tr>\n",
       "    <tr>\n",
       "      <th>23</th>\n",
       "      <td>2016-08-08 12:00:00</td>\n",
       "      <td>2016-08-09 18:00:00</td>\n",
       "      <td>SEA</td>\n",
       "      <td>/node/340954</td>\n",
       "      <td>T46</td>\n",
       "      <td>CSCL BOHAI SEA</td>\n",
       "      <td>COSCO</td>\n",
       "      <td>NaN</td>\n",
       "      <td>CONTAINERS</td>\n",
       "      <td>0.00</td>\n",
       "      <td>...</td>\n",
       "      <td>8</td>\n",
       "      <td>12</td>\n",
       "      <td>0</td>\n",
       "      <td>2016</td>\n",
       "      <td>8</td>\n",
       "      <td>9</td>\n",
       "      <td>18</td>\n",
       "      <td>0</td>\n",
       "      <td>0 days 17:14:49.191755</td>\n",
       "      <td>1 days 23:14:49.150732</td>\n",
       "    </tr>\n",
       "    <tr>\n",
       "      <th>24</th>\n",
       "      <td>2016-08-08 13:00:00</td>\n",
       "      <td>2016-08-09 18:00:00</td>\n",
       "      <td>SEA</td>\n",
       "      <td>/node/340950</td>\n",
       "      <td>T30</td>\n",
       "      <td>CSCL BOHAI SEA</td>\n",
       "      <td>COSCO</td>\n",
       "      <td>NaN</td>\n",
       "      <td>CONTAINERS</td>\n",
       "      <td>0.00</td>\n",
       "      <td>...</td>\n",
       "      <td>8</td>\n",
       "      <td>13</td>\n",
       "      <td>0</td>\n",
       "      <td>2016</td>\n",
       "      <td>8</td>\n",
       "      <td>9</td>\n",
       "      <td>18</td>\n",
       "      <td>0</td>\n",
       "      <td>0 days 18:14:49.191722</td>\n",
       "      <td>1 days 23:14:49.150699</td>\n",
       "    </tr>\n",
       "    <tr>\n",
       "      <th>33</th>\n",
       "      <td>2016-08-10 07:00:00</td>\n",
       "      <td>2016-08-11 23:00:00</td>\n",
       "      <td>SEA</td>\n",
       "      <td>/node/340955</td>\n",
       "      <td>T46</td>\n",
       "      <td>MOL PARTNER</td>\n",
       "      <td>NORTON LILLY</td>\n",
       "      <td>NaN</td>\n",
       "      <td>CONTAINERS</td>\n",
       "      <td>0.00</td>\n",
       "      <td>...</td>\n",
       "      <td>10</td>\n",
       "      <td>7</td>\n",
       "      <td>0</td>\n",
       "      <td>2016</td>\n",
       "      <td>8</td>\n",
       "      <td>11</td>\n",
       "      <td>23</td>\n",
       "      <td>0</td>\n",
       "      <td>2 days 12:14:49.191319</td>\n",
       "      <td>4 days 04:14:49.150391</td>\n",
       "    </tr>\n",
       "    <tr>\n",
       "      <th>41</th>\n",
       "      <td>2016-08-12 18:00:00</td>\n",
       "      <td>2016-08-14 20:00:00</td>\n",
       "      <td>SEA</td>\n",
       "      <td>/node/340951</td>\n",
       "      <td>T30</td>\n",
       "      <td>UASC UMM QASR</td>\n",
       "      <td>NORTON LILLY</td>\n",
       "      <td>NORTH</td>\n",
       "      <td>CONTAINERS</td>\n",
       "      <td>0.00</td>\n",
       "      <td>...</td>\n",
       "      <td>12</td>\n",
       "      <td>18</td>\n",
       "      <td>0</td>\n",
       "      <td>2016</td>\n",
       "      <td>8</td>\n",
       "      <td>14</td>\n",
       "      <td>20</td>\n",
       "      <td>0</td>\n",
       "      <td>4 days 23:14:49.191014</td>\n",
       "      <td>7 days 01:14:49.150110</td>\n",
       "    </tr>\n",
       "  </tbody>\n",
       "</table>\n",
       "<p>8 rows × 25 columns</p>\n",
       "</div>"
      ],
      "text/plain": [
       "                   eta                 etd harbor          href terminal  \\\n",
       "18 2016-08-08 08:30:00 2016-08-10 00:30:00    SEA  /node/340947      T18   \n",
       "19 2016-08-08 19:30:00 2016-08-09 17:00:00    SEA  /node/340948      T18   \n",
       "21 2016-08-08 01:45:00 2016-08-09 17:45:00    SEA  /node/340953      T46   \n",
       "22 2016-08-08 05:00:00 2016-08-08 17:00:00    SEA  /node/340946      T18   \n",
       "23 2016-08-08 12:00:00 2016-08-09 18:00:00    SEA  /node/340954      T46   \n",
       "24 2016-08-08 13:00:00 2016-08-09 18:00:00    SEA  /node/340950      T30   \n",
       "33 2016-08-10 07:00:00 2016-08-11 23:00:00    SEA  /node/340955      T46   \n",
       "41 2016-08-12 18:00:00 2016-08-14 20:00:00    SEA  /node/340951      T30   \n",
       "\n",
       "            vessel                      agent  berth   cargotype draught  \\\n",
       "18   APL GWANGYANG  HAPAG-LLOYD (AMERICA) INC      B  CONTAINERS   50.85   \n",
       "19   APL GWANGYANG  HAPAG-LLOYD (AMERICA) INC      B  CONTAINERS   50.85   \n",
       "21         MSC ELA               NORTON LILLY    NaN  CONTAINERS    0.00   \n",
       "22    BSL LIMASSOL               NORTON LILLY      1  CONTAINERS    0.00   \n",
       "23  CSCL BOHAI SEA                      COSCO    NaN  CONTAINERS    0.00   \n",
       "24  CSCL BOHAI SEA                      COSCO    NaN  CONTAINERS    0.00   \n",
       "33     MOL PARTNER               NORTON LILLY    NaN  CONTAINERS    0.00   \n",
       "41   UASC UMM QASR               NORTON LILLY  NORTH  CONTAINERS    0.00   \n",
       "\n",
       "            ...           eta_day eta_hour eta_minute  etd_year  etd_month  \\\n",
       "18          ...                 8        8         30      2016          8   \n",
       "19          ...                 8       19         30      2016          8   \n",
       "21          ...                 8        1         45      2016          8   \n",
       "22          ...                 8        5          0      2016          8   \n",
       "23          ...                 8       12          0      2016          8   \n",
       "24          ...                 8       13          0      2016          8   \n",
       "33          ...                10        7          0      2016          8   \n",
       "41          ...                12       18          0      2016          8   \n",
       "\n",
       "    etd_day  etd_hour  etd_minute          time_till_eta  \\\n",
       "18       10         0          30 0 days 13:44:49.191940   \n",
       "19        9        17           0 1 days 00:44:49.191907   \n",
       "21        9        17          45 0 days 06:59:49.191832   \n",
       "22        8        17           0 0 days 10:14:49.191788   \n",
       "23        9        18           0 0 days 17:14:49.191755   \n",
       "24        9        18           0 0 days 18:14:49.191722   \n",
       "33       11        23           0 2 days 12:14:49.191319   \n",
       "41       14        20           0 4 days 23:14:49.191014   \n",
       "\n",
       "            time_till_etd  \n",
       "18 2 days 05:44:49.150901  \n",
       "19 1 days 22:14:49.150869  \n",
       "21 1 days 22:59:49.150798  \n",
       "22 0 days 22:14:49.150765  \n",
       "23 1 days 23:14:49.150732  \n",
       "24 1 days 23:14:49.150699  \n",
       "33 4 days 04:14:49.150391  \n",
       "41 7 days 01:14:49.150110  \n",
       "\n",
       "[8 rows x 25 columns]"
      ]
     },
     "execution_count": 233,
     "metadata": {},
     "output_type": "execute_result"
    }
   ],
   "source": [
    "# Find pending arrivals for specific ports\n",
    "my_terminal = 'Weyco Log'\n",
    "my_harbor = 'SEA'\n",
    "df[(df['harbor'] == my_harbor) & (df['eta'] > datetime.now())]"
   ]
  },
  {
   "cell_type": "code",
   "execution_count": 227,
   "metadata": {
    "collapsed": false
   },
   "outputs": [],
   "source": [
    "df['time_till_eta'] = [x-datetime.now() for x in df['eta']]\n",
    "df['time_till_etd'] = [x-datetime.now() for x in df['etd']]"
   ]
  },
  {
   "cell_type": "code",
   "execution_count": 238,
   "metadata": {
    "collapsed": false
   },
   "outputs": [
    {
     "data": {
      "text/plain": [
       "cargotype\n",
       "AUTOS                 8\n",
       "AUTOS -1ST BERTH      2\n",
       "CONTAINERS           28\n",
       "CONTAINERS / GC       4\n",
       "CONTAINERS / RORO     1\n",
       "HH / RORO             1\n",
       "LAY BERTH             8\n",
       "LOGS                  1\n",
       "RORO                  2\n",
       "RORO / HH             5\n",
       "Name: vessel, dtype: int64"
      ]
     },
     "execution_count": 238,
     "metadata": {},
     "output_type": "execute_result"
    }
   ],
   "source": [
    "# Cargo type\n",
    "df.groupby('cargotype').count()['vessel']"
   ]
  },
  {
   "cell_type": "code",
   "execution_count": 252,
   "metadata": {
    "collapsed": false
   },
   "outputs": [
    {
     "name": "stdout",
     "output_type": "stream",
     "text": [
      "DRAUGHT\n",
      "----------------\n",
      "MAX:\n",
      "50.85\n",
      "----------------\n",
      "MEAN:\n",
      "28.4341666667\n"
     ]
    }
   ],
   "source": [
    "print \"DRAUGHT\"\n",
    "print \"----------------\"\n",
    "print 'MAX:'\n",
    "print df['draught'].max()\n",
    "print \"----------------\"\n",
    "print 'MEAN:'\n",
    "print df['draught'].astype('float').mean()"
   ]
  },
  {
   "cell_type": "code",
   "execution_count": 260,
   "metadata": {
    "collapsed": false
   },
   "outputs": [
    {
     "data": {
      "text/plain": [
       "terminal\n",
       "APM Terminals                  3\n",
       "Blair Terminal                 9\n",
       "East Blair 1                   8\n",
       "Olympic Container Terminal     3\n",
       "Pierce County Terminal         5\n",
       "T18                            4\n",
       "T30                            3\n",
       "T46                            4\n",
       "TOTE                           2\n",
       "Terminal 3                     5\n",
       "Terminal 7 A/B                 5\n",
       "Washington United Terminals    6\n",
       "Weyco Log                      3\n",
       "Name: vessel, dtype: int64"
      ]
     },
     "execution_count": 260,
     "metadata": {},
     "output_type": "execute_result"
    }
   ],
   "source": [
    "df.groupby('terminal').count()['vessel']"
   ]
  },
  {
   "cell_type": "code",
   "execution_count": null,
   "metadata": {
    "collapsed": true
   },
   "outputs": [],
   "source": [
    "# Create a lookup table for bridges associated with terminal\n",
    "'Terminal 115'"
   ]
  },
  {
   "cell_type": "markdown",
   "metadata": {},
   "source": [
    "Data may not be great for predicting bridge openings, but will at least predict drayage traffic."
   ]
  },
  {
   "cell_type": "markdown",
   "metadata": {},
   "source": [
    "# Prediction\n",
    "Compare ship ETA/ETD data with bridge opening events"
   ]
  },
  {
   "cell_type": "code",
   "execution_count": null,
   "metadata": {
    "collapsed": true
   },
   "outputs": [],
   "source": []
  }
 ],
 "metadata": {
  "kernelspec": {
   "display_name": "Python 2",
   "language": "python",
   "name": "python2"
  },
  "language_info": {
   "codemirror_mode": {
    "name": "ipython",
    "version": 2
   },
   "file_extension": ".py",
   "mimetype": "text/x-python",
   "name": "python",
   "nbconvert_exporter": "python",
   "pygments_lexer": "ipython2",
   "version": "2.7.10"
  }
 },
 "nbformat": 4,
 "nbformat_minor": 0
}

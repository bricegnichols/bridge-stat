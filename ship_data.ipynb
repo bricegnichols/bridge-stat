{
 "cells": [
  {
   "cell_type": "code",
   "execution_count": 202,
   "metadata": {
    "collapsed": true
   },
   "outputs": [],
   "source": [
    "from lxml import html\n",
    "import requests\n",
    "from BeautifulSoup import BeautifulSoup"
   ]
  },
  {
   "cell_type": "code",
   "execution_count": 203,
   "metadata": {
    "collapsed": false
   },
   "outputs": [],
   "source": [
    "page = requests.get('https://www.nwseaportalliance.com/operations/vessels')"
   ]
  },
  {
   "cell_type": "code",
   "execution_count": 204,
   "metadata": {
    "collapsed": false
   },
   "outputs": [],
   "source": [
    "# Pull existing data\n",
    "soup = BeautifulSoup(page.text)"
   ]
  },
  {
   "cell_type": "code",
   "execution_count": 205,
   "metadata": {
    "collapsed": false
   },
   "outputs": [],
   "source": [
    "vessels = soup.findAll('td', {'class':'views-field views-field-title-1'})"
   ]
  },
  {
   "cell_type": "code",
   "execution_count": 206,
   "metadata": {
    "collapsed": false
   },
   "outputs": [
    {
     "data": {
      "text/plain": [
       "[u'MATSON PRODUCER               ']"
      ]
     },
     "execution_count": 206,
     "metadata": {},
     "output_type": "execute_result"
    }
   ],
   "source": [
    "vessels[0].findAll('a',href=True)[0].contents"
   ]
  },
  {
   "cell_type": "code",
   "execution_count": 207,
   "metadata": {
    "collapsed": false
   },
   "outputs": [
    {
     "name": "stdout",
     "output_type": "stream",
     "text": [
      "/node/338542\n",
      "MATSON PRODUCER               \n"
     ]
    }
   ],
   "source": [
    "for a in vessels[0].findAll('a', href=True):\n",
    "    print a['href']    # the location of vessel data \n",
    "    print a.contents[0]    # vessel name?"
   ]
  },
  {
   "cell_type": "code",
   "execution_count": 208,
   "metadata": {
    "collapsed": false
   },
   "outputs": [],
   "source": [
    "vessel_list = []\n",
    "href_list = []\n",
    "for vessel in vessels:\n",
    "    atag = vessel.findAll('a',href=True)[0]\n",
    "    vessel_list.append(atag.contents[0])\n",
    "    href_list.append(atag['href'])"
   ]
  },
  {
   "cell_type": "code",
   "execution_count": null,
   "metadata": {
    "collapsed": false
   },
   "outputs": [],
   "source": []
  },
  {
   "cell_type": "code",
   "execution_count": 216,
   "metadata": {
    "collapsed": false
   },
   "outputs": [],
   "source": [
    "# Get all the ETA data\n",
    "eta = soup.findAll('div',{'class':'field field-name-field-vessel-eta field-type-datestamp field-label-hidden'})\n",
    "eta_list = []\n",
    "for e in eta:\n",
    "    eta_list.append(e.findAll('span')[0].contents[0].strip())"
   ]
  },
  {
   "cell_type": "code",
   "execution_count": 217,
   "metadata": {
    "collapsed": false
   },
   "outputs": [],
   "source": [
    "# Get all the ETD data\n",
    "etd = soup.findAll('div', {'class':'field field-name-field-vessel-etd field-type-datestamp field-label-hidden'})\n",
    "etd_list = []\n",
    "for e in etd:\n",
    "    etd_list.append(e.findAll('span')[0].contents[0].strip())"
   ]
  },
  {
   "cell_type": "code",
   "execution_count": 218,
   "metadata": {
    "collapsed": false
   },
   "outputs": [],
   "source": [
    "# Get all the ETD data\n",
    "harbor = soup.findAll('div', {'class':'field field-name-field-vessel-terminal field-type-text field-label-hidden'})\n",
    "harbor_list = []\n",
    "for h in harbor:\n",
    "    harbor_list.append(h.contents[0].split('\\n')[-1].strip())"
   ]
  },
  {
   "cell_type": "code",
   "execution_count": null,
   "metadata": {
    "collapsed": false
   },
   "outputs": [],
   "source": []
  },
  {
   "cell_type": "code",
   "execution_count": 220,
   "metadata": {
    "collapsed": false
   },
   "outputs": [],
   "source": [
    "# If ship doesn't already exist in our database, collect it\n",
    "vessel_db = []\n",
    "\n",
    "# for i in xrange(len(vessel_list)):\n",
    "for i in [0]:\n",
    "    vessel = vessel_list[i].strip()\n",
    "    if vessel not in ship_db:\n",
    "        href = href_list[i]\n",
    "        page = requests.get('https://www.nwseaportalliance.com' + href)\n",
    "        soup = BeautifulSoup(page.text)\n",
    "        vessel_db.append(vessel)"
   ]
  },
  {
   "cell_type": "code",
   "execution_count": null,
   "metadata": {
    "collapsed": false
   },
   "outputs": [],
   "source": []
  },
  {
   "cell_type": "code",
   "execution_count": null,
   "metadata": {
    "collapsed": false
   },
   "outputs": [],
   "source": []
  },
  {
   "cell_type": "code",
   "execution_count": 221,
   "metadata": {
    "collapsed": false
   },
   "outputs": [],
   "source": [
    "# Get the list of class names to search\n",
    "vessel_class_names = []\n",
    "for field in [i['class'] for i in soup.findAll('div')[1:]]:\n",
    "    if 'field' in str(field):\n",
    "        vessel_class_names.append(field)"
   ]
  },
  {
   "cell_type": "code",
   "execution_count": 222,
   "metadata": {
    "collapsed": false
   },
   "outputs": [
    {
     "data": {
      "text/plain": [
       "[u'field field-name-field-vessel-eta field-type-datestamp field-label-above',\n",
       " u'field field-name-field-vessel-etd field-type-datestamp field-label-above',\n",
       " u'field field-name-field-vessel-cargotype field-type-text field-label-above',\n",
       " u'field field-name-field-vessel-stevedore field-type-text field-label-above',\n",
       " u'field field-name-field-vessel-agent field-type-text field-label-above',\n",
       " u'field field-name-field-vessel-length field-type-text field-label-above',\n",
       " u'field field-name-field-vessel-width field-type-text field-label-above',\n",
       " u'field field-name-field-vessel-draught field-type-text field-label-above',\n",
       " u'field field-name-field-vessel-berth field-type-text field-label-above',\n",
       " u'field field-name-field-vessel-terminal field-type-text field-label-above',\n",
       " u'field field-name-field-vessel-harbor field-type-text field-label-above']"
      ]
     },
     "execution_count": 222,
     "metadata": {},
     "output_type": "execute_result"
    }
   ],
   "source": [
    "vessel_class_names"
   ]
  },
  {
   "cell_type": "code",
   "execution_count": 223,
   "metadata": {
    "collapsed": false
   },
   "outputs": [],
   "source": [
    "vessel_dict = {}\n",
    "for class_name in vessel_class_names:\n",
    "    field_name = class_name.split(' ')[1].split('-')[-1]\n",
    "    field_val = soup.findAll('div', {'class':class_name})[0].contents[0].split('\\n')[-1].strip()\n",
    "    vessel_dict[field_name] = field_val"
   ]
  },
  {
   "cell_type": "code",
   "execution_count": 224,
   "metadata": {
    "collapsed": false
   },
   "outputs": [
    {
     "data": {
      "text/plain": [
       "{u'agent': u'MATSON',\n",
       " u'berth': u'B',\n",
       " u'cargotype': u'LAY BERTH',\n",
       " u'draught': u'34.09',\n",
       " u'eta': u'',\n",
       " u'etd': u'',\n",
       " u'harbor': u'TAC',\n",
       " u'length': u'720.54',\n",
       " u'stevedore': u'',\n",
       " u'terminal': u'APM Terminals',\n",
       " u'width': u'95.18'}"
      ]
     },
     "execution_count": 224,
     "metadata": {},
     "output_type": "execute_result"
    }
   ],
   "source": [
    "vessel_dict"
   ]
  },
  {
   "cell_type": "code",
   "execution_count": null,
   "metadata": {
    "collapsed": true
   },
   "outputs": [],
   "source": [
    "#"
   ]
  }
 ],
 "metadata": {
  "kernelspec": {
   "display_name": "Python 2",
   "language": "python",
   "name": "python2"
  },
  "language_info": {
   "codemirror_mode": {
    "name": "ipython",
    "version": 2
   },
   "file_extension": ".py",
   "mimetype": "text/x-python",
   "name": "python",
   "nbconvert_exporter": "python",
   "pygments_lexer": "ipython2",
   "version": "2.7.10"
  }
 },
 "nbformat": 4,
 "nbformat_minor": 0
}

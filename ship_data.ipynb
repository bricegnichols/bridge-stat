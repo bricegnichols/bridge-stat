{
 "cells": [
  {
   "cell_type": "code",
   "execution_count": 44,
   "metadata": {
    "collapsed": true
   },
   "outputs": [],
   "source": [
    "from lxml import html\n",
    "import requests\n",
    "from BeautifulSoup import BeautifulSoup"
   ]
  },
  {
   "cell_type": "code",
   "execution_count": 48,
   "metadata": {
    "collapsed": false
   },
   "outputs": [],
   "source": [
    "page = requests.get('http://www.nwseaportalliance.com/operations/vessels')"
   ]
  },
  {
   "cell_type": "code",
   "execution_count": 92,
   "metadata": {
    "collapsed": false
   },
   "outputs": [],
   "source": [
    "# Pull existing data\n",
    "soup = BeautifulSoup(page.text)"
   ]
  },
  {
   "cell_type": "code",
   "execution_count": 155,
   "metadata": {
    "collapsed": false
   },
   "outputs": [],
   "source": [
    "vessels = soup.findAll('td', {'class':'views-field views-field-title-1'})"
   ]
  },
  {
   "cell_type": "code",
   "execution_count": 161,
   "metadata": {
    "collapsed": false
   },
   "outputs": [
    {
     "data": {
      "text/plain": [
       "[u'MATSON PRODUCER               ']"
      ]
     },
     "execution_count": 161,
     "metadata": {},
     "output_type": "execute_result"
    }
   ],
   "source": [
    "vessels[0].findAll('a',href=True)[0].contents"
   ]
  },
  {
   "cell_type": "code",
   "execution_count": 173,
   "metadata": {
    "collapsed": false
   },
   "outputs": [
    {
     "name": "stdout",
     "output_type": "stream",
     "text": [
      "/node/337213\n",
      "MATSON PRODUCER               \n"
     ]
    }
   ],
   "source": [
    "for a in vessels[0].findAll('a', href=True):\n",
    "    print a['href']    # the location of vessel data \n",
    "    print a.contents[0]    # vessel name?"
   ]
  },
  {
   "cell_type": "code",
   "execution_count": 184,
   "metadata": {
    "collapsed": false
   },
   "outputs": [],
   "source": [
    "vessel_list = []\n",
    "href_list = []\n",
    "for vessel in vessels:\n",
    "    atag = vessel.findAll('a',href=True)[0]\n",
    "    vessel_list.append(atag.contents[0])\n",
    "    href_list.append(atag['href'])"
   ]
  },
  {
   "cell_type": "code",
   "execution_count": 196,
   "metadata": {
    "collapsed": false
   },
   "outputs": [],
   "source": [
    "# Get all the ETA data\n",
    "eta = soup.findAll('div',{'class':'field field-name-field-vessel-eta field-type-datestamp field-label-hidden'})"
   ]
  },
  {
   "cell_type": "code",
   "execution_count": 210,
   "metadata": {
    "collapsed": false
   },
   "outputs": [
    {
     "data": {
      "text/plain": [
       "[u'03/29/2016 - 8:00am']"
      ]
     },
     "execution_count": 210,
     "metadata": {},
     "output_type": "execute_result"
    }
   ],
   "source": [
    "eta[1].findAll('span')[0].contents"
   ]
  },
  {
   "cell_type": "code",
   "execution_count": 213,
   "metadata": {
    "collapsed": true
   },
   "outputs": [],
   "source": [
    "eta_list = []\n",
    "for e in eta:\n",
    "    eta_list.append(e.findAll('span')[0].contents[0])"
   ]
  },
  {
   "cell_type": "code",
   "execution_count": 214,
   "metadata": {
    "collapsed": false
   },
   "outputs": [
    {
     "data": {
      "text/plain": [
       "[u'12/05/2015 - 8:00am',\n",
       " u'03/29/2016 - 8:00am',\n",
       " u'07/19/2016 - 7:00pm',\n",
       " u'07/25/2016 - 2:00pm',\n",
       " u'07/26/2016 - 3:00pm',\n",
       " u'07/29/2016 - 6:00pm',\n",
       " u'08/02/2016 - 6:00am',\n",
       " u'08/03/2016 - 3:03am',\n",
       " u'08/03/2016 - 5:00am',\n",
       " u'08/03/2016 - 7:00am',\n",
       " u'08/03/2016 - 3:00pm',\n",
       " u'08/03/2016 - 3:00pm',\n",
       " u'08/03/2016 - 3:45pm',\n",
       " u'08/03/2016 - 4:00pm',\n",
       " u'08/04/2016 - 6:30am',\n",
       " u'08/04/2016 - 3:00pm',\n",
       " u'08/04/2016 - 4:00pm',\n",
       " u'08/04/2016 - 8:00pm',\n",
       " u'08/04/2016 - 9:30pm',\n",
       " u'08/05/2016 - 10:30am',\n",
       " u'08/05/2016 - 12:00pm',\n",
       " u'08/05/2016 - 3:00pm',\n",
       " u'08/06/2016 - 6:00am',\n",
       " u'08/06/2016 - 2:00pm',\n",
       " u'08/06/2016 - 3:30pm',\n",
       " u'08/06/2016 - 4:00pm',\n",
       " u'08/07/2016 - 3:30pm',\n",
       " u'08/08/2016 - 8:30am',\n",
       " u'08/08/2016 - 12:00pm',\n",
       " u'08/08/2016 - 4:00pm',\n",
       " u'08/09/2016 - 6:00am',\n",
       " u'08/09/2016 - 9:30pm',\n",
       " u'08/10/2016 - 12:30am',\n",
       " u'08/10/2016 - 5:00am',\n",
       " u'08/10/2016 - 6:00am',\n",
       " u'08/10/2016 - 6:00am',\n",
       " u'08/10/2016 - 7:00am',\n",
       " u'08/10/2016 - 3:00pm',\n",
       " u'08/11/2016 - 6:00am',\n",
       " u'08/12/2016 - 5:00am',\n",
       " u'08/12/2016 - 6:00am',\n",
       " u'08/12/2016 - 6:00am',\n",
       " u'08/12/2016 - 5:00pm',\n",
       " u'08/12/2016 - 7:00pm',\n",
       " u'08/12/2016 - 8:00pm',\n",
       " u'08/13/2016 - 6:00am',\n",
       " u'08/13/2016 - 3:30pm',\n",
       " u'08/13/2016 - 4:00pm',\n",
       " u'08/14/2016 - 3:30pm',\n",
       " u'08/16/2016 - 4:00pm',\n",
       " u'08/17/2016 - 6:00am',\n",
       " u'08/17/2016 - 6:00am',\n",
       " u'08/17/2016 - 3:00pm',\n",
       " u'08/19/2016 - 6:00am',\n",
       " u'08/20/2016 - 3:30pm',\n",
       " u'08/21/2016 - 8:00pm',\n",
       " u'08/23/2016 - 8:00am',\n",
       " u'08/26/2016 - 5:00am',\n",
       " u'08/26/2016 - 5:00pm',\n",
       " u'08/27/2016 - 8:00pm',\n",
       " u'08/29/2016 - 6:00am',\n",
       " u'08/31/2016 - 6:00am']"
      ]
     },
     "execution_count": 214,
     "metadata": {},
     "output_type": "execute_result"
    }
   ],
   "source": [
    "eta_list"
   ]
  },
  {
   "cell_type": "code",
   "execution_count": null,
   "metadata": {
    "collapsed": true
   },
   "outputs": [],
   "source": []
  }
 ],
 "metadata": {
  "kernelspec": {
   "display_name": "Python 2",
   "language": "python",
   "name": "python2"
  },
  "language_info": {
   "codemirror_mode": {
    "name": "ipython",
    "version": 2
   },
   "file_extension": ".py",
   "mimetype": "text/x-python",
   "name": "python",
   "nbconvert_exporter": "python",
   "pygments_lexer": "ipython2",
   "version": "2.7.10"
  }
 },
 "nbformat": 4,
 "nbformat_minor": 0
}

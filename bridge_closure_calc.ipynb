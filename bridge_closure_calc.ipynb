{
 "metadata": {
  "name": "",
  "signature": "sha256:e9197138a9359046148454a3b85d042278fef48fc7170ccf89305503ee987db1"
 },
 "nbformat": 3,
 "nbformat_minor": 0,
 "worksheets": [
  {
   "cells": [
    {
     "cell_type": "code",
     "collapsed": false,
     "input": [
      "test = [[u'Aug', u'04', u'02:46:15', u'The Lower Spokane St Bridge has closed to   traffic - 7:46:11 PM'], [u'Aug', u'04', u'01:54:48', u'The Lower Spokane St Bridge has closed to   traffic - 6:54:45 PM'], [u'Aug', u'04', u'00:49:28', u'The Lower Spokane St Bridge has closed to   traffic - 5:49:24 PM']]"
     ],
     "language": "python",
     "metadata": {},
     "outputs": [],
     "prompt_number": 1
    },
    {
     "cell_type": "code",
     "collapsed": false,
     "input": [
      "test[1]"
     ],
     "language": "python",
     "metadata": {},
     "outputs": [
      {
       "metadata": {},
       "output_type": "pyout",
       "prompt_number": 2,
       "text": [
        "[u'Aug',\n",
        " u'04',\n",
        " u'01:54:48',\n",
        " u'The Lower Spokane St Bridge has closed to   traffic - 6:54:45 PM']"
       ]
      }
     ],
     "prompt_number": 2
    },
    {
     "cell_type": "code",
     "collapsed": false,
     "input": [
      "test[2]"
     ],
     "language": "python",
     "metadata": {},
     "outputs": [
      {
       "metadata": {},
       "output_type": "pyout",
       "prompt_number": 3,
       "text": [
        "[u'Aug',\n",
        " u'04',\n",
        " u'00:49:28',\n",
        " u'The Lower Spokane St Bridge has closed to   traffic - 5:49:24 PM']"
       ]
      }
     ],
     "prompt_number": 3
    },
    {
     "cell_type": "code",
     "collapsed": false,
     "input": [
      "test[2][1]"
     ],
     "language": "python",
     "metadata": {},
     "outputs": [
      {
       "metadata": {},
       "output_type": "pyout",
       "prompt_number": 4,
       "text": [
        "u'04'"
       ]
      }
     ],
     "prompt_number": 4
    },
    {
     "cell_type": "code",
     "collapsed": false,
     "input": [
      "from datetime import datetime"
     ],
     "language": "python",
     "metadata": {},
     "outputs": [],
     "prompt_number": 5
    },
    {
     "cell_type": "code",
     "collapsed": false,
     "input": [
      "timestring = \"Fri Aug 08 10:15:11 +0000 2015\""
     ],
     "language": "python",
     "metadata": {},
     "outputs": [],
     "prompt_number": 6
    },
    {
     "cell_type": "code",
     "collapsed": false,
     "input": [
      "date_object = datetime.strptime('Jun 1 2005  1:33PM', '%b %d %Y %I:%M%p')"
     ],
     "language": "python",
     "metadata": {},
     "outputs": [],
     "prompt_number": 7
    },
    {
     "cell_type": "code",
     "collapsed": false,
     "input": [
      "date_object"
     ],
     "language": "python",
     "metadata": {},
     "outputs": [
      {
       "metadata": {},
       "output_type": "pyout",
       "prompt_number": 8,
       "text": [
        "datetime.datetime(2005, 6, 1, 13, 33)"
       ]
      }
     ],
     "prompt_number": 8
    },
    {
     "cell_type": "code",
     "collapsed": false,
     "input": [
      "newtimestring = timestring.split(\" \")"
     ],
     "language": "python",
     "metadata": {},
     "outputs": [],
     "prompt_number": 9
    },
    {
     "cell_type": "code",
     "collapsed": false,
     "input": [
      "' '.join(newtimestring[-2:-1])"
     ],
     "language": "python",
     "metadata": {},
     "outputs": [
      {
       "metadata": {},
       "output_type": "pyout",
       "prompt_number": 10,
       "text": [
        "'+0000'"
       ]
      }
     ],
     "prompt_number": 10
    },
    {
     "cell_type": "code",
     "collapsed": false,
     "input": [
      "newtimestring = ' '.join(timestring.split(\" \")[:-2])"
     ],
     "language": "python",
     "metadata": {},
     "outputs": [],
     "prompt_number": 11
    },
    {
     "cell_type": "code",
     "collapsed": false,
     "input": [
      "newtimestring = newtimestring + \" \" + timestring.split(\" \")[-1]"
     ],
     "language": "python",
     "metadata": {},
     "outputs": [],
     "prompt_number": 12
    },
    {
     "cell_type": "code",
     "collapsed": false,
     "input": [
      "my_object = datetime.strptime(newtimestring, '%a %b %d %H:%M:%S %Y')"
     ],
     "language": "python",
     "metadata": {},
     "outputs": [],
     "prompt_number": 13
    },
    {
     "cell_type": "code",
     "collapsed": false,
     "input": [
      "my_object"
     ],
     "language": "python",
     "metadata": {},
     "outputs": [
      {
       "metadata": {},
       "output_type": "pyout",
       "prompt_number": 14,
       "text": [
        "datetime.datetime(2015, 8, 8, 10, 15, 11)"
       ]
      }
     ],
     "prompt_number": 14
    },
    {
     "cell_type": "code",
     "collapsed": false,
     "input": [
      "present = datetime.now()"
     ],
     "language": "python",
     "metadata": {},
     "outputs": [],
     "prompt_number": 15
    },
    {
     "cell_type": "code",
     "collapsed": false,
     "input": [
      "diff = present - my_object"
     ],
     "language": "python",
     "metadata": {},
     "outputs": [],
     "prompt_number": 16
    },
    {
     "cell_type": "code",
     "collapsed": false,
     "input": [
      "diff.seconds/3600"
     ],
     "language": "python",
     "metadata": {},
     "outputs": [
      {
       "metadata": {},
       "output_type": "pyout",
       "prompt_number": 17,
       "text": [
        "0"
       ]
      }
     ],
     "prompt_number": 17
    },
    {
     "cell_type": "code",
     "collapsed": false,
     "input": [
      "def days_hours_minutes(td):\n",
      "    mydict = {}\n",
      "    mydict['days'] = td.days\n",
      "    mydict['hours'] = td.seconds//3600\n",
      "    mydict['minutes'] = (td.seconds//60)%60\n",
      "    return mydict"
     ],
     "language": "python",
     "metadata": {},
     "outputs": [],
     "prompt_number": 18
    },
    {
     "cell_type": "code",
     "collapsed": false,
     "input": [
      "newdiff = days_hours_minutes(diff)"
     ],
     "language": "python",
     "metadata": {},
     "outputs": [],
     "prompt_number": 19
    },
    {
     "cell_type": "code",
     "collapsed": false,
     "input": [
      "newdiff['days']"
     ],
     "language": "python",
     "metadata": {},
     "outputs": [
      {
       "metadata": {},
       "output_type": "pyout",
       "prompt_number": 20,
       "text": [
        "175"
       ]
      }
     ],
     "prompt_number": 20
    },
    {
     "cell_type": "code",
     "collapsed": false,
     "input": [
      "# only report if difference is in past 30 minutes\n",
      "if newdiff['days'] == 0 and newdiff['hours'] == 0 and newdiff['minutes'] < 30:\n",
      "    print 'yes'"
     ],
     "language": "python",
     "metadata": {},
     "outputs": [],
     "prompt_number": 21
    },
    {
     "cell_type": "code",
     "collapsed": false,
     "input": [
      "minutes = diff.seconds // 60 % 60"
     ],
     "language": "python",
     "metadata": {},
     "outputs": [],
     "prompt_number": 22
    },
    {
     "cell_type": "code",
     "collapsed": false,
     "input": [
      "hours"
     ],
     "language": "python",
     "metadata": {},
     "outputs": [
      {
       "ename": "NameError",
       "evalue": "name 'hours' is not defined",
       "output_type": "pyerr",
       "traceback": [
        "\u001b[0;31m---------------------------------------------------------------------------\u001b[0m\n\u001b[0;31mNameError\u001b[0m                                 Traceback (most recent call last)",
        "\u001b[0;32m<ipython-input-23-da008760094c>\u001b[0m in \u001b[0;36m<module>\u001b[0;34m()\u001b[0m\n\u001b[0;32m----> 1\u001b[0;31m \u001b[0mhours\u001b[0m\u001b[0;34m\u001b[0m\u001b[0m\n\u001b[0m",
        "\u001b[0;31mNameError\u001b[0m: name 'hours' is not defined"
       ]
      }
     ],
     "prompt_number": 23
    },
    {
     "cell_type": "code",
     "collapsed": false,
     "input": [
      "diff.days"
     ],
     "language": "python",
     "metadata": {},
     "outputs": [
      {
       "metadata": {},
       "output_type": "pyout",
       "prompt_number": 24,
       "text": [
        "175"
       ]
      }
     ],
     "prompt_number": 24
    },
    {
     "cell_type": "code",
     "collapsed": false,
     "input": [
      "present"
     ],
     "language": "python",
     "metadata": {},
     "outputs": [
      {
       "metadata": {},
       "output_type": "pyout",
       "prompt_number": 25,
       "text": [
        "datetime.datetime(2016, 1, 30, 10, 44, 49, 903658)"
       ]
      }
     ],
     "prompt_number": 25
    },
    {
     "cell_type": "code",
     "collapsed": false,
     "input": [
      "my_object"
     ],
     "language": "python",
     "metadata": {},
     "outputs": [
      {
       "metadata": {},
       "output_type": "pyout",
       "prompt_number": 26,
       "text": [
        "datetime.datetime(2015, 8, 8, 10, 15, 11)"
       ]
      }
     ],
     "prompt_number": 26
    },
    {
     "cell_type": "code",
     "collapsed": false,
     "input": [
      "diff.seconds/3600"
     ],
     "language": "python",
     "metadata": {},
     "outputs": [
      {
       "metadata": {},
       "output_type": "pyout",
       "prompt_number": 27,
       "text": [
        "0"
       ]
      }
     ],
     "prompt_number": 27
    },
    {
     "cell_type": "code",
     "collapsed": false,
     "input": [],
     "language": "python",
     "metadata": {},
     "outputs": [],
     "prompt_number": 27
    },
    {
     "cell_type": "code",
     "collapsed": false,
     "input": [
      "type({\"timestamp_ms\":\"1439066732117\"})"
     ],
     "language": "python",
     "metadata": {},
     "outputs": [
      {
       "metadata": {},
       "output_type": "pyout",
       "prompt_number": 28,
       "text": [
        "dict"
       ]
      }
     ],
     "prompt_number": 28
    },
    {
     "cell_type": "code",
     "collapsed": false,
     "input": [
      "present = datetime.now()"
     ],
     "language": "python",
     "metadata": {},
     "outputs": [],
     "prompt_number": 29
    },
    {
     "cell_type": "code",
     "collapsed": false,
     "input": [
      "present"
     ],
     "language": "python",
     "metadata": {},
     "outputs": [
      {
       "metadata": {},
       "output_type": "pyout",
       "prompt_number": 30,
       "text": [
        "datetime.datetime(2016, 1, 30, 10, 48, 34, 32639)"
       ]
      }
     ],
     "prompt_number": 30
    },
    {
     "cell_type": "code",
     "collapsed": false,
     "input": [
      "startTime = \"4:25PM\"\n",
      "endTime = \"7:30PM\""
     ],
     "language": "python",
     "metadata": {},
     "outputs": [],
     "prompt_number": 31
    },
    {
     "cell_type": "code",
     "collapsed": false,
     "input": [
      "startTimeObj = datetime.strptime(startTime, '%I:%M%p')\n",
      "endTimeObj = datetime.strptime(endTime, '%I:%M%p')"
     ],
     "language": "python",
     "metadata": {},
     "outputs": [],
     "prompt_number": 32
    },
    {
     "cell_type": "code",
     "collapsed": false,
     "input": [
      "startTime"
     ],
     "language": "python",
     "metadata": {},
     "outputs": [
      {
       "metadata": {},
       "output_type": "pyout",
       "prompt_number": 33,
       "text": [
        "'4:25PM'"
       ]
      }
     ],
     "prompt_number": 33
    },
    {
     "cell_type": "code",
     "collapsed": false,
     "input": [
      "# join the start time string with fields to match a datetime.now() object\n",
      "present.hour"
     ],
     "language": "python",
     "metadata": {},
     "outputs": [
      {
       "metadata": {},
       "output_type": "pyout",
       "prompt_number": 34,
       "text": [
        "10"
       ]
      }
     ],
     "prompt_number": 34
    },
    {
     "cell_type": "code",
     "collapsed": false,
     "input": [
      "startTimeObj.hour\n",
      "endTimeObj.hour"
     ],
     "language": "python",
     "metadata": {},
     "outputs": [
      {
       "metadata": {},
       "output_type": "pyout",
       "prompt_number": 35,
       "text": [
        "19"
       ]
      }
     ],
     "prompt_number": 35
    },
    {
     "cell_type": "code",
     "collapsed": false,
     "input": [
      "startTimeObj.minute\n",
      "endTimeObj.hour"
     ],
     "language": "python",
     "metadata": {},
     "outputs": [
      {
       "metadata": {},
       "output_type": "pyout",
       "prompt_number": 36,
       "text": [
        "19"
       ]
      }
     ],
     "prompt_number": 36
    },
    {
     "cell_type": "code",
     "collapsed": false,
     "input": [
      "if startTimeObj.hour <= present.hour <= endTimeObj.hour and \\\n",
      "   startTimeObj.minute <= present.minute <= endTimeObj.minute:\n",
      "    print \"yes\""
     ],
     "language": "python",
     "metadata": {},
     "outputs": [],
     "prompt_number": 37
    },
    {
     "cell_type": "code",
     "collapsed": false,
     "input": [
      "import pandas as pd \n",
      "\n",
      "df = pd.read_csv('SDOTBridges_tweets.csv')"
     ],
     "language": "python",
     "metadata": {},
     "outputs": [],
     "prompt_number": 38
    },
    {
     "cell_type": "code",
     "collapsed": false,
     "input": [
      "len(df)"
     ],
     "language": "python",
     "metadata": {},
     "outputs": [
      {
       "metadata": {},
       "output_type": "pyout",
       "prompt_number": 39,
       "text": [
        "3246"
       ]
      }
     ],
     "prompt_number": 39
    },
    {
     "cell_type": "code",
     "collapsed": false,
     "input": [
      "df['bridge'] = df['text'].map(lambda x: x.split('The ')[-1].split(' Bridge')[0])\n",
      "df['date'] = df['text'].map(lambda x: x.split('- ')[-1])\n",
      "df['event'] = df['text'].apply(lambda x: 'closed' if ('closed' in x) else 'open')\n",
      "df_clean = df[['bridge','date', 'event', 'text']]"
     ],
     "language": "python",
     "metadata": {},
     "outputs": [],
     "prompt_number": 40
    },
    {
     "cell_type": "code",
     "collapsed": false,
     "input": [
      "# Now we have all the relevant open and closing information\n",
      "# we need to reorganize  to turn open and close events into periods of closure\n",
      "# df_clean"
     ],
     "language": "python",
     "metadata": {},
     "outputs": [],
     "prompt_number": 41
    },
    {
     "cell_type": "code",
     "collapsed": false,
     "input": [
      "# Make sure all date columns have valid dates\n",
      "\n",
      "# Convert to datetime object\n",
      "\n",
      "# remove leading spaces\n",
      "\n",
      "\n",
      "# Filter out rows that don't have a date in them\n"
     ],
     "language": "python",
     "metadata": {},
     "outputs": [],
     "prompt_number": 42
    },
    {
     "cell_type": "code",
     "collapsed": false,
     "input": [
      "\n"
     ],
     "language": "python",
     "metadata": {},
     "outputs": [],
     "prompt_number": 62
    },
    {
     "cell_type": "code",
     "collapsed": false,
     "input": [],
     "language": "python",
     "metadata": {},
     "outputs": [],
     "prompt_number": 42
    },
    {
     "cell_type": "code",
     "collapsed": false,
     "input": [
      "df_clean.groupby('bridge').count()"
     ],
     "language": "python",
     "metadata": {},
     "outputs": [
      {
       "html": [
        "<div style=\"max-height:1000px;max-width:1500px;overflow:auto;\">\n",
        "<table border=\"1\" class=\"dataframe\">\n",
        "  <thead>\n",
        "    <tr style=\"text-align: right;\">\n",
        "      <th></th>\n",
        "      <th>date</th>\n",
        "      <th>event</th>\n",
        "      <th>text</th>\n",
        "    </tr>\n",
        "    <tr>\n",
        "      <th>bridge</th>\n",
        "      <th></th>\n",
        "      <th></th>\n",
        "      <th></th>\n",
        "    </tr>\n",
        "  </thead>\n",
        "  <tbody>\n",
        "    <tr>\n",
        "      <th>1st Ave S</th>\n",
        "      <td>  215</td>\n",
        "      <td>  215</td>\n",
        "      <td>  215</td>\n",
        "    </tr>\n",
        "    <tr>\n",
        "      <th>@seattledot Its cleared.</th>\n",
        "      <td>    1</td>\n",
        "      <td>    1</td>\n",
        "      <td>    1</td>\n",
        "    </tr>\n",
        "    <tr>\n",
        "      <th>@zachstednick It opens when there is a boat waiting, so not everyday. Plus this only posts boat openings btwn hours of 6am-10pm.</th>\n",
        "      <td>    1</td>\n",
        "      <td>    1</td>\n",
        "      <td>    1</td>\n",
        "    </tr>\n",
        "    <tr>\n",
        "      <th>Ballard</th>\n",
        "      <td>  723</td>\n",
        "      <td>  723</td>\n",
        "      <td>  723</td>\n",
        "    </tr>\n",
        "    <tr>\n",
        "      <th>Fremont</th>\n",
        "      <td> 1071</td>\n",
        "      <td> 1071</td>\n",
        "      <td> 1071</td>\n",
        "    </tr>\n",
        "    <tr>\n",
        "      <th>Hearing of some sort of issue with the Montlake</th>\n",
        "      <td>    1</td>\n",
        "      <td>    1</td>\n",
        "      <td>    1</td>\n",
        "    </tr>\n",
        "    <tr>\n",
        "      <th>Lower Spokane St</th>\n",
        "      <td>  297</td>\n",
        "      <td>  297</td>\n",
        "      <td>  297</td>\n",
        "    </tr>\n",
        "    <tr>\n",
        "      <th>Montlake</th>\n",
        "      <td>  290</td>\n",
        "      <td>  290</td>\n",
        "      <td>  290</td>\n",
        "    </tr>\n",
        "    <tr>\n",
        "      <th>South Park</th>\n",
        "      <td>  162</td>\n",
        "      <td>  162</td>\n",
        "      <td>  162</td>\n",
        "    </tr>\n",
        "    <tr>\n",
        "      <th>Thanks for the info @thekremple</th>\n",
        "      <td>    1</td>\n",
        "      <td>    1</td>\n",
        "      <td>    1</td>\n",
        "    </tr>\n",
        "    <tr>\n",
        "      <th>UPDATE:</th>\n",
        "      <td>    1</td>\n",
        "      <td>    1</td>\n",
        "      <td>    1</td>\n",
        "    </tr>\n",
        "    <tr>\n",
        "      <th>University</th>\n",
        "      <td>  483</td>\n",
        "      <td>  483</td>\n",
        "      <td>  483</td>\n",
        "    </tr>\n",
        "  </tbody>\n",
        "</table>\n",
        "</div>"
       ],
       "metadata": {},
       "output_type": "pyout",
       "prompt_number": 43,
       "text": [
        "                                                                                                                                  date  \\\n",
        "bridge                                                                                                                                   \n",
        "1st Ave S                                                                                                                          215   \n",
        "@seattledot Its cleared.                                                                                                             1   \n",
        "@zachstednick It opens when there is a boat waiting, so not everyday. Plus this only posts boat openings btwn hours of 6am-10pm.     1   \n",
        "Ballard                                                                                                                            723   \n",
        "Fremont                                                                                                                           1071   \n",
        "Hearing of some sort of issue with the Montlake                                                                                      1   \n",
        "Lower Spokane St                                                                                                                   297   \n",
        "Montlake                                                                                                                           290   \n",
        "South Park                                                                                                                         162   \n",
        "Thanks for the info @thekremple                                                                                                      1   \n",
        "UPDATE:                                                                                                                              1   \n",
        "University                                                                                                                         483   \n",
        "\n",
        "                                                                                                                                  event  \\\n",
        "bridge                                                                                                                                    \n",
        "1st Ave S                                                                                                                           215   \n",
        "@seattledot Its cleared.                                                                                                              1   \n",
        "@zachstednick It opens when there is a boat waiting, so not everyday. Plus this only posts boat openings btwn hours of 6am-10pm.      1   \n",
        "Ballard                                                                                                                             723   \n",
        "Fremont                                                                                                                            1071   \n",
        "Hearing of some sort of issue with the Montlake                                                                                       1   \n",
        "Lower Spokane St                                                                                                                    297   \n",
        "Montlake                                                                                                                            290   \n",
        "South Park                                                                                                                          162   \n",
        "Thanks for the info @thekremple                                                                                                       1   \n",
        "UPDATE:                                                                                                                               1   \n",
        "University                                                                                                                          483   \n",
        "\n",
        "                                                                                                                                  text  \n",
        "bridge                                                                                                                                  \n",
        "1st Ave S                                                                                                                          215  \n",
        "@seattledot Its cleared.                                                                                                             1  \n",
        "@zachstednick It opens when there is a boat waiting, so not everyday. Plus this only posts boat openings btwn hours of 6am-10pm.     1  \n",
        "Ballard                                                                                                                            723  \n",
        "Fremont                                                                                                                           1071  \n",
        "Hearing of some sort of issue with the Montlake                                                                                      1  \n",
        "Lower Spokane St                                                                                                                   297  \n",
        "Montlake                                                                                                                           290  \n",
        "South Park                                                                                                                         162  \n",
        "Thanks for the info @thekremple                                                                                                      1  \n",
        "UPDATE:                                                                                                                              1  \n",
        "University                                                                                                                         483  "
       ]
      }
     ],
     "prompt_number": 43
    },
    {
     "cell_type": "code",
     "collapsed": false,
     "input": [
      "bridge_list = ['Ballard', 'Fremont', '1st Ave S', 'Montlake', 'Lower Spokane St', 'South Park', 'University']"
     ],
     "language": "python",
     "metadata": {},
     "outputs": [],
     "prompt_number": 44
    },
    {
     "cell_type": "code",
     "collapsed": false,
     "input": [
      "# Select only lines with a bridge name in the bridge list\n",
      "newdf = df_clean[df_clean['bridge'].isin(bridge_list)]"
     ],
     "language": "python",
     "metadata": {},
     "outputs": [],
     "prompt_number": 45
    },
    {
     "cell_type": "code",
     "collapsed": false,
     "input": [
      "newdf.groupby('bridge').count()"
     ],
     "language": "python",
     "metadata": {},
     "outputs": [
      {
       "html": [
        "<div style=\"max-height:1000px;max-width:1500px;overflow:auto;\">\n",
        "<table border=\"1\" class=\"dataframe\">\n",
        "  <thead>\n",
        "    <tr style=\"text-align: right;\">\n",
        "      <th></th>\n",
        "      <th>date</th>\n",
        "      <th>event</th>\n",
        "      <th>text</th>\n",
        "    </tr>\n",
        "    <tr>\n",
        "      <th>bridge</th>\n",
        "      <th></th>\n",
        "      <th></th>\n",
        "      <th></th>\n",
        "    </tr>\n",
        "  </thead>\n",
        "  <tbody>\n",
        "    <tr>\n",
        "      <th>1st Ave S</th>\n",
        "      <td>  215</td>\n",
        "      <td>  215</td>\n",
        "      <td>  215</td>\n",
        "    </tr>\n",
        "    <tr>\n",
        "      <th>Ballard</th>\n",
        "      <td>  723</td>\n",
        "      <td>  723</td>\n",
        "      <td>  723</td>\n",
        "    </tr>\n",
        "    <tr>\n",
        "      <th>Fremont</th>\n",
        "      <td> 1071</td>\n",
        "      <td> 1071</td>\n",
        "      <td> 1071</td>\n",
        "    </tr>\n",
        "    <tr>\n",
        "      <th>Lower Spokane St</th>\n",
        "      <td>  297</td>\n",
        "      <td>  297</td>\n",
        "      <td>  297</td>\n",
        "    </tr>\n",
        "    <tr>\n",
        "      <th>Montlake</th>\n",
        "      <td>  290</td>\n",
        "      <td>  290</td>\n",
        "      <td>  290</td>\n",
        "    </tr>\n",
        "    <tr>\n",
        "      <th>South Park</th>\n",
        "      <td>  162</td>\n",
        "      <td>  162</td>\n",
        "      <td>  162</td>\n",
        "    </tr>\n",
        "    <tr>\n",
        "      <th>University</th>\n",
        "      <td>  483</td>\n",
        "      <td>  483</td>\n",
        "      <td>  483</td>\n",
        "    </tr>\n",
        "  </tbody>\n",
        "</table>\n",
        "</div>"
       ],
       "metadata": {},
       "output_type": "pyout",
       "prompt_number": 46,
       "text": [
        "                  date  event  text\n",
        "bridge                             \n",
        "1st Ave S          215    215   215\n",
        "Ballard            723    723   723\n",
        "Fremont           1071   1071  1071\n",
        "Lower Spokane St   297    297   297\n",
        "Montlake           290    290   290\n",
        "South Park         162    162   162\n",
        "University         483    483   483"
       ]
      }
     ],
     "prompt_number": 46
    },
    {
     "cell_type": "code",
     "collapsed": false,
     "input": [
      "# There are still some records with weird data\n",
      "# Get rid of date rows without dates\n",
      "\n",
      "# first get rid of the extra space in the date string\n",
      "newdf['newdate'] = newdf['date'].str.lstrip()"
     ],
     "language": "python",
     "metadata": {},
     "outputs": [],
     "prompt_number": 47
    },
    {
     "cell_type": "code",
     "collapsed": false,
     "input": [
      "len(newdf)"
     ],
     "language": "python",
     "metadata": {},
     "outputs": [
      {
       "metadata": {},
       "output_type": "pyout",
       "prompt_number": 48,
       "text": [
        "3241"
       ]
      }
     ],
     "prompt_number": 48
    },
    {
     "cell_type": "code",
     "collapsed": false,
     "input": [
      "# Only include date rows with PM or AM\n",
      "newdf = newdf[newdf['newdate'].str.contains('PM|AM')]\n",
      "len(newdf)"
     ],
     "language": "python",
     "metadata": {},
     "outputs": [
      {
       "metadata": {},
       "output_type": "pyout",
       "prompt_number": 49,
       "text": [
        "3240"
       ]
      }
     ],
     "prompt_number": 49
    },
    {
     "cell_type": "code",
     "collapsed": false,
     "input": [
      "newdf['dateobj'] = pd.to_datetime(newdf['newdate'], format=\"%H:%M:%S %p\", errors='coerce')"
     ],
     "language": "python",
     "metadata": {},
     "outputs": [],
     "prompt_number": 50
    },
    {
     "cell_type": "code",
     "collapsed": false,
     "input": [
      "newdf.iloc[0].dateobj.hour"
     ],
     "language": "python",
     "metadata": {},
     "outputs": [
      {
       "metadata": {},
       "output_type": "pyout",
       "prompt_number": 51,
       "text": [
        "7"
       ]
      }
     ],
     "prompt_number": 51
    },
    {
     "cell_type": "code",
     "collapsed": false,
     "input": [],
     "language": "python",
     "metadata": {},
     "outputs": [],
     "prompt_number": 64
    },
    {
     "cell_type": "code",
     "collapsed": false,
     "input": [
      "# newdf[newdf['bridge'] == 'Fremont']"
     ],
     "language": "python",
     "metadata": {},
     "outputs": [],
     "prompt_number": 65
    },
    {
     "cell_type": "code",
     "collapsed": false,
     "input": [],
     "language": "python",
     "metadata": {},
     "outputs": []
    },
    {
     "cell_type": "code",
     "collapsed": false,
     "input": [
      "##############################################"
     ],
     "language": "python",
     "metadata": {},
     "outputs": [],
     "prompt_number": 121
    },
    {
     "cell_type": "code",
     "collapsed": false,
     "input": [
      "# NOTE: data is presented with most recent events at top, makes more sense chronologically to put oldest at top row\n",
      "# REVERSE the DF\n",
      "newdf = newdf.reindex(index=newdf.index[::-1])"
     ],
     "language": "python",
     "metadata": {},
     "outputs": [],
     "prompt_number": 122
    },
    {
     "cell_type": "code",
     "collapsed": false,
     "input": [],
     "language": "python",
     "metadata": {},
     "outputs": [],
     "prompt_number": 122
    },
    {
     "cell_type": "code",
     "collapsed": false,
     "input": [
      "# one dumb way to do this is to loop through each trip, comparing it to the next \n",
      "# and creating a resulting new dataframe from that\n",
      "# perhaps there's a more efficient way?\n",
      "\n",
      "# we need to loop through each bridge's trips to make this happen\n",
      "# start with just a single bridge\n",
      "ballard = newdf.query('bridge == \"Ballard\"')\n",
      "\n",
      "# store results in a new dataframe\n",
      "results = []\n",
      "\n",
      "for i in range(len(ballard)):\n",
      "    firstrow = ballard.iloc[i]\n",
      "    # get the next row, except on the last row in dataframe\n",
      "    if i == len(ballard)-1:\n",
      "        break\n",
      "    else:\n",
      "        nextrow = ballard.iloc[i+1]\n",
      "    \n",
      "    # make sure the first \n",
      "    \n",
      "    # return total time difference as a 'timedelta' object\n",
      "    results.append(nextrow.dateobj - firstrow.dateobj)\n",
      "    \n",
      "    \n",
      "    "
     ],
     "language": "python",
     "metadata": {},
     "outputs": [],
     "prompt_number": 123
    },
    {
     "cell_type": "code",
     "collapsed": false,
     "input": [
      "# Alternatively, we need to know each closure event (bridge opening for a ship to cross)\n",
      "# and calculate the subsequent re-opening time, usually from the following row\n",
      "\n",
      "# do that by getting the index of each bridge closure and taking index+1 for the re-opening\n",
      "# for the ballard bridges\n",
      "ballard = newdf.query('bridge == \"Ballard\"')\n",
      "\n",
      "# reindex this slice because we need to consider each row i and i+1 for these bridges only\n",
      "ballard.reset_index(inplace=True)\n",
      "\n",
      "closure_event_index = ballard[ballard['event'] == 'closed'].index\n",
      "\n",
      "# These index values should be offset by 2 (one closure row followed by one reopening row)\n",
      "# Flag unspaced index occurences\n",
      "flag = []\n",
      "for i in closure_event_index:\n",
      "    if i == len(closure_event_index)-2:\n",
      "        break\n",
      "    if closure_event_index[i+1] - closure_event_index[i+1] <> 2:\n",
      "        flag.append(i)\n",
      "\n",
      "reopen_event_index = [i + 1 for i in closure_event_index]\n",
      "\n",
      "# reopen_event_index[:-1]\n",
      "# closure_event_index"
     ],
     "language": "python",
     "metadata": {},
     "outputs": [],
     "prompt_number": 137
    },
    {
     "cell_type": "code",
     "collapsed": false,
     "input": [
      "flag"
     ],
     "language": "python",
     "metadata": {},
     "outputs": [
      {
       "metadata": {},
       "output_type": "pyout",
       "prompt_number": 138,
       "text": [
        "[1,\n",
        " 3,\n",
        " 5,\n",
        " 7,\n",
        " 9,\n",
        " 11,\n",
        " 13,\n",
        " 15,\n",
        " 17,\n",
        " 19,\n",
        " 21,\n",
        " 22,\n",
        " 24,\n",
        " 26,\n",
        " 28,\n",
        " 30,\n",
        " 32,\n",
        " 34,\n",
        " 36,\n",
        " 38,\n",
        " 40,\n",
        " 42,\n",
        " 44,\n",
        " 46,\n",
        " 48,\n",
        " 50,\n",
        " 52,\n",
        " 54,\n",
        " 56,\n",
        " 58,\n",
        " 60,\n",
        " 62,\n",
        " 64,\n",
        " 66,\n",
        " 68,\n",
        " 70,\n",
        " 72,\n",
        " 74,\n",
        " 76,\n",
        " 78,\n",
        " 80,\n",
        " 82,\n",
        " 84,\n",
        " 86,\n",
        " 88,\n",
        " 90,\n",
        " 92,\n",
        " 94,\n",
        " 96,\n",
        " 98,\n",
        " 100,\n",
        " 102,\n",
        " 104,\n",
        " 106,\n",
        " 108,\n",
        " 110,\n",
        " 112,\n",
        " 114,\n",
        " 116,\n",
        " 118,\n",
        " 120,\n",
        " 122,\n",
        " 124,\n",
        " 126,\n",
        " 128,\n",
        " 130,\n",
        " 132,\n",
        " 134,\n",
        " 136,\n",
        " 138,\n",
        " 140,\n",
        " 142,\n",
        " 144,\n",
        " 146,\n",
        " 147,\n",
        " 149,\n",
        " 151,\n",
        " 153,\n",
        " 155,\n",
        " 157,\n",
        " 159,\n",
        " 161,\n",
        " 163,\n",
        " 165,\n",
        " 167,\n",
        " 169,\n",
        " 171,\n",
        " 173,\n",
        " 175,\n",
        " 177,\n",
        " 179,\n",
        " 181,\n",
        " 183,\n",
        " 185,\n",
        " 187,\n",
        " 189,\n",
        " 191,\n",
        " 193,\n",
        " 195,\n",
        " 197,\n",
        " 199,\n",
        " 201,\n",
        " 203,\n",
        " 205,\n",
        " 207,\n",
        " 209,\n",
        " 211,\n",
        " 213,\n",
        " 215,\n",
        " 217,\n",
        " 219,\n",
        " 221,\n",
        " 223,\n",
        " 225,\n",
        " 227,\n",
        " 229,\n",
        " 231,\n",
        " 233,\n",
        " 235,\n",
        " 237,\n",
        " 239,\n",
        " 241,\n",
        " 243,\n",
        " 245,\n",
        " 247,\n",
        " 249,\n",
        " 251,\n",
        " 253,\n",
        " 255,\n",
        " 257,\n",
        " 259,\n",
        " 261,\n",
        " 263,\n",
        " 265,\n",
        " 267,\n",
        " 269,\n",
        " 271,\n",
        " 272,\n",
        " 274,\n",
        " 276,\n",
        " 278,\n",
        " 280,\n",
        " 282,\n",
        " 284,\n",
        " 286,\n",
        " 288,\n",
        " 290,\n",
        " 292,\n",
        " 294,\n",
        " 296,\n",
        " 298,\n",
        " 300,\n",
        " 302,\n",
        " 304,\n",
        " 306,\n",
        " 308,\n",
        " 310,\n",
        " 312,\n",
        " 314,\n",
        " 316,\n",
        " 318,\n",
        " 320,\n",
        " 322,\n",
        " 324,\n",
        " 326,\n",
        " 328,\n",
        " 330,\n",
        " 332,\n",
        " 334,\n",
        " 336,\n",
        " 338,\n",
        " 340,\n",
        " 342,\n",
        " 344,\n",
        " 346,\n",
        " 348,\n",
        " 350,\n",
        " 352,\n",
        " 354,\n",
        " 356,\n",
        " 357,\n",
        " 359]"
       ]
      }
     ],
     "prompt_number": 138
    },
    {
     "cell_type": "code",
     "collapsed": false,
     "input": [
      "closure_event_index"
     ],
     "language": "python",
     "metadata": {},
     "outputs": [
      {
       "metadata": {},
       "output_type": "pyout",
       "prompt_number": 130,
       "text": [
        "Int64Index([1, 3, 5, 7, 9, 11, 13, 15, 17, 19, 21, 22, 24, 26, 28, 30, 32, 34, 36, 38, 40, 42, 44, 46, 48, 50, 52, 54, 56, 58, 60, 62, 64, 66, 68, 70, 72, 74, 76, 78, 80, 82, 84, 86, 88, 90, 92, 94, 96, 98, 100, 102, 104, 106, 108, 110, 112, 114, 116, 118, 120, 122, 124, 126, 128, 130, 132, 134, 136, 138, 140, 142, 144, 146, 147, 149, 151, 153, 155, 157, 159, 161, 163, 165, 167, 169, 171, 173, 175, 177, 179, 181, 183, 185, 187, 189, 191, 193, 195, 197, ...], dtype='int64')"
       ]
      }
     ],
     "prompt_number": 130
    },
    {
     "cell_type": "code",
     "collapsed": false,
     "input": [
      "reopen_event_index"
     ],
     "language": "python",
     "metadata": {},
     "outputs": [
      {
       "metadata": {},
       "output_type": "pyout",
       "prompt_number": 131,
       "text": [
        "[2,\n",
        " 4,\n",
        " 6,\n",
        " 8,\n",
        " 10,\n",
        " 12,\n",
        " 14,\n",
        " 16,\n",
        " 18,\n",
        " 20,\n",
        " 22,\n",
        " 23,\n",
        " 25,\n",
        " 27,\n",
        " 29,\n",
        " 31,\n",
        " 33,\n",
        " 35,\n",
        " 37,\n",
        " 39,\n",
        " 41,\n",
        " 43,\n",
        " 45,\n",
        " 47,\n",
        " 49,\n",
        " 51,\n",
        " 53,\n",
        " 55,\n",
        " 57,\n",
        " 59,\n",
        " 61,\n",
        " 63,\n",
        " 65,\n",
        " 67,\n",
        " 69,\n",
        " 71,\n",
        " 73,\n",
        " 75,\n",
        " 77,\n",
        " 79,\n",
        " 81,\n",
        " 83,\n",
        " 85,\n",
        " 87,\n",
        " 89,\n",
        " 91,\n",
        " 93,\n",
        " 95,\n",
        " 97,\n",
        " 99,\n",
        " 101,\n",
        " 103,\n",
        " 105,\n",
        " 107,\n",
        " 109,\n",
        " 111,\n",
        " 113,\n",
        " 115,\n",
        " 117,\n",
        " 119,\n",
        " 121,\n",
        " 123,\n",
        " 125,\n",
        " 127,\n",
        " 129,\n",
        " 131,\n",
        " 133,\n",
        " 135,\n",
        " 137,\n",
        " 139,\n",
        " 141,\n",
        " 143,\n",
        " 145,\n",
        " 147,\n",
        " 148,\n",
        " 150,\n",
        " 152,\n",
        " 154,\n",
        " 156,\n",
        " 158,\n",
        " 160,\n",
        " 162,\n",
        " 164,\n",
        " 166,\n",
        " 168,\n",
        " 170,\n",
        " 172,\n",
        " 174,\n",
        " 176,\n",
        " 178,\n",
        " 180,\n",
        " 182,\n",
        " 184,\n",
        " 186,\n",
        " 188,\n",
        " 190,\n",
        " 192,\n",
        " 194,\n",
        " 196,\n",
        " 198,\n",
        " 200,\n",
        " 202,\n",
        " 204,\n",
        " 206,\n",
        " 208,\n",
        " 210,\n",
        " 212,\n",
        " 214,\n",
        " 216,\n",
        " 218,\n",
        " 220,\n",
        " 222,\n",
        " 224,\n",
        " 226,\n",
        " 228,\n",
        " 230,\n",
        " 232,\n",
        " 234,\n",
        " 236,\n",
        " 238,\n",
        " 240,\n",
        " 242,\n",
        " 244,\n",
        " 246,\n",
        " 248,\n",
        " 250,\n",
        " 252,\n",
        " 254,\n",
        " 256,\n",
        " 258,\n",
        " 260,\n",
        " 262,\n",
        " 264,\n",
        " 266,\n",
        " 268,\n",
        " 270,\n",
        " 272,\n",
        " 273,\n",
        " 275,\n",
        " 277,\n",
        " 279,\n",
        " 281,\n",
        " 283,\n",
        " 285,\n",
        " 287,\n",
        " 289,\n",
        " 291,\n",
        " 293,\n",
        " 295,\n",
        " 297,\n",
        " 299,\n",
        " 301,\n",
        " 303,\n",
        " 305,\n",
        " 307,\n",
        " 309,\n",
        " 311,\n",
        " 313,\n",
        " 315,\n",
        " 317,\n",
        " 319,\n",
        " 321,\n",
        " 323,\n",
        " 325,\n",
        " 327,\n",
        " 329,\n",
        " 331,\n",
        " 333,\n",
        " 335,\n",
        " 337,\n",
        " 339,\n",
        " 341,\n",
        " 343,\n",
        " 345,\n",
        " 347,\n",
        " 349,\n",
        " 351,\n",
        " 353,\n",
        " 355,\n",
        " 357,\n",
        " 358,\n",
        " 360,\n",
        " 362,\n",
        " 364,\n",
        " 366,\n",
        " 368,\n",
        " 370,\n",
        " 372,\n",
        " 374,\n",
        " 376,\n",
        " 378,\n",
        " 380,\n",
        " 382,\n",
        " 384,\n",
        " 386,\n",
        " 388,\n",
        " 390,\n",
        " 392,\n",
        " 394,\n",
        " 396,\n",
        " 398,\n",
        " 400,\n",
        " 402,\n",
        " 404,\n",
        " 406,\n",
        " 408,\n",
        " 410,\n",
        " 412,\n",
        " 414,\n",
        " 416,\n",
        " 418,\n",
        " 420,\n",
        " 422,\n",
        " 424,\n",
        " 426,\n",
        " 428,\n",
        " 430,\n",
        " 432,\n",
        " 434,\n",
        " 436,\n",
        " 438,\n",
        " 440,\n",
        " 442,\n",
        " 444,\n",
        " 446,\n",
        " 448,\n",
        " 450,\n",
        " 452,\n",
        " 454,\n",
        " 456,\n",
        " 458,\n",
        " 460,\n",
        " 462,\n",
        " 464,\n",
        " 466,\n",
        " 468,\n",
        " 470,\n",
        " 472,\n",
        " 474,\n",
        " 476,\n",
        " 478,\n",
        " 480,\n",
        " 482,\n",
        " 484,\n",
        " 486,\n",
        " 488,\n",
        " 490,\n",
        " 492,\n",
        " 494,\n",
        " 496,\n",
        " 498,\n",
        " 500,\n",
        " 502,\n",
        " 504,\n",
        " 506,\n",
        " 508,\n",
        " 510,\n",
        " 512,\n",
        " 514,\n",
        " 516,\n",
        " 518,\n",
        " 520,\n",
        " 522,\n",
        " 524,\n",
        " 526,\n",
        " 528,\n",
        " 530,\n",
        " 532,\n",
        " 534,\n",
        " 536,\n",
        " 538,\n",
        " 540,\n",
        " 542,\n",
        " 544,\n",
        " 546,\n",
        " 548,\n",
        " 550,\n",
        " 552,\n",
        " 554,\n",
        " 556,\n",
        " 558,\n",
        " 560,\n",
        " 562,\n",
        " 564,\n",
        " 566,\n",
        " 568,\n",
        " 570,\n",
        " 572,\n",
        " 574,\n",
        " 576,\n",
        " 578,\n",
        " 580,\n",
        " 582,\n",
        " 584,\n",
        " 586,\n",
        " 588,\n",
        " 590,\n",
        " 592,\n",
        " 594,\n",
        " 596,\n",
        " 598,\n",
        " 600,\n",
        " 602,\n",
        " 604,\n",
        " 606,\n",
        " 608,\n",
        " 610,\n",
        " 612,\n",
        " 614,\n",
        " 616,\n",
        " 618,\n",
        " 620,\n",
        " 622,\n",
        " 624,\n",
        " 626,\n",
        " 628,\n",
        " 630,\n",
        " 632,\n",
        " 634,\n",
        " 636,\n",
        " 638,\n",
        " 640,\n",
        " 642,\n",
        " 644,\n",
        " 646,\n",
        " 648,\n",
        " 650,\n",
        " 652,\n",
        " 654,\n",
        " 656,\n",
        " 658,\n",
        " 660,\n",
        " 662,\n",
        " 664,\n",
        " 666,\n",
        " 668,\n",
        " 670,\n",
        " 672,\n",
        " 674,\n",
        " 676,\n",
        " 678,\n",
        " 680,\n",
        " 682,\n",
        " 684,\n",
        " 686,\n",
        " 688,\n",
        " 690,\n",
        " 692,\n",
        " 694,\n",
        " 696,\n",
        " 698,\n",
        " 700,\n",
        " 702,\n",
        " 704,\n",
        " 706,\n",
        " 708,\n",
        " 710,\n",
        " 712,\n",
        " 714,\n",
        " 716,\n",
        " 718,\n",
        " 720,\n",
        " 722]"
       ]
      }
     ],
     "prompt_number": 131
    },
    {
     "cell_type": "code",
     "collapsed": false,
     "input": [
      "results[0]"
     ],
     "language": "python",
     "metadata": {},
     "outputs": [
      {
       "metadata": {},
       "output_type": "pyout",
       "prompt_number": 61,
       "text": [
        "datetime.timedelta(-1, 85950)"
       ]
      }
     ],
     "prompt_number": 61
    },
    {
     "cell_type": "code",
     "collapsed": false,
     "input": [
      "results[0].seconds"
     ],
     "language": "python",
     "metadata": {},
     "outputs": [
      {
       "metadata": {},
       "output_type": "pyout",
       "prompt_number": 53,
       "text": [
        "85950"
       ]
      }
     ],
     "prompt_number": 53
    },
    {
     "cell_type": "code",
     "collapsed": false,
     "input": [
      "minutes = results[0].seconds/60\n",
      "minutes"
     ],
     "language": "python",
     "metadata": {},
     "outputs": [
      {
       "metadata": {},
       "output_type": "pyout",
       "prompt_number": 54,
       "text": [
        "1432"
       ]
      }
     ],
     "prompt_number": 54
    },
    {
     "cell_type": "code",
     "collapsed": false,
     "input": [
      "events = pd.DataFrame(results)"
     ],
     "language": "python",
     "metadata": {},
     "outputs": [],
     "prompt_number": 55
    },
    {
     "cell_type": "code",
     "collapsed": false,
     "input": [
      "events[0].seconds"
     ],
     "language": "python",
     "metadata": {},
     "outputs": [
      {
       "ename": "AttributeError",
       "evalue": "'Series' object has no attribute 'seconds'",
       "output_type": "pyerr",
       "traceback": [
        "\u001b[0;31m---------------------------------------------------------------------------\u001b[0m\n\u001b[0;31mAttributeError\u001b[0m                            Traceback (most recent call last)",
        "\u001b[0;32m<ipython-input-56-a5d5b7b230d6>\u001b[0m in \u001b[0;36m<module>\u001b[0;34m()\u001b[0m\n\u001b[0;32m----> 1\u001b[0;31m \u001b[0mevents\u001b[0m\u001b[0;34m[\u001b[0m\u001b[0;36m0\u001b[0m\u001b[0;34m]\u001b[0m\u001b[0;34m.\u001b[0m\u001b[0mseconds\u001b[0m\u001b[0;34m\u001b[0m\u001b[0m\n\u001b[0m",
        "\u001b[0;32m/Library/Python/2.7/site-packages/pandas/core/generic.pyc\u001b[0m in \u001b[0;36m__getattr__\u001b[0;34m(self, name)\u001b[0m\n\u001b[1;32m   1841\u001b[0m                 \u001b[0;32mreturn\u001b[0m \u001b[0mself\u001b[0m\u001b[0;34m[\u001b[0m\u001b[0mname\u001b[0m\u001b[0;34m]\u001b[0m\u001b[0;34m\u001b[0m\u001b[0m\n\u001b[1;32m   1842\u001b[0m             raise AttributeError(\"'%s' object has no attribute '%s'\" %\n\u001b[0;32m-> 1843\u001b[0;31m                                  (type(self).__name__, name))\n\u001b[0m\u001b[1;32m   1844\u001b[0m \u001b[0;34m\u001b[0m\u001b[0m\n\u001b[1;32m   1845\u001b[0m     \u001b[0;32mdef\u001b[0m \u001b[0m__setattr__\u001b[0m\u001b[0;34m(\u001b[0m\u001b[0mself\u001b[0m\u001b[0;34m,\u001b[0m \u001b[0mname\u001b[0m\u001b[0;34m,\u001b[0m \u001b[0mvalue\u001b[0m\u001b[0;34m)\u001b[0m\u001b[0;34m:\u001b[0m\u001b[0;34m\u001b[0m\u001b[0m\n",
        "\u001b[0;31mAttributeError\u001b[0m: 'Series' object has no attribute 'seconds'"
       ]
      }
     ],
     "prompt_number": 56
    },
    {
     "cell_type": "code",
     "collapsed": false,
     "input": [
      "events[0].seconds"
     ],
     "language": "python",
     "metadata": {},
     "outputs": [
      {
       "ename": "AttributeError",
       "evalue": "'Series' object has no attribute 'seconds'",
       "output_type": "pyerr",
       "traceback": [
        "\u001b[0;31m---------------------------------------------------------------------------\u001b[0m\n\u001b[0;31mAttributeError\u001b[0m                            Traceback (most recent call last)",
        "\u001b[0;32m<ipython-input-57-a5d5b7b230d6>\u001b[0m in \u001b[0;36m<module>\u001b[0;34m()\u001b[0m\n\u001b[0;32m----> 1\u001b[0;31m \u001b[0mevents\u001b[0m\u001b[0;34m[\u001b[0m\u001b[0;36m0\u001b[0m\u001b[0;34m]\u001b[0m\u001b[0;34m.\u001b[0m\u001b[0mseconds\u001b[0m\u001b[0;34m\u001b[0m\u001b[0m\n\u001b[0m",
        "\u001b[0;32m/Library/Python/2.7/site-packages/pandas/core/generic.pyc\u001b[0m in \u001b[0;36m__getattr__\u001b[0;34m(self, name)\u001b[0m\n\u001b[1;32m   1841\u001b[0m                 \u001b[0;32mreturn\u001b[0m \u001b[0mself\u001b[0m\u001b[0;34m[\u001b[0m\u001b[0mname\u001b[0m\u001b[0;34m]\u001b[0m\u001b[0;34m\u001b[0m\u001b[0m\n\u001b[1;32m   1842\u001b[0m             raise AttributeError(\"'%s' object has no attribute '%s'\" %\n\u001b[0;32m-> 1843\u001b[0;31m                                  (type(self).__name__, name))\n\u001b[0m\u001b[1;32m   1844\u001b[0m \u001b[0;34m\u001b[0m\u001b[0m\n\u001b[1;32m   1845\u001b[0m     \u001b[0;32mdef\u001b[0m \u001b[0m__setattr__\u001b[0m\u001b[0;34m(\u001b[0m\u001b[0mself\u001b[0m\u001b[0;34m,\u001b[0m \u001b[0mname\u001b[0m\u001b[0;34m,\u001b[0m \u001b[0mvalue\u001b[0m\u001b[0;34m)\u001b[0m\u001b[0;34m:\u001b[0m\u001b[0;34m\u001b[0m\u001b[0m\n",
        "\u001b[0;31mAttributeError\u001b[0m: 'Series' object has no attribute 'seconds'"
       ]
      }
     ],
     "prompt_number": 57
    },
    {
     "cell_type": "code",
     "collapsed": false,
     "input": [
      "events.datetime.datetime.components"
     ],
     "language": "python",
     "metadata": {},
     "outputs": [
      {
       "ename": "AttributeError",
       "evalue": "'DataFrame' object has no attribute 'datetime'",
       "output_type": "pyerr",
       "traceback": [
        "\u001b[0;31m---------------------------------------------------------------------------\u001b[0m\n\u001b[0;31mAttributeError\u001b[0m                            Traceback (most recent call last)",
        "\u001b[0;32m<ipython-input-58-de798742434c>\u001b[0m in \u001b[0;36m<module>\u001b[0;34m()\u001b[0m\n\u001b[0;32m----> 1\u001b[0;31m \u001b[0mevents\u001b[0m\u001b[0;34m.\u001b[0m\u001b[0mdatetime\u001b[0m\u001b[0;34m.\u001b[0m\u001b[0mdatetime\u001b[0m\u001b[0;34m.\u001b[0m\u001b[0mcomponents\u001b[0m\u001b[0;34m\u001b[0m\u001b[0m\n\u001b[0m",
        "\u001b[0;32m/Library/Python/2.7/site-packages/pandas/core/generic.pyc\u001b[0m in \u001b[0;36m__getattr__\u001b[0;34m(self, name)\u001b[0m\n\u001b[1;32m   1841\u001b[0m                 \u001b[0;32mreturn\u001b[0m \u001b[0mself\u001b[0m\u001b[0;34m[\u001b[0m\u001b[0mname\u001b[0m\u001b[0;34m]\u001b[0m\u001b[0;34m\u001b[0m\u001b[0m\n\u001b[1;32m   1842\u001b[0m             raise AttributeError(\"'%s' object has no attribute '%s'\" %\n\u001b[0;32m-> 1843\u001b[0;31m                                  (type(self).__name__, name))\n\u001b[0m\u001b[1;32m   1844\u001b[0m \u001b[0;34m\u001b[0m\u001b[0m\n\u001b[1;32m   1845\u001b[0m     \u001b[0;32mdef\u001b[0m \u001b[0m__setattr__\u001b[0m\u001b[0;34m(\u001b[0m\u001b[0mself\u001b[0m\u001b[0;34m,\u001b[0m \u001b[0mname\u001b[0m\u001b[0;34m,\u001b[0m \u001b[0mvalue\u001b[0m\u001b[0;34m)\u001b[0m\u001b[0;34m:\u001b[0m\u001b[0;34m\u001b[0m\u001b[0m\n",
        "\u001b[0;31mAttributeError\u001b[0m: 'DataFrame' object has no attribute 'datetime'"
       ]
      }
     ],
     "prompt_number": 58
    },
    {
     "cell_type": "code",
     "collapsed": false,
     "input": [
      "# try a groupby \n",
      "# use .diff() and .shift() to compare the two rows maybe?"
     ],
     "language": "python",
     "metadata": {},
     "outputs": [],
     "prompt_number": 59
    },
    {
     "cell_type": "code",
     "collapsed": false,
     "input": [
      "df.groupby('date').diff()"
     ],
     "language": "python",
     "metadata": {},
     "outputs": []
    },
    {
     "cell_type": "code",
     "collapsed": false,
     "input": [],
     "language": "python",
     "metadata": {},
     "outputs": []
    },
    {
     "cell_type": "code",
     "collapsed": false,
     "input": [],
     "language": "python",
     "metadata": {},
     "outputs": []
    }
   ],
   "metadata": {}
  }
 ]
}
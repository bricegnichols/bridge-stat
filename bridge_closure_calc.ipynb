{
 "cells": [
  {
   "cell_type": "code",
   "execution_count": 263,
   "metadata": {
    "collapsed": false
   },
   "outputs": [],
   "source": [
    "from datetime import datetime\n",
    "import pandas as pd\n",
    "import numpy as np\n",
    "import matplotlib\n",
    "# from ggplot import *\n",
    "import matplotlib.pyplot as plt\n",
    "%matplotlib inline"
   ]
  },
  {
   "cell_type": "code",
   "execution_count": 281,
   "metadata": {
    "collapsed": false
   },
   "outputs": [],
   "source": [
    "def days_hours_minutes(td):\n",
    "    mydict = {}\n",
    "    mydict['days'] = td.days\n",
    "    mydict['hours'] = td.seconds//3600\n",
    "    mydict['minutes'] = (td.seconds//60)%60\n",
    "    return mydict"
   ]
  },
  {
   "cell_type": "code",
   "execution_count": 349,
   "metadata": {
    "collapsed": false
   },
   "outputs": [],
   "source": [
    "# Load tweet data\n",
    "df = pd.read_csv('SDOTBridges_tweets.csv')"
   ]
  },
  {
   "cell_type": "code",
   "execution_count": 350,
   "metadata": {
    "collapsed": false
   },
   "outputs": [],
   "source": [
    "# Extract data from CSV by splitting text columns\n",
    "df['bridge'] = df['text'].map(lambda x: x.split('The ')[-1].split(' Bridge')[0])\n",
    "df['time'] = df['text'].map(lambda x: x.split('- ')[-1])\n",
    "df['event'] = df['text'].apply(lambda x: 'closed' if ('closed' in x) else 'open')\n",
    "df['date'] = df['created_at'].map(lambda x: x.split(' ')[0])\n",
    "df_clean = df[['bridge','time','event', 'date', 'text']]"
   ]
  },
  {
   "cell_type": "code",
   "execution_count": 304,
   "metadata": {
    "collapsed": false
   },
   "outputs": [],
   "source": [
    "# Now we have all the relevant open and closing information\n",
    "# we need to reorganize  to turn open and close events into periods of closure"
   ]
  },
  {
   "cell_type": "code",
   "execution_count": 351,
   "metadata": {
    "collapsed": false
   },
   "outputs": [
    {
     "data": {
      "text/html": [
       "<div>\n",
       "<table border=\"1\" class=\"dataframe\">\n",
       "  <thead>\n",
       "    <tr style=\"text-align: right;\">\n",
       "      <th></th>\n",
       "      <th>time</th>\n",
       "      <th>event</th>\n",
       "      <th>date</th>\n",
       "      <th>text</th>\n",
       "    </tr>\n",
       "    <tr>\n",
       "      <th>bridge</th>\n",
       "      <th></th>\n",
       "      <th></th>\n",
       "      <th></th>\n",
       "      <th></th>\n",
       "    </tr>\n",
       "  </thead>\n",
       "  <tbody>\n",
       "    <tr>\n",
       "      <th>1st Ave S</th>\n",
       "      <td>215</td>\n",
       "      <td>215</td>\n",
       "      <td>215</td>\n",
       "      <td>215</td>\n",
       "    </tr>\n",
       "    <tr>\n",
       "      <th>@seattledot Its cleared.</th>\n",
       "      <td>1</td>\n",
       "      <td>1</td>\n",
       "      <td>1</td>\n",
       "      <td>1</td>\n",
       "    </tr>\n",
       "    <tr>\n",
       "      <th>@zachstednick It opens when there is a boat waiting, so not everyday. Plus this only posts boat openings btwn hours of 6am-10pm.</th>\n",
       "      <td>1</td>\n",
       "      <td>1</td>\n",
       "      <td>1</td>\n",
       "      <td>1</td>\n",
       "    </tr>\n",
       "    <tr>\n",
       "      <th>Ballard</th>\n",
       "      <td>723</td>\n",
       "      <td>723</td>\n",
       "      <td>723</td>\n",
       "      <td>723</td>\n",
       "    </tr>\n",
       "    <tr>\n",
       "      <th>Fremont</th>\n",
       "      <td>1071</td>\n",
       "      <td>1071</td>\n",
       "      <td>1071</td>\n",
       "      <td>1071</td>\n",
       "    </tr>\n",
       "    <tr>\n",
       "      <th>Hearing of some sort of issue with the Montlake</th>\n",
       "      <td>1</td>\n",
       "      <td>1</td>\n",
       "      <td>1</td>\n",
       "      <td>1</td>\n",
       "    </tr>\n",
       "    <tr>\n",
       "      <th>Lower Spokane St</th>\n",
       "      <td>297</td>\n",
       "      <td>297</td>\n",
       "      <td>297</td>\n",
       "      <td>297</td>\n",
       "    </tr>\n",
       "    <tr>\n",
       "      <th>Montlake</th>\n",
       "      <td>290</td>\n",
       "      <td>290</td>\n",
       "      <td>290</td>\n",
       "      <td>290</td>\n",
       "    </tr>\n",
       "    <tr>\n",
       "      <th>South Park</th>\n",
       "      <td>162</td>\n",
       "      <td>162</td>\n",
       "      <td>162</td>\n",
       "      <td>162</td>\n",
       "    </tr>\n",
       "    <tr>\n",
       "      <th>Thanks for the info @thekremple</th>\n",
       "      <td>1</td>\n",
       "      <td>1</td>\n",
       "      <td>1</td>\n",
       "      <td>1</td>\n",
       "    </tr>\n",
       "    <tr>\n",
       "      <th>UPDATE:</th>\n",
       "      <td>1</td>\n",
       "      <td>1</td>\n",
       "      <td>1</td>\n",
       "      <td>1</td>\n",
       "    </tr>\n",
       "    <tr>\n",
       "      <th>University</th>\n",
       "      <td>483</td>\n",
       "      <td>483</td>\n",
       "      <td>483</td>\n",
       "      <td>483</td>\n",
       "    </tr>\n",
       "  </tbody>\n",
       "</table>\n",
       "</div>"
      ],
      "text/plain": [
       "                                                    time  event  date  text\n",
       "bridge                                                                     \n",
       "1st Ave S                                            215    215   215   215\n",
       "@seattledot Its cleared.                               1      1     1     1\n",
       "@zachstednick It opens when there is a boat wai...     1      1     1     1\n",
       "Ballard                                              723    723   723   723\n",
       "Fremont                                             1071   1071  1071  1071\n",
       "Hearing of some sort of issue with the Montlake        1      1     1     1\n",
       "Lower Spokane St                                     297    297   297   297\n",
       "Montlake                                             290    290   290   290\n",
       "South Park                                           162    162   162   162\n",
       "Thanks for the info @thekremple                        1      1     1     1\n",
       "UPDATE:                                                1      1     1     1\n",
       "University                                           483    483   483   483"
      ]
     },
     "execution_count": 351,
     "metadata": {},
     "output_type": "execute_result"
    }
   ],
   "source": [
    "# Some of the fields include errors we need to remove\n",
    "df_clean.groupby('bridge').count()"
   ]
  },
  {
   "cell_type": "code",
   "execution_count": 307,
   "metadata": {
    "collapsed": false
   },
   "outputs": [],
   "source": [
    "bridge_list = ['Ballard', 'Fremont', '1st Ave S', 'Montlake', 'Lower Spokane St', 'South Park', 'University']"
   ]
  },
  {
   "cell_type": "code",
   "execution_count": 355,
   "metadata": {
    "collapsed": false
   },
   "outputs": [],
   "source": [
    "# Select only rows with a bridge name in the bridge list\n",
    "newdf = df_clean[df_clean['bridge'].isin(bridge_list)]"
   ]
  },
  {
   "cell_type": "code",
   "execution_count": 356,
   "metadata": {
    "collapsed": false
   },
   "outputs": [
    {
     "name": "stderr",
     "output_type": "stream",
     "text": [
      "/Library/Python/2.7/site-packages/ipykernel/__main__.py:5: SettingWithCopyWarning: \n",
      "A value is trying to be set on a copy of a slice from a DataFrame.\n",
      "Try using .loc[row_indexer,col_indexer] = value instead\n",
      "\n",
      "See the caveats in the documentation: http://pandas.pydata.org/pandas-docs/stable/indexing.html#indexing-view-versus-copy\n"
     ]
    }
   ],
   "source": [
    "# There are still some records with bad data\n",
    "# Get rid of date rows without dates\n",
    "\n",
    "# first remove extra space in the date string\n",
    "newdf['newtime'] = newdf['time'].str.lstrip()"
   ]
  },
  {
   "cell_type": "code",
   "execution_count": 357,
   "metadata": {
    "collapsed": false
   },
   "outputs": [
    {
     "data": {
      "text/plain": [
       "3241"
      ]
     },
     "execution_count": 357,
     "metadata": {},
     "output_type": "execute_result"
    }
   ],
   "source": [
    "len(newdf)"
   ]
  },
  {
   "cell_type": "code",
   "execution_count": 358,
   "metadata": {
    "collapsed": false
   },
   "outputs": [
    {
     "data": {
      "text/plain": [
       "3240"
      ]
     },
     "execution_count": 358,
     "metadata": {},
     "output_type": "execute_result"
    }
   ],
   "source": [
    "# Only include date rows with PM or AM text\n",
    "newdf = newdf[newdf['newtime'].str.contains('PM|AM')]\n",
    "len(newdf)"
   ]
  },
  {
   "cell_type": "code",
   "execution_count": 360,
   "metadata": {
    "collapsed": false
   },
   "outputs": [],
   "source": [
    "# Convert the time text to a datetime object in pandas\n",
    "newdf['timeobj'] = pd.to_datetime(newdf['newtime'], format=\"%I:%M:%S %p\", errors='coerce')"
   ]
  },
  {
   "cell_type": "code",
   "execution_count": 340,
   "metadata": {
    "collapsed": false
   },
   "outputs": [],
   "source": [
    "# NOTE: data is presented with most recent events at top, makes more sense chronologically to put oldest at top row\n",
    "# REVERSE the DF\n",
    "newdf = newdf.reindex(index=newdf.index[::-1])"
   ]
  },
  {
   "cell_type": "code",
   "execution_count": 343,
   "metadata": {
    "collapsed": false
   },
   "outputs": [],
   "source": [
    "# We need to know each closure event (bridge opening for a ship to cross)\n",
    "# and calculate the subsequent re-opening time, usually from the following row\n",
    "\n",
    "# do that by getting the index of each bridge closure and taking index+1 for the re-opening\n",
    "# Loop through each bridge separately\n",
    "bridgelist = newdf.groupby('bridge').count().index\n",
    "\n",
    "# initialize result arrays\n",
    "duration = []\n",
    "closehr = []\n",
    "closemin = []\n",
    "closesec = []\n",
    "bridgename = []\n",
    "date = []\n",
    "\n",
    "for bridge in bridgelist:\n",
    "    # select records for each bridge\n",
    "    bridgedf = newdf[newdf['bridge'] == bridge]\n",
    "\n",
    "    # reindex this slice because we need to consider each row i and i+1 for these bridges\n",
    "    bridgedf.reset_index(inplace=True)\n",
    "\n",
    "    # Get index of all bridge closure events\n",
    "    closure_event_index = bridgedf[bridgedf['event'] == 'closed'].index\n",
    "\n",
    "    # Loop through all closure events except the last two (since we compare i and i+1)\n",
    "    for i in closure_event_index[:-2]:\n",
    "        # if the next entry is a reopening, compute the closure time\n",
    "        if bridgedf.iloc[i+1]['event'] == 'open':\n",
    "            # compute the close time between i and i+1\n",
    "            \n",
    "            # get total closure time by subtracting time stamps between close and open\n",
    "            duration.append((bridgedf.iloc[i+1]['timeobj'] - bridgedf.iloc[i]['timeobj']).seconds)\n",
    "            \n",
    "            # also record the start of this closure\n",
    "            closetime = bridgedf.iloc[i]['timeobj']\n",
    "            closehr.append(closetime.hour)\n",
    "            closemin.append(closetime.minute)\n",
    "            closesec.append(closetime.second)\n",
    "            bridgename.append(bridge)\n",
    "            date.append(bridgedf.iloc[i]['date'])\n",
    "        else:\n",
    "            # if i+1 is not an opening there is an error so skip this opening event\n",
    "            continue\n",
    "    \n",
    "# Convert to dataFrame\n",
    "df = pd.DataFrame(data=[duration, closehr,closemin,closesec,bridgename, date]).T\n",
    "df.columns=['Duration','Closure Hour','Closure Minute','Closure Second','Bridge', 'Date']\n",
    "\n",
    "# Separate date column into month, day, year values\n",
    "df['Year'] = [i.split('-')[0] for i in df['Date'].values]\n",
    "df['Month'] = [i.split('-')[1] for i in df['Date'].values]\n",
    "df['Day'] = [i.split('-')[2] for i in df['Date'].values]"
   ]
  },
  {
   "cell_type": "code",
   "execution_count": null,
   "metadata": {
    "collapsed": false
   },
   "outputs": [],
   "source": [
    "# Evaluate the results"
   ]
  },
  {
   "cell_type": "code",
   "execution_count": 344,
   "metadata": {
    "collapsed": false
   },
   "outputs": [
    {
     "data": {
      "text/plain": [
       "<matplotlib.axes._subplots.AxesSubplot at 0x10f388150>"
      ]
     },
     "execution_count": 344,
     "metadata": {},
     "output_type": "execute_result"
    },
    {
     "data": {
      "image/png": "[encoded data removed]",
      "text/plain": [
       "<matplotlib.figure.Figure at 0x11015bcd0>"
      ]
     },
     "metadata": {},
     "output_type": "display_data"
    }
   ],
   "source": [
    "# Total closures (count) by day in minutes\n",
    "df.groupby('Day').count()['Duration'].plot()"
   ]
  },
  {
   "cell_type": "code",
   "execution_count": 345,
   "metadata": {
    "collapsed": false
   },
   "outputs": [
    {
     "data": {
      "text/plain": [
       "<matplotlib.axes._subplots.AxesSubplot at 0x1102719d0>"
      ]
     },
     "execution_count": 345,
     "metadata": {},
     "output_type": "execute_result"
    },
    {
     "data": {
      "image/png": "[encoded data removed]",
      "text/plain": [
       "<matplotlib.figure.Figure at 0x110172390>"
      ]
     },
     "metadata": {},
     "output_type": "display_data"
    }
   ],
   "source": [
    "# Total closure time by day\n",
    "(df.groupby('Day').sum()['Duration']/60).plot()\n"
   ]
  },
  {
   "cell_type": "code",
   "execution_count": 346,
   "metadata": {
    "collapsed": false
   },
   "outputs": [
    {
     "data": {
      "text/plain": [
       "<matplotlib.axes._subplots.AxesSubplot at 0x1102ab290>"
      ]
     },
     "execution_count": 346,
     "metadata": {},
     "output_type": "execute_result"
    },
    {
     "data": {
      "image/png": "[encoded data removed]",
      "text/plain": [
       "<matplotlib.figure.Figure at 0x1102a0790>"
      ]
     },
     "metadata": {},
     "output_type": "display_data"
    }
   ],
   "source": [
    "# Closures by time of day\n",
    "df.groupby('Closure Hour').count()['Duration'].plot()"
   ]
  },
  {
   "cell_type": "code",
   "execution_count": 347,
   "metadata": {
    "collapsed": false
   },
   "outputs": [
    {
     "data": {
      "text/plain": [
       "<matplotlib.axes._subplots.AxesSubplot at 0x110405e90>"
      ]
     },
     "execution_count": 347,
     "metadata": {},
     "output_type": "execute_result"
    },
    {
     "data": {
      "image/png": "[encoded data removed]",
      "text/plain": [
       "<matplotlib.figure.Figure at 0x110421190>"
      ]
     },
     "metadata": {},
     "output_type": "display_data"
    }
   ],
   "source": [
    "# Closures by time of day\n",
    "df.groupby('Closure Hour').sum()['Duration'].plot()"
   ]
  },
  {
   "cell_type": "code",
   "execution_count": 325,
   "metadata": {
    "collapsed": false
   },
   "outputs": [
    {
     "data": {
      "text/plain": [
       "12"
      ]
     },
     "execution_count": 325,
     "metadata": {},
     "output_type": "execute_result"
    }
   ],
   "source": [
    "# Looks there are some records with very long opening, perhaps errors?\n",
    "# We can dig into that later, or just drop the really long records for now\n",
    "df['Duration'].max()/3600"
   ]
  },
  {
   "cell_type": "code",
   "execution_count": 326,
   "metadata": {
    "collapsed": false
   },
   "outputs": [],
   "source": [
    "# Select closings less than 2 hours\n",
    "df = df[df['Duration'] < 3600*2]"
   ]
  },
  {
   "cell_type": "code",
   "execution_count": 328,
   "metadata": {
    "collapsed": false
   },
   "outputs": [
    {
     "data": {
      "image/png": "[encoded data removed]",
      "text/plain": [
       "<matplotlib.figure.Figure at 0x10f98ae90>"
      ]
     },
     "metadata": {},
     "output_type": "display_data"
    }
   ],
   "source": [
    "# Distribution by bridge\n",
    "for bridge in df.groupby('Bridge').count().index:\n",
    "    outdf = df[df['Bridge'] == bridge]\n",
    "    outdf['Duration'].plot(kind='hist',subplots=True, alpha=0.8)\n",
    "#     newdf['Duration'].hist(by=newdf.index,subplots=True, alpha=0.8)"
   ]
  },
  {
   "cell_type": "code",
   "execution_count": null,
   "metadata": {
    "collapsed": false
   },
   "outputs": [],
   "source": []
  },
  {
   "cell_type": "code",
   "execution_count": null,
   "metadata": {
    "collapsed": true
   },
   "outputs": [],
   "source": []
  }
 ],
 "metadata": {
  "kernelspec": {
   "display_name": "Python 2",
   "language": "python",
   "name": "python2"
  },
  "language_info": {
   "codemirror_mode": {
    "name": "ipython",
    "version": 2
   },
   "file_extension": ".py",
   "mimetype": "text/x-python",
   "name": "python",
   "nbconvert_exporter": "python",
   "pygments_lexer": "ipython2",
   "version": "2.7.6"
  }
 },
 "nbformat": 4,
 "nbformat_minor": 0
}

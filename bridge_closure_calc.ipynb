{
 "cells": [
  {
   "cell_type": "code",
   "execution_count": 172,
   "metadata": {
    "collapsed": false
   },
   "outputs": [],
   "source": [
    "import pandas as pd\n",
    "import matplotlib\n",
    "# from ggplot import *\n",
    "import matplotlib.pyplot as plt\n",
    "%matplotlib inline"
   ]
  },
  {
   "cell_type": "code",
   "execution_count": 173,
   "metadata": {
    "collapsed": false
   },
   "outputs": [
    {
     "name": "stdout",
     "output_type": "stream",
     "text": [
      "1.5.1\n"
     ]
    }
   ],
   "source": [
    "print matplotlib.__version__"
   ]
  },
  {
   "cell_type": "code",
   "execution_count": 174,
   "metadata": {
    "collapsed": false
   },
   "outputs": [],
   "source": [
    "test = [[u'Aug', u'04', u'02:46:15', u'The Lower Spokane St Bridge has closed to   traffic - 7:46:11 PM'], [u'Aug', u'04', u'01:54:48', u'The Lower Spokane St Bridge has closed to   traffic - 6:54:45 PM'], [u'Aug', u'04', u'00:49:28', u'The Lower Spokane St Bridge has closed to   traffic - 5:49:24 PM']]"
   ]
  },
  {
   "cell_type": "code",
   "execution_count": 175,
   "metadata": {
    "collapsed": false
   },
   "outputs": [
    {
     "data": {
      "text/plain": [
       "[u'Aug',\n",
       " u'04',\n",
       " u'01:54:48',\n",
       " u'The Lower Spokane St Bridge has closed to   traffic - 6:54:45 PM']"
      ]
     },
     "execution_count": 175,
     "metadata": {},
     "output_type": "execute_result"
    }
   ],
   "source": [
    "test[1]"
   ]
  },
  {
   "cell_type": "code",
   "execution_count": 176,
   "metadata": {
    "collapsed": false
   },
   "outputs": [
    {
     "data": {
      "text/plain": [
       "[u'Aug',\n",
       " u'04',\n",
       " u'00:49:28',\n",
       " u'The Lower Spokane St Bridge has closed to   traffic - 5:49:24 PM']"
      ]
     },
     "execution_count": 176,
     "metadata": {},
     "output_type": "execute_result"
    }
   ],
   "source": [
    "test[2]"
   ]
  },
  {
   "cell_type": "code",
   "execution_count": 177,
   "metadata": {
    "collapsed": false
   },
   "outputs": [
    {
     "data": {
      "text/plain": [
       "u'04'"
      ]
     },
     "execution_count": 177,
     "metadata": {},
     "output_type": "execute_result"
    }
   ],
   "source": [
    "test[2][1]"
   ]
  },
  {
   "cell_type": "code",
   "execution_count": 178,
   "metadata": {
    "collapsed": false
   },
   "outputs": [],
   "source": [
    "from datetime import datetime"
   ]
  },
  {
   "cell_type": "code",
   "execution_count": 179,
   "metadata": {
    "collapsed": false
   },
   "outputs": [],
   "source": [
    "timestring = \"Fri Aug 08 10:15:11 +0000 2015\""
   ]
  },
  {
   "cell_type": "code",
   "execution_count": 180,
   "metadata": {
    "collapsed": false
   },
   "outputs": [],
   "source": [
    "date_object = datetime.strptime('Jun 1 2005  1:33PM', '%b %d %Y %I:%M%p')"
   ]
  },
  {
   "cell_type": "code",
   "execution_count": 181,
   "metadata": {
    "collapsed": false
   },
   "outputs": [
    {
     "data": {
      "text/plain": [
       "datetime.datetime(2005, 6, 1, 13, 33)"
      ]
     },
     "execution_count": 181,
     "metadata": {},
     "output_type": "execute_result"
    }
   ],
   "source": [
    "date_object"
   ]
  },
  {
   "cell_type": "code",
   "execution_count": 182,
   "metadata": {
    "collapsed": false
   },
   "outputs": [],
   "source": [
    "newtimestring = timestring.split(\" \")"
   ]
  },
  {
   "cell_type": "code",
   "execution_count": 183,
   "metadata": {
    "collapsed": false
   },
   "outputs": [
    {
     "data": {
      "text/plain": [
       "'+0000'"
      ]
     },
     "execution_count": 183,
     "metadata": {},
     "output_type": "execute_result"
    }
   ],
   "source": [
    "' '.join(newtimestring[-2:-1])"
   ]
  },
  {
   "cell_type": "code",
   "execution_count": 184,
   "metadata": {
    "collapsed": false
   },
   "outputs": [],
   "source": [
    "newtimestring = ' '.join(timestring.split(\" \")[:-2])"
   ]
  },
  {
   "cell_type": "code",
   "execution_count": 185,
   "metadata": {
    "collapsed": false
   },
   "outputs": [],
   "source": [
    "newtimestring = newtimestring + \" \" + timestring.split(\" \")[-1]"
   ]
  },
  {
   "cell_type": "code",
   "execution_count": 186,
   "metadata": {
    "collapsed": false
   },
   "outputs": [],
   "source": [
    "my_object = datetime.strptime(newtimestring, '%a %b %d %H:%M:%S %Y')"
   ]
  },
  {
   "cell_type": "code",
   "execution_count": 187,
   "metadata": {
    "collapsed": false
   },
   "outputs": [
    {
     "data": {
      "text/plain": [
       "datetime.datetime(2015, 8, 8, 10, 15, 11)"
      ]
     },
     "execution_count": 187,
     "metadata": {},
     "output_type": "execute_result"
    }
   ],
   "source": [
    "my_object"
   ]
  },
  {
   "cell_type": "code",
   "execution_count": 188,
   "metadata": {
    "collapsed": false
   },
   "outputs": [],
   "source": [
    "present = datetime.now()"
   ]
  },
  {
   "cell_type": "code",
   "execution_count": 189,
   "metadata": {
    "collapsed": false
   },
   "outputs": [],
   "source": [
    "diff = present - my_object"
   ]
  },
  {
   "cell_type": "code",
   "execution_count": 190,
   "metadata": {
    "collapsed": false
   },
   "outputs": [
    {
     "data": {
      "text/plain": [
       "5"
      ]
     },
     "execution_count": 190,
     "metadata": {},
     "output_type": "execute_result"
    }
   ],
   "source": [
    "diff.seconds/3600"
   ]
  },
  {
   "cell_type": "code",
   "execution_count": 191,
   "metadata": {
    "collapsed": false
   },
   "outputs": [],
   "source": [
    "def days_hours_minutes(td):\n",
    "    mydict = {}\n",
    "    mydict['days'] = td.days\n",
    "    mydict['hours'] = td.seconds//3600\n",
    "    mydict['minutes'] = (td.seconds//60)%60\n",
    "    return mydict"
   ]
  },
  {
   "cell_type": "code",
   "execution_count": 192,
   "metadata": {
    "collapsed": false
   },
   "outputs": [],
   "source": [
    "newdiff = days_hours_minutes(diff)"
   ]
  },
  {
   "cell_type": "code",
   "execution_count": 193,
   "metadata": {
    "collapsed": false
   },
   "outputs": [
    {
     "data": {
      "text/plain": [
       "175"
      ]
     },
     "execution_count": 193,
     "metadata": {},
     "output_type": "execute_result"
    }
   ],
   "source": [
    "newdiff['days']"
   ]
  },
  {
   "cell_type": "code",
   "execution_count": 194,
   "metadata": {
    "collapsed": false
   },
   "outputs": [],
   "source": [
    "# only report if difference is in past 30 minutes\n",
    "if newdiff['days'] == 0 and newdiff['hours'] == 0 and newdiff['minutes'] < 30:\n",
    "    print 'yes'"
   ]
  },
  {
   "cell_type": "code",
   "execution_count": 195,
   "metadata": {
    "collapsed": false
   },
   "outputs": [],
   "source": [
    "minutes = diff.seconds // 60 % 60"
   ]
  },
  {
   "cell_type": "code",
   "execution_count": null,
   "metadata": {
    "collapsed": false
   },
   "outputs": [],
   "source": []
  },
  {
   "cell_type": "code",
   "execution_count": 196,
   "metadata": {
    "collapsed": false
   },
   "outputs": [
    {
     "data": {
      "text/plain": [
       "175"
      ]
     },
     "execution_count": 196,
     "metadata": {},
     "output_type": "execute_result"
    }
   ],
   "source": [
    "diff.days"
   ]
  },
  {
   "cell_type": "code",
   "execution_count": 197,
   "metadata": {
    "collapsed": false
   },
   "outputs": [
    {
     "data": {
      "text/plain": [
       "datetime.datetime(2016, 1, 30, 15, 22, 18, 114997)"
      ]
     },
     "execution_count": 197,
     "metadata": {},
     "output_type": "execute_result"
    }
   ],
   "source": [
    "present"
   ]
  },
  {
   "cell_type": "code",
   "execution_count": 198,
   "metadata": {
    "collapsed": false
   },
   "outputs": [
    {
     "data": {
      "text/plain": [
       "datetime.datetime(2015, 8, 8, 10, 15, 11)"
      ]
     },
     "execution_count": 198,
     "metadata": {},
     "output_type": "execute_result"
    }
   ],
   "source": [
    "my_object"
   ]
  },
  {
   "cell_type": "code",
   "execution_count": 199,
   "metadata": {
    "collapsed": false
   },
   "outputs": [
    {
     "data": {
      "text/plain": [
       "5"
      ]
     },
     "execution_count": 199,
     "metadata": {},
     "output_type": "execute_result"
    }
   ],
   "source": [
    "diff.seconds/3600"
   ]
  },
  {
   "cell_type": "code",
   "execution_count": null,
   "metadata": {
    "collapsed": false
   },
   "outputs": [],
   "source": []
  },
  {
   "cell_type": "code",
   "execution_count": 200,
   "metadata": {
    "collapsed": false
   },
   "outputs": [
    {
     "data": {
      "text/plain": [
       "dict"
      ]
     },
     "execution_count": 200,
     "metadata": {},
     "output_type": "execute_result"
    }
   ],
   "source": [
    "type({\"timestamp_ms\":\"1439066732117\"})"
   ]
  },
  {
   "cell_type": "code",
   "execution_count": 201,
   "metadata": {
    "collapsed": false
   },
   "outputs": [],
   "source": [
    "present = datetime.now()"
   ]
  },
  {
   "cell_type": "code",
   "execution_count": 202,
   "metadata": {
    "collapsed": false
   },
   "outputs": [
    {
     "data": {
      "text/plain": [
       "datetime.datetime(2016, 1, 30, 15, 22, 18, 254085)"
      ]
     },
     "execution_count": 202,
     "metadata": {},
     "output_type": "execute_result"
    }
   ],
   "source": [
    "present"
   ]
  },
  {
   "cell_type": "code",
   "execution_count": 203,
   "metadata": {
    "collapsed": false
   },
   "outputs": [],
   "source": [
    "startTime = \"4:25PM\"\n",
    "endTime = \"7:30PM\""
   ]
  },
  {
   "cell_type": "code",
   "execution_count": 204,
   "metadata": {
    "collapsed": false
   },
   "outputs": [],
   "source": [
    "startTimeObj = datetime.strptime(startTime, '%I:%M%p')\n",
    "endTimeObj = datetime.strptime(endTime, '%I:%M%p')"
   ]
  },
  {
   "cell_type": "code",
   "execution_count": 205,
   "metadata": {
    "collapsed": false
   },
   "outputs": [
    {
     "data": {
      "text/plain": [
       "'4:25PM'"
      ]
     },
     "execution_count": 205,
     "metadata": {},
     "output_type": "execute_result"
    }
   ],
   "source": [
    "startTime"
   ]
  },
  {
   "cell_type": "code",
   "execution_count": 206,
   "metadata": {
    "collapsed": false
   },
   "outputs": [
    {
     "data": {
      "text/plain": [
       "15"
      ]
     },
     "execution_count": 206,
     "metadata": {},
     "output_type": "execute_result"
    }
   ],
   "source": [
    "# join the start time string with fields to match a datetime.now() object\n",
    "present.hour"
   ]
  },
  {
   "cell_type": "code",
   "execution_count": 207,
   "metadata": {
    "collapsed": false
   },
   "outputs": [
    {
     "data": {
      "text/plain": [
       "19"
      ]
     },
     "execution_count": 207,
     "metadata": {},
     "output_type": "execute_result"
    }
   ],
   "source": [
    "startTimeObj.hour\n",
    "endTimeObj.hour"
   ]
  },
  {
   "cell_type": "code",
   "execution_count": 208,
   "metadata": {
    "collapsed": false
   },
   "outputs": [
    {
     "data": {
      "text/plain": [
       "19"
      ]
     },
     "execution_count": 208,
     "metadata": {},
     "output_type": "execute_result"
    }
   ],
   "source": [
    "startTimeObj.minute\n",
    "endTimeObj.hour"
   ]
  },
  {
   "cell_type": "code",
   "execution_count": 209,
   "metadata": {
    "collapsed": false
   },
   "outputs": [],
   "source": [
    "if startTimeObj.hour <= present.hour <= endTimeObj.hour and \\\n",
    "   startTimeObj.minute <= present.minute <= endTimeObj.minute:\n",
    "    print \"yes\""
   ]
  },
  {
   "cell_type": "code",
   "execution_count": 210,
   "metadata": {
    "collapsed": false
   },
   "outputs": [],
   "source": [
    "import pandas as pd \n",
    "\n",
    "df = pd.read_csv('SDOTBridges_tweets.csv')"
   ]
  },
  {
   "cell_type": "code",
   "execution_count": 211,
   "metadata": {
    "collapsed": false
   },
   "outputs": [
    {
     "data": {
      "text/plain": [
       "3246"
      ]
     },
     "execution_count": 211,
     "metadata": {},
     "output_type": "execute_result"
    }
   ],
   "source": [
    "len(df)"
   ]
  },
  {
   "cell_type": "code",
   "execution_count": 212,
   "metadata": {
    "collapsed": false
   },
   "outputs": [],
   "source": [
    "df['bridge'] = df['text'].map(lambda x: x.split('The ')[-1].split(' Bridge')[0])\n",
    "df['date'] = df['text'].map(lambda x: x.split('- ')[-1])\n",
    "df['event'] = df['text'].apply(lambda x: 'closed' if ('closed' in x) else 'open')\n",
    "df_clean = df[['bridge','date', 'event', 'text']]"
   ]
  },
  {
   "cell_type": "code",
   "execution_count": 213,
   "metadata": {
    "collapsed": false
   },
   "outputs": [],
   "source": [
    "# Now we have all the relevant open and closing information\n",
    "# we need to reorganize  to turn open and close events into periods of closure\n",
    "# df_clean"
   ]
  },
  {
   "cell_type": "code",
   "execution_count": 214,
   "metadata": {
    "collapsed": false
   },
   "outputs": [],
   "source": [
    "# Make sure all date columns have valid dates\n",
    "\n",
    "# Convert to datetime object\n",
    "\n",
    "# remove leading spaces\n",
    "\n",
    "\n",
    "# Filter out rows that don't have a date in them\n"
   ]
  },
  {
   "cell_type": "code",
   "execution_count": null,
   "metadata": {
    "collapsed": false
   },
   "outputs": [],
   "source": [
    "\n"
   ]
  },
  {
   "cell_type": "code",
   "execution_count": null,
   "metadata": {
    "collapsed": false
   },
   "outputs": [],
   "source": []
  },
  {
   "cell_type": "code",
   "execution_count": 215,
   "metadata": {
    "collapsed": false
   },
   "outputs": [
    {
     "data": {
      "text/html": [
       "<div>\n",
       "<table border=\"1\" class=\"dataframe\">\n",
       "  <thead>\n",
       "    <tr style=\"text-align: right;\">\n",
       "      <th></th>\n",
       "      <th>date</th>\n",
       "      <th>event</th>\n",
       "      <th>text</th>\n",
       "    </tr>\n",
       "    <tr>\n",
       "      <th>bridge</th>\n",
       "      <th></th>\n",
       "      <th></th>\n",
       "      <th></th>\n",
       "    </tr>\n",
       "  </thead>\n",
       "  <tbody>\n",
       "    <tr>\n",
       "      <th>1st Ave S</th>\n",
       "      <td>215</td>\n",
       "      <td>215</td>\n",
       "      <td>215</td>\n",
       "    </tr>\n",
       "    <tr>\n",
       "      <th>@seattledot Its cleared.</th>\n",
       "      <td>1</td>\n",
       "      <td>1</td>\n",
       "      <td>1</td>\n",
       "    </tr>\n",
       "    <tr>\n",
       "      <th>@zachstednick It opens when there is a boat waiting, so not everyday. Plus this only posts boat openings btwn hours of 6am-10pm.</th>\n",
       "      <td>1</td>\n",
       "      <td>1</td>\n",
       "      <td>1</td>\n",
       "    </tr>\n",
       "    <tr>\n",
       "      <th>Ballard</th>\n",
       "      <td>723</td>\n",
       "      <td>723</td>\n",
       "      <td>723</td>\n",
       "    </tr>\n",
       "    <tr>\n",
       "      <th>Fremont</th>\n",
       "      <td>1071</td>\n",
       "      <td>1071</td>\n",
       "      <td>1071</td>\n",
       "    </tr>\n",
       "    <tr>\n",
       "      <th>Hearing of some sort of issue with the Montlake</th>\n",
       "      <td>1</td>\n",
       "      <td>1</td>\n",
       "      <td>1</td>\n",
       "    </tr>\n",
       "    <tr>\n",
       "      <th>Lower Spokane St</th>\n",
       "      <td>297</td>\n",
       "      <td>297</td>\n",
       "      <td>297</td>\n",
       "    </tr>\n",
       "    <tr>\n",
       "      <th>Montlake</th>\n",
       "      <td>290</td>\n",
       "      <td>290</td>\n",
       "      <td>290</td>\n",
       "    </tr>\n",
       "    <tr>\n",
       "      <th>South Park</th>\n",
       "      <td>162</td>\n",
       "      <td>162</td>\n",
       "      <td>162</td>\n",
       "    </tr>\n",
       "    <tr>\n",
       "      <th>Thanks for the info @thekremple</th>\n",
       "      <td>1</td>\n",
       "      <td>1</td>\n",
       "      <td>1</td>\n",
       "    </tr>\n",
       "    <tr>\n",
       "      <th>UPDATE:</th>\n",
       "      <td>1</td>\n",
       "      <td>1</td>\n",
       "      <td>1</td>\n",
       "    </tr>\n",
       "    <tr>\n",
       "      <th>University</th>\n",
       "      <td>483</td>\n",
       "      <td>483</td>\n",
       "      <td>483</td>\n",
       "    </tr>\n",
       "  </tbody>\n",
       "</table>\n",
       "</div>"
      ],
      "text/plain": [
       "                                                    date  event  text\n",
       "bridge                                                               \n",
       "1st Ave S                                            215    215   215\n",
       "@seattledot Its cleared.                               1      1     1\n",
       "@zachstednick It opens when there is a boat wai...     1      1     1\n",
       "Ballard                                              723    723   723\n",
       "Fremont                                             1071   1071  1071\n",
       "Hearing of some sort of issue with the Montlake        1      1     1\n",
       "Lower Spokane St                                     297    297   297\n",
       "Montlake                                             290    290   290\n",
       "South Park                                           162    162   162\n",
       "Thanks for the info @thekremple                        1      1     1\n",
       "UPDATE:                                                1      1     1\n",
       "University                                           483    483   483"
      ]
     },
     "execution_count": 215,
     "metadata": {},
     "output_type": "execute_result"
    }
   ],
   "source": [
    "df_clean.groupby('bridge').count()"
   ]
  },
  {
   "cell_type": "code",
   "execution_count": 216,
   "metadata": {
    "collapsed": false
   },
   "outputs": [],
   "source": [
    "bridge_list = ['Ballard', 'Fremont', '1st Ave S', 'Montlake', 'Lower Spokane St', 'South Park', 'University']"
   ]
  },
  {
   "cell_type": "code",
   "execution_count": 217,
   "metadata": {
    "collapsed": false
   },
   "outputs": [],
   "source": [
    "# Select only lines with a bridge name in the bridge list\n",
    "newdf = df_clean[df_clean['bridge'].isin(bridge_list)]"
   ]
  },
  {
   "cell_type": "code",
   "execution_count": 218,
   "metadata": {
    "collapsed": false
   },
   "outputs": [
    {
     "data": {
      "text/plain": [
       "Index([u'1st Ave S', u'Ballard', u'Fremont', u'Lower Spokane St', u'Montlake',\n",
       "       u'South Park', u'University'],\n",
       "      dtype='object', name=u'bridge')"
      ]
     },
     "execution_count": 218,
     "metadata": {},
     "output_type": "execute_result"
    }
   ],
   "source": [
    "newdf.groupby('bridge').count().index"
   ]
  },
  {
   "cell_type": "code",
   "execution_count": 219,
   "metadata": {
    "collapsed": false
   },
   "outputs": [
    {
     "name": "stderr",
     "output_type": "stream",
     "text": [
      "/Library/Python/2.7/site-packages/ipykernel/__main__.py:5: SettingWithCopyWarning: \n",
      "A value is trying to be set on a copy of a slice from a DataFrame.\n",
      "Try using .loc[row_indexer,col_indexer] = value instead\n",
      "\n",
      "See the caveats in the documentation: http://pandas.pydata.org/pandas-docs/stable/indexing.html#indexing-view-versus-copy\n"
     ]
    }
   ],
   "source": [
    "# There are still some records with weird data\n",
    "# Get rid of date rows without dates\n",
    "\n",
    "# first get rid of the extra space in the date string\n",
    "newdf['newdate'] = newdf['date'].str.lstrip()"
   ]
  },
  {
   "cell_type": "code",
   "execution_count": 220,
   "metadata": {
    "collapsed": false
   },
   "outputs": [
    {
     "data": {
      "text/plain": [
       "3241"
      ]
     },
     "execution_count": 220,
     "metadata": {},
     "output_type": "execute_result"
    }
   ],
   "source": [
    "len(newdf)"
   ]
  },
  {
   "cell_type": "code",
   "execution_count": 221,
   "metadata": {
    "collapsed": false
   },
   "outputs": [
    {
     "data": {
      "text/plain": [
       "3240"
      ]
     },
     "execution_count": 221,
     "metadata": {},
     "output_type": "execute_result"
    }
   ],
   "source": [
    "# Only include date rows with PM or AM\n",
    "newdf = newdf[newdf['newdate'].str.contains('PM|AM')]\n",
    "len(newdf)"
   ]
  },
  {
   "cell_type": "code",
   "execution_count": 222,
   "metadata": {
    "collapsed": false
   },
   "outputs": [],
   "source": [
    "newdf['dateobj'] = pd.to_datetime(newdf['newdate'], format=\"%H:%M:%S %p\", errors='coerce')"
   ]
  },
  {
   "cell_type": "code",
   "execution_count": 223,
   "metadata": {
    "collapsed": false
   },
   "outputs": [
    {
     "data": {
      "text/plain": [
       "7"
      ]
     },
     "execution_count": 223,
     "metadata": {},
     "output_type": "execute_result"
    }
   ],
   "source": [
    "newdf.iloc[0].dateobj.hour"
   ]
  },
  {
   "cell_type": "code",
   "execution_count": null,
   "metadata": {
    "collapsed": false
   },
   "outputs": [],
   "source": []
  },
  {
   "cell_type": "code",
   "execution_count": 224,
   "metadata": {
    "collapsed": false
   },
   "outputs": [],
   "source": [
    "# newdf[newdf['bridge'] == 'Fremont']"
   ]
  },
  {
   "cell_type": "code",
   "execution_count": null,
   "metadata": {
    "collapsed": false
   },
   "outputs": [],
   "source": []
  },
  {
   "cell_type": "code",
   "execution_count": 225,
   "metadata": {
    "collapsed": false
   },
   "outputs": [],
   "source": [
    "##############################################"
   ]
  },
  {
   "cell_type": "code",
   "execution_count": 226,
   "metadata": {
    "collapsed": false
   },
   "outputs": [],
   "source": [
    "# NOTE: data is presented with most recent events at top, makes more sense chronologically to put oldest at top row\n",
    "# REVERSE the DF\n",
    "newdf = newdf.reindex(index=newdf.index[::-1])"
   ]
  },
  {
   "cell_type": "code",
   "execution_count": null,
   "metadata": {
    "collapsed": false
   },
   "outputs": [],
   "source": []
  },
  {
   "cell_type": "code",
   "execution_count": 231,
   "metadata": {
    "collapsed": false
   },
   "outputs": [],
   "source": [
    "# one dumb way to do this is to loop through each trip, comparing it to the next \n",
    "# and creating a resulting new dataframe from that\n",
    "# perhaps there's a more efficient way?\n",
    "\n",
    "# we need to loop through each bridge's trips to make this happen\n",
    "# start with just a single bridge\n",
    "ballard = newdf.query('bridge == \"Ballard\"')\n",
    "\n",
    "# store results in a new dataframe\n",
    "results = []\n",
    "\n",
    "for i in range(len(ballard)):\n",
    "    firstrow = ballard.iloc[i]\n",
    "    # get the next row, except on the last row in dataframe\n",
    "    if i == len(ballard)-1:\n",
    "        break\n",
    "    else:\n",
    "        nextrow = ballard.iloc[i+1]\n",
    "    \n",
    "    # make sure the first \n",
    "    \n",
    "    # return total time difference as a 'timedelta' object\n",
    "    results.append(nextrow.dateobj - firstrow.dateobj)\n",
    "    \n",
    "    \n",
    "    "
   ]
  },
  {
   "cell_type": "code",
   "execution_count": 232,
   "metadata": {
    "collapsed": false
   },
   "outputs": [],
   "source": [
    "# newdf[newdf['bridge'] == 'Ballard']"
   ]
  },
  {
   "cell_type": "code",
   "execution_count": 233,
   "metadata": {
    "collapsed": false
   },
   "outputs": [],
   "source": [
    "# Alternatively, we need to know each closure event (bridge opening for a ship to cross)\n",
    "# and calculate the subsequent re-opening time, usually from the following row\n",
    "\n",
    "# do that by getting the index of each bridge closure and taking index+1 for the re-opening\n",
    "# for the ballard bridges\n",
    "bridgelist = newdf.groupby('bridge').count().index\n",
    "duration = []\n",
    "closehr = []\n",
    "closemin = []\n",
    "closesec = []\n",
    "bridgename = []\n",
    "\n",
    "for bridge in bridgelist:\n",
    "    bridgedf = newdf[newdf['bridge'] == bridge]\n",
    "\n",
    "    # reindex this slice because we need to consider each row i and i+1 for these bridges only\n",
    "    bridgedf.reset_index(inplace=True)\n",
    "\n",
    "    closure_event_index = bridgedf[bridgedf['event'] == 'closed'].index\n",
    "\n",
    "    # These index values should be offset by 2 (one closure row followed by one reopening row)\n",
    "    # Flag unspaced index occurences\n",
    "    \n",
    "\n",
    "    for i in closure_event_index[:-2]:\n",
    "        # if the next entry is a reopening, compute the closure time\n",
    "    #     print i\n",
    "        if bridgedf.iloc[i+1]['event'] == 'open':\n",
    "            # compute the close time between i and i+1\n",
    "    #         print ballard.iloc[i]['event']\n",
    "    #         print ballard.iloc[i+1]['event']\n",
    "            duration.append((bridgedf.iloc[i+1]['dateobj'] - bridgedf.iloc[i]['dateobj']).seconds)\n",
    "            closetime = bridgedf.iloc[i]['dateobj']\n",
    "            closehr.append(closetime.hour)\n",
    "            closemin.append(closetime.minute)\n",
    "            closesec.append(closetime.second)\n",
    "            bridgename.append(bridge)\n",
    "        else:\n",
    "            continue\n",
    "    \n",
    "# Convert to dataFrame\n",
    "df = pd.DataFrame(data=[duration, closehr,closemin,closesec,bridgename]).T\n",
    "df.columns=['Duration','Closure Hour','Closure Minute','Closure Second','Bridge']"
   ]
  },
  {
   "cell_type": "code",
   "execution_count": 235,
   "metadata": {
    "collapsed": false
   },
   "outputs": [
    {
     "data": {
      "text/plain": [
       "0        426\n",
       "1        230\n",
       "2        400\n",
       "3        546\n",
       "4        629\n",
       "5        344\n",
       "6        493\n",
       "7        716\n",
       "8        440\n",
       "9        391\n",
       "10       559\n",
       "11       571\n",
       "12       507\n",
       "13       491\n",
       "14       640\n",
       "15       541\n",
       "16       407\n",
       "17      1063\n",
       "18      1077\n",
       "19       233\n",
       "20       604\n",
       "21       716\n",
       "22       352\n",
       "23       375\n",
       "24       684\n",
       "25       572\n",
       "26       301\n",
       "27       503\n",
       "28       386\n",
       "29       392\n",
       "        ... \n",
       "1564     151\n",
       "1565     240\n",
       "1566     339\n",
       "1567     392\n",
       "1568     244\n",
       "1569     231\n",
       "1570     468\n",
       "1571     403\n",
       "1572     155\n",
       "1573     204\n",
       "1574     337\n",
       "1575     232\n",
       "1576     336\n",
       "1577     288\n",
       "1578      70\n",
       "1579     246\n",
       "1580     271\n",
       "1581     199\n",
       "1582      99\n",
       "1583     487\n",
       "1584     353\n",
       "1585     297\n",
       "1586     469\n",
       "1587     154\n",
       "1588     445\n",
       "1589     287\n",
       "1590     237\n",
       "1591     172\n",
       "1592     534\n",
       "1593     484\n",
       "Name: Duration, dtype: object"
      ]
     },
     "execution_count": 235,
     "metadata": {},
     "output_type": "execute_result"
    }
   ],
   "source": [
    "df['Duration']"
   ]
  },
  {
   "cell_type": "code",
   "execution_count": 236,
   "metadata": {
    "collapsed": false
   },
   "outputs": [
    {
     "data": {
      "text/plain": [
       "12"
      ]
     },
     "execution_count": 236,
     "metadata": {},
     "output_type": "execute_result"
    }
   ],
   "source": [
    "# Looks there are some records with very long opening, perhaps errors?\n",
    "# We can dig into that later, or just drop the really long records\n",
    "df['Duration'].max()/3600"
   ]
  },
  {
   "cell_type": "code",
   "execution_count": 237,
   "metadata": {
    "collapsed": false
   },
   "outputs": [],
   "source": [
    "# Select closings less than 2 hours\n",
    "df = df[df['Duration'] < 3600*2]"
   ]
  },
  {
   "cell_type": "code",
   "execution_count": 248,
   "metadata": {
    "collapsed": false
   },
   "outputs": [],
   "source": [
    "import numpy as np"
   ]
  },
  {
   "cell_type": "code",
   "execution_count": 260,
   "metadata": {
    "collapsed": false
   },
   "outputs": [
    {
     "data": {
      "image/png": "[encoded data removed]",
      "text/plain": [
       "<matplotlib.figure.Figure at 0x10e117190>"
      ]
     },
     "metadata": {},
     "output_type": "display_data"
    }
   ],
   "source": [
    "# Distribution by bridge\n",
    "for bridge in df.groupby('Bridge').count().index:\n",
    "    newdf = df[df['Bridge'] == bridge]\n",
    "    newdf['Duration'].plot(kind='hist',subplots=True, alpha=0.8)\n",
    "#     newdf['Duration'].hist(by=newdf.index,subplots=True, alpha=0.8)"
   ]
  },
  {
   "cell_type": "code",
   "execution_count": null,
   "metadata": {
    "collapsed": false
   },
   "outputs": [],
   "source": []
  }
 ],
 "metadata": {
  "kernelspec": {
   "display_name": "Python 2",
   "language": "python",
   "name": "python2"
  },
  "language_info": {
   "codemirror_mode": {
    "name": "ipython",
    "version": 2
   },
   "file_extension": ".py",
   "mimetype": "text/x-python",
   "name": "python",
   "nbconvert_exporter": "python",
   "pygments_lexer": "ipython2",
   "version": "2.7.6"
  }
 },
 "nbformat": 4,
 "nbformat_minor": 0
}

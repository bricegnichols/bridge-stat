{
 "cells": [
  {
   "cell_type": "markdown",
   "metadata": {},
   "source": [
    "# seattle bridges: what up\n",
    "Analysis of bridge closure events across the city from winter to summer 2016"
   ]
  },
  {
   "cell_type": "code",
   "execution_count": 85,
   "metadata": {
    "collapsed": false
   },
   "outputs": [],
   "source": [
    "from datetime import datetime\n",
    "import pandas as pd\n",
    "import numpy as np\n",
    "import matplotlib\n",
    "import glob\n",
    "# from ggplot import *\n",
    "import matplotlib.pyplot as plt\n",
    "%matplotlib inline"
   ]
  },
  {
   "cell_type": "code",
   "execution_count": 40,
   "metadata": {
    "collapsed": false
   },
   "outputs": [],
   "source": [
    "def days_hours_minutes(td):\n",
    "    \"\"\"\n",
    "    convert a timedate object into a dictionary with days, hours, and minutes elements\n",
    "    \"\"\"\n",
    "    mydict = {}\n",
    "    mydict['days'] = td.days\n",
    "    mydict['hours'] = td.seconds//3600\n",
    "    mydict['minutes'] = (td.seconds//60)%60\n",
    "    return mydict"
   ]
  },
  {
   "cell_type": "markdown",
   "metadata": {},
   "source": [
    "Tweets are stored periodically by scraping Twitter history. Let's combine what's available into a single Pandas dataframe."
   ]
  },
  {
   "cell_type": "code",
   "execution_count": 41,
   "metadata": {
    "collapsed": false
   },
   "outputs": [],
   "source": [
    "# We know all csv files end in 2016\n",
    "bridge_files = glob.glob(\"*2016.csv\")\n",
    "\n",
    "frame = pd.DataFrame()\n",
    "list_ = []\n",
    "for f in bridge_files:\n",
    "    df = pd.read_csv(f)\n",
    "    list_.append(pd.read_csv(f))\n",
    "df = frame.append(list_)\n",
    "\n",
    "df = df.drop_duplicates()"
   ]
  },
  {
   "cell_type": "markdown",
   "metadata": {},
   "source": [
    "## Data Format\n",
    "Each row of data represents either a bridge closure or opening. In my own thinking, a closure means that the bridge is unaccessible to road users. Either definition is confusing because when a bridge is \"closed\" for usage, the physical span is actually \"opened.\" Let's stick with bridge closed = bad for road users. \n",
    "\n",
    "The data has a unique tweet ID, a time tag, and contents of an automated tweet."
   ]
  },
  {
   "cell_type": "code",
   "execution_count": 42,
   "metadata": {
    "collapsed": false
   },
   "outputs": [
    {
     "data": {
      "text/html": [
       "<div>\n",
       "<table border=\"1\" class=\"dataframe\">\n",
       "  <thead>\n",
       "    <tr style=\"text-align: right;\">\n",
       "      <th></th>\n",
       "      <th>id</th>\n",
       "      <th>created_at</th>\n",
       "      <th>text</th>\n",
       "    </tr>\n",
       "  </thead>\n",
       "  <tbody>\n",
       "    <tr>\n",
       "      <th>0</th>\n",
       "      <td>693601965163442176</td>\n",
       "      <td>2016-01-31 01:09:29</td>\n",
       "      <td>The Fremont Bridge has reopened to traffic -  ...</td>\n",
       "    </tr>\n",
       "    <tr>\n",
       "      <th>1</th>\n",
       "      <td>693599354439933952</td>\n",
       "      <td>2016-01-31 00:59:07</td>\n",
       "      <td>The Fremont Bridge has closed to traffic -   4...</td>\n",
       "    </tr>\n",
       "    <tr>\n",
       "      <th>2</th>\n",
       "      <td>693590335797092352</td>\n",
       "      <td>2016-01-31 00:23:16</td>\n",
       "      <td>The Montlake Bridge has reopened to traffic   ...</td>\n",
       "    </tr>\n",
       "    <tr>\n",
       "      <th>3</th>\n",
       "      <td>693588978541309952</td>\n",
       "      <td>2016-01-31 00:17:53</td>\n",
       "      <td>The Montlake Bridge has closed to traffic -   ...</td>\n",
       "    </tr>\n",
       "    <tr>\n",
       "      <th>4</th>\n",
       "      <td>693588472922177536</td>\n",
       "      <td>2016-01-31 00:15:52</td>\n",
       "      <td>The University Bridge has reopened to   traffi...</td>\n",
       "    </tr>\n",
       "  </tbody>\n",
       "</table>\n",
       "</div>"
      ],
      "text/plain": [
       "                   id           created_at  \\\n",
       "0  693601965163442176  2016-01-31 01:09:29   \n",
       "1  693599354439933952  2016-01-31 00:59:07   \n",
       "2  693590335797092352  2016-01-31 00:23:16   \n",
       "3  693588978541309952  2016-01-31 00:17:53   \n",
       "4  693588472922177536  2016-01-31 00:15:52   \n",
       "\n",
       "                                                text  \n",
       "0  The Fremont Bridge has reopened to traffic -  ...  \n",
       "1  The Fremont Bridge has closed to traffic -   4...  \n",
       "2  The Montlake Bridge has reopened to traffic   ...  \n",
       "3  The Montlake Bridge has closed to traffic -   ...  \n",
       "4  The University Bridge has reopened to   traffi...  "
      ]
     },
     "execution_count": 42,
     "metadata": {},
     "output_type": "execute_result"
    }
   ],
   "source": [
    "df.head()"
   ]
  },
  {
   "cell_type": "markdown",
   "metadata": {},
   "source": [
    "The tweet text contains useful data that we need to parse. We can split the text in several ways to get information on the bridge, the time (which is different than the \"created_at\" tweet time, the event (whether the bridge is closing or reopening to road traffic), and finally the date."
   ]
  },
  {
   "cell_type": "code",
   "execution_count": 13,
   "metadata": {
    "collapsed": false
   },
   "outputs": [],
   "source": [
    "# Extract data from CSV by splitting text columns\n",
    "df['bridge'] = df['text'].map(lambda x: x.split('The ')[-1].split(' Bridge')[0])\n",
    "df['time'] = df['text'].map(lambda x: x.split('- ')[-1])\n",
    "df['event'] = df['text'].apply(lambda x: 'closed' if ('closed' in x) else 'open')\n",
    "df['date'] = df['created_at'].map(lambda x: x.split(' ')[0])\n",
    "df_clean = df[['bridge','time','event', 'date', 'text']]"
   ]
  },
  {
   "cell_type": "markdown",
   "metadata": {
    "collapsed": false
   },
   "source": [
    "Now we have all the relevant open and closing information we need to reorganize  to turn open and close events into periods of closure. In most cases the data parsing worked correctly, but as is often the case, not every case worked out perfectly. Group the data to check for errors."
   ]
  },
  {
   "cell_type": "code",
   "execution_count": 15,
   "metadata": {
    "collapsed": false
   },
   "outputs": [
    {
     "data": {
      "text/html": [
       "<div>\n",
       "<table border=\"1\" class=\"dataframe\">\n",
       "  <thead>\n",
       "    <tr style=\"text-align: right;\">\n",
       "      <th></th>\n",
       "      <th>time</th>\n",
       "      <th>event</th>\n",
       "      <th>date</th>\n",
       "      <th>text</th>\n",
       "    </tr>\n",
       "    <tr>\n",
       "      <th>bridge</th>\n",
       "      <th></th>\n",
       "      <th></th>\n",
       "      <th></th>\n",
       "      <th></th>\n",
       "    </tr>\n",
       "  </thead>\n",
       "  <tbody>\n",
       "    <tr>\n",
       "      <th>1st Ave S</th>\n",
       "      <td>1221</td>\n",
       "      <td>1221</td>\n",
       "      <td>1221</td>\n",
       "      <td>1221</td>\n",
       "    </tr>\n",
       "    <tr>\n",
       "      <th>1st Ave S bridge has closed to traffic</th>\n",
       "      <td>1</td>\n",
       "      <td>1</td>\n",
       "      <td>1</td>\n",
       "      <td>1</td>\n",
       "    </tr>\n",
       "    <tr>\n",
       "      <th>A demonstration is blocking the intersection at Montlake Blvd NE &amp;amp; NE Pacific St. Use alt routes. https://t.co/l6j6PUzwc7</th>\n",
       "      <td>1</td>\n",
       "      <td>1</td>\n",
       "      <td>1</td>\n",
       "      <td>1</td>\n",
       "    </tr>\n",
       "    <tr>\n",
       "      <th>Ballard</th>\n",
       "      <td>3515</td>\n",
       "      <td>3515</td>\n",
       "      <td>3515</td>\n",
       "      <td>3515</td>\n",
       "    </tr>\n",
       "    <tr>\n",
       "      <th>Fremont</th>\n",
       "      <td>3729</td>\n",
       "      <td>3729</td>\n",
       "      <td>3729</td>\n",
       "      <td>3729</td>\n",
       "    </tr>\n",
       "    <tr>\n",
       "      <th>Let's loop in @wsdot_traffic @pursuittt</th>\n",
       "      <td>1</td>\n",
       "      <td>1</td>\n",
       "      <td>1</td>\n",
       "      <td>1</td>\n",
       "    </tr>\n",
       "    <tr>\n",
       "      <th>Lower Spokane St</th>\n",
       "      <td>1816</td>\n",
       "      <td>1816</td>\n",
       "      <td>1816</td>\n",
       "      <td>1816</td>\n",
       "    </tr>\n",
       "    <tr>\n",
       "      <th>Montlake</th>\n",
       "      <td>1118</td>\n",
       "      <td>1118</td>\n",
       "      <td>1118</td>\n",
       "      <td>1118</td>\n",
       "    </tr>\n",
       "    <tr>\n",
       "      <th>N 105th St &amp;amp; Aurora Ave N</th>\n",
       "      <td>1</td>\n",
       "      <td>1</td>\n",
       "      <td>1</td>\n",
       "      <td>1</td>\n",
       "    </tr>\n",
       "    <tr>\n",
       "      <th>South Park</th>\n",
       "      <td>632</td>\n",
       "      <td>632</td>\n",
       "      <td>632</td>\n",
       "      <td>632</td>\n",
       "    </tr>\n",
       "    <tr>\n",
       "      <th>South Park bridge is re-opened to traffic</th>\n",
       "      <td>1</td>\n",
       "      <td>1</td>\n",
       "      <td>1</td>\n",
       "      <td>1</td>\n",
       "    </tr>\n",
       "    <tr>\n",
       "      <th>UPDATE: Gates on the Montlake</th>\n",
       "      <td>1</td>\n",
       "      <td>1</td>\n",
       "      <td>1</td>\n",
       "      <td>1</td>\n",
       "    </tr>\n",
       "    <tr>\n",
       "      <th>University</th>\n",
       "      <td>2105</td>\n",
       "      <td>2105</td>\n",
       "      <td>2105</td>\n",
       "      <td>2105</td>\n",
       "    </tr>\n",
       "    <tr>\n",
       "      <th>sea vessel traffic @TrafficGator</th>\n",
       "      <td>1</td>\n",
       "      <td>1</td>\n",
       "      <td>1</td>\n",
       "      <td>1</td>\n",
       "    </tr>\n",
       "    <tr>\n",
       "      <th>times and rules are set by the Coast Guard: https://t.co/afCEMjonJH https://t.co/6HDNsHsnRb</th>\n",
       "      <td>1</td>\n",
       "      <td>1</td>\n",
       "      <td>1</td>\n",
       "      <td>1</td>\n",
       "    </tr>\n",
       "  </tbody>\n",
       "</table>\n",
       "</div>"
      ],
      "text/plain": [
       "                                                    time  event  date  text\n",
       "bridge                                                                     \n",
       "1st Ave S                                           1221   1221  1221  1221\n",
       "1st Ave S bridge has closed to traffic                 1      1     1     1\n",
       "A demonstration is blocking the intersection at...     1      1     1     1\n",
       "Ballard                                             3515   3515  3515  3515\n",
       "Fremont                                             3729   3729  3729  3729\n",
       "Let's loop in @wsdot_traffic @pursuittt                1      1     1     1\n",
       "Lower Spokane St                                    1816   1816  1816  1816\n",
       "Montlake                                            1118   1118  1118  1118\n",
       "N 105th St &amp; Aurora Ave N                          1      1     1     1\n",
       "South Park                                           632    632   632   632\n",
       "South Park bridge is re-opened to traffic              1      1     1     1\n",
       "UPDATE: Gates on the Montlake                          1      1     1     1\n",
       "University                                          2105   2105  2105  2105\n",
       "sea vessel traffic @TrafficGator                       1      1     1     1\n",
       "times and rules are set by the Coast Guard: htt...     1      1     1     1"
      ]
     },
     "execution_count": 15,
     "metadata": {},
     "output_type": "execute_result"
    }
   ],
   "source": [
    "# Some of the fields include errors we need to remove\n",
    "df_clean.groupby('bridge').count()"
   ]
  },
  {
   "cell_type": "markdown",
   "metadata": {},
   "source": [
    "We have a known set of real bridges we can use as a guide. The other non-bridge fields can be ignored. These are a consequence of this Twitter account sometimes being used by humans. In most cases, the tweets are automated, but sometimes a silly human gets on the horn to tweet additional info."
   ]
  },
  {
   "cell_type": "code",
   "execution_count": 43,
   "metadata": {
    "collapsed": false
   },
   "outputs": [],
   "source": [
    "bridge_list = ['Ballard', 'Fremont', '1st Ave S', 'Montlake', 'Lower Spokane St', 'South Park', 'University']"
   ]
  },
  {
   "cell_type": "code",
   "execution_count": 44,
   "metadata": {
    "collapsed": false
   },
   "outputs": [],
   "source": [
    "# Select only rows with a bridge name in the bridge list\n",
    "newdf = df_clean[df_clean['bridge'].isin(bridge_list)]"
   ]
  },
  {
   "cell_type": "code",
   "execution_count": 45,
   "metadata": {
    "collapsed": false
   },
   "outputs": [
    {
     "name": "stderr",
     "output_type": "stream",
     "text": [
      "/Library/Python/2.7/site-packages/ipykernel/__main__.py:5: SettingWithCopyWarning: \n",
      "A value is trying to be set on a copy of a slice from a DataFrame.\n",
      "Try using .loc[row_indexer,col_indexer] = value instead\n",
      "\n",
      "See the caveats in the documentation: http://pandas.pydata.org/pandas-docs/stable/indexing.html#indexing-view-versus-copy\n"
     ]
    }
   ],
   "source": [
    "# There are still some records with bad data\n",
    "# Get rid of date rows without dates\n",
    "\n",
    "# first remove extra space in the date string\n",
    "newdf['newtime'] = newdf['time'].str.lstrip()"
   ]
  },
  {
   "cell_type": "code",
   "execution_count": 46,
   "metadata": {
    "collapsed": false
   },
   "outputs": [
    {
     "data": {
      "text/plain": [
       "14136"
      ]
     },
     "execution_count": 46,
     "metadata": {},
     "output_type": "execute_result"
    }
   ],
   "source": [
    "len(newdf)"
   ]
  },
  {
   "cell_type": "code",
   "execution_count": 47,
   "metadata": {
    "collapsed": false
   },
   "outputs": [
    {
     "data": {
      "text/plain": [
       "14128"
      ]
     },
     "execution_count": 47,
     "metadata": {},
     "output_type": "execute_result"
    }
   ],
   "source": [
    "# Only include date rows with PM or AM text\n",
    "newdf = newdf[newdf['newtime'].str.contains('PM|AM')]\n",
    "len(newdf)"
   ]
  },
  {
   "cell_type": "code",
   "execution_count": 48,
   "metadata": {
    "collapsed": false
   },
   "outputs": [],
   "source": [
    "# Convert the time text to a datetime object in pandas\n",
    "newdf['timeobj'] = pd.to_datetime(newdf['newtime'], format=\"%I:%M:%S %p\", errors='coerce')"
   ]
  },
  {
   "cell_type": "code",
   "execution_count": 49,
   "metadata": {
    "collapsed": false
   },
   "outputs": [],
   "source": [
    "for i in xrange(len(newdf)):\n",
    "    if not type(newdf['timeobj'].iloc[0]) == pd.tslib.Timestamp:\n",
    "        print i"
   ]
  },
  {
   "cell_type": "code",
   "execution_count": 50,
   "metadata": {
    "collapsed": false
   },
   "outputs": [],
   "source": [
    "# NOTE: data is presented with most recent events at top, makes more sense chronologically to put oldest at top row\n",
    "# REVERSE the DF\n",
    "# newdf = newdf.reindex(index=newdf.index[::-1])"
   ]
  },
  {
   "cell_type": "code",
   "execution_count": 51,
   "metadata": {
    "collapsed": false
   },
   "outputs": [],
   "source": [
    "# Drop some nats (not a time)\n",
    "newdf = newdf.dropna()"
   ]
  },
  {
   "cell_type": "code",
   "execution_count": 53,
   "metadata": {
    "collapsed": false
   },
   "outputs": [],
   "source": [
    "# We need to know each closure event (bridge opening for a ship to cross)\n",
    "# and calculate the subsequent re-opening time, usually from the following row\n",
    "\n",
    "# do that by getting the index of each bridge closure and taking index+1 for the re-opening\n",
    "# Loop through each bridge separately\n",
    "bridgelist = newdf.groupby('bridge').count().index\n",
    "\n",
    "# initialize result arrays\n",
    "duration = []\n",
    "closehr = []\n",
    "closemin = []\n",
    "closesec = []\n",
    "bridgename = []\n",
    "date = []\n",
    "\n",
    "for bridge in bridgelist:\n",
    "#     print bridge\n",
    "    # select records for each bridge\n",
    "    bridgedf = newdf[newdf['bridge'] == bridge]\n",
    "    \n",
    "    # reindex this slice because we need to consider each row i and i+1 for these bridges\n",
    "    bridgedf.reset_index(inplace=True)\n",
    "\n",
    "    # Get index of all bridge closure events\n",
    "    closure_event_index = bridgedf[bridgedf['event'] == 'closed'].index\n",
    "\n",
    "    # Loop through all closure events except the last two (since we compare i and i+1)\n",
    "    for i in closure_event_index[:-2]:\n",
    "#         print i\n",
    "        # if the next entry is a reopening, compute the closure time\n",
    "        if bridgedf.iloc[i+1]['event'] == 'open':\n",
    "            # compute the close time between i and i+1\n",
    "            \n",
    "            # get total closure time by subtracting time stamps between close and open\n",
    "            duration.append((bridgedf.iloc[i+1]['timeobj'] - bridgedf.iloc[i]['timeobj']).seconds)\n",
    "            \n",
    "            # also record the start of this closure\n",
    "            closetime = bridgedf.iloc[i]['timeobj']\n",
    "            closehr.append(closetime.hour)\n",
    "            closemin.append(closetime.minute)\n",
    "            closesec.append(closetime.second)\n",
    "            bridgename.append(bridge)\n",
    "            date.append(bridgedf.iloc[i]['date'])\n",
    "        else:\n",
    "            # if i+1 is not an opening there is an error so skip this opening event\n",
    "            continue\n",
    "    \n",
    "# Convert to dataFrame\n",
    "df = pd.DataFrame(data=[duration, closehr,closemin,closesec,bridgename, date]).T\n",
    "df.columns=['Duration','Closure Hour','Closure Minute','Closure Second','Bridge', 'Date']\n",
    "\n",
    "# Separate date column into month, day, year values\n",
    "df['Year'] = [i.split('-')[0] for i in df['Date'].values]\n",
    "df['Month'] = [i.split('-')[1] for i in df['Date'].values]\n",
    "df['Day'] = [i.split('-')[2] for i in df['Date'].values]"
   ]
  },
  {
   "cell_type": "markdown",
   "metadata": {
    "collapsed": false
   },
   "source": [
    "## Results analysis"
   ]
  },
  {
   "cell_type": "code",
   "execution_count": 58,
   "metadata": {
    "collapsed": false
   },
   "outputs": [
    {
     "data": {
      "text/plain": [
       "<matplotlib.axes._subplots.AxesSubplot at 0x109fed550>"
      ]
     },
     "execution_count": 58,
     "metadata": {},
     "output_type": "execute_result"
    },
    {
     "data": {
      "image/png": "[encoded data removed]",
      "text/plain": [
       "<matplotlib.figure.Figure at 0x109fc8790>"
      ]
     },
     "metadata": {},
     "output_type": "display_data"
    }
   ],
   "source": [
    "# Total closures (count) by day in minutes\n",
    "df.groupby('Day').count()['Duration'].plot()"
   ]
  },
  {
   "cell_type": "code",
   "execution_count": 59,
   "metadata": {
    "collapsed": false
   },
   "outputs": [
    {
     "data": {
      "text/plain": [
       "<matplotlib.axes._subplots.AxesSubplot at 0x109a14c10>"
      ]
     },
     "execution_count": 59,
     "metadata": {},
     "output_type": "execute_result"
    },
    {
     "data": {
      "image/png": "[encoded data removed]",
      "text/plain": [
       "<matplotlib.figure.Figure at 0x10a5a6f50>"
      ]
     },
     "metadata": {},
     "output_type": "display_data"
    }
   ],
   "source": [
    "# Total closure time by day\n",
    "(df.groupby('Day').sum()['Duration']/60).plot()\n"
   ]
  },
  {
   "cell_type": "code",
   "execution_count": 60,
   "metadata": {
    "collapsed": false
   },
   "outputs": [
    {
     "data": {
      "text/plain": [
       "<matplotlib.axes._subplots.AxesSubplot at 0x10a571d90>"
      ]
     },
     "execution_count": 60,
     "metadata": {},
     "output_type": "execute_result"
    },
    {
     "data": {
      "image/png": "[encoded data removed]",
      "text/plain": [
       "<matplotlib.figure.Figure at 0x10919d610>"
      ]
     },
     "metadata": {},
     "output_type": "display_data"
    }
   ],
   "source": [
    "# Closures by time of day\n",
    "df.groupby('Closure Hour').count()['Duration'].plot(kind='bar')"
   ]
  },
  {
   "cell_type": "code",
   "execution_count": 73,
   "metadata": {
    "collapsed": false
   },
   "outputs": [
    {
     "data": {
      "text/plain": [
       "<matplotlib.axes._subplots.AxesSubplot at 0x10a07e590>"
      ]
     },
     "execution_count": 73,
     "metadata": {},
     "output_type": "execute_result"
    },
    {
     "data": {
      "image/png": "[encoded data removed]",
      "text/plain": [
       "<matplotlib.figure.Figure at 0x109ec0510>"
      ]
     },
     "metadata": {},
     "output_type": "display_data"
    }
   ],
   "source": [
    "# Closures by month\n",
    "df.groupby('Month').count()['Duration'].plot(kind='bar')"
   ]
  },
  {
   "cell_type": "code",
   "execution_count": 79,
   "metadata": {
    "collapsed": false
   },
   "outputs": [
    {
     "data": {
      "text/plain": [
       "<matplotlib.axes._subplots.AxesSubplot at 0x10a8a2c10>"
      ]
     },
     "execution_count": 79,
     "metadata": {},
     "output_type": "execute_result"
    },
    {
     "data": {
      "image/png": "[encoded data removed]",
      "text/plain": [
       "<matplotlib.figure.Figure at 0x10a854f10>"
      ]
     },
     "metadata": {},
     "output_type": "display_data"
    }
   ],
   "source": [
    "df.groupby('Day').max()['Duration'].plot()"
   ]
  },
  {
   "cell_type": "code",
   "execution_count": 80,
   "metadata": {
    "collapsed": false
   },
   "outputs": [
    {
     "data": {
      "text/plain": [
       "23"
      ]
     },
     "execution_count": 80,
     "metadata": {},
     "output_type": "execute_result"
    }
   ],
   "source": [
    "# Looks there are some records with very long opening, perhaps errors?\n",
    "# We can dig into that later, or just drop the really long records for now\n",
    "df['Duration'].max()/3600"
   ]
  },
  {
   "cell_type": "code",
   "execution_count": 81,
   "metadata": {
    "collapsed": false
   },
   "outputs": [],
   "source": [
    "# Select closings less than 2 hours\n",
    "df = df[df['Duration'] < 3600*2]"
   ]
  },
  {
   "cell_type": "code",
   "execution_count": 84,
   "metadata": {
    "collapsed": false
   },
   "outputs": [
    {
     "data": {
      "text/plain": [
       "<matplotlib.axes._subplots.AxesSubplot at 0x10ae9bc10>"
      ]
     },
     "execution_count": 84,
     "metadata": {},
     "output_type": "execute_result"
    },
    {
     "data": {
      "image/png": "[encoded data removed]",
      "text/plain": [
       "<matplotlib.figure.Figure at 0x10aaa6950>"
      ]
     },
     "metadata": {},
     "output_type": "display_data"
    }
   ],
   "source": [
    "# Total time bridge is inaccessible\n",
    "df.groupby('Month').sum()['Duration'].plot(kind='bar')"
   ]
  },
  {
   "cell_type": "code",
   "execution_count": 36,
   "metadata": {
    "collapsed": false
   },
   "outputs": [
    {
     "data": {
      "image/png": "[encoded data removed]",
      "text/plain": [
       "<matplotlib.figure.Figure at 0x109ddba50>"
      ]
     },
     "metadata": {},
     "output_type": "display_data"
    }
   ],
   "source": [
    "# Distribution by bridge\n",
    "for bridge in df.groupby('Bridge').count().index:\n",
    "    outdf = df[df['Bridge'] == bridge]\n",
    "    outdf['Duration'].plot(kind='hist',subplots=True, alpha=0.8)\n",
    "#     newdf['Duration'].hist(by=newdf.index,subplots=True, alpha=0.8)"
   ]
  },
  {
   "cell_type": "markdown",
   "metadata": {
    "collapsed": false
   },
   "source": [
    "## Impacts\n"
   ]
  },
  {
   "cell_type": "markdown",
   "metadata": {
    "collapsed": false
   },
   "source": [
    "* extrapolate value of time costs\n",
    "* consider impacts of reliability in mode and route choice"
   ]
  },
  {
   "cell_type": "markdown",
   "metadata": {
    "collapsed": true
   },
   "source": [
    "## Forecasting\n",
    "Is it possible to forecast the likelihood of a bridge closure based on time of day, month, freight traffic, weather or tides?"
   ]
  },
  {
   "cell_type": "code",
   "execution_count": null,
   "metadata": {
    "collapsed": true
   },
   "outputs": [],
   "source": []
  }
 ],
 "metadata": {
  "kernelspec": {
   "display_name": "Python 2",
   "language": "python",
   "name": "python2"
  },
  "language_info": {
   "codemirror_mode": {
    "name": "ipython",
    "version": 2
   },
   "file_extension": ".py",
   "mimetype": "text/x-python",
   "name": "python",
   "nbconvert_exporter": "python",
   "pygments_lexer": "ipython2",
   "version": "2.7.10"
  }
 },
 "nbformat": 4,
 "nbformat_minor": 0
}
